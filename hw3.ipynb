{
  "nbformat": 4,
  "nbformat_minor": 0,
  "metadata": {
    "colab": {
      "name": "hw3.ipynb",
      "provenance": [],
      "collapsed_sections": [],
      "machine_shape": "hm"
    },
    "kernelspec": {
      "display_name": "Python 3",
      "language": "python",
      "name": "python3"
    },
    "language_info": {
      "codemirror_mode": {
        "name": "ipython",
        "version": 3
      },
      "file_extension": ".py",
      "mimetype": "text/x-python",
      "name": "python",
      "nbconvert_exporter": "python",
      "pygments_lexer": "ipython3",
      "version": "3.7.3"
    }
  },
  "cells": [
    {
      "cell_type": "markdown",
      "metadata": {
        "colab_type": "text",
        "id": "IHgmxWG_7lnE"
      },
      "source": [
        "# Введение в анализ данных\n",
        "## НИУ ВШЭ, 2019-2020 учебный год\n",
        "\n",
        "### Домашнее задание №3\n",
        "\n",
        "Задание выполнил(а): Степанов Николай\n",
        "\n",
        "### Общая информация\n",
        "Дата выдачи: \n",
        "\n",
        "Дедлайн: \n",
        "\n",
        "### О задании\n",
        "\n",
        "В этом домашнем задании вы будете работать с линейной классификацией, попрактикуетесь на реальной задаче классификации текстов.\n",
        "\n",
        "Для решения этого домашнего задания намного удобнее будет использовать Colab, так как данных много.\n",
        "\n",
        "### Оценивание и штрафы\n",
        "\n",
        "За сдачу задания позже срока на итоговую оценку за задание накладывается штраф в размере 1 балл в день, но получить отрицательную оценку нельзя.\n",
        "\n",
        "__Внимание!__ Домашнее задание выполняется самостоятельно. «Похожие» решения считаются плагиатом и все задействованные студенты (в том числе те, у кого списали) не могут получить за него больше 0 баллов.\n",
        "\n",
        "### Формат сдачи\n",
        "Загрузка файлов с решениями происходит в системе Anytask."
      ]
    },
    {
      "cell_type": "markdown",
      "metadata": {
        "colab_type": "text",
        "id": "ztx03xvr9T95"
      },
      "source": [
        "### Подготовка данных"
      ]
    },
    {
      "cell_type": "code",
      "metadata": {
        "colab_type": "code",
        "id": "BVrrwTJNjuDt",
        "colab": {}
      },
      "source": [
        "import numpy as np\n",
        "import pandas as pd\n",
        "import collections\n",
        "\n",
        "import matplotlib.pyplot as plt\n",
        "%matplotlib inline\n",
        "\n",
        "from tqdm import tqdm"
      ],
      "execution_count": 0,
      "outputs": []
    },
    {
      "cell_type": "code",
      "metadata": {
        "colab_type": "code",
        "id": "_VMchexbjjTh",
        "outputId": "d3dce7b6-df63-4de0-df86-5e644e03ddbb",
        "colab": {
          "base_uri": "https://localhost:8080/",
          "height": 384
        }
      },
      "source": [
        "# Датасет можно скачать здесь\n",
        "\n",
        "!wget https://www.dropbox.com/s/tg55q9mrziroyrs/train_subset.csv"
      ],
      "execution_count": 205,
      "outputs": [
        {
          "output_type": "stream",
          "text": [
            "--2020-04-26 09:26:25--  https://www.dropbox.com/s/tg55q9mrziroyrs/train_subset.csv\n",
            "Resolving www.dropbox.com (www.dropbox.com)... 162.125.82.1, 2620:100:6032:1::a27d:5201\n",
            "Connecting to www.dropbox.com (www.dropbox.com)|162.125.82.1|:443... connected.\n",
            "HTTP request sent, awaiting response... 301 Moved Permanently\n",
            "Location: /s/raw/tg55q9mrziroyrs/train_subset.csv [following]\n",
            "--2020-04-26 09:26:26--  https://www.dropbox.com/s/raw/tg55q9mrziroyrs/train_subset.csv\n",
            "Reusing existing connection to www.dropbox.com:443.\n",
            "HTTP request sent, awaiting response... 302 Found\n",
            "Location: https://ucf32d22825ee9c42cc0fd376947.dl.dropboxusercontent.com/cd/0/inline/A2nFXq8Zrv40B6nZ0nPNAYsX05ofmO2m45UaGkneLpwFBOxBh3U8wO7WtlRCHQ6eekpua14iaj9827Gbooq8_uHWZ7ahvqOOVeJBmAYKaol2fGLrwBpYTpm98qFUEjRFKkk/file# [following]\n",
            "--2020-04-26 09:26:26--  https://ucf32d22825ee9c42cc0fd376947.dl.dropboxusercontent.com/cd/0/inline/A2nFXq8Zrv40B6nZ0nPNAYsX05ofmO2m45UaGkneLpwFBOxBh3U8wO7WtlRCHQ6eekpua14iaj9827Gbooq8_uHWZ7ahvqOOVeJBmAYKaol2fGLrwBpYTpm98qFUEjRFKkk/file\n",
            "Resolving ucf32d22825ee9c42cc0fd376947.dl.dropboxusercontent.com (ucf32d22825ee9c42cc0fd376947.dl.dropboxusercontent.com)... 162.125.82.6, 2620:100:6032:6::a27d:5206\n",
            "Connecting to ucf32d22825ee9c42cc0fd376947.dl.dropboxusercontent.com (ucf32d22825ee9c42cc0fd376947.dl.dropboxusercontent.com)|162.125.82.6|:443... connected.\n",
            "HTTP request sent, awaiting response... 200 OK\n",
            "Length: 19213119 (18M) [text/plain]\n",
            "Saving to: ‘train_subset.csv.3’\n",
            "\n",
            "train_subset.csv.3  100%[===================>]  18.32M  5.34MB/s    in 3.4s    \n",
            "\n",
            "2020-04-26 09:26:30 (5.34 MB/s) - ‘train_subset.csv.3’ saved [19213119/19213119]\n",
            "\n"
          ],
          "name": "stdout"
        }
      ]
    },
    {
      "cell_type": "markdown",
      "metadata": {
        "colab_type": "text",
        "id": "rvXKae8q9nn-"
      },
      "source": [
        "### Данные\n",
        "\n",
        "Мы имеем дело с данными с торговой платформы Avito.\n",
        "Для каждого товара представлены следующие параметры:\n",
        " - title\n",
        " - description\n",
        " - Category_name\n",
        " - Category\n",
        "\n",
        "Имеется информация об объектах 50 классов.\n",
        "Задача: по новым объектам (title, description) предсказать Category.\n",
        "(Очевидно, что параметр Category_name для предсказания классов использовать нельзя)"
      ]
    },
    {
      "cell_type": "code",
      "metadata": {
        "colab_type": "code",
        "id": "BqEuoDhqNgoa",
        "outputId": "16f189e9-20e4-4a75-ef08-6571b537aed2",
        "colab": {
          "base_uri": "https://localhost:8080/",
          "height": 238
        }
      },
      "source": [
        "data = pd.read_csv(\"train_subset.csv\", index_col='id')\n",
        "\n",
        "data.head()"
      ],
      "execution_count": 207,
      "outputs": [
        {
          "output_type": "execute_result",
          "data": {
            "text/html": [
              "<div>\n",
              "<style scoped>\n",
              "    .dataframe tbody tr th:only-of-type {\n",
              "        vertical-align: middle;\n",
              "    }\n",
              "\n",
              "    .dataframe tbody tr th {\n",
              "        vertical-align: top;\n",
              "    }\n",
              "\n",
              "    .dataframe thead th {\n",
              "        text-align: right;\n",
              "    }\n",
              "</style>\n",
              "<table border=\"1\" class=\"dataframe\">\n",
              "  <thead>\n",
              "    <tr style=\"text-align: right;\">\n",
              "      <th></th>\n",
              "      <th>title</th>\n",
              "      <th>description</th>\n",
              "      <th>Category_name</th>\n",
              "      <th>Category</th>\n",
              "    </tr>\n",
              "    <tr>\n",
              "      <th>id</th>\n",
              "      <th></th>\n",
              "      <th></th>\n",
              "      <th></th>\n",
              "      <th></th>\n",
              "    </tr>\n",
              "  </thead>\n",
              "  <tbody>\n",
              "    <tr>\n",
              "      <th>382220</th>\n",
              "      <td>Прихожая</td>\n",
              "      <td>В хорошем состоянии. Торг</td>\n",
              "      <td>Мебель и интерьер</td>\n",
              "      <td>20</td>\n",
              "    </tr>\n",
              "    <tr>\n",
              "      <th>397529</th>\n",
              "      <td>Кордиант 215/55/16 Летние</td>\n",
              "      <td>Кордиант 215/55/16 Летние/\\n /\\nАртикул: 1737l...</td>\n",
              "      <td>Запчасти и аксессуары</td>\n",
              "      <td>10</td>\n",
              "    </tr>\n",
              "    <tr>\n",
              "      <th>584569</th>\n",
              "      <td>Стол</td>\n",
              "      <td>Стол, 2 рабочих места . Стол серого цвета, в д...</td>\n",
              "      <td>Мебель и интерьер</td>\n",
              "      <td>20</td>\n",
              "    </tr>\n",
              "    <tr>\n",
              "      <th>2513100</th>\n",
              "      <td>Комбинезон</td>\n",
              "      <td>Размер-42/44</td>\n",
              "      <td>Одежда, обувь, аксессуары</td>\n",
              "      <td>27</td>\n",
              "    </tr>\n",
              "    <tr>\n",
              "      <th>1091886</th>\n",
              "      <td>Ветровка</td>\n",
              "      <td>На 2 года</td>\n",
              "      <td>Детская одежда и обувь</td>\n",
              "      <td>29</td>\n",
              "    </tr>\n",
              "  </tbody>\n",
              "</table>\n",
              "</div>"
            ],
            "text/plain": [
              "                             title  ... Category\n",
              "id                                  ...         \n",
              "382220                    Прихожая  ...       20\n",
              "397529   Кордиант 215/55/16 Летние  ...       10\n",
              "584569                        Стол  ...       20\n",
              "2513100                 Комбинезон  ...       27\n",
              "1091886                   Ветровка  ...       29\n",
              "\n",
              "[5 rows x 4 columns]"
            ]
          },
          "metadata": {
            "tags": []
          },
          "execution_count": 207
        }
      ]
    },
    {
      "cell_type": "code",
      "metadata": {
        "colab_type": "code",
        "id": "Kg8iPp7fiwGh",
        "outputId": "07983268-7b89-480d-fb62-33a1f4fefa8f",
        "colab": {
          "base_uri": "https://localhost:8080/",
          "height": 34
        }
      },
      "source": [
        "data.shape"
      ],
      "execution_count": 209,
      "outputs": [
        {
          "output_type": "execute_result",
          "data": {
            "text/plain": [
              "(30000, 4)"
            ]
          },
          "metadata": {
            "tags": []
          },
          "execution_count": 209
        }
      ]
    },
    {
      "cell_type": "code",
      "metadata": {
        "colab_type": "code",
        "id": "A1hvzAMETU2d",
        "colab": {}
      },
      "source": [
        "X = data[['title', 'description']].to_numpy()\n",
        "y = data['Category'].to_numpy()\n",
        "\n",
        "del data"
      ],
      "execution_count": 0,
      "outputs": []
    },
    {
      "cell_type": "markdown",
      "metadata": {
        "colab_type": "text",
        "id": "tMYU7zZw_cw-"
      },
      "source": [
        "Сразу разделим выборку на train и test.\n",
        "Никакие данные из test для обучения использовать нельзя!"
      ]
    },
    {
      "cell_type": "code",
      "metadata": {
        "colab_type": "code",
        "id": "6fia4_3vNprp",
        "colab": {}
      },
      "source": [
        "from sklearn.model_selection import train_test_split\n",
        "\n",
        "X_train, X_test, y_train, y_test = train_test_split(X, y, test_size=0.3, random_state=42)"
      ],
      "execution_count": 0,
      "outputs": []
    },
    {
      "cell_type": "code",
      "metadata": {
        "colab_type": "code",
        "id": "qDR8LtTJUIGt",
        "outputId": "0465b3c6-1370-4dde-8983-11eff58d84f6",
        "colab": {
          "base_uri": "https://localhost:8080/",
          "height": 176
        }
      },
      "source": [
        "X_train[:5]"
      ],
      "execution_count": 208,
      "outputs": [
        {
          "output_type": "execute_result",
          "data": {
            "text/plain": [
              "array([['Сапоги 46 размер новые', 'Сапоги 46 размер новые'],\n",
              "       ['Светильники потолочный swarovski',\n",
              "        'светильники потолочные swarovski 6 штук , цена за штуку. В эксплуатации 2 года , продаются в связи со сменой интерьера в квартире'],\n",
              "       ['iPhone 7 plus 128GB Red красный в наличии',\n",
              "        '\\xa0/\\n/\\n Данная цена только для подписчиков Instagram: iQmac/\\n/\\n Новый красный айфон 7 Plus в наличии это элегантный и мощный смартфон, который готов в полной мере раскрыть новые возможности iOS 10. Аппарат с 4-ядерным процессором А10 и 3 ГБ ОЗУ с легкостью решает самые ресурсоемкие задачи, позволяя наслаждаться быстродействием «тяжелых» приложений и игр на 5,5-дюймовом дисплее. Аппарат получил экран, как у iPad Pro, так что картинка теперь соответствует кинематографическому стандарту.'],\n",
              "       ['Пион Ирис Ромашка рассада',\n",
              "        'Пион куст 500 р ( более 10 шт)/\\nСаженец/ корень 100р/\\nРастут у нас более 70 лет/\\nРозовые, бордовые и белые/\\nНа фото цветы 2018г/\\nП. Зубчаниновка/\\nлибо пл. Революции/\\nЕсть ирисы, ромашка, клубника, боярышник и ирга'],\n",
              "       ['Кофта', 'Состояние отличное']], dtype=object)"
            ]
          },
          "metadata": {
            "tags": []
          },
          "execution_count": 208
        }
      ]
    },
    {
      "cell_type": "markdown",
      "metadata": {
        "colab_type": "text",
        "id": "X-ZEdlEGAXTD"
      },
      "source": [
        "### Токенизация (1 балл)\n",
        "\n",
        "\n",
        "Токенизация -- разбиение текста на мелкие части, которые можно обработать машинными методами.\n",
        "Можно использовать разные алгоритмы токенизации.\n",
        "Давайте пока остановимся на простом WordPunctTokenizer.\n"
      ]
    },
    {
      "cell_type": "code",
      "metadata": {
        "colab_type": "code",
        "id": "O9VgNlZ1Qy3o",
        "outputId": "5ddf4e27-1dac-46e4-9314-e2a6b6246234",
        "colab": {
          "base_uri": "https://localhost:8080/",
          "height": 52
        }
      },
      "source": [
        "from nltk.tokenize import WordPunctTokenizer\n",
        "\n",
        "\n",
        "tokenizer = WordPunctTokenizer()\n",
        "\n",
        "\n",
        "def preprocess(text: str) -> str:\n",
        "    return ' '.join(tokenizer.tokenize(text.lower()))\n",
        "\n",
        "\n",
        "text = 'Здраствуйте. Я, Кирилл. Хотел бы чтобы вы сделали игру, 3Д-экшон суть такова...'\n",
        "print(\"before:\", text,)\n",
        "print(\"after:\", preprocess(text),)"
      ],
      "execution_count": 211,
      "outputs": [
        {
          "output_type": "stream",
          "text": [
            "before: Здраствуйте. Я, Кирилл. Хотел бы чтобы вы сделали игру, 3Д-экшон суть такова...\n",
            "after: здраствуйте . я , кирилл . хотел бы чтобы вы сделали игру , 3д - экшон суть такова ...\n"
          ],
          "name": "stdout"
        }
      ]
    },
    {
      "cell_type": "markdown",
      "metadata": {
        "colab_type": "text",
        "id": "x_RYBKC26o1X"
      },
      "source": [
        "__Задание:__ Токенизируйте title и description в train и test"
      ]
    },
    {
      "cell_type": "code",
      "metadata": {
        "id": "sXg0Q4D7DB3b",
        "colab_type": "code",
        "colab": {}
      },
      "source": [
        "vectPreprocess = np.vectorize(preprocess)\n",
        "X_train = vectPreprocess(X_train)\n",
        "X_test = vectPreprocess(X_test)"
      ],
      "execution_count": 0,
      "outputs": []
    },
    {
      "cell_type": "code",
      "metadata": {
        "colab_type": "code",
        "id": "kARGeJQwYTil",
        "outputId": "15e400f1-ca41-4b0f-8480-c9dfa2c0aeed",
        "colab": {
          "base_uri": "https://localhost:8080/",
          "height": 367
        }
      },
      "source": [
        "X_train[:10]"
      ],
      "execution_count": 213,
      "outputs": [
        {
          "output_type": "execute_result",
          "data": {
            "text/plain": [
              "array([['сапоги 46 размер новые', 'сапоги 46 размер новые'],\n",
              "       ['светильники потолочный swarovski',\n",
              "        'светильники потолочные swarovski 6 штук , цена за штуку . в эксплуатации 2 года , продаются в связи со сменой интерьера в квартире'],\n",
              "       ['iphone 7 plus 128gb red красный в наличии',\n",
              "        '/ / данная цена только для подписчиков instagram : iqmac / / новый красный айфон 7 plus в наличии это элегантный и мощный смартфон , который готов в полной мере раскрыть новые возможности ios 10 . аппарат с 4 - ядерным процессором а10 и 3 гб озу с легкостью решает самые ресурсоемкие задачи , позволяя наслаждаться быстродействием « тяжелых » приложений и игр на 5 , 5 - дюймовом дисплее . аппарат получил экран , как у ipad pro , так что картинка теперь соответствует кинематографическому стандарту .'],\n",
              "       ['пион ирис ромашка рассада',\n",
              "        'пион куст 500 р ( более 10 шт )/ саженец / корень 100р / растут у нас более 70 лет / розовые , бордовые и белые / на фото цветы 2018г / п . зубчаниновка / либо пл . революции / есть ирисы , ромашка , клубника , боярышник и ирга'],\n",
              "       ['кофта', 'состояние отличное'],\n",
              "       ['1 - к квартира , 33 м² , 4 / 5 эт .',\n",
              "        'продаётся уютная , тёплая квартира в экологически - чистом районе города , рядом сосновый бор , всегда чистый воздух . дом 2004 г ., хорошие соседи , на площадке 2 - е квартиры , развитая инфраструктура , в шаговой доступности поликлиника , школа , тк « орбита », вещевой рынок . квартира в хорошем состоянии . подходит под ипотеку , долгов , обременений , перепланировке нет . в квартире натяжные потолки , в ванной комнате стены выполнены из влагостойких стеновых панелей . возможен обмен на квартиру в г . магнитогорске , торг .'],\n",
              "       ['платье новое 60 размера',\n",
              "        'платье 60 размера , новое , красивого темно синего цвета , из трикотажной ткани : вискоза 95 %, эластина 5 % . а - образного силуэта с рукавом 2 / 3 . длинна по спинке 113см .'],\n",
              "       ['ваз 2114 samara , 2007',\n",
              "        'продам ваз 2114 2007 г . в . в хорошем состоянии . / 2 владельца , птс оригинал . / машина в родной краске , в дтп никогда не была ,/ днище целое не ржавое . по ходовой нареканий нет , сел и поехал . / имеется музыка , сигнализация 2 комплекта ключей , птф , передние стеклоподъемники ./ небольшой торг при осмотре . / обмен не интересует .'],\n",
              "       ['наушники блутус',\n",
              "        'долго держат заряд 4 - 5 часов , можно и больше при средней громкости выжать из них . вкладыши .'],\n",
              "       ['пальто tommy hilfiger',\n",
              "        'состояние нового . промахнулась с размером . пальто до - 10 - 12 градусов . / возможна пересылка по почте']],\n",
              "      dtype='<U3491')"
            ]
          },
          "metadata": {
            "tags": []
          },
          "execution_count": 213
        }
      ]
    },
    {
      "cell_type": "code",
      "metadata": {
        "colab_type": "code",
        "id": "VDnDSWwFDwFo",
        "colab": {}
      },
      "source": [
        "assert X_train[10][1] == 'продам иж планета 3 , 76 год , ( стоит на старом учёте , документы утеряны ) на ходу , хорошее состояние , все интересующие вопросы по телефону ( с родной коляской на 3 тысячи дороже ) . торга не будет .'"
      ],
      "execution_count": 0,
      "outputs": []
    },
    {
      "cell_type": "markdown",
      "metadata": {
        "colab_type": "text",
        "id": "hlIITUk0AsmS"
      },
      "source": [
        "### BOW (1.5 балла)\n",
        "\n",
        "Один из традиционных подходов -- построение bag of words.\n",
        "\n",
        "Метод состоит в следующем:\n",
        "\n",
        " - Составить словарь самых часто встречающихся слов в train data\n",
        " - Для каждого примера из train посчитать, сколько раз каждое слово из словаря в нём встречается\n",
        "\n",
        "\n",
        " В sklearn есть CountVectorizer, но в этом задании его использовать нельзя."
      ]
    },
    {
      "cell_type": "markdown",
      "metadata": {
        "colab_type": "text",
        "id": "GMKUttDWIF92"
      },
      "source": [
        "__Задание:__ Найдите k самых частых слов, отсортируйте их по убыванию частотности (k=10000)"
      ]
    },
    {
      "cell_type": "code",
      "metadata": {
        "id": "Ck1rE2eKFAeJ",
        "colab_type": "code",
        "colab": {}
      },
      "source": [
        "bow_vocabulary = collections.Counter()\n",
        "\n",
        "for i in range(len(X_train[:])):\n",
        "     for word in (X_train[i][0].split() + X_train[i][1].split()):\n",
        "         bow_vocabulary[word] += 1   "
      ],
      "execution_count": 0,
      "outputs": []
    },
    {
      "cell_type": "code",
      "metadata": {
        "id": "kDyl3URGFkCz",
        "colab_type": "code",
        "colab": {}
      },
      "source": [
        "k = 10000\n",
        "bow_vocabulary = dict(bow_vocabulary.most_common(k))"
      ],
      "execution_count": 0,
      "outputs": []
    },
    {
      "cell_type": "code",
      "metadata": {
        "colab_type": "code",
        "id": "QTs70ZxVbk0J",
        "colab": {}
      },
      "source": [
        "assert sorted(bow_vocabulary)[::200] == ['!', '12500', '270', '700', 'by', 'gh', 'michael', 'sonata', 'ø', 'аудиоподготовка', 'большим', 'веса', 'воспроизведения', 'габариты', 'гтд', 'джинсами', 'доступность', 'загрузки', 'зимней', 'использовался', 'квартала', 'коммуникации', 'кошки', 'лакированные', 'магазин', 'металл', 'мск', 'натуральным', 'носке', 'одному', 'отвечаем', 'пассат', 'плотно', 'покраску', 'постоянные', 'примеры', 'просьба', 'размещайте', 'репетитор', 'сантехник', 'сидения', 'современного', 'стала', 'схема', 'тон', 'удлиненная', 'фасад', 'цветами', 'шея', 'эту']"
      ],
      "execution_count": 0,
      "outputs": []
    },
    {
      "cell_type": "code",
      "metadata": {
        "id": "tBXU_ZHksdC_",
        "colab_type": "code",
        "colab": {}
      },
      "source": [
        "words = np.array(list(bow_vocabulary.keys()))"
      ],
      "execution_count": 0,
      "outputs": []
    },
    {
      "cell_type": "code",
      "metadata": {
        "colab_type": "code",
        "id": "4awkhecbR9om",
        "colab": {}
      },
      "source": [
        "def text_to_bow(text: str) -> np.array:\n",
        "    \"\"\"\n",
        "    Возвращает вектор, где для каждого слова из most_common\n",
        "    указано количество его употреблений\n",
        "    \"\"\" \n",
        "    bow = np.zeros(k)\n",
        "    for i in range(k):\n",
        "        bow[i] = text.split().count(words[i])\n",
        "    return np.array(bow)"
      ],
      "execution_count": 0,
      "outputs": []
    },
    {
      "cell_type": "code",
      "metadata": {
        "colab_type": "code",
        "id": "IZnJT2JbdXA3",
        "colab": {}
      },
      "source": [
        "assert np.allclose(np.where(text_to_bow(\"сдаётся уютный , тёплый гараж для стартапов в ml\") != 0)[0],\n",
        "                   np.array([   1,    4,   12,  565,  866, 1601, 2539, 4063])\n",
        ")"
      ],
      "execution_count": 0,
      "outputs": []
    },
    {
      "cell_type": "code",
      "metadata": {
        "colab_type": "code",
        "id": "HR_D8Fn4pudv",
        "colab": {}
      },
      "source": [
        "def items_to_bow(items: np.array) -> np.array:\n",
        "    \"\"\" Для каждого товара возвращает вектор его bow \"\"\"\n",
        "    # Давайте для начала попробуем строить bow только из description товара\n",
        "    # assert ниже написан для bow из description\n",
        "    bow = np.zeros((len(items), k))\n",
        "    for i, descr in zip(range(len(items)), items):\n",
        "      bow[i] = text_to_bow(descr[1])\n",
        "    \n",
        "    return np.array(bow)"
      ],
      "execution_count": 0,
      "outputs": []
    },
    {
      "cell_type": "code",
      "metadata": {
        "colab_type": "code",
        "id": "pKdfMqbIetPA",
        "colab": {}
      },
      "source": [
        "assert np.allclose(np.where(items_to_bow([X_train[42]])[0] != 0),\n",
        "                   np.array([   0, 1, 2, 5, 6, 7, 12, 27, 41, 49, 110,\n",
        "                                189,  208,  221, 2032, 3052, 7179, 9568]),\n",
        ")"
      ],
      "execution_count": 0,
      "outputs": []
    },
    {
      "cell_type": "code",
      "metadata": {
        "colab_type": "code",
        "id": "wwOZaEpMSQsZ",
        "scrolled": true,
        "colab": {}
      },
      "source": [
        "X_train_bow = items_to_bow(X_train)\n",
        "X_test_bow = items_to_bow(X_test)"
      ],
      "execution_count": 0,
      "outputs": []
    },
    {
      "cell_type": "code",
      "metadata": {
        "colab_type": "code",
        "id": "bJVLS8Fs3CeT",
        "colab": {}
      },
      "source": [
        "from sklearn.metrics import accuracy_score"
      ],
      "execution_count": 0,
      "outputs": []
    },
    {
      "cell_type": "markdown",
      "metadata": {
        "colab_type": "text",
        "id": "vJoXiCWI7VF5"
      },
      "source": [
        "### Логистическая регрессия и SVC (1 балл)\n",
        "\n",
        "\n",
        "Теперь описание каждого товара представлено, как точка в многомерном пространстве.\n",
        "Очень важно запомнить эту идею: дальше мы будем рассматривать разные способы перехода от текста к точке в пространстве.\n",
        "\n",
        "Для BOW каждое измерение в пространстве -- какое-то слово.\n",
        "Мы предполагаем, что текст описывается набором каких-то популярных слов, которые в нём встречаются, а близкие по смыслу тексты будут использовать одинаковые слова.\n",
        "\n",
        "Обучите логистическую регрессию и SVC с базовыми параметрами.\n"
      ]
    },
    {
      "cell_type": "code",
      "metadata": {
        "id": "4DcIyCNuTT4N",
        "colab_type": "code",
        "colab": {}
      },
      "source": [
        "from sklearn.linear_model import LogisticRegression\n",
        "from sklearn.svm import LinearSVC"
      ],
      "execution_count": 0,
      "outputs": []
    },
    {
      "cell_type": "code",
      "metadata": {
        "colab_type": "code",
        "id": "Ky3HV1rTSS9L",
        "outputId": "d18d018f-d398-4c77-8e4f-17cce72cab75",
        "colab": {
          "base_uri": "https://localhost:8080/",
          "height": 173
        }
      },
      "source": [
        "bow_model = LogisticRegression(max_iter=100).fit(X_train_bow, y_train)\n",
        "print(accuracy_score(bow_model.predict(X_test_bow), y_test))\n",
        "\n",
        "assert accuracy_score(bow_model.predict(X_test_bow), y_test) > 0.7"
      ],
      "execution_count": 226,
      "outputs": [
        {
          "output_type": "stream",
          "text": [
            "/usr/local/lib/python3.6/dist-packages/sklearn/linear_model/_logistic.py:940: ConvergenceWarning: lbfgs failed to converge (status=1):\n",
            "STOP: TOTAL NO. of ITERATIONS REACHED LIMIT.\n",
            "\n",
            "Increase the number of iterations (max_iter) or scale the data as shown in:\n",
            "    https://scikit-learn.org/stable/modules/preprocessing.html\n",
            "Please also refer to the documentation for alternative solver options:\n",
            "    https://scikit-learn.org/stable/modules/linear_model.html#logistic-regression\n",
            "  extra_warning_msg=_LOGISTIC_SOLVER_CONVERGENCE_MSG)\n"
          ],
          "name": "stderr"
        },
        {
          "output_type": "stream",
          "text": [
            "0.7011111111111111\n"
          ],
          "name": "stdout"
        }
      ]
    },
    {
      "cell_type": "code",
      "metadata": {
        "colab_type": "code",
        "id": "-c46ZT0lvF6T",
        "outputId": "56e37408-4503-4430-cd8b-7038dc384dd3",
        "colab": {
          "base_uri": "https://localhost:8080/",
          "height": 69
        }
      },
      "source": [
        "bow_model = LinearSVC(max_iter=70).fit(X_train_bow, y_train)\n",
        "print(accuracy_score(bow_model.predict(X_test_bow), y_test))\n",
        "\n",
        "assert accuracy_score(bow_model.predict(X_test_bow), y_test) > 0.68"
      ],
      "execution_count": 227,
      "outputs": [
        {
          "output_type": "stream",
          "text": [
            "/usr/local/lib/python3.6/dist-packages/sklearn/svm/_base.py:947: ConvergenceWarning: Liblinear failed to converge, increase the number of iterations.\n",
            "  \"the number of iterations.\", ConvergenceWarning)\n"
          ],
          "name": "stderr"
        },
        {
          "output_type": "stream",
          "text": [
            "0.6843333333333333\n"
          ],
          "name": "stdout"
        }
      ]
    },
    {
      "cell_type": "markdown",
      "metadata": {
        "colab_type": "text",
        "id": "WwKE57YZ1Hzn"
      },
      "source": [
        "### Модификация признаков (0.5 балла)"
      ]
    },
    {
      "cell_type": "markdown",
      "metadata": {
        "colab_type": "text",
        "id": "ewMlxQezL6Ax"
      },
      "source": [
        "Добавьте title товара в bow с произвольным весом, как изменится качество?"
      ]
    },
    {
      "cell_type": "code",
      "metadata": {
        "id": "-DE4LpKlXOC8",
        "colab_type": "code",
        "colab": {}
      },
      "source": [
        "  def items_to_bow_title(items: np.array) -> np.array:\n",
        "    \"\"\" Для каждого товара возвращает вектор его bow \"\"\"\n",
        "    # Давайте для начала попробуем строить bow только из description товара\n",
        "    # assert ниже написан для bow из description\n",
        "    bow = np.zeros((len(items), k))\n",
        "    for i, descr in zip(range(len(items)), items):\n",
        "      bow[i] = text_to_bow(descr[0])\n",
        "    \n",
        "    return np.array(bow)"
      ],
      "execution_count": 0,
      "outputs": []
    },
    {
      "cell_type": "code",
      "metadata": {
        "id": "SFIsvf0KcDOf",
        "colab_type": "code",
        "colab": {}
      },
      "source": [
        "coeff = 1.5\n",
        "X_train_bow = X_train_bow + coeff*items_to_bow_title(X_train)\n",
        "X_test_bow = X_test_bow + coeff*items_to_bow_title(X_test)"
      ],
      "execution_count": 0,
      "outputs": []
    },
    {
      "cell_type": "code",
      "metadata": {
        "id": "1iTUcWzCce9r",
        "colab_type": "code",
        "outputId": "39ec2d4a-427b-4a69-dd1e-6eb02dfe15fb",
        "colab": {
          "base_uri": "https://localhost:8080/",
          "height": 173
        }
      },
      "source": [
        "bow_model_LR = LogisticRegression(max_iter=100).fit(X_train_bow, y_train)\n",
        "print(accuracy_score(bow_model_LR.predict(X_test_bow), y_test))"
      ],
      "execution_count": 230,
      "outputs": [
        {
          "output_type": "stream",
          "text": [
            "/usr/local/lib/python3.6/dist-packages/sklearn/linear_model/_logistic.py:940: ConvergenceWarning: lbfgs failed to converge (status=1):\n",
            "STOP: TOTAL NO. of ITERATIONS REACHED LIMIT.\n",
            "\n",
            "Increase the number of iterations (max_iter) or scale the data as shown in:\n",
            "    https://scikit-learn.org/stable/modules/preprocessing.html\n",
            "Please also refer to the documentation for alternative solver options:\n",
            "    https://scikit-learn.org/stable/modules/linear_model.html#logistic-regression\n",
            "  extra_warning_msg=_LOGISTIC_SOLVER_CONVERGENCE_MSG)\n"
          ],
          "name": "stderr"
        },
        {
          "output_type": "stream",
          "text": [
            "0.7915555555555556\n"
          ],
          "name": "stdout"
        }
      ]
    },
    {
      "cell_type": "code",
      "metadata": {
        "id": "5cnOey9mctpz",
        "colab_type": "code",
        "outputId": "0670e34a-c05b-4f99-fcac-b05537677799",
        "colab": {
          "base_uri": "https://localhost:8080/",
          "height": 69
        }
      },
      "source": [
        "bow_model_SVC = LinearSVC(max_iter=70).fit(X_train_bow, y_train)\n",
        "print(accuracy_score(bow_model_SVC.predict(X_test_bow), y_test))"
      ],
      "execution_count": 231,
      "outputs": [
        {
          "output_type": "stream",
          "text": [
            "/usr/local/lib/python3.6/dist-packages/sklearn/svm/_base.py:947: ConvergenceWarning: Liblinear failed to converge, increase the number of iterations.\n",
            "  \"the number of iterations.\", ConvergenceWarning)\n"
          ],
          "name": "stderr"
        },
        {
          "output_type": "stream",
          "text": [
            "0.7605555555555555\n"
          ],
          "name": "stdout"
        }
      ]
    },
    {
      "cell_type": "markdown",
      "metadata": {
        "id": "4lhewSe0fwsQ",
        "colab_type": "text"
      },
      "source": [
        "**Качество работы алгоритма улучшилось, так как мы добавили новую информацию о товаре, т.е. сделали признаки, на которых обучается модель, еще более индивидуальным .**"
      ]
    },
    {
      "cell_type": "markdown",
      "metadata": {
        "colab_type": "text",
        "id": "Db4TyqzxMnby"
      },
      "source": [
        "Нормализуйте данные (`sklearn.preprocessing.normalize`) перед обучением. Что станет с качеством и почему?"
      ]
    },
    {
      "cell_type": "code",
      "metadata": {
        "id": "ua_0MdZtABXo",
        "colab_type": "code",
        "colab": {}
      },
      "source": [
        "from sklearn import preprocessing"
      ],
      "execution_count": 0,
      "outputs": []
    },
    {
      "cell_type": "code",
      "metadata": {
        "colab_type": "code",
        "id": "A8rVy6q1Mn4J",
        "colab": {}
      },
      "source": [
        "normalized_X_train_bow = preprocessing.normalize(X_train_bow)\n",
        "normalized_X_test_bow = preprocessing.normalize(X_test_bow)"
      ],
      "execution_count": 0,
      "outputs": []
    },
    {
      "cell_type": "code",
      "metadata": {
        "id": "0IBedkgDeXW4",
        "colab_type": "code",
        "outputId": "c475b7f2-7d15-4e6a-c7c9-8e5cded1f78d",
        "colab": {
          "base_uri": "https://localhost:8080/",
          "height": 173
        }
      },
      "source": [
        "bow_model_LR = LogisticRegression(max_iter=100).fit(normalized_X_train_bow, y_train)\n",
        "print(accuracy_score(bow_model_LR.predict(normalized_X_test_bow), y_test))"
      ],
      "execution_count": 234,
      "outputs": [
        {
          "output_type": "stream",
          "text": [
            "/usr/local/lib/python3.6/dist-packages/sklearn/linear_model/_logistic.py:940: ConvergenceWarning: lbfgs failed to converge (status=1):\n",
            "STOP: TOTAL NO. of ITERATIONS REACHED LIMIT.\n",
            "\n",
            "Increase the number of iterations (max_iter) or scale the data as shown in:\n",
            "    https://scikit-learn.org/stable/modules/preprocessing.html\n",
            "Please also refer to the documentation for alternative solver options:\n",
            "    https://scikit-learn.org/stable/modules/linear_model.html#logistic-regression\n",
            "  extra_warning_msg=_LOGISTIC_SOLVER_CONVERGENCE_MSG)\n"
          ],
          "name": "stderr"
        },
        {
          "output_type": "stream",
          "text": [
            "0.6942222222222222\n"
          ],
          "name": "stdout"
        }
      ]
    },
    {
      "cell_type": "code",
      "metadata": {
        "id": "md8-2P4PebZw",
        "colab_type": "code",
        "outputId": "cf3c8298-4565-459b-bf25-6c3db20845e9",
        "colab": {
          "base_uri": "https://localhost:8080/",
          "height": 34
        }
      },
      "source": [
        "bow_model_SVC = LinearSVC(max_iter=70).fit(normalized_X_train_bow, y_train)\n",
        "print(accuracy_score(bow_model_SVC.predict(normalized_X_test_bow), y_test))"
      ],
      "execution_count": 235,
      "outputs": [
        {
          "output_type": "stream",
          "text": [
            "0.8053333333333333\n"
          ],
          "name": "stdout"
        }
      ]
    },
    {
      "cell_type": "markdown",
      "metadata": {
        "id": "6QnXf2Msw6X4",
        "colab_type": "text"
      },
      "source": [
        "**Качество алгоритма SVC улучшилось, так как мы загнали наши признаки в диапазон [0, 1] - именно к этому он и чувствителен (нормализация). Т.е. теперь важность каждого признака будет учтена. Работа же LogReg ухуджиласть, так как данный алгоритм требует стандартизации данных, т.е. чтобы среднее было равно 0. Также, возможно, что алгоритму не хватает кол-во итераций, чтобы хорошо обучиться на нормализованных данных (теперь все данные для него равносильны и вносят один вклад)**"
      ]
    },
    {
      "cell_type": "code",
      "metadata": {
        "id": "jV7G6vLKyaR2",
        "colab_type": "code",
        "outputId": "dbed8691-562d-4ec2-876f-11887ef23cf9",
        "colab": {
          "base_uri": "https://localhost:8080/",
          "height": 34
        }
      },
      "source": [
        "scaler = preprocessing.StandardScaler()\n",
        "scaler.fit(X_train_bow)"
      ],
      "execution_count": 236,
      "outputs": [
        {
          "output_type": "execute_result",
          "data": {
            "text/plain": [
              "StandardScaler(copy=True, with_mean=True, with_std=True)"
            ]
          },
          "metadata": {
            "tags": []
          },
          "execution_count": 236
        }
      ]
    },
    {
      "cell_type": "code",
      "metadata": {
        "id": "JOE4zZtzy1fH",
        "colab_type": "code",
        "outputId": "262293c7-6073-4eaa-fb81-0b89884a94bb",
        "colab": {
          "base_uri": "https://localhost:8080/",
          "height": 173
        }
      },
      "source": [
        "bow_model_LR = LogisticRegression(max_iter=100).fit(scaler.transform(X_train_bow), y_train)\n",
        "print(accuracy_score(bow_model_LR.predict(scaler.transform(X_test_bow)), y_test))"
      ],
      "execution_count": 237,
      "outputs": [
        {
          "output_type": "stream",
          "text": [
            "/usr/local/lib/python3.6/dist-packages/sklearn/linear_model/_logistic.py:940: ConvergenceWarning: lbfgs failed to converge (status=1):\n",
            "STOP: TOTAL NO. of ITERATIONS REACHED LIMIT.\n",
            "\n",
            "Increase the number of iterations (max_iter) or scale the data as shown in:\n",
            "    https://scikit-learn.org/stable/modules/preprocessing.html\n",
            "Please also refer to the documentation for alternative solver options:\n",
            "    https://scikit-learn.org/stable/modules/linear_model.html#logistic-regression\n",
            "  extra_warning_msg=_LOGISTIC_SOLVER_CONVERGENCE_MSG)\n"
          ],
          "name": "stderr"
        },
        {
          "output_type": "stream",
          "text": [
            "0.7352222222222222\n"
          ],
          "name": "stdout"
        }
      ]
    },
    {
      "cell_type": "markdown",
      "metadata": {
        "id": "057Y9FJO0JnP",
        "colab_type": "text"
      },
      "source": [
        "**Видим, что стандартизация для LogReg работаем лучше, чем нормализация, но попрежнему не хватает кол-во итераций для обучения**"
      ]
    },
    {
      "cell_type": "markdown",
      "metadata": {
        "colab_type": "text",
        "id": "HvCAL3qGDByj"
      },
      "source": [
        "### mystem (0.5) балла\n",
        "\n",
        "Попробуйте обучиться, используя токенизатор mystem. Сравните качество."
      ]
    },
    {
      "cell_type": "code",
      "metadata": {
        "colab_type": "code",
        "id": "Hz38TqqRDY6-",
        "outputId": "7875a079-2892-4195-b8be-33acc05225a5",
        "colab": {
          "base_uri": "https://localhost:8080/",
          "height": 312
        }
      },
      "source": [
        "!wget http://download.cdn.yandex.net/mystem/mystem-3.0-linux3.1-64bit.tar.gz\n",
        "!tar -xvf mystem-3.0-linux3.1-64bit.tar.gz\n",
        "!cp mystem /bin"
      ],
      "execution_count": 238,
      "outputs": [
        {
          "output_type": "stream",
          "text": [
            "--2020-04-26 10:05:34--  http://download.cdn.yandex.net/mystem/mystem-3.0-linux3.1-64bit.tar.gz\n",
            "Resolving download.cdn.yandex.net (download.cdn.yandex.net)... 5.45.205.241, 5.45.205.243, 5.45.205.242, ...\n",
            "Connecting to download.cdn.yandex.net (download.cdn.yandex.net)|5.45.205.241|:80... connected.\n",
            "HTTP request sent, awaiting response... 302 Found\n",
            "Location: http://cache-mskm904.cdn.yandex.net/download.cdn.yandex.net/mystem/mystem-3.0-linux3.1-64bit.tar.gz [following]\n",
            "--2020-04-26 10:05:35--  http://cache-mskm904.cdn.yandex.net/download.cdn.yandex.net/mystem/mystem-3.0-linux3.1-64bit.tar.gz\n",
            "Resolving cache-mskm904.cdn.yandex.net (cache-mskm904.cdn.yandex.net)... 5.45.220.14, 2a02:6b8:0:2002::15\n",
            "Connecting to cache-mskm904.cdn.yandex.net (cache-mskm904.cdn.yandex.net)|5.45.220.14|:80... connected.\n",
            "HTTP request sent, awaiting response... 200 OK\n",
            "Length: 16457938 (16M) [application/octet-stream]\n",
            "Saving to: ‘mystem-3.0-linux3.1-64bit.tar.gz.1’\n",
            "\n",
            "mystem-3.0-linux3.1 100%[===================>]  15.70M  4.95MB/s    in 3.9s    \n",
            "\n",
            "2020-04-26 10:05:40 (4.02 MB/s) - ‘mystem-3.0-linux3.1-64bit.tar.gz.1’ saved [16457938/16457938]\n",
            "\n",
            "mystem\n"
          ],
          "name": "stdout"
        }
      ]
    },
    {
      "cell_type": "code",
      "metadata": {
        "colab_type": "code",
        "id": "60oQ-6UgDcLF",
        "outputId": "435011f2-2046-48aa-d9b6-d99aadf5d24c",
        "colab": {
          "base_uri": "https://localhost:8080/",
          "height": 260
        }
      },
      "source": [
        "pip install git+https://github.com/nlpub/pymystem3"
      ],
      "execution_count": 239,
      "outputs": [
        {
          "output_type": "stream",
          "text": [
            "Collecting git+https://github.com/nlpub/pymystem3\n",
            "  Cloning https://github.com/nlpub/pymystem3 to /tmp/pip-req-build-bl250tq2\n",
            "  Running command git clone -q https://github.com/nlpub/pymystem3 /tmp/pip-req-build-bl250tq2\n",
            "Requirement already satisfied (use --upgrade to upgrade): pymystem3==0.2.0 from git+https://github.com/nlpub/pymystem3 in /usr/local/lib/python3.6/dist-packages\n",
            "Requirement already satisfied: requests in /usr/local/lib/python3.6/dist-packages (from pymystem3==0.2.0) (2.21.0)\n",
            "Requirement already satisfied: idna<2.9,>=2.5 in /usr/local/lib/python3.6/dist-packages (from requests->pymystem3==0.2.0) (2.8)\n",
            "Requirement already satisfied: certifi>=2017.4.17 in /usr/local/lib/python3.6/dist-packages (from requests->pymystem3==0.2.0) (2020.4.5.1)\n",
            "Requirement already satisfied: chardet<3.1.0,>=3.0.2 in /usr/local/lib/python3.6/dist-packages (from requests->pymystem3==0.2.0) (3.0.4)\n",
            "Requirement already satisfied: urllib3<1.25,>=1.21.1 in /usr/local/lib/python3.6/dist-packages (from requests->pymystem3==0.2.0) (1.24.3)\n",
            "Building wheels for collected packages: pymystem3\n",
            "  Building wheel for pymystem3 (setup.py) ... \u001b[?25l\u001b[?25hdone\n",
            "  Created wheel for pymystem3: filename=pymystem3-0.2.0-cp36-none-any.whl size=9921 sha256=d4beb99198fcd256e60d6ad3db036c47ee54d33c6b8a7165e3ba481b6fafe72c\n",
            "  Stored in directory: /tmp/pip-ephem-wheel-cache-msdhuezr/wheels/7d/75/c2/216a594291dee680749ce12c60d16125cfe1f363059e7163dc\n",
            "Successfully built pymystem3\n"
          ],
          "name": "stdout"
        }
      ]
    },
    {
      "cell_type": "code",
      "metadata": {
        "id": "CL8v1ybRONCs",
        "colab_type": "code",
        "colab": {}
      },
      "source": [
        "from pymystem3 import Mystem"
      ],
      "execution_count": 0,
      "outputs": []
    },
    {
      "cell_type": "code",
      "metadata": {
        "id": "yV5_u9ZKNAJT",
        "colab_type": "code",
        "colab": {}
      },
      "source": [
        "mystem_tok = Mystem()\n",
        "\n",
        "def preprocessMystem(text: str) -> str:\n",
        "    return ''.join(mystem_tok.lemmatize(text.lower()))\n"
      ],
      "execution_count": 0,
      "outputs": []
    },
    {
      "cell_type": "code",
      "metadata": {
        "id": "WAhBPHseNhKx",
        "colab_type": "code",
        "colab": {}
      },
      "source": [
        "vectPreprocessMystem = np.vectorize(preprocessMystem)\n",
        "X_train = vectPreprocessMystem(X_train)\n",
        "X_test = vectPreprocessMystem(X_test)"
      ],
      "execution_count": 0,
      "outputs": []
    },
    {
      "cell_type": "code",
      "metadata": {
        "id": "XbZ3-yTe2fIW",
        "colab_type": "code",
        "outputId": "914a96c7-37ff-4008-ef78-93db0016f2ad",
        "colab": {
          "base_uri": "https://localhost:8080/",
          "height": 176
        }
      },
      "source": [
        "X_train[:5]"
      ],
      "execution_count": 243,
      "outputs": [
        {
          "output_type": "execute_result",
          "data": {
            "text/plain": [
              "array([['сапог 46 размер новый\\n', 'сапог 46 размер новый\\n'],\n",
              "       ['светильник потолочный swarovski\\n',\n",
              "        'светильник потолочный swarovski 6 штука , цена за штука . в эксплуатация 2 год , продаваться в связь со смена интерьер в квартира\\n'],\n",
              "       ['iphone 7 plus 128gb red красный в наличие\\n',\n",
              "        '/ / данный цена только для подписчик instagram : iqmac / / новый красный айфон 7 plus в наличие это элегантный и мощный смартфон , который готовый в полный мера раскрывать новый возможность ios 10 . аппарат с 4 - ядерный процессор а10 и 3 гб озу с легкость решать самый ресурсоемкий задача , позволять наслаждаться быстродействие « тяжелый » приложение и игра на 5 , 5 - дюймовый дисплей . аппарат получать экран , как у ipad pro , так что картинка теперь соответствовать кинематографический стандарт .\\n'],\n",
              "       ['пион ирис ромашка рассада\\n',\n",
              "        'пион куст 500 р ( более 10 шт )/ саженец / корень 100р / расти у мы более 70 год / розовый , бордовый и белый / на фото цветок 2018г / п . зубчаниновка / либо пл . революция / быть ирис , ромашка , клубника , боярышник и ирга\\n'],\n",
              "       ['кофта\\n', 'состояние отличный\\n']], dtype='<U3482')"
            ]
          },
          "metadata": {
            "tags": []
          },
          "execution_count": 243
        }
      ]
    },
    {
      "cell_type": "code",
      "metadata": {
        "id": "7P2LdSom4mAb",
        "colab_type": "code",
        "colab": {}
      },
      "source": [
        "bow_vocabulary = collections.Counter()\n",
        "\n",
        "for i in range(len(X_train[:])):\n",
        "    for word in (X_train[i][0].split() + X_train[i][1].split()):\n",
        "        bow_vocabulary[word] += 1   "
      ],
      "execution_count": 0,
      "outputs": []
    },
    {
      "cell_type": "code",
      "metadata": {
        "id": "cHcBMWh-4oKU",
        "colab_type": "code",
        "colab": {}
      },
      "source": [
        "bow_vocabulary = dict(bow_vocabulary.most_common(k))\n",
        "words = np.array(list(bow_vocabulary.keys()))"
      ],
      "execution_count": 0,
      "outputs": []
    },
    {
      "cell_type": "code",
      "metadata": {
        "id": "GUoLxykf4ugU",
        "colab_type": "code",
        "colab": {}
      },
      "source": [
        "X_train_bow = items_to_bow(X_train)\n",
        "X_test_bow = items_to_bow(X_test)"
      ],
      "execution_count": 0,
      "outputs": []
    },
    {
      "cell_type": "code",
      "metadata": {
        "id": "CvbOq3xe4_uN",
        "colab_type": "code",
        "colab": {}
      },
      "source": [
        "coeff = 1.5\n",
        "X_train_bow = X_train_bow +  coeff*items_to_bow_title(X_train)\n",
        "X_test_bow = X_test_bow + coeff*items_to_bow_title(X_test)"
      ],
      "execution_count": 0,
      "outputs": []
    },
    {
      "cell_type": "code",
      "metadata": {
        "id": "wxV5FHgw5HNA",
        "colab_type": "code",
        "colab": {}
      },
      "source": [
        "normalized_X_train_bow_mystem = preprocessing.normalize(X_train_bow)\n",
        "normalized_X_test_bow_mystem = preprocessing.normalize(X_test_bow)"
      ],
      "execution_count": 0,
      "outputs": []
    },
    {
      "cell_type": "code",
      "metadata": {
        "id": "S2076c0ekln8",
        "colab_type": "code",
        "outputId": "7f226799-0df6-4fb3-b6b0-9367d375a185",
        "colab": {
          "base_uri": "https://localhost:8080/",
          "height": 173
        }
      },
      "source": [
        "bow_model_LR = LogisticRegression(max_iter=100).fit(X_train_bow, y_train)\n",
        "print(accuracy_score(bow_model_LR.predict(X_test_bow), y_test))"
      ],
      "execution_count": 249,
      "outputs": [
        {
          "output_type": "stream",
          "text": [
            "/usr/local/lib/python3.6/dist-packages/sklearn/linear_model/_logistic.py:940: ConvergenceWarning: lbfgs failed to converge (status=1):\n",
            "STOP: TOTAL NO. of ITERATIONS REACHED LIMIT.\n",
            "\n",
            "Increase the number of iterations (max_iter) or scale the data as shown in:\n",
            "    https://scikit-learn.org/stable/modules/preprocessing.html\n",
            "Please also refer to the documentation for alternative solver options:\n",
            "    https://scikit-learn.org/stable/modules/linear_model.html#logistic-regression\n",
            "  extra_warning_msg=_LOGISTIC_SOLVER_CONVERGENCE_MSG)\n"
          ],
          "name": "stderr"
        },
        {
          "output_type": "stream",
          "text": [
            "0.8121111111111111\n"
          ],
          "name": "stdout"
        }
      ]
    },
    {
      "cell_type": "code",
      "metadata": {
        "id": "xzz6SZO_5lNL",
        "colab_type": "code",
        "outputId": "486464fc-5b46-434a-9105-2de964e4705e",
        "colab": {
          "base_uri": "https://localhost:8080/",
          "height": 34
        }
      },
      "source": [
        "bow_model_SVC = LinearSVC(max_iter=70).fit(normalized_X_train_bow_mystem, y_train)\n",
        "print(accuracy_score(bow_model_SVC.predict(normalized_X_test_bow_mystem), y_test))"
      ],
      "execution_count": 250,
      "outputs": [
        {
          "output_type": "stream",
          "text": [
            "0.8215555555555556\n"
          ],
          "name": "stdout"
        }
      ]
    },
    {
      "cell_type": "markdown",
      "metadata": {
        "id": "fwOanXDnCfm3",
        "colab_type": "text"
      },
      "source": [
        "**Качество модели улучшилось с помощью mystem. Возможно, это связано с тем, что слова привели к единой форме (не ращличаются за счет окончаний, суффиксов и т.д.).**"
      ]
    },
    {
      "cell_type": "markdown",
      "metadata": {
        "colab_type": "text",
        "id": "bXbsPtpfoB7m"
      },
      "source": [
        "### TF-IDF (1.5 балла)\n",
        "\n",
        "Не все слова полезны одинаково, давайте попробуем [взвесить](http://tfidf.com/) их, чтобы отобрать более полезные.\n",
        "\n",
        "\n",
        "> TF(t) = (Number of times term t appears in a document) / (Total number of terms in the document).\n",
        "> \n",
        "> IDF(t) = log_e(Total number of documents / Number of documents with term t in it).\n",
        "\n",
        "\n",
        "В sklearn есть TfidfVectorizer, но в этом задании его использовать нельзя."
      ]
    },
    {
      "cell_type": "code",
      "metadata": {
        "id": "KTxvhh6XfS4m",
        "colab_type": "code",
        "colab": {}
      },
      "source": [
        "# Давайте для простоты считать один tf-idf для title и description.\n",
        "# Для каждого слова из bow_vocabulary нужно посчитать\n",
        "# в тексте скольких товаров встретилось это слово\n",
        "\n",
        "count_arr = np.zeros(k)\n",
        "\n",
        "for i in range(len(X_train[:])):\n",
        "   set_words = set(X_train[i][0].split()+X_train[i][1].split())\n",
        "   for j in range(k):\n",
        "    if words[j] in set_words:\n",
        "      count_arr[j] += 1"
      ],
      "execution_count": 0,
      "outputs": []
    },
    {
      "cell_type": "code",
      "metadata": {
        "id": "OX2aI4kPRIEP",
        "colab_type": "code",
        "colab": {}
      },
      "source": [
        "counter = collections.Counter()\n",
        "\n",
        "for i in range(len(X_train[:])):\n",
        "     for word in (X_train[i][0].split() + X_train[i][1].split()):\n",
        "         counter[word] += 1\n",
        "all_words = list(counter.keys())"
      ],
      "execution_count": 0,
      "outputs": []
    },
    {
      "cell_type": "code",
      "metadata": {
        "id": "gkojcdnlaF7h",
        "colab_type": "code",
        "colab": {}
      },
      "source": [
        "def text_to_tfidf(text: str) -> np.array:\n",
        "    \"\"\"\n",
        "    Возвращает вектор, где для каждого слова из most_common\n",
        "    указан tf-idf\n",
        "    \"\"\"\n",
        "    idf = np.zeros(k)\n",
        "    tf = np.zeros(k)\n",
        "\n",
        "    len_doc = len(text.split())\n",
        "    len_docs = X_train.shape[0]\n",
        "    \n",
        "    for i in range(k):\n",
        "      tf[i] = text.split().count(words[i])/len_doc\n",
        "      idf[i] = np.log(len_docs/count_arr[i])\n",
        "\n",
        "    return idf*tf\n"
      ],
      "execution_count": 0,
      "outputs": []
    },
    {
      "cell_type": "code",
      "metadata": {
        "colab_type": "code",
        "id": "6i5zFpD9rbtz",
        "colab": {}
      },
      "source": [
        "def items_to_tfidf(items: np.array) -> np.array:\n",
        "    tfidf = np.zeros((len(items), k))\n",
        "    for i, descr in zip(range(len(items)), items):\n",
        "      tfidf[i] = text_to_tfidf(descr[1])\n",
        "    \n",
        "    return np.array(tfidf)"
      ],
      "execution_count": 0,
      "outputs": []
    },
    {
      "cell_type": "code",
      "metadata": {
        "id": "_qCqa_J5xds7",
        "colab_type": "code",
        "colab": {}
      },
      "source": [
        "  def items_to_tfidf_title(items: np.array) -> np.array:\n",
        "    tfidf = np.zeros((len(items), k))\n",
        "    for i, descr in zip(range(len(items)), items):\n",
        "      tfidf[i] = text_to_tfidf(descr[0])\n",
        "    \n",
        "    return np.array(tfidf)"
      ],
      "execution_count": 0,
      "outputs": []
    },
    {
      "cell_type": "code",
      "metadata": {
        "id": "NucqWPkCm9HP",
        "colab_type": "code",
        "colab": {}
      },
      "source": [
        "X_train_tfidf = items_to_tfidf(X_train)\n",
        "X_test_tfidf = items_to_tfidf(X_test)"
      ],
      "execution_count": 0,
      "outputs": []
    },
    {
      "cell_type": "code",
      "metadata": {
        "id": "8HjujSW63DBl",
        "colab_type": "code",
        "colab": {}
      },
      "source": [
        "coeff = 1.5\n",
        "X_train_tfidf = X_train_tfidf + coeff*items_to_tfidf_title(X_train)\n",
        "X_test_tfidf = X_test_tfidf + coeff*items_to_tfidf_title(X_test)"
      ],
      "execution_count": 0,
      "outputs": []
    },
    {
      "cell_type": "code",
      "metadata": {
        "colab_type": "code",
        "id": "LvL9BH7DsJrv",
        "colab": {}
      },
      "source": [
        "# Нормализуйте данные\n",
        "normalized_X_train_tfidf = preprocessing.normalize(X_train_tfidf)\n",
        "normalized_X_test_tfidf = preprocessing.normalize(X_test_tfidf)"
      ],
      "execution_count": 0,
      "outputs": []
    },
    {
      "cell_type": "markdown",
      "metadata": {
        "colab_type": "text",
        "id": "-YFA-8kE1RHk"
      },
      "source": [
        "### Модели на TF-IDF признаках (1 балл)\n",
        "\n",
        "Обучите логистическую регрессию и SVC, оцените качество (accuracy_score)"
      ]
    },
    {
      "cell_type": "code",
      "metadata": {
        "id": "T0GRKZGGs3uq",
        "colab_type": "code",
        "outputId": "072a4729-75ae-4d2a-b819-b8b32e7e3518",
        "colab": {
          "base_uri": "https://localhost:8080/",
          "height": 173
        }
      },
      "source": [
        "bow_model_LR = LogisticRegression(max_iter=100).fit(normalized_X_train_tfidf, y_train)\n",
        "print(accuracy_score(bow_model_LR.predict(normalized_X_test_tfidf), y_test))"
      ],
      "execution_count": 259,
      "outputs": [
        {
          "output_type": "stream",
          "text": [
            "/usr/local/lib/python3.6/dist-packages/sklearn/linear_model/_logistic.py:940: ConvergenceWarning: lbfgs failed to converge (status=1):\n",
            "STOP: TOTAL NO. of ITERATIONS REACHED LIMIT.\n",
            "\n",
            "Increase the number of iterations (max_iter) or scale the data as shown in:\n",
            "    https://scikit-learn.org/stable/modules/preprocessing.html\n",
            "Please also refer to the documentation for alternative solver options:\n",
            "    https://scikit-learn.org/stable/modules/linear_model.html#logistic-regression\n",
            "  extra_warning_msg=_LOGISTIC_SOLVER_CONVERGENCE_MSG)\n"
          ],
          "name": "stderr"
        },
        {
          "output_type": "stream",
          "text": [
            "0.7697777777777778\n"
          ],
          "name": "stdout"
        }
      ]
    },
    {
      "cell_type": "code",
      "metadata": {
        "id": "afClCZgNsq9K",
        "colab_type": "code",
        "outputId": "32abca63-6a02-43be-b84b-74534c2feef7",
        "colab": {
          "base_uri": "https://localhost:8080/",
          "height": 34
        }
      },
      "source": [
        "bow_model_SVC = LinearSVC(max_iter=70).fit(normalized_X_train_tfidf, y_train)\n",
        "print(accuracy_score(bow_model_SVC.predict(normalized_X_test_tfidf), y_test))"
      ],
      "execution_count": 260,
      "outputs": [
        {
          "output_type": "stream",
          "text": [
            "0.8095555555555556\n"
          ],
          "name": "stdout"
        }
      ]
    },
    {
      "cell_type": "markdown",
      "metadata": {
        "colab_type": "text",
        "id": "jFdy3lUFDsOr"
      },
      "source": [
        "### Hashing Vectorizer (0.5 балла)\n",
        "\n",
        "Попробуйте использовать `sklearn.feature_extraction.text.HashingVectorizer` для векторизации текстов.\n",
        "Обязательно оцените качество работы алгоритмов классификации с использованием новой векторизации."
      ]
    },
    {
      "cell_type": "code",
      "metadata": {
        "id": "KildwxSRl7ie",
        "colab_type": "code",
        "colab": {}
      },
      "source": [
        "from sklearn.feature_extraction.text import HashingVectorizer"
      ],
      "execution_count": 0,
      "outputs": []
    },
    {
      "cell_type": "code",
      "metadata": {
        "id": "0rvMqeLloKOi",
        "colab_type": "code",
        "colab": {}
      },
      "source": [
        "X_train_new = [X_train[i][0]+ ' ' + X_train[i][1] for i in range(X_train.shape[0])]\n",
        "X_test_new = [X_test[i][0]+ ' ' + X_test[i][1] for i in range(X_test.shape[0])]"
      ],
      "execution_count": 0,
      "outputs": []
    },
    {
      "cell_type": "code",
      "metadata": {
        "id": "pZyMqYtdgGtb",
        "colab_type": "code",
        "colab": {}
      },
      "source": [
        "vectorizer = HashingVectorizer(ngram_range=(1, 3), n_features=50000)\n",
        "X_trainHV = vectorizer.fit_transform(X_train_new)\n",
        "X_testHV = vectorizer.fit_transform(X_test_new)"
      ],
      "execution_count": 0,
      "outputs": []
    },
    {
      "cell_type": "code",
      "metadata": {
        "id": "8uMUhg1hpuvY",
        "colab_type": "code",
        "outputId": "69da461b-46ef-495d-a1b9-f3f03cc490c9",
        "colab": {
          "base_uri": "https://localhost:8080/",
          "height": 173
        }
      },
      "source": [
        "bow_model_LR = LogisticRegression(max_iter=100).fit(X_trainHV, y_train)\n",
        "print(accuracy_score(bow_model_LR.predict(X_testHV), y_test))"
      ],
      "execution_count": 264,
      "outputs": [
        {
          "output_type": "stream",
          "text": [
            "0.706\n"
          ],
          "name": "stdout"
        },
        {
          "output_type": "stream",
          "text": [
            "/usr/local/lib/python3.6/dist-packages/sklearn/linear_model/_logistic.py:940: ConvergenceWarning: lbfgs failed to converge (status=1):\n",
            "STOP: TOTAL NO. of ITERATIONS REACHED LIMIT.\n",
            "\n",
            "Increase the number of iterations (max_iter) or scale the data as shown in:\n",
            "    https://scikit-learn.org/stable/modules/preprocessing.html\n",
            "Please also refer to the documentation for alternative solver options:\n",
            "    https://scikit-learn.org/stable/modules/linear_model.html#logistic-regression\n",
            "  extra_warning_msg=_LOGISTIC_SOLVER_CONVERGENCE_MSG)\n"
          ],
          "name": "stderr"
        }
      ]
    },
    {
      "cell_type": "code",
      "metadata": {
        "id": "KphZLgfXZoZ_",
        "colab_type": "code",
        "outputId": "ccdd6bae-2e64-4c38-fbdf-0905dbeece26",
        "colab": {
          "base_uri": "https://localhost:8080/",
          "height": 34
        }
      },
      "source": [
        "bow_model_SVC = LinearSVC(max_iter=70).fit(X_trainHV, y_train)\n",
        "print(accuracy_score(bow_model_SVC.predict(X_testHV), y_test))"
      ],
      "execution_count": 265,
      "outputs": [
        {
          "output_type": "stream",
          "text": [
            "0.8063333333333333\n"
          ],
          "name": "stdout"
        }
      ]
    },
    {
      "cell_type": "markdown",
      "metadata": {
        "colab_type": "text",
        "id": "vQZ61xSsTpZI"
      },
      "source": [
        "### Word Vectors (1 балл)\n",
        "\n",
        "Давайте попробуем другой подход -- кажому слову сопоставим какой-то эмбеддинг (вектор).\n",
        "\n",
        "Вектора будут небольшой размерности. Таким образом мы снизим количество параметров в модели.\n",
        "\n",
        "Вектора мы возьмём уже готовые (обученные на текстах их интернета), так что наша модель будет знать некоторую дополнительную информацию о внешнем мире."
      ]
    },
    {
      "cell_type": "code",
      "metadata": {
        "colab_type": "code",
        "id": "T38J27NcYGx5",
        "outputId": "90f108b4-f8f8-4868-e2a5-5c95a99ac801",
        "colab": {
          "base_uri": "https://localhost:8080/",
          "height": 454
        }
      },
      "source": [
        "!wget https://www.dropbox.com/s/0x7oxso6x93efzj/ru.tar.gz"
      ],
      "execution_count": 266,
      "outputs": [
        {
          "output_type": "stream",
          "text": [
            "--2020-04-26 11:39:22--  https://www.dropbox.com/s/0x7oxso6x93efzj/ru.tar.gz\n",
            "Resolving www.dropbox.com (www.dropbox.com)... 162.125.82.1, 2620:100:6032:1::a27d:5201\n",
            "Connecting to www.dropbox.com (www.dropbox.com)|162.125.82.1|:443... connected.\n",
            "HTTP request sent, awaiting response... 301 Moved Permanently\n",
            "Location: /s/raw/0x7oxso6x93efzj/ru.tar.gz [following]\n",
            "--2020-04-26 11:39:22--  https://www.dropbox.com/s/raw/0x7oxso6x93efzj/ru.tar.gz\n",
            "Reusing existing connection to www.dropbox.com:443.\n",
            "HTTP request sent, awaiting response... 302 Found\n",
            "Location: https://ucbbb7e829b7fa92064435a22a95.dl.dropboxusercontent.com/cd/0/inline/A2mV0ayYGx_Dmn9mVpdpX2NfwoA58EcpNi_HEXuXCwBydodUQTB36X9dDZgbsu_-trWILR51cBaUhyUzGWB3InVOJPV2vMNjg08H7BRrPHloVw/file# [following]\n",
            "--2020-04-26 11:39:23--  https://ucbbb7e829b7fa92064435a22a95.dl.dropboxusercontent.com/cd/0/inline/A2mV0ayYGx_Dmn9mVpdpX2NfwoA58EcpNi_HEXuXCwBydodUQTB36X9dDZgbsu_-trWILR51cBaUhyUzGWB3InVOJPV2vMNjg08H7BRrPHloVw/file\n",
            "Resolving ucbbb7e829b7fa92064435a22a95.dl.dropboxusercontent.com (ucbbb7e829b7fa92064435a22a95.dl.dropboxusercontent.com)... 162.125.82.6, 2620:100:6032:6::a27d:5206\n",
            "Connecting to ucbbb7e829b7fa92064435a22a95.dl.dropboxusercontent.com (ucbbb7e829b7fa92064435a22a95.dl.dropboxusercontent.com)|162.125.82.6|:443... connected.\n",
            "HTTP request sent, awaiting response... 302 FOUND\n",
            "Location: /cd/0/inline2/A2lRDIZL7p9yN7UDfxeS8q024HFYn_8XsTBW30ewMvk9VjtWiV9ABIdiIhhY9L-Y0kwcNCTZmnTHYeDYQqBTf-Y6z9rQkJmaJIGoSMWxJ9wsV0CHqDBmCI38CZdpmLJtkxW6x18dasIVggiTHu8vANPruDKd_vhe0TlTGxLw-41h9GlPIOSGcN844m-TM4-6fwJAF5STdHgvPz8H1o2hR1g6QkZnHMlaWZ8zuxy4pWfgox15XdRR3yxtrpPZz5YD4A2qzYaLhn7gujc1WSeWDgK-JU0WHTg5mbVmmp-ibH4yOseDCRR2qOPCABWKjuFA68NSUhCeP7gt1QBhlroz2lCi/file [following]\n",
            "--2020-04-26 11:39:23--  https://ucbbb7e829b7fa92064435a22a95.dl.dropboxusercontent.com/cd/0/inline2/A2lRDIZL7p9yN7UDfxeS8q024HFYn_8XsTBW30ewMvk9VjtWiV9ABIdiIhhY9L-Y0kwcNCTZmnTHYeDYQqBTf-Y6z9rQkJmaJIGoSMWxJ9wsV0CHqDBmCI38CZdpmLJtkxW6x18dasIVggiTHu8vANPruDKd_vhe0TlTGxLw-41h9GlPIOSGcN844m-TM4-6fwJAF5STdHgvPz8H1o2hR1g6QkZnHMlaWZ8zuxy4pWfgox15XdRR3yxtrpPZz5YD4A2qzYaLhn7gujc1WSeWDgK-JU0WHTg5mbVmmp-ibH4yOseDCRR2qOPCABWKjuFA68NSUhCeP7gt1QBhlroz2lCi/file\n",
            "Reusing existing connection to ucbbb7e829b7fa92064435a22a95.dl.dropboxusercontent.com:443.\n",
            "HTTP request sent, awaiting response... 200 OK\n",
            "Length: 2399456034 (2.2G) [application/octet-stream]\n",
            "Saving to: ‘ru.tar.gz.1’\n",
            "\n",
            "ru.tar.gz.1         100%[===================>]   2.23G  48.4MB/s    in 49s     \n",
            "\n",
            "2020-04-26 11:40:13 (46.6 MB/s) - ‘ru.tar.gz.1’ saved [2399456034/2399456034]\n",
            "\n"
          ],
          "name": "stdout"
        }
      ]
    },
    {
      "cell_type": "code",
      "metadata": {
        "colab_type": "code",
        "id": "Zfse4xVbgMIr",
        "outputId": "91b59f66-c9b2-49b1-af58-2e32bb5ad67f",
        "colab": {
          "base_uri": "https://localhost:8080/",
          "height": 52
        }
      },
      "source": [
        "!tar -xzvf ru.tar.gz"
      ],
      "execution_count": 267,
      "outputs": [
        {
          "output_type": "stream",
          "text": [
            "ru.bin\n",
            "ru.vec\n"
          ],
          "name": "stdout"
        }
      ]
    },
    {
      "cell_type": "code",
      "metadata": {
        "colab_type": "code",
        "id": "sy2TXmQ2jZSY",
        "colab": {}
      },
      "source": [
        "import gensim\n",
        "from gensim.models.wrappers import FastText\n",
        "\n",
        "\n",
        "model = FastText.load_fasttext_format('ru.bin')"
      ],
      "execution_count": 0,
      "outputs": []
    },
    {
      "cell_type": "code",
      "metadata": {
        "colab_type": "code",
        "id": "H49QR_jhjmCa",
        "colab": {}
      },
      "source": [
        "# Эмбеддинг предложения -- сумма эмбеддингов токенов\n",
        "\n",
        "\n",
        "def sentence_embedding(sentence: str) -> np.array:\n",
        "    \"\"\"\n",
        "    Складывает вектора токенов строки sentence\n",
        "    \"\"\"\n",
        "\n",
        "    embedding_dim = model['продам'].shape[0]\n",
        "    features = np.zeros([embedding_dim], dtype='float32')\n",
        "    \n",
        "    for word in sentence.split():\n",
        "        if word in model:\n",
        "            features += model[word]\n",
        "    \n",
        "    return features"
      ],
      "execution_count": 0,
      "outputs": []
    },
    {
      "cell_type": "code",
      "metadata": {
        "colab_type": "code",
        "id": "Gj6U_hjtlllV",
        "colab": {}
      },
      "source": [
        "assert np.allclose(sentence_embedding('сдаётся уютный , тёплый гараж для стартапов в ml')[::50],\n",
        "                   np.array([ 0.08189847,  0.07249198, -0.15601222,  0.03782297,  0.09215296, -0.23092946]))"
      ],
      "execution_count": 0,
      "outputs": []
    },
    {
      "cell_type": "code",
      "metadata": {
        "id": "m8iKmsid8AB9",
        "colab_type": "code",
        "colab": {}
      },
      "source": [
        "def items_to_emb(items: np.array) -> np.array:\n",
        "    embedding = np.zeros((len(items), 300))\n",
        "    for i, descr in zip(range(len(items)), items):\n",
        "      embedding[i] = sentence_embedding(descr[1])\n",
        "    \n",
        "    return np.array(embedding)"
      ],
      "execution_count": 0,
      "outputs": []
    },
    {
      "cell_type": "code",
      "metadata": {
        "id": "6kq9MsHlD7u9",
        "colab_type": "code",
        "colab": {}
      },
      "source": [
        "X_train_embedding = items_to_emb(X_train)\n",
        "X_test_embedding = items_to_emb(X_test)"
      ],
      "execution_count": 0,
      "outputs": []
    },
    {
      "cell_type": "code",
      "metadata": {
        "colab_type": "code",
        "id": "8tfhc-PFmGvu",
        "outputId": "845f6fb6-0c36-4898-99e4-04e1cfd69352",
        "colab": {
          "base_uri": "https://localhost:8080/",
          "height": 225
        }
      },
      "source": [
        "# Обучите логистическую регрессию и SVM\n",
        "# Оцените качество (accuracy_score)\n",
        "bow_model_LR = LogisticRegression(max_iter=100).fit(X_train_embedding, y_train)\n",
        "print(accuracy_score(bow_model_LR.predict(X_test_embedding), y_test))\n",
        "\n",
        "bow_model_SVC = LinearSVC(max_iter=70).fit(X_train_embedding, y_train)\n",
        "print(accuracy_score(bow_model_SVC.predict(X_test_embedding), y_test))"
      ],
      "execution_count": 273,
      "outputs": [
        {
          "output_type": "stream",
          "text": [
            "/usr/local/lib/python3.6/dist-packages/sklearn/linear_model/_logistic.py:940: ConvergenceWarning: lbfgs failed to converge (status=1):\n",
            "STOP: TOTAL NO. of ITERATIONS REACHED LIMIT.\n",
            "\n",
            "Increase the number of iterations (max_iter) or scale the data as shown in:\n",
            "    https://scikit-learn.org/stable/modules/preprocessing.html\n",
            "Please also refer to the documentation for alternative solver options:\n",
            "    https://scikit-learn.org/stable/modules/linear_model.html#logistic-regression\n",
            "  extra_warning_msg=_LOGISTIC_SOLVER_CONVERGENCE_MSG)\n"
          ],
          "name": "stderr"
        },
        {
          "output_type": "stream",
          "text": [
            "0.5338888888888889\n",
            "0.526\n"
          ],
          "name": "stdout"
        },
        {
          "output_type": "stream",
          "text": [
            "/usr/local/lib/python3.6/dist-packages/sklearn/svm/_base.py:947: ConvergenceWarning: Liblinear failed to converge, increase the number of iterations.\n",
            "  \"the number of iterations.\", ConvergenceWarning)\n"
          ],
          "name": "stderr"
        }
      ]
    },
    {
      "cell_type": "markdown",
      "metadata": {
        "colab_type": "text",
        "id": "cVEdlFostSnX"
      },
      "source": [
        "### Что дальше?\n",
        "\n",
        "Решение каждого пункта 1 балл:\n",
        "\n",
        "1. N-Gram модели текстовой классификации\n",
        "\n",
        "2. Обучиться на полных данных (контест на kaggle)\n",
        "\n",
        "3. Поработать с другими эмбеддингами (word2vec, GloVe).\n",
        "\n",
        "4. Использовать Vowpal Wabbit вместо sklearn.\n",
        "\n",
        "5. Другие способы токенизации (pymorphy2, spaCy)\n",
        "\n",
        "\n",
        "Снабжайте код пояснениями и графиками.\n",
        "Обязательно необходимо написать вывод по каждому пункту, который вы реализуете."
      ]
    },
    {
      "cell_type": "markdown",
      "metadata": {
        "id": "6e3ZYJeEzfDM",
        "colab_type": "text"
      },
      "source": [
        "![title](d.png)"
      ]
    },
    {
      "cell_type": "code",
      "metadata": {
        "id": "FtmyAbLe0F3a",
        "colab_type": "code",
        "colab": {}
      },
      "source": [
        ""
      ],
      "execution_count": 0,
      "outputs": []
    }
  ]
}