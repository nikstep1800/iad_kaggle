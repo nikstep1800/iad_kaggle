{
 "cells": [
  {
   "cell_type": "markdown",
   "metadata": {},
   "source": [
    "## Введение в анализ данных, ИАД-2\n",
    "\n",
    "## НИУ ВШЭ, 2019-20 учебный год"
   ]
  },
  {
   "cell_type": "markdown",
   "metadata": {},
   "source": [
    "### Домашнее задание №2"
   ]
  },
  {
   "cell_type": "markdown",
   "metadata": {},
   "source": [
    "Задание выполнил(а): Степанов Николай"
   ]
  },
  {
   "cell_type": "markdown",
   "metadata": {},
   "source": [
    "### Общая информация"
   ]
  },
  {
   "cell_type": "markdown",
   "metadata": {},
   "source": [
    "__Дата выдачи:__ 04.03.2019\n",
    "\n",
    "__Дедлайн:__ 23:59 17.03.2019"
   ]
  },
  {
   "cell_type": "markdown",
   "metadata": {},
   "source": [
    "### Оценивание и штрафы\n",
    "\n",
    "Оценка за ДЗ вычисляется по следующей формуле:\n",
    "\n",
    "$$\n",
    "\\text{points} \\times 10 / \\text{max points},\n",
    "$$\n",
    "\n",
    "где points — количество баллов, которое вы набрали, max_points - максимальное число баллов за задание. Бонусные задания отмечены звездочками (*)\n",
    "\n",
    "За сдачу задания позже срока на итоговую оценку за задание накладывается штраф в размере 1 балл в день, но получить отрицательную оценку нельзя."
   ]
  },
  {
   "cell_type": "markdown",
   "metadata": {},
   "source": [
    "__Внимание!__ Домашнее задание выполняется самостоятельно. «Похожие» решения считаются плагиатом и все задействованные студенты (в том числе те, у кого списали) не могут получить за него больше 0 баллов."
   ]
  },
  {
   "cell_type": "markdown",
   "metadata": {},
   "source": [
    "### Формат сдачи"
   ]
  },
  {
   "cell_type": "markdown",
   "metadata": {},
   "source": [
    "Загрузка файлов с решениями происходит в системе [Anytask](https://anytask.org/).\n"
   ]
  },
  {
   "cell_type": "markdown",
   "metadata": {},
   "source": [
    "# kNN своими руками (4)\n",
    "\n",
    "Реализуйте взвешенный алгоритм kNN для регрессии. Пусть нам нужно вычислить значение $y$ для некоторого $x$ при известных данных $\\left(x_1, y_1\\right), \\ldots, \\left(x_\\ell, y_\\ell\\right)$. Предсказанием вашего регрессора будет являться\n",
    "\n",
    "$$\n",
    "\\hat{y} = \\frac{\\sum\\limits_{i=1}^kw_iy_{(i)}}{\\sum\\limits_{i=1}^kw_i},\n",
    "$$\n",
    "где $\\left(x_{(1)}, y_{(1)}\\right), \\ldots, \\left(x_{(k)}, y_{(k)}\\right)$ - ближайшие $k$ объектов к $x$ по некоторой метрике $d(\\cdot, \\cdot)$, а $w_i = \\frac{1}{d\\left(x, x_{(i)}\\right)}$. Ваш алгоритм должен уметь работать с двумя метриками:\n",
    "\n",
    "$$\n",
    "d\\left(x_{(i)}, x\\right) = \\|x_{(i)} - x\\|_2 = \\sqrt{\\sum\\limits_{j=1}^n\\left(x_{(i)}^j - x^j\\right)^2}\\qquad\\text{(евклидова)}\n",
    "$$\n",
    "$$\n",
    "d\\left(x_{(i)}, x\\right) = \\|x_{(i)} - x\\|_1 = \\sum\\limits_{j=1}^n\\left|x_{(i)}^j - x^j\\right|\\qquad\\text{(манхэттена)}\n",
    "$$\n",
    "\n",
    "Сверьте для нескольких комбинаций различных параметров свой результат на искусственной выборке с результатом соответствующего алгоритма из `sklearn` по метрике качества MSE."
   ]
  },
  {
   "cell_type": "code",
   "execution_count": 1,
   "metadata": {},
   "outputs": [],
   "source": [
    "from sklearn.neighbors import KDTree\n",
    "from sklearn.neighbors import KNeighborsRegressor\n",
    "from sklearn.metrics import mean_squared_error as MSE\n",
    "from sklearn.metrics import mean_squared_error as MSA\n",
    "import numpy as np\n",
    "\n",
    "class KNN:\n",
    "    def __init__(self, metric='minkowski', k=5, p=2):\n",
    "\n",
    "        self.n_neighbors = k\n",
    "        self.metric = metric\n",
    "        self.k = k\n",
    "        self.p = p\n",
    "        \n",
    "        self.X_train = None\n",
    "        self.y_train = None\n",
    "        \n",
    "    def fit(self, X_train, y_train):\n",
    "\n",
    "        self.X_train = X_train\n",
    "        self.y_train = y_train\n",
    "        \n",
    "        return self\n",
    "        \n",
    "    def predict(self, X_test):\n",
    "        \n",
    "        y_pred = np.array([])\n",
    "        tree = KDTree(self.X_train, metric=self.metric, p=self.p)\n",
    "        \n",
    "        for X in X_test:\n",
    "            dist, ind = tree.query(X.reshape(1, -1), k=self.n_neighbors)\n",
    "            weights = 1/dist[0]\n",
    "            target = np.array([self.y_train[i] for i in ind[0]])\n",
    "            y_pred = np.append(y_pred, np.sum(weights*target/(np.sum(weights))))\n",
    "        \n",
    "        return y_pred"
   ]
  },
  {
   "cell_type": "code",
   "execution_count": 2,
   "metadata": {},
   "outputs": [],
   "source": [
    "np.random.seed(777)\n",
    "X_train = np.random.randn(1000, 50)\n",
    "y_train = np.random.randn(1000,)\n",
    "X_test = np.random.randn(500, 50)\n",
    "y_test = np.random.randn(500,)"
   ]
  },
  {
   "cell_type": "code",
   "execution_count": 3,
   "metadata": {},
   "outputs": [
    {
     "data": {
      "text/plain": [
       "KNeighborsRegressor(algorithm='auto', leaf_size=30, metric='minkowski',\n",
       "          metric_params=None, n_jobs=None, n_neighbors=5, p=2,\n",
       "          weights='uniform')"
      ]
     },
     "execution_count": 3,
     "metadata": {},
     "output_type": "execute_result"
    }
   ],
   "source": [
    "MyKnn = KNN(p=2)\n",
    "MyKnn.fit(X_train, y_train)\n",
    "knn = KNeighborsRegressor(n_neighbors=5)\n",
    "knn.fit(X_train, y_train)"
   ]
  },
  {
   "cell_type": "code",
   "execution_count": 4,
   "metadata": {},
   "outputs": [
    {
     "name": "stdout",
     "output_type": "stream",
     "text": [
      "Euclid metric\n",
      "MSE Sklearn knn 1.3135316889013633\n",
      "MSE MyKNN 1.3122773539133659\n"
     ]
    }
   ],
   "source": [
    "print('Euclid metric')\n",
    "print('MSE Sklearn knn', MSE(y_test, knn.predict(X_test)))\n",
    "print('MSE MyKNN', MSE(y_test, MyKnn.predict(X_test)))"
   ]
  },
  {
   "cell_type": "code",
   "execution_count": 5,
   "metadata": {},
   "outputs": [
    {
     "data": {
      "text/plain": [
       "KNeighborsRegressor(algorithm='auto', leaf_size=30, metric='minkowski',\n",
       "          metric_params=None, n_jobs=None, n_neighbors=5, p=1,\n",
       "          weights='uniform')"
      ]
     },
     "execution_count": 5,
     "metadata": {},
     "output_type": "execute_result"
    }
   ],
   "source": [
    "MyKnn = KNN(p=1)\n",
    "MyKnn.fit(X_train, y_train)\n",
    "knn = KNeighborsRegressor(n_neighbors=5, p=1)\n",
    "knn.fit(X_train, y_train)"
   ]
  },
  {
   "cell_type": "code",
   "execution_count": 6,
   "metadata": {},
   "outputs": [
    {
     "name": "stdout",
     "output_type": "stream",
     "text": [
      "Manhattan metric\n",
      "MSE Sklearn knn 1.3187271701907253\n",
      "MSE MyKNN 1.3173365928342433\n"
     ]
    }
   ],
   "source": [
    "print('Manhattan metric')\n",
    "print('MSE Sklearn knn', MSE(y_test, knn.predict(X_test)))\n",
    "print('MSE MyKNN', MSE(y_test, MyKnn.predict(X_test)))"
   ]
  },
  {
   "cell_type": "markdown",
   "metadata": {},
   "source": [
    "# Линейная регрессия своими руками (4)\n",
    "\n",
    "Реализуйте линейную регрессию с градиентным спуском для [функции потерь Хьюбера](https://en.wikipedia.org/wiki/Huber_loss):\n",
    "\n",
    "$$\n",
    "L_\\delta\\left(y, \\hat{y}\\right) =\n",
    "\\begin{cases}\n",
    "\\frac{1}{2}\\left(y - \\hat{y}\\right)^2, \\qquad &|y - \\hat{y}| \\leq \\delta\\\\\n",
    "\\delta\\left|y - \\hat{y}\\right| - \\frac{1}{2}\\delta^2,\\qquad & \\text{otherwise}\n",
    "\\end{cases}\n",
    "$$\n",
    "\n",
    "В таком случае общее значение функции потерь на всем датасете $(x_1, y_1), \\ldots, (x_\\ell, y_\\ell)$ будет равно\n",
    "\n",
    "$$\n",
    "L = \\frac{1}{\\ell}\\sum\\limits_{i=1}^\\ell L_\\delta\\left(y_i, \\hat{y}_i\\right)\n",
    "$$\n",
    "\n",
    "Проверьте работу вашего метода: выведите результаты его работы на той же искусственной выборке, что и в задаче выше (в качестве метрик качества используйте MSE и Huber loss). Постройте график зависимости значения функции потерь от итерации градиентного спуска.\n",
    "\n",
    "*Вы можете опустить единичный признак в модели и не добавлять его в данные. Для данной искусственной выборки это не актуально, потому что целевая переменная в этом случае является случайной величиной из стандартного нормального распределения со средним 0.*\n",
    "\n",
    "*Вектор весов в градиентном спуске можете инициализировать нулями.*"
   ]
  },
  {
   "cell_type": "code",
   "execution_count": 7,
   "metadata": {},
   "outputs": [],
   "source": [
    "from sklearn.linear_model import HuberRegressor, LinearRegression"
   ]
  },
  {
   "cell_type": "code",
   "execution_count": 8,
   "metadata": {},
   "outputs": [],
   "source": [
    "class LinearRegressionHuber:\n",
    "    def __init__(self, delta=1.0, max_iter=1000, tol=1e-6, eta=1e-2):\n",
    "        \n",
    "        self.delta = delta\n",
    "        self.max_iter = max_iter\n",
    "        self.tol = tol\n",
    "        self.eta = eta\n",
    "        \n",
    "        self.zero_one = []\n",
    "        \n",
    "        self.w = None\n",
    "        self.loss_history = []\n",
    "        \n",
    "    def fit(self, X_train, y_train):\n",
    "\n",
    "        self.w = (np.random.rand(X_train.shape[1]) * 4 - 2)\n",
    "        \n",
    "        for i in range(self.max_iter):\n",
    "            grad_w = self.calc_gradient(X_train, y_train)\n",
    "            if np.linalg.norm(self.w) < self.tol:\n",
    "                return self.loss_history\n",
    "            \n",
    "            self.w = self.w - self.eta*grad_w\n",
    "            self.loss_history.append(self.calc_loss(X_train, y_train))\n",
    "        \n",
    "        return self.loss_history\n",
    "        \n",
    "    def predict(self, X_test):\n",
    "\n",
    "        y_pred = X_test @ self.w\n",
    "        return y_pred\n",
    "    \n",
    "    def calc_gradient(self, X, y):\n",
    "        \n",
    "        err = X @ self.w - y\n",
    "        if abs(err.T @ err) <= self.delta*X.shape[0]:\n",
    "            return X.T@(X@self.w - y)\n",
    "        else:\n",
    "            return self.delta*X.T@(np.sign(X@self.w-y))\n",
    "        \n",
    "    def calc_loss(self, X, y):\n",
    "        \n",
    "        err = X @ self.w - y\n",
    "        if abs(err.T@err)<= self.delta*X.shape[0]:\n",
    "            return np.sum((X @ self.w - y)**2/2)/len(y)\n",
    "        else:\n",
    "            return np.sum(abs(X @ self.w - y)*self.delta-self.delta**2/2)/len(y)            "
   ]
  },
  {
   "cell_type": "code",
   "execution_count": 9,
   "metadata": {},
   "outputs": [
    {
     "data": {
      "text/plain": [
       "[6.403510923122877,\n",
       " 5.240660877909808,\n",
       " 4.118292410085487,\n",
       " 3.031640427473877,\n",
       " 2.028984419873966,\n",
       " 1.1567554245619216,\n",
       " 0.4967607978027303,\n",
       " 0.5599233367029057,\n",
       " 0.4800474581604002,\n",
       " 0.4756551709053318,\n",
       " 0.4752141830983196,\n",
       " 0.47516370357373544,\n",
       " 0.47515765642923335,\n",
       " 0.47515691386389197,\n",
       " 0.4751568209523097,\n",
       " 0.4751568091177737,\n",
       " 0.4751568075806071,\n",
       " 0.4751568073762907,\n",
       " 0.47515680734836835,\n",
       " 0.47515680734442456,\n",
       " 0.47515680734384624,\n",
       " 0.4751568073437579,\n",
       " 0.4751568073437439,\n",
       " 0.47515680734374155,\n",
       " 0.4751568073437412,\n",
       " 0.4751568073437411,\n",
       " 0.4751568073437411,\n",
       " 0.4751568073437411,\n",
       " 0.47515680734374105,\n",
       " 0.4751568073437411,\n",
       " 0.4751568073437411,\n",
       " 0.4751568073437411,\n",
       " 0.4751568073437411,\n",
       " 0.4751568073437411,\n",
       " 0.47515680734374105,\n",
       " 0.4751568073437411,\n",
       " 0.4751568073437411,\n",
       " 0.4751568073437411,\n",
       " 0.4751568073437411,\n",
       " 0.4751568073437411,\n",
       " 0.4751568073437411,\n",
       " 0.4751568073437411,\n",
       " 0.4751568073437411,\n",
       " 0.4751568073437411,\n",
       " 0.4751568073437411,\n",
       " 0.4751568073437411,\n",
       " 0.47515680734374105,\n",
       " 0.4751568073437411,\n",
       " 0.4751568073437411,\n",
       " 0.4751568073437411,\n",
       " 0.47515680734374105,\n",
       " 0.4751568073437411,\n",
       " 0.47515680734374105,\n",
       " 0.4751568073437411,\n",
       " 0.4751568073437411,\n",
       " 0.4751568073437411,\n",
       " 0.4751568073437411,\n",
       " 0.4751568073437411,\n",
       " 0.47515680734374105,\n",
       " 0.4751568073437411,\n",
       " 0.4751568073437411,\n",
       " 0.4751568073437411,\n",
       " 0.4751568073437411,\n",
       " 0.4751568073437411,\n",
       " 0.4751568073437411,\n",
       " 0.4751568073437411,\n",
       " 0.4751568073437411,\n",
       " 0.4751568073437411,\n",
       " 0.4751568073437411,\n",
       " 0.4751568073437411,\n",
       " 0.47515680734374105,\n",
       " 0.4751568073437411,\n",
       " 0.47515680734374105,\n",
       " 0.4751568073437411,\n",
       " 0.4751568073437411,\n",
       " 0.4751568073437411,\n",
       " 0.4751568073437411,\n",
       " 0.4751568073437411,\n",
       " 0.4751568073437411,\n",
       " 0.47515680734374105,\n",
       " 0.4751568073437411,\n",
       " 0.4751568073437411,\n",
       " 0.4751568073437411,\n",
       " 0.4751568073437411,\n",
       " 0.4751568073437411,\n",
       " 0.4751568073437411,\n",
       " 0.47515680734374105,\n",
       " 0.4751568073437411,\n",
       " 0.4751568073437411,\n",
       " 0.4751568073437411,\n",
       " 0.4751568073437411,\n",
       " 0.4751568073437411,\n",
       " 0.4751568073437411,\n",
       " 0.4751568073437411,\n",
       " 0.4751568073437411,\n",
       " 0.4751568073437411,\n",
       " 0.4751568073437411,\n",
       " 0.4751568073437411,\n",
       " 0.4751568073437411,\n",
       " 0.47515680734374105]"
      ]
     },
     "execution_count": 9,
     "metadata": {},
     "output_type": "execute_result"
    }
   ],
   "source": [
    "LRH = LinearRegressionHuber(delta=1.35, eta=0.001, max_iter=100)\n",
    "LRH.fit(X_train, y_train)"
   ]
  },
  {
   "cell_type": "code",
   "execution_count": 10,
   "metadata": {},
   "outputs": [
    {
     "data": {
      "text/plain": [
       "HuberRegressor(alpha=0.0001, epsilon=1.35, fit_intercept=True, max_iter=100,\n",
       "        tol=1e-05, warm_start=False)"
      ]
     },
     "execution_count": 10,
     "metadata": {},
     "output_type": "execute_result"
    }
   ],
   "source": [
    "SHR = HuberRegressor()\n",
    "SHR.fit(X_train, y_train)"
   ]
  },
  {
   "cell_type": "code",
   "execution_count": 11,
   "metadata": {},
   "outputs": [
    {
     "data": {
      "text/plain": [
       "LinearRegression(copy_X=True, fit_intercept=True, n_jobs=None,\n",
       "         normalize=False)"
      ]
     },
     "execution_count": 11,
     "metadata": {},
     "output_type": "execute_result"
    }
   ],
   "source": [
    "SLR = LinearRegression()\n",
    "SLR.fit(X_train, y_train)"
   ]
  },
  {
   "cell_type": "code",
   "execution_count": 12,
   "metadata": {},
   "outputs": [
    {
     "name": "stdout",
     "output_type": "stream",
     "text": [
      "My Huber Regression MSE 1.1318238870202781\n",
      "Sklearn Huber Regression MSE 1.1382098941787469\n",
      "Sklearn Linear Regression MSE 1.1335451079631622\n"
     ]
    }
   ],
   "source": [
    "print('My Huber Regression MSE', MSE(y_test, LRH.predict(X_test)))\n",
    "print('Sklearn Huber Regression MSE', MSE(y_test, SHR.predict(X_test)))\n",
    "print('Sklearn Linear Regression MSE', MSE(y_test, SLR.predict(X_test)))"
   ]
  },
  {
   "cell_type": "code",
   "execution_count": 13,
   "metadata": {},
   "outputs": [],
   "source": [
    "def HuberLoss(y, y_pred, delta):\n",
    "    loss = []\n",
    "    for i in range(y.shape[0]):\n",
    "        if abs(y[i] - y_pred[i]) <= delta:\n",
    "            loss.append((y[i] - y_pred[i])**2/2)\n",
    "        else:\n",
    "            loss.append(abs(y[i] - y_pred[i])*delta - delta**2/2)\n",
    "    return np.sum(loss)/y.shape[0]"
   ]
  },
  {
   "cell_type": "code",
   "execution_count": 14,
   "metadata": {},
   "outputs": [
    {
     "name": "stdout",
     "output_type": "stream",
     "text": [
      "My Huber Regression Huber Loss 0.46949822917674816\n",
      "Sklearn Huber Regression Huber Loss 0.47129108691709143\n",
      "Sklearn Linear Regression Huber Loss 0.4701487722281173\n"
     ]
    }
   ],
   "source": [
    "print('My Huber Regression Huber Loss', HuberLoss(y_test, LRH.predict(X_test), delta = 1))\n",
    "print('Sklearn Huber Regression Huber Loss', HuberLoss(y_test, SHR.predict(X_test), delta = 1))\n",
    "print('Sklearn Linear Regression Huber Loss', HuberLoss(y_test, SLR.predict(X_test), delta = 1))"
   ]
  },
  {
   "cell_type": "code",
   "execution_count": 15,
   "metadata": {},
   "outputs": [],
   "source": [
    "import matplotlib.pyplot as plt\n",
    "%matplotlib inline"
   ]
  },
  {
   "cell_type": "code",
   "execution_count": 16,
   "metadata": {},
   "outputs": [
    {
     "data": {
      "image/png": "[encoded data removed]",
      "text/plain": [
       "<Figure size 432x288 with 1 Axes>"
      ]
     },
     "metadata": {
      "needs_background": "light"
     },
     "output_type": "display_data"
    }
   ],
   "source": [
    "plt.plot(range(11), LRH.loss_history[:11])\n",
    "plt.title('Huber Loss on my Regressor')\n",
    "plt.show()"
   ]
  },
  {
   "cell_type": "markdown",
   "metadata": {},
   "source": [
    "# Практика"
   ]
  },
  {
   "cell_type": "markdown",
   "metadata": {},
   "source": [
    "Пожалуйста, при использовании различных функций из библиотек импортируйте все, что вам понадобилось в данной части, в следующем блоке:"
   ]
  },
  {
   "cell_type": "code",
   "execution_count": 1,
   "metadata": {},
   "outputs": [],
   "source": [
    "import matplotlib.pyplot as plt\n",
    "import numpy as np\n",
    "import pandas as pd\n",
    "import seaborn as sns\n",
    "import random\n",
    "\n",
    "from sklearn.feature_selection import VarianceThreshold, SelectKBest, SelectFromModel, f_regression\n",
    "from sklearn.linear_model import LinearRegression, Lasso, Ridge\n",
    "from sklearn.metrics import mean_squared_error\n",
    "from sklearn.model_selection import train_test_split, GridSearchCV, cross_val_score\n",
    "from sklearn.neighbors import KNeighborsRegressor\n",
    "from sklearn.pipeline import Pipeline\n",
    "from sklearn.preprocessing import MinMaxScaler, StandardScaler, PolynomialFeatures\n",
    "\n",
    "%matplotlib inline"
   ]
  },
  {
   "cell_type": "markdown",
   "metadata": {},
   "source": [
    "В этом домашнем задании вы поработаете с данными из другого соревнования на Kaggle: https://www.kaggle.com/c/house-prices-advanced-regression-techniques. Задача - предсказание цены дома."
   ]
  },
  {
   "cell_type": "code",
   "execution_count": 3,
   "metadata": {},
   "outputs": [],
   "source": [
    "data = pd.read_csv('train2.csv', header=0)"
   ]
  },
  {
   "cell_type": "code",
   "execution_count": 4,
   "metadata": {},
   "outputs": [
    {
     "data": {
      "text/plain": [
       "Index(['Id', 'MSSubClass', 'MSZoning', 'LotFrontage', 'LotArea', 'Street',\n",
       "       'Alley', 'LotShape', 'LandContour', 'Utilities', 'LotConfig',\n",
       "       'LandSlope', 'Neighborhood', 'Condition1', 'Condition2', 'BldgType',\n",
       "       'HouseStyle', 'OverallQual', 'OverallCond', 'YearBuilt', 'YearRemodAdd',\n",
       "       'RoofStyle', 'RoofMatl', 'Exterior1st', 'Exterior2nd', 'MasVnrType',\n",
       "       'MasVnrArea', 'ExterQual', 'ExterCond', 'Foundation', 'BsmtQual',\n",
       "       'BsmtCond', 'BsmtExposure', 'BsmtFinType1', 'BsmtFinSF1',\n",
       "       'BsmtFinType2', 'BsmtFinSF2', 'BsmtUnfSF', 'TotalBsmtSF', 'Heating',\n",
       "       'HeatingQC', 'CentralAir', 'Electrical', '1stFlrSF', '2ndFlrSF',\n",
       "       'LowQualFinSF', 'GrLivArea', 'BsmtFullBath', 'BsmtHalfBath', 'FullBath',\n",
       "       'HalfBath', 'BedroomAbvGr', 'KitchenAbvGr', 'KitchenQual',\n",
       "       'TotRmsAbvGrd', 'Functional', 'Fireplaces', 'FireplaceQu', 'GarageType',\n",
       "       'GarageYrBlt', 'GarageFinish', 'GarageCars', 'GarageArea', 'GarageQual',\n",
       "       'GarageCond', 'PavedDrive', 'WoodDeckSF', 'OpenPorchSF',\n",
       "       'EnclosedPorch', '3SsnPorch', 'ScreenPorch', 'PoolArea', 'PoolQC',\n",
       "       'Fence', 'MiscFeature', 'MiscVal', 'MoSold', 'YrSold', 'SaleType',\n",
       "       'SaleCondition', 'SalePrice'],\n",
       "      dtype='object')"
      ]
     },
     "execution_count": 4,
     "metadata": {},
     "output_type": "execute_result"
    }
   ],
   "source": [
    "data.columns"
   ]
  },
  {
   "cell_type": "code",
   "execution_count": 5,
   "metadata": {},
   "outputs": [
    {
     "data": {
      "text/html": [
       "<div>\n",
       "<style scoped>\n",
       "    .dataframe tbody tr th:only-of-type {\n",
       "        vertical-align: middle;\n",
       "    }\n",
       "\n",
       "    .dataframe tbody tr th {\n",
       "        vertical-align: top;\n",
       "    }\n",
       "\n",
       "    .dataframe thead th {\n",
       "        text-align: right;\n",
       "    }\n",
       "</style>\n",
       "<table border=\"1\" class=\"dataframe\">\n",
       "  <thead>\n",
       "    <tr style=\"text-align: right;\">\n",
       "      <th></th>\n",
       "      <th>Id</th>\n",
       "      <th>MSSubClass</th>\n",
       "      <th>MSZoning</th>\n",
       "      <th>LotFrontage</th>\n",
       "      <th>LotArea</th>\n",
       "      <th>Street</th>\n",
       "      <th>Alley</th>\n",
       "      <th>LotShape</th>\n",
       "      <th>LandContour</th>\n",
       "      <th>Utilities</th>\n",
       "      <th>...</th>\n",
       "      <th>PoolArea</th>\n",
       "      <th>PoolQC</th>\n",
       "      <th>Fence</th>\n",
       "      <th>MiscFeature</th>\n",
       "      <th>MiscVal</th>\n",
       "      <th>MoSold</th>\n",
       "      <th>YrSold</th>\n",
       "      <th>SaleType</th>\n",
       "      <th>SaleCondition</th>\n",
       "      <th>SalePrice</th>\n",
       "    </tr>\n",
       "  </thead>\n",
       "  <tbody>\n",
       "    <tr>\n",
       "      <th>0</th>\n",
       "      <td>1</td>\n",
       "      <td>60</td>\n",
       "      <td>RL</td>\n",
       "      <td>65.0</td>\n",
       "      <td>8450</td>\n",
       "      <td>Pave</td>\n",
       "      <td>NaN</td>\n",
       "      <td>Reg</td>\n",
       "      <td>Lvl</td>\n",
       "      <td>AllPub</td>\n",
       "      <td>...</td>\n",
       "      <td>0</td>\n",
       "      <td>NaN</td>\n",
       "      <td>NaN</td>\n",
       "      <td>NaN</td>\n",
       "      <td>0</td>\n",
       "      <td>2</td>\n",
       "      <td>2008</td>\n",
       "      <td>WD</td>\n",
       "      <td>Normal</td>\n",
       "      <td>208500</td>\n",
       "    </tr>\n",
       "    <tr>\n",
       "      <th>1</th>\n",
       "      <td>2</td>\n",
       "      <td>20</td>\n",
       "      <td>RL</td>\n",
       "      <td>80.0</td>\n",
       "      <td>9600</td>\n",
       "      <td>Pave</td>\n",
       "      <td>NaN</td>\n",
       "      <td>Reg</td>\n",
       "      <td>Lvl</td>\n",
       "      <td>AllPub</td>\n",
       "      <td>...</td>\n",
       "      <td>0</td>\n",
       "      <td>NaN</td>\n",
       "      <td>NaN</td>\n",
       "      <td>NaN</td>\n",
       "      <td>0</td>\n",
       "      <td>5</td>\n",
       "      <td>2007</td>\n",
       "      <td>WD</td>\n",
       "      <td>Normal</td>\n",
       "      <td>181500</td>\n",
       "    </tr>\n",
       "    <tr>\n",
       "      <th>2</th>\n",
       "      <td>3</td>\n",
       "      <td>60</td>\n",
       "      <td>RL</td>\n",
       "      <td>68.0</td>\n",
       "      <td>11250</td>\n",
       "      <td>Pave</td>\n",
       "      <td>NaN</td>\n",
       "      <td>IR1</td>\n",
       "      <td>Lvl</td>\n",
       "      <td>AllPub</td>\n",
       "      <td>...</td>\n",
       "      <td>0</td>\n",
       "      <td>NaN</td>\n",
       "      <td>NaN</td>\n",
       "      <td>NaN</td>\n",
       "      <td>0</td>\n",
       "      <td>9</td>\n",
       "      <td>2008</td>\n",
       "      <td>WD</td>\n",
       "      <td>Normal</td>\n",
       "      <td>223500</td>\n",
       "    </tr>\n",
       "    <tr>\n",
       "      <th>3</th>\n",
       "      <td>4</td>\n",
       "      <td>70</td>\n",
       "      <td>RL</td>\n",
       "      <td>60.0</td>\n",
       "      <td>9550</td>\n",
       "      <td>Pave</td>\n",
       "      <td>NaN</td>\n",
       "      <td>IR1</td>\n",
       "      <td>Lvl</td>\n",
       "      <td>AllPub</td>\n",
       "      <td>...</td>\n",
       "      <td>0</td>\n",
       "      <td>NaN</td>\n",
       "      <td>NaN</td>\n",
       "      <td>NaN</td>\n",
       "      <td>0</td>\n",
       "      <td>2</td>\n",
       "      <td>2006</td>\n",
       "      <td>WD</td>\n",
       "      <td>Abnorml</td>\n",
       "      <td>140000</td>\n",
       "    </tr>\n",
       "    <tr>\n",
       "      <th>4</th>\n",
       "      <td>5</td>\n",
       "      <td>60</td>\n",
       "      <td>RL</td>\n",
       "      <td>84.0</td>\n",
       "      <td>14260</td>\n",
       "      <td>Pave</td>\n",
       "      <td>NaN</td>\n",
       "      <td>IR1</td>\n",
       "      <td>Lvl</td>\n",
       "      <td>AllPub</td>\n",
       "      <td>...</td>\n",
       "      <td>0</td>\n",
       "      <td>NaN</td>\n",
       "      <td>NaN</td>\n",
       "      <td>NaN</td>\n",
       "      <td>0</td>\n",
       "      <td>12</td>\n",
       "      <td>2008</td>\n",
       "      <td>WD</td>\n",
       "      <td>Normal</td>\n",
       "      <td>250000</td>\n",
       "    </tr>\n",
       "  </tbody>\n",
       "</table>\n",
       "<p>5 rows × 81 columns</p>\n",
       "</div>"
      ],
      "text/plain": [
       "   Id  MSSubClass MSZoning  LotFrontage  LotArea Street Alley LotShape  \\\n",
       "0   1          60       RL         65.0     8450   Pave   NaN      Reg   \n",
       "1   2          20       RL         80.0     9600   Pave   NaN      Reg   \n",
       "2   3          60       RL         68.0    11250   Pave   NaN      IR1   \n",
       "3   4          70       RL         60.0     9550   Pave   NaN      IR1   \n",
       "4   5          60       RL         84.0    14260   Pave   NaN      IR1   \n",
       "\n",
       "  LandContour Utilities  ... PoolArea PoolQC Fence MiscFeature MiscVal MoSold  \\\n",
       "0         Lvl    AllPub  ...        0    NaN   NaN         NaN       0      2   \n",
       "1         Lvl    AllPub  ...        0    NaN   NaN         NaN       0      5   \n",
       "2         Lvl    AllPub  ...        0    NaN   NaN         NaN       0      9   \n",
       "3         Lvl    AllPub  ...        0    NaN   NaN         NaN       0      2   \n",
       "4         Lvl    AllPub  ...        0    NaN   NaN         NaN       0     12   \n",
       "\n",
       "  YrSold  SaleType  SaleCondition  SalePrice  \n",
       "0   2008        WD         Normal     208500  \n",
       "1   2007        WD         Normal     181500  \n",
       "2   2008        WD         Normal     223500  \n",
       "3   2006        WD        Abnorml     140000  \n",
       "4   2008        WD         Normal     250000  \n",
       "\n",
       "[5 rows x 81 columns]"
      ]
     },
     "execution_count": 5,
     "metadata": {},
     "output_type": "execute_result"
    }
   ],
   "source": [
    "data.head()"
   ]
  },
  {
   "cell_type": "code",
   "execution_count": 6,
   "metadata": {},
   "outputs": [
    {
     "data": {
      "text/html": [
       "<div>\n",
       "<style scoped>\n",
       "    .dataframe tbody tr th:only-of-type {\n",
       "        vertical-align: middle;\n",
       "    }\n",
       "\n",
       "    .dataframe tbody tr th {\n",
       "        vertical-align: top;\n",
       "    }\n",
       "\n",
       "    .dataframe thead th {\n",
       "        text-align: right;\n",
       "    }\n",
       "</style>\n",
       "<table border=\"1\" class=\"dataframe\">\n",
       "  <thead>\n",
       "    <tr style=\"text-align: right;\">\n",
       "      <th></th>\n",
       "      <th>Id</th>\n",
       "      <th>MSSubClass</th>\n",
       "      <th>LotFrontage</th>\n",
       "      <th>LotArea</th>\n",
       "      <th>OverallQual</th>\n",
       "      <th>OverallCond</th>\n",
       "      <th>YearBuilt</th>\n",
       "      <th>YearRemodAdd</th>\n",
       "      <th>MasVnrArea</th>\n",
       "      <th>BsmtFinSF1</th>\n",
       "      <th>...</th>\n",
       "      <th>WoodDeckSF</th>\n",
       "      <th>OpenPorchSF</th>\n",
       "      <th>EnclosedPorch</th>\n",
       "      <th>3SsnPorch</th>\n",
       "      <th>ScreenPorch</th>\n",
       "      <th>PoolArea</th>\n",
       "      <th>MiscVal</th>\n",
       "      <th>MoSold</th>\n",
       "      <th>YrSold</th>\n",
       "      <th>SalePrice</th>\n",
       "    </tr>\n",
       "  </thead>\n",
       "  <tbody>\n",
       "    <tr>\n",
       "      <th>count</th>\n",
       "      <td>1460.000000</td>\n",
       "      <td>1460.000000</td>\n",
       "      <td>1201.000000</td>\n",
       "      <td>1460.000000</td>\n",
       "      <td>1460.000000</td>\n",
       "      <td>1460.000000</td>\n",
       "      <td>1460.000000</td>\n",
       "      <td>1460.000000</td>\n",
       "      <td>1452.000000</td>\n",
       "      <td>1460.000000</td>\n",
       "      <td>...</td>\n",
       "      <td>1460.000000</td>\n",
       "      <td>1460.000000</td>\n",
       "      <td>1460.000000</td>\n",
       "      <td>1460.000000</td>\n",
       "      <td>1460.000000</td>\n",
       "      <td>1460.000000</td>\n",
       "      <td>1460.000000</td>\n",
       "      <td>1460.000000</td>\n",
       "      <td>1460.000000</td>\n",
       "      <td>1460.000000</td>\n",
       "    </tr>\n",
       "    <tr>\n",
       "      <th>mean</th>\n",
       "      <td>730.500000</td>\n",
       "      <td>56.897260</td>\n",
       "      <td>70.049958</td>\n",
       "      <td>10516.828082</td>\n",
       "      <td>6.099315</td>\n",
       "      <td>5.575342</td>\n",
       "      <td>1971.267808</td>\n",
       "      <td>1984.865753</td>\n",
       "      <td>103.685262</td>\n",
       "      <td>443.639726</td>\n",
       "      <td>...</td>\n",
       "      <td>94.244521</td>\n",
       "      <td>46.660274</td>\n",
       "      <td>21.954110</td>\n",
       "      <td>3.409589</td>\n",
       "      <td>15.060959</td>\n",
       "      <td>2.758904</td>\n",
       "      <td>43.489041</td>\n",
       "      <td>6.321918</td>\n",
       "      <td>2007.815753</td>\n",
       "      <td>180921.195890</td>\n",
       "    </tr>\n",
       "    <tr>\n",
       "      <th>std</th>\n",
       "      <td>421.610009</td>\n",
       "      <td>42.300571</td>\n",
       "      <td>24.284752</td>\n",
       "      <td>9981.264932</td>\n",
       "      <td>1.382997</td>\n",
       "      <td>1.112799</td>\n",
       "      <td>30.202904</td>\n",
       "      <td>20.645407</td>\n",
       "      <td>181.066207</td>\n",
       "      <td>456.098091</td>\n",
       "      <td>...</td>\n",
       "      <td>125.338794</td>\n",
       "      <td>66.256028</td>\n",
       "      <td>61.119149</td>\n",
       "      <td>29.317331</td>\n",
       "      <td>55.757415</td>\n",
       "      <td>40.177307</td>\n",
       "      <td>496.123024</td>\n",
       "      <td>2.703626</td>\n",
       "      <td>1.328095</td>\n",
       "      <td>79442.502883</td>\n",
       "    </tr>\n",
       "    <tr>\n",
       "      <th>min</th>\n",
       "      <td>1.000000</td>\n",
       "      <td>20.000000</td>\n",
       "      <td>21.000000</td>\n",
       "      <td>1300.000000</td>\n",
       "      <td>1.000000</td>\n",
       "      <td>1.000000</td>\n",
       "      <td>1872.000000</td>\n",
       "      <td>1950.000000</td>\n",
       "      <td>0.000000</td>\n",
       "      <td>0.000000</td>\n",
       "      <td>...</td>\n",
       "      <td>0.000000</td>\n",
       "      <td>0.000000</td>\n",
       "      <td>0.000000</td>\n",
       "      <td>0.000000</td>\n",
       "      <td>0.000000</td>\n",
       "      <td>0.000000</td>\n",
       "      <td>0.000000</td>\n",
       "      <td>1.000000</td>\n",
       "      <td>2006.000000</td>\n",
       "      <td>34900.000000</td>\n",
       "    </tr>\n",
       "    <tr>\n",
       "      <th>25%</th>\n",
       "      <td>365.750000</td>\n",
       "      <td>20.000000</td>\n",
       "      <td>59.000000</td>\n",
       "      <td>7553.500000</td>\n",
       "      <td>5.000000</td>\n",
       "      <td>5.000000</td>\n",
       "      <td>1954.000000</td>\n",
       "      <td>1967.000000</td>\n",
       "      <td>0.000000</td>\n",
       "      <td>0.000000</td>\n",
       "      <td>...</td>\n",
       "      <td>0.000000</td>\n",
       "      <td>0.000000</td>\n",
       "      <td>0.000000</td>\n",
       "      <td>0.000000</td>\n",
       "      <td>0.000000</td>\n",
       "      <td>0.000000</td>\n",
       "      <td>0.000000</td>\n",
       "      <td>5.000000</td>\n",
       "      <td>2007.000000</td>\n",
       "      <td>129975.000000</td>\n",
       "    </tr>\n",
       "    <tr>\n",
       "      <th>50%</th>\n",
       "      <td>730.500000</td>\n",
       "      <td>50.000000</td>\n",
       "      <td>69.000000</td>\n",
       "      <td>9478.500000</td>\n",
       "      <td>6.000000</td>\n",
       "      <td>5.000000</td>\n",
       "      <td>1973.000000</td>\n",
       "      <td>1994.000000</td>\n",
       "      <td>0.000000</td>\n",
       "      <td>383.500000</td>\n",
       "      <td>...</td>\n",
       "      <td>0.000000</td>\n",
       "      <td>25.000000</td>\n",
       "      <td>0.000000</td>\n",
       "      <td>0.000000</td>\n",
       "      <td>0.000000</td>\n",
       "      <td>0.000000</td>\n",
       "      <td>0.000000</td>\n",
       "      <td>6.000000</td>\n",
       "      <td>2008.000000</td>\n",
       "      <td>163000.000000</td>\n",
       "    </tr>\n",
       "    <tr>\n",
       "      <th>75%</th>\n",
       "      <td>1095.250000</td>\n",
       "      <td>70.000000</td>\n",
       "      <td>80.000000</td>\n",
       "      <td>11601.500000</td>\n",
       "      <td>7.000000</td>\n",
       "      <td>6.000000</td>\n",
       "      <td>2000.000000</td>\n",
       "      <td>2004.000000</td>\n",
       "      <td>166.000000</td>\n",
       "      <td>712.250000</td>\n",
       "      <td>...</td>\n",
       "      <td>168.000000</td>\n",
       "      <td>68.000000</td>\n",
       "      <td>0.000000</td>\n",
       "      <td>0.000000</td>\n",
       "      <td>0.000000</td>\n",
       "      <td>0.000000</td>\n",
       "      <td>0.000000</td>\n",
       "      <td>8.000000</td>\n",
       "      <td>2009.000000</td>\n",
       "      <td>214000.000000</td>\n",
       "    </tr>\n",
       "    <tr>\n",
       "      <th>max</th>\n",
       "      <td>1460.000000</td>\n",
       "      <td>190.000000</td>\n",
       "      <td>313.000000</td>\n",
       "      <td>215245.000000</td>\n",
       "      <td>10.000000</td>\n",
       "      <td>9.000000</td>\n",
       "      <td>2010.000000</td>\n",
       "      <td>2010.000000</td>\n",
       "      <td>1600.000000</td>\n",
       "      <td>5644.000000</td>\n",
       "      <td>...</td>\n",
       "      <td>857.000000</td>\n",
       "      <td>547.000000</td>\n",
       "      <td>552.000000</td>\n",
       "      <td>508.000000</td>\n",
       "      <td>480.000000</td>\n",
       "      <td>738.000000</td>\n",
       "      <td>15500.000000</td>\n",
       "      <td>12.000000</td>\n",
       "      <td>2010.000000</td>\n",
       "      <td>755000.000000</td>\n",
       "    </tr>\n",
       "  </tbody>\n",
       "</table>\n",
       "<p>8 rows × 38 columns</p>\n",
       "</div>"
      ],
      "text/plain": [
       "                Id   MSSubClass  LotFrontage        LotArea  OverallQual  \\\n",
       "count  1460.000000  1460.000000  1201.000000    1460.000000  1460.000000   \n",
       "mean    730.500000    56.897260    70.049958   10516.828082     6.099315   \n",
       "std     421.610009    42.300571    24.284752    9981.264932     1.382997   \n",
       "min       1.000000    20.000000    21.000000    1300.000000     1.000000   \n",
       "25%     365.750000    20.000000    59.000000    7553.500000     5.000000   \n",
       "50%     730.500000    50.000000    69.000000    9478.500000     6.000000   \n",
       "75%    1095.250000    70.000000    80.000000   11601.500000     7.000000   \n",
       "max    1460.000000   190.000000   313.000000  215245.000000    10.000000   \n",
       "\n",
       "       OverallCond    YearBuilt  YearRemodAdd   MasVnrArea   BsmtFinSF1  ...  \\\n",
       "count  1460.000000  1460.000000   1460.000000  1452.000000  1460.000000  ...   \n",
       "mean      5.575342  1971.267808   1984.865753   103.685262   443.639726  ...   \n",
       "std       1.112799    30.202904     20.645407   181.066207   456.098091  ...   \n",
       "min       1.000000  1872.000000   1950.000000     0.000000     0.000000  ...   \n",
       "25%       5.000000  1954.000000   1967.000000     0.000000     0.000000  ...   \n",
       "50%       5.000000  1973.000000   1994.000000     0.000000   383.500000  ...   \n",
       "75%       6.000000  2000.000000   2004.000000   166.000000   712.250000  ...   \n",
       "max       9.000000  2010.000000   2010.000000  1600.000000  5644.000000  ...   \n",
       "\n",
       "        WoodDeckSF  OpenPorchSF  EnclosedPorch    3SsnPorch  ScreenPorch  \\\n",
       "count  1460.000000  1460.000000    1460.000000  1460.000000  1460.000000   \n",
       "mean     94.244521    46.660274      21.954110     3.409589    15.060959   \n",
       "std     125.338794    66.256028      61.119149    29.317331    55.757415   \n",
       "min       0.000000     0.000000       0.000000     0.000000     0.000000   \n",
       "25%       0.000000     0.000000       0.000000     0.000000     0.000000   \n",
       "50%       0.000000    25.000000       0.000000     0.000000     0.000000   \n",
       "75%     168.000000    68.000000       0.000000     0.000000     0.000000   \n",
       "max     857.000000   547.000000     552.000000   508.000000   480.000000   \n",
       "\n",
       "          PoolArea       MiscVal       MoSold       YrSold      SalePrice  \n",
       "count  1460.000000   1460.000000  1460.000000  1460.000000    1460.000000  \n",
       "mean      2.758904     43.489041     6.321918  2007.815753  180921.195890  \n",
       "std      40.177307    496.123024     2.703626     1.328095   79442.502883  \n",
       "min       0.000000      0.000000     1.000000  2006.000000   34900.000000  \n",
       "25%       0.000000      0.000000     5.000000  2007.000000  129975.000000  \n",
       "50%       0.000000      0.000000     6.000000  2008.000000  163000.000000  \n",
       "75%       0.000000      0.000000     8.000000  2009.000000  214000.000000  \n",
       "max     738.000000  15500.000000    12.000000  2010.000000  755000.000000  \n",
       "\n",
       "[8 rows x 38 columns]"
      ]
     },
     "execution_count": 6,
     "metadata": {},
     "output_type": "execute_result"
    }
   ],
   "source": [
    "data.describe()"
   ]
  },
  {
   "cell_type": "code",
   "execution_count": 7,
   "metadata": {},
   "outputs": [
    {
     "data": {
      "text/plain": [
       "Id                 int64\n",
       "MSSubClass         int64\n",
       "MSZoning          object\n",
       "LotFrontage      float64\n",
       "LotArea            int64\n",
       "Street            object\n",
       "Alley             object\n",
       "LotShape          object\n",
       "LandContour       object\n",
       "Utilities         object\n",
       "LotConfig         object\n",
       "LandSlope         object\n",
       "Neighborhood      object\n",
       "Condition1        object\n",
       "Condition2        object\n",
       "BldgType          object\n",
       "HouseStyle        object\n",
       "OverallQual        int64\n",
       "OverallCond        int64\n",
       "YearBuilt          int64\n",
       "YearRemodAdd       int64\n",
       "RoofStyle         object\n",
       "RoofMatl          object\n",
       "Exterior1st       object\n",
       "Exterior2nd       object\n",
       "MasVnrType        object\n",
       "MasVnrArea       float64\n",
       "ExterQual         object\n",
       "ExterCond         object\n",
       "Foundation        object\n",
       "                  ...   \n",
       "BedroomAbvGr       int64\n",
       "KitchenAbvGr       int64\n",
       "KitchenQual       object\n",
       "TotRmsAbvGrd       int64\n",
       "Functional        object\n",
       "Fireplaces         int64\n",
       "FireplaceQu       object\n",
       "GarageType        object\n",
       "GarageYrBlt      float64\n",
       "GarageFinish      object\n",
       "GarageCars         int64\n",
       "GarageArea         int64\n",
       "GarageQual        object\n",
       "GarageCond        object\n",
       "PavedDrive        object\n",
       "WoodDeckSF         int64\n",
       "OpenPorchSF        int64\n",
       "EnclosedPorch      int64\n",
       "3SsnPorch          int64\n",
       "ScreenPorch        int64\n",
       "PoolArea           int64\n",
       "PoolQC            object\n",
       "Fence             object\n",
       "MiscFeature       object\n",
       "MiscVal            int64\n",
       "MoSold             int64\n",
       "YrSold             int64\n",
       "SaleType          object\n",
       "SaleCondition     object\n",
       "SalePrice          int64\n",
       "Length: 81, dtype: object"
      ]
     },
     "execution_count": 7,
     "metadata": {},
     "output_type": "execute_result"
    }
   ],
   "source": [
    "data.dtypes"
   ]
  },
  {
   "cell_type": "code",
   "execution_count": 8,
   "metadata": {},
   "outputs": [],
   "source": [
    "data.drop('Id', axis=1, inplace=True)"
   ]
  },
  {
   "cell_type": "markdown",
   "metadata": {},
   "source": [
    "Есть ли в данных пропуски? Если да, то для каждого столбца, в котором они имеются, посчитайте их количество и их долю от общего числа значений. Что вы наблюдаете?"
   ]
  },
  {
   "cell_type": "code",
   "execution_count": 9,
   "metadata": {},
   "outputs": [
    {
     "name": "stdout",
     "output_type": "stream",
     "text": [
      "В данных пропуски есть? True\n",
      "\n",
      "Пропуски по столбцам:\n"
     ]
    },
    {
     "data": {
      "text/plain": [
       "LotFrontage      259\n",
       "Alley           1369\n",
       "MasVnrType         8\n",
       "MasVnrArea         8\n",
       "BsmtQual          37\n",
       "BsmtCond          37\n",
       "BsmtExposure      38\n",
       "BsmtFinType1      37\n",
       "BsmtFinType2      38\n",
       "Electrical         1\n",
       "FireplaceQu      690\n",
       "GarageType        81\n",
       "GarageYrBlt       81\n",
       "GarageFinish      81\n",
       "GarageQual        81\n",
       "GarageCond        81\n",
       "PoolQC          1453\n",
       "Fence           1179\n",
       "MiscFeature     1406\n",
       "dtype: int64"
      ]
     },
     "execution_count": 9,
     "metadata": {},
     "output_type": "execute_result"
    }
   ],
   "source": [
    "print('В данных пропуски есть?', data.isnull().any().any())\n",
    "print('\\nПропуски по столбцам:')\n",
    "zero = data.isnull().sum()\n",
    "zero[zero != 0]"
   ]
  },
  {
   "cell_type": "code",
   "execution_count": 10,
   "metadata": {},
   "outputs": [
    {
     "name": "stdout",
     "output_type": "stream",
     "text": [
      "\n",
      "Доля пропусков:\n"
     ]
    },
    {
     "data": {
      "text/plain": [
       "LotFrontage     0.177397\n",
       "Alley           0.937671\n",
       "MasVnrType      0.005479\n",
       "MasVnrArea      0.005479\n",
       "BsmtQual        0.025342\n",
       "BsmtCond        0.025342\n",
       "BsmtExposure    0.026027\n",
       "BsmtFinType1    0.025342\n",
       "BsmtFinType2    0.026027\n",
       "Electrical      0.000685\n",
       "FireplaceQu     0.472603\n",
       "GarageType      0.055479\n",
       "GarageYrBlt     0.055479\n",
       "GarageFinish    0.055479\n",
       "GarageQual      0.055479\n",
       "GarageCond      0.055479\n",
       "PoolQC          0.995205\n",
       "Fence           0.807534\n",
       "MiscFeature     0.963014\n",
       "dtype: float64"
      ]
     },
     "execution_count": 10,
     "metadata": {},
     "output_type": "execute_result"
    }
   ],
   "source": [
    "print('\\nДоля пропусков:')\n",
    "zero[zero != 0]/data.shape[0]"
   ]
  },
  {
   "cell_type": "markdown",
   "metadata": {},
   "source": [
    "## 2 (1)"
   ]
  },
  {
   "cell_type": "markdown",
   "metadata": {},
   "source": [
    "Избавьтесь от пропусков. Для каждого из примененных методов обоснуйте свое решение. **Проверьте, что вы действительно избавились от пропусков.**\n",
    "\n",
    "*Напоминание. В зависимости от типа столбца, можно заполнить пропуски, например, средним арифметическим, медианой, модой, можно какими-то отдельными значениями. А можно такие столбцы вообще удалить.*"
   ]
  },
  {
   "cell_type": "code",
   "execution_count": 14,
   "metadata": {},
   "outputs": [
    {
     "name": "stdout",
     "output_type": "stream",
     "text": [
      "Типы облицовки:  ['BrkFace' 'None' 'Stone' 'BrkCmn' nan]\n"
     ]
    },
    {
     "data": {
      "text/plain": [
       "None    864\n",
       "Name: MasVnrType, dtype: int64"
      ]
     },
     "execution_count": 14,
     "metadata": {},
     "output_type": "execute_result"
    }
   ],
   "source": [
    "print('Типы облицовки: ', data.MasVnrType.unique())\n",
    "data.MasVnrType.value_counts()"
   ]
  },
  {
   "cell_type": "markdown",
   "metadata": {},
   "source": [
    "### Самый популярный тип облицовки - без облицовки, поэтому, то небольшое количество пропусков в данном признаке, заполним самым популярным типом. Площадь облицовки возьмем мат. ожиданием по всему столбцу."
   ]
  },
  {
   "cell_type": "code",
   "execution_count": 27,
   "metadata": {},
   "outputs": [],
   "source": [
    "data.MasVnrType.fillna('None', inplace=True)\n",
    "data.MasVnrArea.fillna(data.MasVnrArea.mean(), inplace = True)"
   ]
  },
  {
   "cell_type": "code",
   "execution_count": 28,
   "metadata": {},
   "outputs": [
    {
     "name": "stdout",
     "output_type": "stream",
     "text": [
      "Типы электрических систем:  ['SBrkr' 'FuseF' 'FuseA' 'FuseP' 'Mix' nan]\n"
     ]
    },
    {
     "data": {
      "text/plain": [
       "SBrkr    1334\n",
       "FuseA      94\n",
       "FuseF      27\n",
       "FuseP       3\n",
       "Mix         1\n",
       "Name: Electrical, dtype: int64"
      ]
     },
     "execution_count": 28,
     "metadata": {},
     "output_type": "execute_result"
    }
   ],
   "source": [
    "print('Типы электрических систем: ', data.Electrical.unique())\n",
    "data.Electrical.value_counts()"
   ]
  },
  {
   "cell_type": "markdown",
   "metadata": {},
   "source": [
    "### Единственный пропущенный признак в эл. системе заполним самой популярной системой"
   ]
  },
  {
   "cell_type": "code",
   "execution_count": 29,
   "metadata": {},
   "outputs": [],
   "source": [
    "data.Electrical.fillna('SBrkr', inplace = True)"
   ]
  },
  {
   "cell_type": "code",
   "execution_count": 30,
   "metadata": {},
   "outputs": [
    {
     "data": {
      "text/plain": [
       "TA    649\n",
       "Gd    618\n",
       "Ex    121\n",
       "Fa     35\n",
       "Name: BsmtQual, dtype: int64"
      ]
     },
     "execution_count": 30,
     "metadata": {},
     "output_type": "execute_result"
    }
   ],
   "source": [
    "data.BsmtQual.value_counts()"
   ]
  },
  {
   "cell_type": "markdown",
   "metadata": {},
   "source": [
    "### Пропуски в высоте подвала запонлним случайно двумя значениями - TA и Gd"
   ]
  },
  {
   "cell_type": "code",
   "execution_count": 31,
   "metadata": {},
   "outputs": [],
   "source": [
    "data.BsmtQual.fillna(0, inplace = True)"
   ]
  },
  {
   "cell_type": "code",
   "execution_count": 32,
   "metadata": {},
   "outputs": [
    {
     "data": {
      "text/plain": [
       "TA    1311\n",
       "Gd      65\n",
       "Fa      45\n",
       "Po       2\n",
       "Name: BsmtCond, dtype: int64"
      ]
     },
     "execution_count": 32,
     "metadata": {},
     "output_type": "execute_result"
    }
   ],
   "source": [
    "data.BsmtCond.value_counts()"
   ]
  },
  {
   "cell_type": "markdown",
   "metadata": {},
   "source": [
    "### Пропуски в качестве, стенах, а также FinType2 подвала заполним самым популярным классом. Fin Type1 заполним по аналогии с высотой подвала"
   ]
  },
  {
   "cell_type": "code",
   "execution_count": 33,
   "metadata": {},
   "outputs": [],
   "source": [
    "data.BsmtCond.fillna(0, inplace = True)"
   ]
  },
  {
   "cell_type": "code",
   "execution_count": 34,
   "metadata": {},
   "outputs": [
    {
     "data": {
      "text/plain": [
       "No    953\n",
       "Av    221\n",
       "Gd    134\n",
       "Mn    114\n",
       "Name: BsmtExposure, dtype: int64"
      ]
     },
     "execution_count": 34,
     "metadata": {},
     "output_type": "execute_result"
    }
   ],
   "source": [
    "data.BsmtExposure.value_counts()"
   ]
  },
  {
   "cell_type": "code",
   "execution_count": 35,
   "metadata": {},
   "outputs": [],
   "source": [
    "data.BsmtExposure.fillna('No', inplace = True)"
   ]
  },
  {
   "cell_type": "code",
   "execution_count": 36,
   "metadata": {},
   "outputs": [
    {
     "data": {
      "text/plain": [
       "Unf    430\n",
       "GLQ    418\n",
       "ALQ    220\n",
       "BLQ    148\n",
       "Rec    133\n",
       "LwQ     74\n",
       "Name: BsmtFinType1, dtype: int64"
      ]
     },
     "execution_count": 36,
     "metadata": {},
     "output_type": "execute_result"
    }
   ],
   "source": [
    "data.BsmtFinType1.value_counts()"
   ]
  },
  {
   "cell_type": "code",
   "execution_count": 37,
   "metadata": {},
   "outputs": [],
   "source": [
    "data.BsmtFinType1.fillna(np.random.choice(['Unf', 'GLQ', 'ALQ', 'BLQ', 'Rec', 'LwQ'], p=[0.30, 0.29, 0.15, 0.10, 0.09,0.07]), inplace = True)"
   ]
  },
  {
   "cell_type": "code",
   "execution_count": 38,
   "metadata": {},
   "outputs": [
    {
     "data": {
      "text/plain": [
       "Unf    1256\n",
       "Rec      54\n",
       "LwQ      46\n",
       "BLQ      33\n",
       "ALQ      19\n",
       "GLQ      14\n",
       "Name: BsmtFinType2, dtype: int64"
      ]
     },
     "execution_count": 38,
     "metadata": {},
     "output_type": "execute_result"
    }
   ],
   "source": [
    "data.BsmtFinType2.value_counts()"
   ]
  },
  {
   "cell_type": "code",
   "execution_count": 39,
   "metadata": {},
   "outputs": [],
   "source": [
    "data.BsmtFinType2.fillna('Unf', inplace = True)"
   ]
  },
  {
   "cell_type": "markdown",
   "metadata": {},
   "source": [
    "## По аналогии будем действовать и в остальных случаях: в зависимости от колличества пропущенных значений и распределения значений в признаке - будем заполнять либо самым популярным классом, либо по распределению вероятностей в этом признаке. Если признак числовой, то будем рассматривать средние значения"
   ]
  },
  {
   "cell_type": "code",
   "execution_count": 40,
   "metadata": {},
   "outputs": [
    {
     "data": {
      "text/plain": [
       "Gd    380\n",
       "TA    313\n",
       "Fa     33\n",
       "Ex     24\n",
       "Po     20\n",
       "Name: FireplaceQu, dtype: int64"
      ]
     },
     "execution_count": 40,
     "metadata": {},
     "output_type": "execute_result"
    }
   ],
   "source": [
    "data.FireplaceQu.value_counts()"
   ]
  },
  {
   "cell_type": "code",
   "execution_count": 41,
   "metadata": {},
   "outputs": [],
   "source": [
    "data.FireplaceQu.fillna(np.random.choice(['Gd', 'TA'], p=[0.55, 0.45]), inplace = True)"
   ]
  },
  {
   "cell_type": "code",
   "execution_count": 42,
   "metadata": {},
   "outputs": [
    {
     "data": {
      "text/plain": [
       "Attchd     870\n",
       "Detchd     387\n",
       "BuiltIn     88\n",
       "Basment     19\n",
       "CarPort      9\n",
       "2Types       6\n",
       "Name: GarageType, dtype: int64"
      ]
     },
     "execution_count": 42,
     "metadata": {},
     "output_type": "execute_result"
    }
   ],
   "source": [
    "data.GarageType.value_counts()"
   ]
  },
  {
   "cell_type": "code",
   "execution_count": 43,
   "metadata": {},
   "outputs": [],
   "source": [
    "data.GarageType.fillna(np.random.choice(['Attchd', 'Detchd'], p=[0.7, 0.3]), inplace=True)"
   ]
  },
  {
   "cell_type": "code",
   "execution_count": 44,
   "metadata": {},
   "outputs": [
    {
     "data": {
      "text/plain": [
       "Unf    605\n",
       "RFn    422\n",
       "Fin    352\n",
       "Name: GarageFinish, dtype: int64"
      ]
     },
     "execution_count": 44,
     "metadata": {},
     "output_type": "execute_result"
    }
   ],
   "source": [
    "data.GarageFinish.value_counts()"
   ]
  },
  {
   "cell_type": "code",
   "execution_count": 45,
   "metadata": {},
   "outputs": [],
   "source": [
    "data.GarageFinish.fillna(np.random.choice(['Unf', 'RFn', 'Fin'], p=[0.44, 0.31, 0.25]), inplace = True)"
   ]
  },
  {
   "cell_type": "code",
   "execution_count": 46,
   "metadata": {},
   "outputs": [
    {
     "data": {
      "text/plain": [
       "TA    1311\n",
       "Fa      48\n",
       "Gd      14\n",
       "Ex       3\n",
       "Po       3\n",
       "Name: GarageQual, dtype: int64"
      ]
     },
     "execution_count": 46,
     "metadata": {},
     "output_type": "execute_result"
    }
   ],
   "source": [
    "data.GarageQual.value_counts()"
   ]
  },
  {
   "cell_type": "code",
   "execution_count": 47,
   "metadata": {},
   "outputs": [],
   "source": [
    "data.GarageQual.fillna('TA', inplace=True)"
   ]
  },
  {
   "cell_type": "code",
   "execution_count": 48,
   "metadata": {},
   "outputs": [
    {
     "data": {
      "text/plain": [
       "TA    1326\n",
       "Fa      35\n",
       "Gd       9\n",
       "Po       7\n",
       "Ex       2\n",
       "Name: GarageCond, dtype: int64"
      ]
     },
     "execution_count": 48,
     "metadata": {},
     "output_type": "execute_result"
    }
   ],
   "source": [
    "data.GarageCond.value_counts()"
   ]
  },
  {
   "cell_type": "code",
   "execution_count": 49,
   "metadata": {},
   "outputs": [],
   "source": [
    "data.GarageCond.fillna('TA', inplace=True)"
   ]
  },
  {
   "cell_type": "code",
   "execution_count": 50,
   "metadata": {},
   "outputs": [
    {
     "name": "stdout",
     "output_type": "stream",
     "text": [
      "Самый старый гараж:  1900.0\n",
      "Самый новый гараж:  2010.0\n",
      "Средний возраст гаражей:  1978.5061638868744\n"
     ]
    }
   ],
   "source": [
    "print('Самый старый гараж: ', data.GarageYrBlt.min())\n",
    "print('Самый новый гараж: ', data.GarageYrBlt.max())\n",
    "print('Средний возраст гаражей: ', data.GarageYrBlt.mean())"
   ]
  },
  {
   "cell_type": "code",
   "execution_count": 51,
   "metadata": {},
   "outputs": [
    {
     "name": "stderr",
     "output_type": "stream",
     "text": [
      "/home/nikstep/anaconda3/lib/python3.7/site-packages/numpy/lib/histograms.py:824: RuntimeWarning: invalid value encountered in greater_equal\n",
      "  keep = (tmp_a >= first_edge)\n",
      "/home/nikstep/anaconda3/lib/python3.7/site-packages/numpy/lib/histograms.py:825: RuntimeWarning: invalid value encountered in less_equal\n",
      "  keep &= (tmp_a <= last_edge)\n"
     ]
    },
    {
     "data": {
      "image/png": "[encoded data removed]",
      "text/plain": [
       "<Figure size 432x288 with 1 Axes>"
      ]
     },
     "metadata": {
      "needs_background": "light"
     },
     "output_type": "display_data"
    }
   ],
   "source": [
    "count, bins, ignored = plt.hist(data.GarageYrBlt, 30, density=True)\n",
    "plt.show()"
   ]
  },
  {
   "cell_type": "code",
   "execution_count": 52,
   "metadata": {},
   "outputs": [],
   "source": [
    "data.GarageYrBlt.fillna(np.random.choice([1920, 1940, 1960, 1980, 2000, 2010], p=[0.03, 0.07, 0.15, 0.15, 0.2, 0.4]), inplace = True)"
   ]
  },
  {
   "cell_type": "code",
   "execution_count": 53,
   "metadata": {},
   "outputs": [
    {
     "data": {
      "text/plain": [
       "Gd    3\n",
       "Ex    2\n",
       "Fa    2\n",
       "Name: PoolQC, dtype: int64"
      ]
     },
     "execution_count": 53,
     "metadata": {},
     "output_type": "execute_result"
    }
   ],
   "source": [
    "data.PoolQC.value_counts()"
   ]
  },
  {
   "cell_type": "code",
   "execution_count": 54,
   "metadata": {},
   "outputs": [],
   "source": [
    "data.PoolQC.fillna(0, inplace=True)"
   ]
  },
  {
   "cell_type": "code",
   "execution_count": 55,
   "metadata": {},
   "outputs": [
    {
     "data": {
      "text/plain": [
       "MnPrv    157\n",
       "GdPrv     59\n",
       "GdWo      54\n",
       "MnWw      11\n",
       "Name: Fence, dtype: int64"
      ]
     },
     "execution_count": 55,
     "metadata": {},
     "output_type": "execute_result"
    }
   ],
   "source": [
    "data.Fence.value_counts()"
   ]
  },
  {
   "cell_type": "code",
   "execution_count": 56,
   "metadata": {},
   "outputs": [],
   "source": [
    "data.Fence.fillna(np.random.choice(['MnPrv', 'GdPrv', 'GdWo', 'MnWw'], p=[0.55, 0.2, 0.19, 0.06]), inplace = True)"
   ]
  },
  {
   "cell_type": "code",
   "execution_count": 57,
   "metadata": {},
   "outputs": [
    {
     "data": {
      "text/plain": [
       "Shed    49\n",
       "Othr     2\n",
       "Gar2     2\n",
       "TenC     1\n",
       "Name: MiscFeature, dtype: int64"
      ]
     },
     "execution_count": 57,
     "metadata": {},
     "output_type": "execute_result"
    }
   ],
   "source": [
    "data.MiscFeature.value_counts()"
   ]
  },
  {
   "cell_type": "code",
   "execution_count": 58,
   "metadata": {},
   "outputs": [
    {
     "data": {
      "text/plain": [
       "0        1408\n",
       "400        11\n",
       "500         8\n",
       "700         5\n",
       "450         4\n",
       "2000        4\n",
       "600         4\n",
       "1200        2\n",
       "480         2\n",
       "1150        1\n",
       "800         1\n",
       "15500       1\n",
       "620         1\n",
       "3500        1\n",
       "560         1\n",
       "2500        1\n",
       "1300        1\n",
       "1400        1\n",
       "350         1\n",
       "8300        1\n",
       "54          1\n",
       "Name: MiscVal, dtype: int64"
      ]
     },
     "execution_count": 58,
     "metadata": {},
     "output_type": "execute_result"
    }
   ],
   "source": [
    "data.MiscVal.value_counts()"
   ]
  },
  {
   "cell_type": "code",
   "execution_count": 59,
   "metadata": {},
   "outputs": [],
   "source": [
    "data.MiscFeature.fillna('No', inplace=True)"
   ]
  },
  {
   "cell_type": "code",
   "execution_count": 60,
   "metadata": {},
   "outputs": [
    {
     "data": {
      "text/plain": [
       "Grvl    50\n",
       "Pave    41\n",
       "Name: Alley, dtype: int64"
      ]
     },
     "execution_count": 60,
     "metadata": {},
     "output_type": "execute_result"
    }
   ],
   "source": [
    "data.Alley.value_counts()"
   ]
  },
  {
   "cell_type": "code",
   "execution_count": 61,
   "metadata": {},
   "outputs": [],
   "source": [
    "data.Alley.fillna(0, inplace = True)"
   ]
  },
  {
   "cell_type": "code",
   "execution_count": 62,
   "metadata": {},
   "outputs": [],
   "source": [
    "data.LotFrontage.fillna(data.LotFrontage.mean(), inplace=True)"
   ]
  },
  {
   "cell_type": "code",
   "execution_count": 63,
   "metadata": {},
   "outputs": [
    {
     "name": "stdout",
     "output_type": "stream",
     "text": [
      "В данных пропуски есть? False\n"
     ]
    }
   ],
   "source": [
    "print('В данных пропуски есть?', data.isnull().any().any())"
   ]
  },
  {
   "cell_type": "markdown",
   "metadata": {},
   "source": [
    "## 3 (1)"
   ]
  },
  {
   "cell_type": "markdown",
   "metadata": {},
   "source": [
    "Обработайте категориальные признаки. В их обнаружении вам может помочь синтаксис `pandas` (например, можно обратить внимание на типы столбцов), а также описание датасета и его исследование. Объясните выбор метода (one-hot-encoding, label encoding, ...)"
   ]
  },
  {
   "cell_type": "code",
   "execution_count": 64,
   "metadata": {},
   "outputs": [
    {
     "data": {
      "text/plain": [
       "MSZoning         object\n",
       "Street           object\n",
       "Alley            object\n",
       "LotShape         object\n",
       "LandContour      object\n",
       "Utilities        object\n",
       "LotConfig        object\n",
       "LandSlope        object\n",
       "Neighborhood     object\n",
       "Condition1       object\n",
       "Condition2       object\n",
       "BldgType         object\n",
       "HouseStyle       object\n",
       "RoofStyle        object\n",
       "RoofMatl         object\n",
       "Exterior1st      object\n",
       "Exterior2nd      object\n",
       "MasVnrType       object\n",
       "ExterQual        object\n",
       "ExterCond        object\n",
       "Foundation       object\n",
       "BsmtQual         object\n",
       "BsmtCond         object\n",
       "BsmtExposure     object\n",
       "BsmtFinType1     object\n",
       "BsmtFinType2     object\n",
       "Heating          object\n",
       "HeatingQC        object\n",
       "CentralAir       object\n",
       "Electrical       object\n",
       "KitchenQual      object\n",
       "Functional       object\n",
       "FireplaceQu      object\n",
       "GarageType       object\n",
       "GarageFinish     object\n",
       "GarageQual       object\n",
       "GarageCond       object\n",
       "PavedDrive       object\n",
       "PoolQC           object\n",
       "Fence            object\n",
       "MiscFeature      object\n",
       "SaleType         object\n",
       "SaleCondition    object\n",
       "dtype: object"
      ]
     },
     "execution_count": 64,
     "metadata": {},
     "output_type": "execute_result"
    }
   ],
   "source": [
    "data.dtypes[(data.dtypes != 'int64') & (data.dtypes != 'float64')]"
   ]
  },
  {
   "cell_type": "markdown",
   "metadata": {},
   "source": [
    "## Данные в признаках, которые трудно \"отсортировать\" по какому-то объективному критерию, заменим на вещественные значения с помощью метода OHE. В случае, когда признаки можно разделить по уровням используем label encoding (например в случае качества гаража/бассейна и т.д.)"
   ]
  },
  {
   "cell_type": "code",
   "execution_count": 65,
   "metadata": {},
   "outputs": [],
   "source": [
    "data = data.join(pd.get_dummies(data.MSZoning))\n",
    "data = data.join(pd.get_dummies(data.LotShape))\n",
    "data = data.join(pd.get_dummies(data.LandContour))\n",
    "data = data.join(pd.get_dummies(data.LandSlope))\n",
    "data = data.join(pd.get_dummies(data.RoofStyle))\n",
    "data = data.join(pd.get_dummies(data.RoofMatl))\n",
    "data = data.join(pd.get_dummies(data.Exterior1st))\n",
    "data = data.join(pd.get_dummies(data.Exterior2nd), lsuffix='_left', rsuffix='_right')\n",
    "data = data.join(pd.get_dummies(data.MasVnrType), lsuffix='_left', rsuffix='_right')\n",
    "data = data.join(pd.get_dummies(data.Heating), lsuffix='_left', rsuffix='_right')\n",
    "data = data.drop(columns=['MSZoning', 'LotShape', 'LandContour', 'LandSlope', 'RoofStyle', 'RoofMatl', 'Exterior1st', 'Exterior2nd', 'MasVnrType', 'Heating'])"
   ]
  },
  {
   "cell_type": "code",
   "execution_count": 66,
   "metadata": {},
   "outputs": [
    {
     "data": {
      "text/plain": [
       "Street           object\n",
       "Alley            object\n",
       "Utilities        object\n",
       "LotConfig        object\n",
       "Neighborhood     object\n",
       "Condition1       object\n",
       "Condition2       object\n",
       "BldgType         object\n",
       "HouseStyle       object\n",
       "ExterQual        object\n",
       "ExterCond        object\n",
       "Foundation       object\n",
       "BsmtQual         object\n",
       "BsmtCond         object\n",
       "BsmtExposure     object\n",
       "BsmtFinType1     object\n",
       "BsmtFinType2     object\n",
       "HeatingQC        object\n",
       "CentralAir       object\n",
       "Electrical       object\n",
       "KitchenQual      object\n",
       "Functional       object\n",
       "FireplaceQu      object\n",
       "GarageType       object\n",
       "GarageFinish     object\n",
       "GarageQual       object\n",
       "GarageCond       object\n",
       "PavedDrive       object\n",
       "PoolQC           object\n",
       "Fence            object\n",
       "MiscFeature      object\n",
       "SaleType         object\n",
       "SaleCondition    object\n",
       "dtype: object"
      ]
     },
     "execution_count": 66,
     "metadata": {},
     "output_type": "execute_result"
    }
   ],
   "source": [
    "data.dtypes[(data.dtypes != 'int64') & (data.dtypes != 'float64') & (data.dtypes != 'uint8')]"
   ]
  },
  {
   "cell_type": "code",
   "execution_count": 67,
   "metadata": {},
   "outputs": [
    {
     "name": "stderr",
     "output_type": "stream",
     "text": [
      "/home/nikstep/anaconda3/lib/python3.7/site-packages/ipykernel_launcher.py:1: SettingWithCopyWarning: \n",
      "A value is trying to be set on a copy of a slice from a DataFrame\n",
      "\n",
      "See the caveats in the documentation: http://pandas.pydata.org/pandas-docs/stable/indexing.html#indexing-view-versus-copy\n",
      "  \"\"\"Entry point for launching an IPython kernel.\n",
      "/home/nikstep/anaconda3/lib/python3.7/site-packages/ipykernel_launcher.py:2: SettingWithCopyWarning: \n",
      "A value is trying to be set on a copy of a slice from a DataFrame\n",
      "\n",
      "See the caveats in the documentation: http://pandas.pydata.org/pandas-docs/stable/indexing.html#indexing-view-versus-copy\n",
      "  \n"
     ]
    }
   ],
   "source": [
    "data.Street[data.Street == 'Pave'] = 2\n",
    "data.Street[data.Street == 'Grvl'] = 1"
   ]
  },
  {
   "cell_type": "code",
   "execution_count": 68,
   "metadata": {},
   "outputs": [
    {
     "name": "stderr",
     "output_type": "stream",
     "text": [
      "/home/nikstep/anaconda3/lib/python3.7/site-packages/ipykernel_launcher.py:1: SettingWithCopyWarning: \n",
      "A value is trying to be set on a copy of a slice from a DataFrame\n",
      "\n",
      "See the caveats in the documentation: http://pandas.pydata.org/pandas-docs/stable/indexing.html#indexing-view-versus-copy\n",
      "  \"\"\"Entry point for launching an IPython kernel.\n",
      "/home/nikstep/anaconda3/lib/python3.7/site-packages/ipykernel_launcher.py:2: SettingWithCopyWarning: \n",
      "A value is trying to be set on a copy of a slice from a DataFrame\n",
      "\n",
      "See the caveats in the documentation: http://pandas.pydata.org/pandas-docs/stable/indexing.html#indexing-view-versus-copy\n",
      "  \n"
     ]
    }
   ],
   "source": [
    "data.Alley[data.Alley == 'Pave'] = 2\n",
    "data.Alley[data.Alley == 'Grvl'] = 1"
   ]
  },
  {
   "cell_type": "code",
   "execution_count": 69,
   "metadata": {},
   "outputs": [],
   "source": [
    "entrance_house = (4*data.Street+3*data.Alley)/7\n",
    "data = data.merge(pd.DataFrame(entrance_house), left_index=True, right_index=True)\n",
    "data = data.drop(columns=['Street', 'Alley'])"
   ]
  },
  {
   "cell_type": "code",
   "execution_count": 70,
   "metadata": {},
   "outputs": [
    {
     "name": "stderr",
     "output_type": "stream",
     "text": [
      "/home/nikstep/anaconda3/lib/python3.7/site-packages/ipykernel_launcher.py:1: SettingWithCopyWarning: \n",
      "A value is trying to be set on a copy of a slice from a DataFrame\n",
      "\n",
      "See the caveats in the documentation: http://pandas.pydata.org/pandas-docs/stable/indexing.html#indexing-view-versus-copy\n",
      "  \"\"\"Entry point for launching an IPython kernel.\n",
      "/home/nikstep/anaconda3/lib/python3.7/site-packages/ipykernel_launcher.py:2: SettingWithCopyWarning: \n",
      "A value is trying to be set on a copy of a slice from a DataFrame\n",
      "\n",
      "See the caveats in the documentation: http://pandas.pydata.org/pandas-docs/stable/indexing.html#indexing-view-versus-copy\n",
      "  \n",
      "/home/nikstep/anaconda3/lib/python3.7/site-packages/ipykernel_launcher.py:3: SettingWithCopyWarning: \n",
      "A value is trying to be set on a copy of a slice from a DataFrame\n",
      "\n",
      "See the caveats in the documentation: http://pandas.pydata.org/pandas-docs/stable/indexing.html#indexing-view-versus-copy\n",
      "  This is separate from the ipykernel package so we can avoid doing imports until\n",
      "/home/nikstep/anaconda3/lib/python3.7/site-packages/ipykernel_launcher.py:4: SettingWithCopyWarning: \n",
      "A value is trying to be set on a copy of a slice from a DataFrame\n",
      "\n",
      "See the caveats in the documentation: http://pandas.pydata.org/pandas-docs/stable/indexing.html#indexing-view-versus-copy\n",
      "  after removing the cwd from sys.path.\n"
     ]
    }
   ],
   "source": [
    "data.Utilities[data.Utilities == 'AllPub'] = 4\n",
    "data.Utilities[data.Utilities == 'NoSewr'] = 3\n",
    "data.Utilities[data.Utilities == 'NoSeWa'] = 2\n",
    "data.Utilities[data.Utilities == 'ELO'] = 1"
   ]
  },
  {
   "cell_type": "code",
   "execution_count": 71,
   "metadata": {},
   "outputs": [],
   "source": [
    "data = data.join(pd.get_dummies(data.LotConfig))\n",
    "data = data.drop(columns=['LotConfig'])"
   ]
  },
  {
   "cell_type": "code",
   "execution_count": 72,
   "metadata": {},
   "outputs": [
    {
     "data": {
      "text/plain": [
       "Utilities        object\n",
       "Neighborhood     object\n",
       "Condition1       object\n",
       "Condition2       object\n",
       "BldgType         object\n",
       "HouseStyle       object\n",
       "ExterQual        object\n",
       "ExterCond        object\n",
       "Foundation       object\n",
       "BsmtQual         object\n",
       "BsmtCond         object\n",
       "BsmtExposure     object\n",
       "BsmtFinType1     object\n",
       "BsmtFinType2     object\n",
       "HeatingQC        object\n",
       "CentralAir       object\n",
       "Electrical       object\n",
       "KitchenQual      object\n",
       "Functional       object\n",
       "FireplaceQu      object\n",
       "GarageType       object\n",
       "GarageFinish     object\n",
       "GarageQual       object\n",
       "GarageCond       object\n",
       "PavedDrive       object\n",
       "PoolQC           object\n",
       "Fence            object\n",
       "MiscFeature      object\n",
       "SaleType         object\n",
       "SaleCondition    object\n",
       "0                object\n",
       "dtype: object"
      ]
     },
     "execution_count": 72,
     "metadata": {},
     "output_type": "execute_result"
    }
   ],
   "source": [
    "data.dtypes[(data.dtypes != 'int64') & (data.dtypes != 'float64') & (data.dtypes != 'uint8')]"
   ]
  },
  {
   "cell_type": "code",
   "execution_count": 73,
   "metadata": {},
   "outputs": [],
   "source": [
    "data = data.join(pd.get_dummies(data.Neighborhood))\n",
    "data = data.join(pd.get_dummies(data.Condition1))\n",
    "data = data.join(pd.get_dummies(data.BldgType))\n",
    "data = data.join(pd.get_dummies(data.HouseStyle))\n",
    "data = data.drop(columns=['Neighborhood', 'Condition1', 'Condition2', 'BldgType', 'HouseStyle', 'ExterQual'])\n"
   ]
  },
  {
   "cell_type": "code",
   "execution_count": 74,
   "metadata": {},
   "outputs": [
    {
     "name": "stderr",
     "output_type": "stream",
     "text": [
      "/home/nikstep/anaconda3/lib/python3.7/site-packages/ipykernel_launcher.py:1: SettingWithCopyWarning: \n",
      "A value is trying to be set on a copy of a slice from a DataFrame\n",
      "\n",
      "See the caveats in the documentation: http://pandas.pydata.org/pandas-docs/stable/indexing.html#indexing-view-versus-copy\n",
      "  \"\"\"Entry point for launching an IPython kernel.\n",
      "/home/nikstep/anaconda3/lib/python3.7/site-packages/ipykernel_launcher.py:2: SettingWithCopyWarning: \n",
      "A value is trying to be set on a copy of a slice from a DataFrame\n",
      "\n",
      "See the caveats in the documentation: http://pandas.pydata.org/pandas-docs/stable/indexing.html#indexing-view-versus-copy\n",
      "  \n",
      "/home/nikstep/anaconda3/lib/python3.7/site-packages/ipykernel_launcher.py:3: SettingWithCopyWarning: \n",
      "A value is trying to be set on a copy of a slice from a DataFrame\n",
      "\n",
      "See the caveats in the documentation: http://pandas.pydata.org/pandas-docs/stable/indexing.html#indexing-view-versus-copy\n",
      "  This is separate from the ipykernel package so we can avoid doing imports until\n",
      "/home/nikstep/anaconda3/lib/python3.7/site-packages/ipykernel_launcher.py:4: SettingWithCopyWarning: \n",
      "A value is trying to be set on a copy of a slice from a DataFrame\n",
      "\n",
      "See the caveats in the documentation: http://pandas.pydata.org/pandas-docs/stable/indexing.html#indexing-view-versus-copy\n",
      "  after removing the cwd from sys.path.\n",
      "/home/nikstep/anaconda3/lib/python3.7/site-packages/ipykernel_launcher.py:5: SettingWithCopyWarning: \n",
      "A value is trying to be set on a copy of a slice from a DataFrame\n",
      "\n",
      "See the caveats in the documentation: http://pandas.pydata.org/pandas-docs/stable/indexing.html#indexing-view-versus-copy\n",
      "  \"\"\"\n"
     ]
    }
   ],
   "source": [
    "data.ExterCond[data.ExterCond == 'Ex'] = 5\n",
    "data.ExterCond[data.ExterCond == 'Gd'] = 4\n",
    "data.ExterCond[data.ExterCond == 'TA'] = 3\n",
    "data.ExterCond [data.ExterCond == 'Fa'] = 2\n",
    "data.ExterCond [data.ExterCond == 'Po'] = 1\n",
    "data = data.drop(columns=['Foundation'])"
   ]
  },
  {
   "cell_type": "code",
   "execution_count": 75,
   "metadata": {},
   "outputs": [
    {
     "name": "stderr",
     "output_type": "stream",
     "text": [
      "/home/nikstep/anaconda3/lib/python3.7/site-packages/ipykernel_launcher.py:1: SettingWithCopyWarning: \n",
      "A value is trying to be set on a copy of a slice from a DataFrame\n",
      "\n",
      "See the caveats in the documentation: http://pandas.pydata.org/pandas-docs/stable/indexing.html#indexing-view-versus-copy\n",
      "  \"\"\"Entry point for launching an IPython kernel.\n",
      "/home/nikstep/anaconda3/lib/python3.7/site-packages/ipykernel_launcher.py:2: SettingWithCopyWarning: \n",
      "A value is trying to be set on a copy of a slice from a DataFrame\n",
      "\n",
      "See the caveats in the documentation: http://pandas.pydata.org/pandas-docs/stable/indexing.html#indexing-view-versus-copy\n",
      "  \n",
      "/home/nikstep/anaconda3/lib/python3.7/site-packages/ipykernel_launcher.py:3: SettingWithCopyWarning: \n",
      "A value is trying to be set on a copy of a slice from a DataFrame\n",
      "\n",
      "See the caveats in the documentation: http://pandas.pydata.org/pandas-docs/stable/indexing.html#indexing-view-versus-copy\n",
      "  This is separate from the ipykernel package so we can avoid doing imports until\n",
      "/home/nikstep/anaconda3/lib/python3.7/site-packages/ipykernel_launcher.py:4: SettingWithCopyWarning: \n",
      "A value is trying to be set on a copy of a slice from a DataFrame\n",
      "\n",
      "See the caveats in the documentation: http://pandas.pydata.org/pandas-docs/stable/indexing.html#indexing-view-versus-copy\n",
      "  after removing the cwd from sys.path.\n",
      "/home/nikstep/anaconda3/lib/python3.7/site-packages/ipykernel_launcher.py:5: SettingWithCopyWarning: \n",
      "A value is trying to be set on a copy of a slice from a DataFrame\n",
      "\n",
      "See the caveats in the documentation: http://pandas.pydata.org/pandas-docs/stable/indexing.html#indexing-view-versus-copy\n",
      "  \"\"\"\n",
      "/home/nikstep/anaconda3/lib/python3.7/site-packages/ipykernel_launcher.py:6: SettingWithCopyWarning: \n",
      "A value is trying to be set on a copy of a slice from a DataFrame\n",
      "\n",
      "See the caveats in the documentation: http://pandas.pydata.org/pandas-docs/stable/indexing.html#indexing-view-versus-copy\n",
      "  \n",
      "/home/nikstep/anaconda3/lib/python3.7/site-packages/ipykernel_launcher.py:7: SettingWithCopyWarning: \n",
      "A value is trying to be set on a copy of a slice from a DataFrame\n",
      "\n",
      "See the caveats in the documentation: http://pandas.pydata.org/pandas-docs/stable/indexing.html#indexing-view-versus-copy\n",
      "  import sys\n",
      "/home/nikstep/anaconda3/lib/python3.7/site-packages/ipykernel_launcher.py:8: SettingWithCopyWarning: \n",
      "A value is trying to be set on a copy of a slice from a DataFrame\n",
      "\n",
      "See the caveats in the documentation: http://pandas.pydata.org/pandas-docs/stable/indexing.html#indexing-view-versus-copy\n",
      "  \n",
      "/home/nikstep/anaconda3/lib/python3.7/site-packages/ipykernel_launcher.py:9: SettingWithCopyWarning: \n",
      "A value is trying to be set on a copy of a slice from a DataFrame\n",
      "\n",
      "See the caveats in the documentation: http://pandas.pydata.org/pandas-docs/stable/indexing.html#indexing-view-versus-copy\n",
      "  if __name__ == '__main__':\n",
      "/home/nikstep/anaconda3/lib/python3.7/site-packages/ipykernel_launcher.py:10: SettingWithCopyWarning: \n",
      "A value is trying to be set on a copy of a slice from a DataFrame\n",
      "\n",
      "See the caveats in the documentation: http://pandas.pydata.org/pandas-docs/stable/indexing.html#indexing-view-versus-copy\n",
      "  # Remove the CWD from sys.path while we load stuff.\n"
     ]
    }
   ],
   "source": [
    "data.BsmtQual[data.BsmtQual == 'Ex'] = 110\n",
    "data.BsmtQual[data.BsmtQual == 'Gd'] = 99\n",
    "data.BsmtQual[data.BsmtQual == 'TA'] = 89\n",
    "data.BsmtQual[data.BsmtQual == 'Fa'] = 79\n",
    "data.BsmtQual[data.BsmtQual == 'Po'] = 69\n",
    "data.BsmtCond[data.BsmtCond == 'Ex'] = 5\n",
    "data.BsmtCond[data.BsmtCond == 'Gd'] = 4\n",
    "data.BsmtCond[data.BsmtCond == 'TA'] = 3\n",
    "data.BsmtCond[data.BsmtCond == 'Fa'] = 2\n",
    "data.BsmtCond[data.BsmtCond == 'Po'] = 1"
   ]
  },
  {
   "cell_type": "code",
   "execution_count": 76,
   "metadata": {},
   "outputs": [
    {
     "data": {
      "text/plain": [
       "Utilities        object\n",
       "ExterCond        object\n",
       "BsmtQual         object\n",
       "BsmtCond         object\n",
       "BsmtExposure     object\n",
       "BsmtFinType1     object\n",
       "BsmtFinType2     object\n",
       "HeatingQC        object\n",
       "CentralAir       object\n",
       "Electrical       object\n",
       "KitchenQual      object\n",
       "Functional       object\n",
       "FireplaceQu      object\n",
       "GarageType       object\n",
       "GarageFinish     object\n",
       "GarageQual       object\n",
       "GarageCond       object\n",
       "PavedDrive       object\n",
       "PoolQC           object\n",
       "Fence            object\n",
       "MiscFeature      object\n",
       "SaleType         object\n",
       "SaleCondition    object\n",
       "0                object\n",
       "dtype: object"
      ]
     },
     "execution_count": 76,
     "metadata": {},
     "output_type": "execute_result"
    }
   ],
   "source": [
    "data.dtypes[(data.dtypes != 'int64') & (data.dtypes != 'float64') & (data.dtypes != 'uint8')]"
   ]
  },
  {
   "cell_type": "code",
   "execution_count": 77,
   "metadata": {},
   "outputs": [
    {
     "name": "stderr",
     "output_type": "stream",
     "text": [
      "/home/nikstep/anaconda3/lib/python3.7/site-packages/ipykernel_launcher.py:1: SettingWithCopyWarning: \n",
      "A value is trying to be set on a copy of a slice from a DataFrame\n",
      "\n",
      "See the caveats in the documentation: http://pandas.pydata.org/pandas-docs/stable/indexing.html#indexing-view-versus-copy\n",
      "  \"\"\"Entry point for launching an IPython kernel.\n",
      "/home/nikstep/anaconda3/lib/python3.7/site-packages/ipykernel_launcher.py:2: SettingWithCopyWarning: \n",
      "A value is trying to be set on a copy of a slice from a DataFrame\n",
      "\n",
      "See the caveats in the documentation: http://pandas.pydata.org/pandas-docs/stable/indexing.html#indexing-view-versus-copy\n",
      "  \n",
      "/home/nikstep/anaconda3/lib/python3.7/site-packages/ipykernel_launcher.py:3: SettingWithCopyWarning: \n",
      "A value is trying to be set on a copy of a slice from a DataFrame\n",
      "\n",
      "See the caveats in the documentation: http://pandas.pydata.org/pandas-docs/stable/indexing.html#indexing-view-versus-copy\n",
      "  This is separate from the ipykernel package so we can avoid doing imports until\n",
      "/home/nikstep/anaconda3/lib/python3.7/site-packages/ipykernel_launcher.py:4: SettingWithCopyWarning: \n",
      "A value is trying to be set on a copy of a slice from a DataFrame\n",
      "\n",
      "See the caveats in the documentation: http://pandas.pydata.org/pandas-docs/stable/indexing.html#indexing-view-versus-copy\n",
      "  after removing the cwd from sys.path.\n",
      "/home/nikstep/anaconda3/lib/python3.7/site-packages/ipykernel_launcher.py:5: SettingWithCopyWarning: \n",
      "A value is trying to be set on a copy of a slice from a DataFrame\n",
      "\n",
      "See the caveats in the documentation: http://pandas.pydata.org/pandas-docs/stable/indexing.html#indexing-view-versus-copy\n",
      "  \"\"\"\n"
     ]
    }
   ],
   "source": [
    "data.HeatingQC[data.HeatingQC == 'Ex'] = 5\n",
    "data.HeatingQC[data.HeatingQC == 'Gd'] = 4\n",
    "data.HeatingQC[data.HeatingQC == 'TA'] = 3\n",
    "data.HeatingQC[data.HeatingQC == 'Fa'] = 2\n",
    "data.HeatingQC[data.HeatingQC == 'Po'] = 1"
   ]
  },
  {
   "cell_type": "code",
   "execution_count": 78,
   "metadata": {},
   "outputs": [
    {
     "name": "stderr",
     "output_type": "stream",
     "text": [
      "/home/nikstep/anaconda3/lib/python3.7/site-packages/ipykernel_launcher.py:1: SettingWithCopyWarning: \n",
      "A value is trying to be set on a copy of a slice from a DataFrame\n",
      "\n",
      "See the caveats in the documentation: http://pandas.pydata.org/pandas-docs/stable/indexing.html#indexing-view-versus-copy\n",
      "  \"\"\"Entry point for launching an IPython kernel.\n",
      "/home/nikstep/anaconda3/lib/python3.7/site-packages/ipykernel_launcher.py:2: SettingWithCopyWarning: \n",
      "A value is trying to be set on a copy of a slice from a DataFrame\n",
      "\n",
      "See the caveats in the documentation: http://pandas.pydata.org/pandas-docs/stable/indexing.html#indexing-view-versus-copy\n",
      "  \n"
     ]
    }
   ],
   "source": [
    "data.CentralAir[data.CentralAir == 'Y'] = 1\n",
    "data.CentralAir[data.CentralAir == 'N'] = 0"
   ]
  },
  {
   "cell_type": "code",
   "execution_count": 79,
   "metadata": {},
   "outputs": [
    {
     "name": "stderr",
     "output_type": "stream",
     "text": [
      "/home/nikstep/anaconda3/lib/python3.7/site-packages/ipykernel_launcher.py:1: SettingWithCopyWarning: \n",
      "A value is trying to be set on a copy of a slice from a DataFrame\n",
      "\n",
      "See the caveats in the documentation: http://pandas.pydata.org/pandas-docs/stable/indexing.html#indexing-view-versus-copy\n",
      "  \"\"\"Entry point for launching an IPython kernel.\n",
      "/home/nikstep/anaconda3/lib/python3.7/site-packages/ipykernel_launcher.py:2: SettingWithCopyWarning: \n",
      "A value is trying to be set on a copy of a slice from a DataFrame\n",
      "\n",
      "See the caveats in the documentation: http://pandas.pydata.org/pandas-docs/stable/indexing.html#indexing-view-versus-copy\n",
      "  \n",
      "/home/nikstep/anaconda3/lib/python3.7/site-packages/ipykernel_launcher.py:3: SettingWithCopyWarning: \n",
      "A value is trying to be set on a copy of a slice from a DataFrame\n",
      "\n",
      "See the caveats in the documentation: http://pandas.pydata.org/pandas-docs/stable/indexing.html#indexing-view-versus-copy\n",
      "  This is separate from the ipykernel package so we can avoid doing imports until\n",
      "/home/nikstep/anaconda3/lib/python3.7/site-packages/ipykernel_launcher.py:4: SettingWithCopyWarning: \n",
      "A value is trying to be set on a copy of a slice from a DataFrame\n",
      "\n",
      "See the caveats in the documentation: http://pandas.pydata.org/pandas-docs/stable/indexing.html#indexing-view-versus-copy\n",
      "  after removing the cwd from sys.path.\n",
      "/home/nikstep/anaconda3/lib/python3.7/site-packages/ipykernel_launcher.py:5: SettingWithCopyWarning: \n",
      "A value is trying to be set on a copy of a slice from a DataFrame\n",
      "\n",
      "See the caveats in the documentation: http://pandas.pydata.org/pandas-docs/stable/indexing.html#indexing-view-versus-copy\n",
      "  \"\"\"\n"
     ]
    }
   ],
   "source": [
    "data.Electrical[data.Electrical == 'SBrkr'] = 4\n",
    "data.Electrical[data.Electrical == 'FuseA'] = 3\n",
    "data.Electrical[data.Electrical == 'FuseF'] = 2\n",
    "data.Electrical[data.Electrical == 'Mix'] = 2\n",
    "data.Electrical[data.Electrical == 'FuseP'] = 1"
   ]
  },
  {
   "cell_type": "code",
   "execution_count": 80,
   "metadata": {},
   "outputs": [
    {
     "name": "stderr",
     "output_type": "stream",
     "text": [
      "/home/nikstep/anaconda3/lib/python3.7/site-packages/ipykernel_launcher.py:1: SettingWithCopyWarning: \n",
      "A value is trying to be set on a copy of a slice from a DataFrame\n",
      "\n",
      "See the caveats in the documentation: http://pandas.pydata.org/pandas-docs/stable/indexing.html#indexing-view-versus-copy\n",
      "  \"\"\"Entry point for launching an IPython kernel.\n",
      "/home/nikstep/anaconda3/lib/python3.7/site-packages/ipykernel_launcher.py:2: SettingWithCopyWarning: \n",
      "A value is trying to be set on a copy of a slice from a DataFrame\n",
      "\n",
      "See the caveats in the documentation: http://pandas.pydata.org/pandas-docs/stable/indexing.html#indexing-view-versus-copy\n",
      "  \n",
      "/home/nikstep/anaconda3/lib/python3.7/site-packages/ipykernel_launcher.py:3: SettingWithCopyWarning: \n",
      "A value is trying to be set on a copy of a slice from a DataFrame\n",
      "\n",
      "See the caveats in the documentation: http://pandas.pydata.org/pandas-docs/stable/indexing.html#indexing-view-versus-copy\n",
      "  This is separate from the ipykernel package so we can avoid doing imports until\n",
      "/home/nikstep/anaconda3/lib/python3.7/site-packages/ipykernel_launcher.py:4: SettingWithCopyWarning: \n",
      "A value is trying to be set on a copy of a slice from a DataFrame\n",
      "\n",
      "See the caveats in the documentation: http://pandas.pydata.org/pandas-docs/stable/indexing.html#indexing-view-versus-copy\n",
      "  after removing the cwd from sys.path.\n",
      "/home/nikstep/anaconda3/lib/python3.7/site-packages/ipykernel_launcher.py:5: SettingWithCopyWarning: \n",
      "A value is trying to be set on a copy of a slice from a DataFrame\n",
      "\n",
      "See the caveats in the documentation: http://pandas.pydata.org/pandas-docs/stable/indexing.html#indexing-view-versus-copy\n",
      "  \"\"\"\n"
     ]
    }
   ],
   "source": [
    "data.KitchenQual[data.KitchenQual == 'Ex'] = 5\n",
    "data.KitchenQual[data.KitchenQual == 'Gd'] = 4\n",
    "data.KitchenQual[data.KitchenQual == 'TA'] = 3\n",
    "data.KitchenQual[data.KitchenQual == 'Fa'] = 2\n",
    "data.KitchenQual[data.KitchenQual == 'Po'] = 1"
   ]
  },
  {
   "cell_type": "code",
   "execution_count": 81,
   "metadata": {},
   "outputs": [
    {
     "name": "stderr",
     "output_type": "stream",
     "text": [
      "/home/nikstep/anaconda3/lib/python3.7/site-packages/ipykernel_launcher.py:1: SettingWithCopyWarning: \n",
      "A value is trying to be set on a copy of a slice from a DataFrame\n",
      "\n",
      "See the caveats in the documentation: http://pandas.pydata.org/pandas-docs/stable/indexing.html#indexing-view-versus-copy\n",
      "  \"\"\"Entry point for launching an IPython kernel.\n",
      "/home/nikstep/anaconda3/lib/python3.7/site-packages/ipykernel_launcher.py:2: SettingWithCopyWarning: \n",
      "A value is trying to be set on a copy of a slice from a DataFrame\n",
      "\n",
      "See the caveats in the documentation: http://pandas.pydata.org/pandas-docs/stable/indexing.html#indexing-view-versus-copy\n",
      "  \n",
      "/home/nikstep/anaconda3/lib/python3.7/site-packages/ipykernel_launcher.py:3: SettingWithCopyWarning: \n",
      "A value is trying to be set on a copy of a slice from a DataFrame\n",
      "\n",
      "See the caveats in the documentation: http://pandas.pydata.org/pandas-docs/stable/indexing.html#indexing-view-versus-copy\n",
      "  This is separate from the ipykernel package so we can avoid doing imports until\n",
      "/home/nikstep/anaconda3/lib/python3.7/site-packages/ipykernel_launcher.py:4: SettingWithCopyWarning: \n",
      "A value is trying to be set on a copy of a slice from a DataFrame\n",
      "\n",
      "See the caveats in the documentation: http://pandas.pydata.org/pandas-docs/stable/indexing.html#indexing-view-versus-copy\n",
      "  after removing the cwd from sys.path.\n",
      "/home/nikstep/anaconda3/lib/python3.7/site-packages/ipykernel_launcher.py:5: SettingWithCopyWarning: \n",
      "A value is trying to be set on a copy of a slice from a DataFrame\n",
      "\n",
      "See the caveats in the documentation: http://pandas.pydata.org/pandas-docs/stable/indexing.html#indexing-view-versus-copy\n",
      "  \"\"\"\n"
     ]
    }
   ],
   "source": [
    "data.FireplaceQu[data.FireplaceQu == 'Ex'] = 5\n",
    "data.FireplaceQu[data.FireplaceQu == 'Gd'] = 4\n",
    "data.FireplaceQu[data.FireplaceQu == 'TA'] = 3\n",
    "data.FireplaceQu[data.FireplaceQu == 'Fa'] = 2\n",
    "data.FireplaceQu[data.FireplaceQu == 'Po'] = 1"
   ]
  },
  {
   "cell_type": "code",
   "execution_count": 82,
   "metadata": {},
   "outputs": [
    {
     "name": "stderr",
     "output_type": "stream",
     "text": [
      "/home/nikstep/anaconda3/lib/python3.7/site-packages/ipykernel_launcher.py:1: SettingWithCopyWarning: \n",
      "A value is trying to be set on a copy of a slice from a DataFrame\n",
      "\n",
      "See the caveats in the documentation: http://pandas.pydata.org/pandas-docs/stable/indexing.html#indexing-view-versus-copy\n",
      "  \"\"\"Entry point for launching an IPython kernel.\n",
      "/home/nikstep/anaconda3/lib/python3.7/site-packages/ipykernel_launcher.py:2: SettingWithCopyWarning: \n",
      "A value is trying to be set on a copy of a slice from a DataFrame\n",
      "\n",
      "See the caveats in the documentation: http://pandas.pydata.org/pandas-docs/stable/indexing.html#indexing-view-versus-copy\n",
      "  \n",
      "/home/nikstep/anaconda3/lib/python3.7/site-packages/ipykernel_launcher.py:3: SettingWithCopyWarning: \n",
      "A value is trying to be set on a copy of a slice from a DataFrame\n",
      "\n",
      "See the caveats in the documentation: http://pandas.pydata.org/pandas-docs/stable/indexing.html#indexing-view-versus-copy\n",
      "  This is separate from the ipykernel package so we can avoid doing imports until\n",
      "/home/nikstep/anaconda3/lib/python3.7/site-packages/ipykernel_launcher.py:4: SettingWithCopyWarning: \n",
      "A value is trying to be set on a copy of a slice from a DataFrame\n",
      "\n",
      "See the caveats in the documentation: http://pandas.pydata.org/pandas-docs/stable/indexing.html#indexing-view-versus-copy\n",
      "  after removing the cwd from sys.path.\n",
      "/home/nikstep/anaconda3/lib/python3.7/site-packages/ipykernel_launcher.py:5: SettingWithCopyWarning: \n",
      "A value is trying to be set on a copy of a slice from a DataFrame\n",
      "\n",
      "See the caveats in the documentation: http://pandas.pydata.org/pandas-docs/stable/indexing.html#indexing-view-versus-copy\n",
      "  \"\"\"\n"
     ]
    }
   ],
   "source": [
    "data.GarageQual[data.GarageQual == 'Ex'] = 5\n",
    "data.GarageQual[data.GarageQual == 'Gd'] = 4\n",
    "data.GarageQual[data.GarageQual == 'TA'] = 3\n",
    "data.GarageQual[data.GarageQual == 'Fa'] = 2\n",
    "data.GarageQual[data.GarageQual == 'Po'] = 1"
   ]
  },
  {
   "cell_type": "code",
   "execution_count": 83,
   "metadata": {},
   "outputs": [
    {
     "name": "stderr",
     "output_type": "stream",
     "text": [
      "/home/nikstep/anaconda3/lib/python3.7/site-packages/ipykernel_launcher.py:1: SettingWithCopyWarning: \n",
      "A value is trying to be set on a copy of a slice from a DataFrame\n",
      "\n",
      "See the caveats in the documentation: http://pandas.pydata.org/pandas-docs/stable/indexing.html#indexing-view-versus-copy\n",
      "  \"\"\"Entry point for launching an IPython kernel.\n",
      "/home/nikstep/anaconda3/lib/python3.7/site-packages/ipykernel_launcher.py:2: SettingWithCopyWarning: \n",
      "A value is trying to be set on a copy of a slice from a DataFrame\n",
      "\n",
      "See the caveats in the documentation: http://pandas.pydata.org/pandas-docs/stable/indexing.html#indexing-view-versus-copy\n",
      "  \n",
      "/home/nikstep/anaconda3/lib/python3.7/site-packages/ipykernel_launcher.py:3: SettingWithCopyWarning: \n",
      "A value is trying to be set on a copy of a slice from a DataFrame\n",
      "\n",
      "See the caveats in the documentation: http://pandas.pydata.org/pandas-docs/stable/indexing.html#indexing-view-versus-copy\n",
      "  This is separate from the ipykernel package so we can avoid doing imports until\n",
      "/home/nikstep/anaconda3/lib/python3.7/site-packages/ipykernel_launcher.py:4: SettingWithCopyWarning: \n",
      "A value is trying to be set on a copy of a slice from a DataFrame\n",
      "\n",
      "See the caveats in the documentation: http://pandas.pydata.org/pandas-docs/stable/indexing.html#indexing-view-versus-copy\n",
      "  after removing the cwd from sys.path.\n",
      "/home/nikstep/anaconda3/lib/python3.7/site-packages/ipykernel_launcher.py:5: SettingWithCopyWarning: \n",
      "A value is trying to be set on a copy of a slice from a DataFrame\n",
      "\n",
      "See the caveats in the documentation: http://pandas.pydata.org/pandas-docs/stable/indexing.html#indexing-view-versus-copy\n",
      "  \"\"\"\n"
     ]
    }
   ],
   "source": [
    "data.PoolQC[data.PoolQC == 'Ex'] = 5\n",
    "data.PoolQC[data.PoolQC == 'Gd'] = 4\n",
    "data.PoolQC[data.PoolQC == 'TA'] = 3\n",
    "data.PoolQC[data.PoolQC == 'Fa'] = 2\n",
    "data.PoolQC[data.PoolQC == 'Po'] = 1"
   ]
  },
  {
   "cell_type": "code",
   "execution_count": 84,
   "metadata": {},
   "outputs": [
    {
     "data": {
      "text/plain": [
       "array([4, 3, 5, 2], dtype=object)"
      ]
     },
     "execution_count": 84,
     "metadata": {},
     "output_type": "execute_result"
    }
   ],
   "source": [
    "data.KitchenQual.unique()"
   ]
  },
  {
   "cell_type": "code",
   "execution_count": 85,
   "metadata": {},
   "outputs": [],
   "source": [
    "data = data.join(pd.get_dummies(data.Functional), lsuffix='_leftfunc')\n",
    "data = data.join(pd.get_dummies(data.GarageType))\n",
    "data = data.join(pd.get_dummies(data.PavedDrive), lsuffix='_leftPaved')\n",
    "data = data.join(pd.get_dummies(data.MiscFeature),  lsuffix='_leftMiscFeature')\n",
    "data = data.join(pd.get_dummies(data.SaleType))\n",
    "data = data.join(pd.get_dummies(data.SaleCondition))\n",
    "data = data.join(pd.get_dummies(data.Fence))\n",
    "data = data.drop(columns=['BsmtExposure', 'BsmtFinType1', 'BsmtFinType2', 'Functional', 'GarageType', 'GarageFinish', 'GarageCond', 'PavedDrive', 'MiscFeature', 'SaleType', 'SaleCondition', 'Fence'])"
   ]
  },
  {
   "cell_type": "code",
   "execution_count": 86,
   "metadata": {},
   "outputs": [
    {
     "data": {
      "text/plain": [
       "Utilities      object\n",
       "ExterCond      object\n",
       "BsmtQual       object\n",
       "BsmtCond       object\n",
       "HeatingQC      object\n",
       "CentralAir     object\n",
       "Electrical     object\n",
       "KitchenQual    object\n",
       "FireplaceQu    object\n",
       "GarageQual     object\n",
       "PoolQC         object\n",
       "0              object\n",
       "dtype: object"
      ]
     },
     "execution_count": 86,
     "metadata": {},
     "output_type": "execute_result"
    }
   ],
   "source": [
    "data.dtypes[(data.dtypes != 'int64') & (data.dtypes != 'float64') & (data.dtypes != 'uint8')]"
   ]
  },
  {
   "cell_type": "markdown",
   "metadata": {},
   "source": [
    "## 4 (0.5)"
   ]
  },
  {
   "cell_type": "markdown",
   "metadata": {},
   "source": [
    "Вычислите и визуализируйте попарную корреляцию Пирсона между всеми признаками. Какие выводы можно сделать?\n",
    "\n",
    "*Для визуализации можно использовать `seaborn.heatmap()`.*"
   ]
  },
  {
   "cell_type": "code",
   "execution_count": 87,
   "metadata": {},
   "outputs": [
    {
     "data": {
      "text/html": [
       "<div>\n",
       "<style scoped>\n",
       "    .dataframe tbody tr th:only-of-type {\n",
       "        vertical-align: middle;\n",
       "    }\n",
       "\n",
       "    .dataframe tbody tr th {\n",
       "        vertical-align: top;\n",
       "    }\n",
       "\n",
       "    .dataframe thead th {\n",
       "        text-align: right;\n",
       "    }\n",
       "</style>\n",
       "<table border=\"1\" class=\"dataframe\">\n",
       "  <thead>\n",
       "    <tr style=\"text-align: right;\">\n",
       "      <th></th>\n",
       "      <th>MSSubClass</th>\n",
       "      <th>LotFrontage</th>\n",
       "      <th>LotArea</th>\n",
       "      <th>OverallQual</th>\n",
       "      <th>OverallCond</th>\n",
       "      <th>YearBuilt</th>\n",
       "      <th>YearRemodAdd</th>\n",
       "      <th>MasVnrArea</th>\n",
       "      <th>BsmtFinSF1</th>\n",
       "      <th>BsmtFinSF2</th>\n",
       "      <th>...</th>\n",
       "      <th>Abnorml</th>\n",
       "      <th>AdjLand</th>\n",
       "      <th>Alloca</th>\n",
       "      <th>Family</th>\n",
       "      <th>Normal</th>\n",
       "      <th>Partial</th>\n",
       "      <th>GdPrv</th>\n",
       "      <th>GdWo</th>\n",
       "      <th>MnPrv</th>\n",
       "      <th>MnWw</th>\n",
       "    </tr>\n",
       "  </thead>\n",
       "  <tbody>\n",
       "    <tr>\n",
       "      <th>MSSubClass</th>\n",
       "      <td>1.000000</td>\n",
       "      <td>-3.570559e-01</td>\n",
       "      <td>-0.139781</td>\n",
       "      <td>0.032628</td>\n",
       "      <td>-0.059316</td>\n",
       "      <td>0.027850</td>\n",
       "      <td>0.040581</td>\n",
       "      <td>0.022895</td>\n",
       "      <td>-0.069836</td>\n",
       "      <td>-0.065649</td>\n",
       "      <td>...</td>\n",
       "      <td>0.005003</td>\n",
       "      <td>0.016241</td>\n",
       "      <td>0.030002</td>\n",
       "      <td>0.000983</td>\n",
       "      <td>0.024359</td>\n",
       "      <td>-0.051068</td>\n",
       "      <td>0.001074</td>\n",
       "      <td>0.072221</td>\n",
       "      <td>-0.076225</td>\n",
       "      <td>-0.032006</td>\n",
       "    </tr>\n",
       "    <tr>\n",
       "      <th>LotFrontage</th>\n",
       "      <td>-0.357056</td>\n",
       "      <td>1.000000e+00</td>\n",
       "      <td>0.306795</td>\n",
       "      <td>0.234196</td>\n",
       "      <td>-0.052820</td>\n",
       "      <td>0.117598</td>\n",
       "      <td>0.082746</td>\n",
       "      <td>0.179283</td>\n",
       "      <td>0.215828</td>\n",
       "      <td>0.043340</td>\n",
       "      <td>...</td>\n",
       "      <td>-0.021846</td>\n",
       "      <td>-0.037020</td>\n",
       "      <td>-0.018090</td>\n",
       "      <td>0.015818</td>\n",
       "      <td>-0.072074</td>\n",
       "      <td>0.124842</td>\n",
       "      <td>0.027584</td>\n",
       "      <td>-0.020065</td>\n",
       "      <td>0.006588</td>\n",
       "      <td>-0.002338</td>\n",
       "    </tr>\n",
       "    <tr>\n",
       "      <th>LotArea</th>\n",
       "      <td>-0.139781</td>\n",
       "      <td>3.067946e-01</td>\n",
       "      <td>1.000000</td>\n",
       "      <td>0.105806</td>\n",
       "      <td>-0.005636</td>\n",
       "      <td>0.014228</td>\n",
       "      <td>0.013788</td>\n",
       "      <td>0.103960</td>\n",
       "      <td>0.214103</td>\n",
       "      <td>0.111170</td>\n",
       "      <td>...</td>\n",
       "      <td>-0.029126</td>\n",
       "      <td>-0.013208</td>\n",
       "      <td>0.008966</td>\n",
       "      <td>-0.010781</td>\n",
       "      <td>0.005711</td>\n",
       "      <td>0.022635</td>\n",
       "      <td>0.000071</td>\n",
       "      <td>0.041632</td>\n",
       "      <td>-0.045656</td>\n",
       "      <td>-0.011054</td>\n",
       "    </tr>\n",
       "    <tr>\n",
       "      <th>OverallQual</th>\n",
       "      <td>0.032628</td>\n",
       "      <td>2.341962e-01</td>\n",
       "      <td>0.105806</td>\n",
       "      <td>1.000000</td>\n",
       "      <td>-0.091932</td>\n",
       "      <td>0.572323</td>\n",
       "      <td>0.550684</td>\n",
       "      <td>0.410238</td>\n",
       "      <td>0.239666</td>\n",
       "      <td>-0.059119</td>\n",
       "      <td>...</td>\n",
       "      <td>-0.103535</td>\n",
       "      <td>-0.041677</td>\n",
       "      <td>-0.044950</td>\n",
       "      <td>-0.025515</td>\n",
       "      <td>-0.143282</td>\n",
       "      <td>0.323295</td>\n",
       "      <td>0.030543</td>\n",
       "      <td>0.137465</td>\n",
       "      <td>-0.164067</td>\n",
       "      <td>-0.057822</td>\n",
       "    </tr>\n",
       "    <tr>\n",
       "      <th>OverallCond</th>\n",
       "      <td>-0.059316</td>\n",
       "      <td>-5.282010e-02</td>\n",
       "      <td>-0.005636</td>\n",
       "      <td>-0.091932</td>\n",
       "      <td>1.000000</td>\n",
       "      <td>-0.375983</td>\n",
       "      <td>0.073741</td>\n",
       "      <td>-0.127788</td>\n",
       "      <td>-0.046231</td>\n",
       "      <td>0.040229</td>\n",
       "      <td>...</td>\n",
       "      <td>-0.046367</td>\n",
       "      <td>-0.038888</td>\n",
       "      <td>-0.033444</td>\n",
       "      <td>-0.023873</td>\n",
       "      <td>0.161642</td>\n",
       "      <td>-0.151659</td>\n",
       "      <td>0.093972</td>\n",
       "      <td>-0.177389</td>\n",
       "      <td>0.126547</td>\n",
       "      <td>0.075983</td>\n",
       "    </tr>\n",
       "    <tr>\n",
       "      <th>YearBuilt</th>\n",
       "      <td>0.027850</td>\n",
       "      <td>1.175980e-01</td>\n",
       "      <td>0.014228</td>\n",
       "      <td>0.572323</td>\n",
       "      <td>-0.375983</td>\n",
       "      <td>1.000000</td>\n",
       "      <td>0.592855</td>\n",
       "      <td>0.314745</td>\n",
       "      <td>0.249503</td>\n",
       "      <td>-0.049107</td>\n",
       "      <td>...</td>\n",
       "      <td>-0.110233</td>\n",
       "      <td>-0.045601</td>\n",
       "      <td>-0.010104</td>\n",
       "      <td>-0.035785</td>\n",
       "      <td>-0.158427</td>\n",
       "      <td>0.343895</td>\n",
       "      <td>-0.068752</td>\n",
       "      <td>0.202700</td>\n",
       "      <td>-0.176190</td>\n",
       "      <td>-0.061636</td>\n",
       "    </tr>\n",
       "    <tr>\n",
       "      <th>YearRemodAdd</th>\n",
       "      <td>0.040581</td>\n",
       "      <td>8.274589e-02</td>\n",
       "      <td>0.013788</td>\n",
       "      <td>0.550684</td>\n",
       "      <td>0.073741</td>\n",
       "      <td>0.592855</td>\n",
       "      <td>1.000000</td>\n",
       "      <td>0.179186</td>\n",
       "      <td>0.128451</td>\n",
       "      <td>-0.067759</td>\n",
       "      <td>...</td>\n",
       "      <td>-0.135942</td>\n",
       "      <td>-0.040294</td>\n",
       "      <td>-0.020727</td>\n",
       "      <td>-0.048056</td>\n",
       "      <td>-0.120577</td>\n",
       "      <td>0.322837</td>\n",
       "      <td>-0.006923</td>\n",
       "      <td>0.119660</td>\n",
       "      <td>-0.128867</td>\n",
       "      <td>-0.023996</td>\n",
       "    </tr>\n",
       "    <tr>\n",
       "      <th>MasVnrArea</th>\n",
       "      <td>0.022895</td>\n",
       "      <td>1.792835e-01</td>\n",
       "      <td>0.103960</td>\n",
       "      <td>0.410238</td>\n",
       "      <td>-0.127788</td>\n",
       "      <td>0.314745</td>\n",
       "      <td>0.179186</td>\n",
       "      <td>1.000000</td>\n",
       "      <td>0.263582</td>\n",
       "      <td>-0.072302</td>\n",
       "      <td>...</td>\n",
       "      <td>-0.044758</td>\n",
       "      <td>-0.011959</td>\n",
       "      <td>-0.009689</td>\n",
       "      <td>-0.009914</td>\n",
       "      <td>-0.084241</td>\n",
       "      <td>0.165606</td>\n",
       "      <td>-0.017177</td>\n",
       "      <td>0.104648</td>\n",
       "      <td>-0.104046</td>\n",
       "      <td>-0.026659</td>\n",
       "    </tr>\n",
       "    <tr>\n",
       "      <th>BsmtFinSF1</th>\n",
       "      <td>-0.069836</td>\n",
       "      <td>2.158284e-01</td>\n",
       "      <td>0.214103</td>\n",
       "      <td>0.239666</td>\n",
       "      <td>-0.046231</td>\n",
       "      <td>0.249503</td>\n",
       "      <td>0.128451</td>\n",
       "      <td>0.263582</td>\n",
       "      <td>1.000000</td>\n",
       "      <td>-0.050117</td>\n",
       "      <td>...</td>\n",
       "      <td>-0.024832</td>\n",
       "      <td>-0.014874</td>\n",
       "      <td>0.021369</td>\n",
       "      <td>0.000765</td>\n",
       "      <td>-0.019560</td>\n",
       "      <td>0.044912</td>\n",
       "      <td>-0.006185</td>\n",
       "      <td>0.016024</td>\n",
       "      <td>-0.021130</td>\n",
       "      <td>0.022636</td>\n",
       "    </tr>\n",
       "    <tr>\n",
       "      <th>BsmtFinSF2</th>\n",
       "      <td>-0.065649</td>\n",
       "      <td>4.333957e-02</td>\n",
       "      <td>0.111170</td>\n",
       "      <td>-0.059119</td>\n",
       "      <td>0.040229</td>\n",
       "      <td>-0.049107</td>\n",
       "      <td>-0.067759</td>\n",
       "      <td>-0.072302</td>\n",
       "      <td>-0.050117</td>\n",
       "      <td>1.000000</td>\n",
       "      <td>...</td>\n",
       "      <td>0.048347</td>\n",
       "      <td>-0.015130</td>\n",
       "      <td>-0.026277</td>\n",
       "      <td>-0.007929</td>\n",
       "      <td>0.041207</td>\n",
       "      <td>-0.085761</td>\n",
       "      <td>0.047442</td>\n",
       "      <td>-0.103501</td>\n",
       "      <td>0.083806</td>\n",
       "      <td>0.025441</td>\n",
       "    </tr>\n",
       "    <tr>\n",
       "      <th>BsmtUnfSF</th>\n",
       "      <td>-0.140759</td>\n",
       "      <td>1.221556e-01</td>\n",
       "      <td>-0.002618</td>\n",
       "      <td>0.308159</td>\n",
       "      <td>-0.136841</td>\n",
       "      <td>0.149040</td>\n",
       "      <td>0.181133</td>\n",
       "      <td>0.114184</td>\n",
       "      <td>-0.495251</td>\n",
       "      <td>-0.209294</td>\n",
       "      <td>...</td>\n",
       "      <td>-0.023821</td>\n",
       "      <td>-0.034618</td>\n",
       "      <td>-0.059130</td>\n",
       "      <td>0.021534</td>\n",
       "      <td>-0.153930</td>\n",
       "      <td>0.249315</td>\n",
       "      <td>-0.049531</td>\n",
       "      <td>0.119726</td>\n",
       "      <td>-0.090195</td>\n",
       "      <td>-0.065786</td>\n",
       "    </tr>\n",
       "    <tr>\n",
       "      <th>TotalBsmtSF</th>\n",
       "      <td>-0.238518</td>\n",
       "      <td>3.633577e-01</td>\n",
       "      <td>0.260833</td>\n",
       "      <td>0.537808</td>\n",
       "      <td>-0.171098</td>\n",
       "      <td>0.391452</td>\n",
       "      <td>0.291066</td>\n",
       "      <td>0.362452</td>\n",
       "      <td>0.522396</td>\n",
       "      <td>0.104810</td>\n",
       "      <td>...</td>\n",
       "      <td>-0.032031</td>\n",
       "      <td>-0.055895</td>\n",
       "      <td>-0.047002</td>\n",
       "      <td>0.019569</td>\n",
       "      <td>-0.160222</td>\n",
       "      <td>0.266268</td>\n",
       "      <td>-0.038873</td>\n",
       "      <td>0.099189</td>\n",
       "      <td>-0.081996</td>\n",
       "      <td>-0.033372</td>\n",
       "    </tr>\n",
       "    <tr>\n",
       "      <th>1stFlrSF</th>\n",
       "      <td>-0.251758</td>\n",
       "      <td>4.142664e-01</td>\n",
       "      <td>0.299475</td>\n",
       "      <td>0.476224</td>\n",
       "      <td>-0.144203</td>\n",
       "      <td>0.281986</td>\n",
       "      <td>0.240379</td>\n",
       "      <td>0.342160</td>\n",
       "      <td>0.445863</td>\n",
       "      <td>0.097117</td>\n",
       "      <td>...</td>\n",
       "      <td>-0.030196</td>\n",
       "      <td>-0.037451</td>\n",
       "      <td>0.068107</td>\n",
       "      <td>0.021949</td>\n",
       "      <td>-0.158772</td>\n",
       "      <td>0.221037</td>\n",
       "      <td>-0.010512</td>\n",
       "      <td>0.071480</td>\n",
       "      <td>-0.065886</td>\n",
       "      <td>-0.039555</td>\n",
       "    </tr>\n",
       "    <tr>\n",
       "      <th>2ndFlrSF</th>\n",
       "      <td>0.307886</td>\n",
       "      <td>7.248267e-02</td>\n",
       "      <td>0.050986</td>\n",
       "      <td>0.295493</td>\n",
       "      <td>0.028942</td>\n",
       "      <td>0.010308</td>\n",
       "      <td>0.140024</td>\n",
       "      <td>0.174019</td>\n",
       "      <td>-0.137079</td>\n",
       "      <td>-0.099260</td>\n",
       "      <td>...</td>\n",
       "      <td>-0.030743</td>\n",
       "      <td>-0.014533</td>\n",
       "      <td>-0.020234</td>\n",
       "      <td>-0.027180</td>\n",
       "      <td>0.031766</td>\n",
       "      <td>0.004852</td>\n",
       "      <td>0.063856</td>\n",
       "      <td>0.036945</td>\n",
       "      <td>-0.074376</td>\n",
       "      <td>-0.033778</td>\n",
       "    </tr>\n",
       "    <tr>\n",
       "      <th>LowQualFinSF</th>\n",
       "      <td>0.046474</td>\n",
       "      <td>3.684872e-02</td>\n",
       "      <td>0.004779</td>\n",
       "      <td>-0.030429</td>\n",
       "      <td>0.025494</td>\n",
       "      <td>-0.183784</td>\n",
       "      <td>-0.062419</td>\n",
       "      <td>-0.069068</td>\n",
       "      <td>-0.064503</td>\n",
       "      <td>0.014807</td>\n",
       "      <td>...</td>\n",
       "      <td>0.071119</td>\n",
       "      <td>-0.006302</td>\n",
       "      <td>-0.010946</td>\n",
       "      <td>-0.014171</td>\n",
       "      <td>-0.012476</td>\n",
       "      <td>-0.036793</td>\n",
       "      <td>0.044307</td>\n",
       "      <td>-0.063165</td>\n",
       "      <td>0.043186</td>\n",
       "      <td>0.009078</td>\n",
       "    </tr>\n",
       "    <tr>\n",
       "      <th>GrLivArea</th>\n",
       "      <td>0.074853</td>\n",
       "      <td>3.683920e-01</td>\n",
       "      <td>0.263116</td>\n",
       "      <td>0.593007</td>\n",
       "      <td>-0.079686</td>\n",
       "      <td>0.199010</td>\n",
       "      <td>0.287389</td>\n",
       "      <td>0.389893</td>\n",
       "      <td>0.208171</td>\n",
       "      <td>-0.009640</td>\n",
       "      <td>...</td>\n",
       "      <td>-0.041173</td>\n",
       "      <td>-0.040208</td>\n",
       "      <td>0.032283</td>\n",
       "      <td>-0.007743</td>\n",
       "      <td>-0.091572</td>\n",
       "      <td>0.163239</td>\n",
       "      <td>0.049413</td>\n",
       "      <td>0.077433</td>\n",
       "      <td>-0.106262</td>\n",
       "      <td>-0.056320</td>\n",
       "    </tr>\n",
       "    <tr>\n",
       "      <th>BsmtFullBath</th>\n",
       "      <td>0.003491</td>\n",
       "      <td>9.148099e-02</td>\n",
       "      <td>0.158155</td>\n",
       "      <td>0.111098</td>\n",
       "      <td>-0.054942</td>\n",
       "      <td>0.187599</td>\n",
       "      <td>0.119470</td>\n",
       "      <td>0.085055</td>\n",
       "      <td>0.649212</td>\n",
       "      <td>0.158678</td>\n",
       "      <td>...</td>\n",
       "      <td>-0.020603</td>\n",
       "      <td>-0.017717</td>\n",
       "      <td>0.071600</td>\n",
       "      <td>-0.039836</td>\n",
       "      <td>0.018718</td>\n",
       "      <td>-0.010230</td>\n",
       "      <td>0.039593</td>\n",
       "      <td>-0.027137</td>\n",
       "      <td>0.013730</td>\n",
       "      <td>-0.025634</td>\n",
       "    </tr>\n",
       "    <tr>\n",
       "      <th>BsmtHalfBath</th>\n",
       "      <td>-0.002333</td>\n",
       "      <td>-6.419220e-03</td>\n",
       "      <td>0.048046</td>\n",
       "      <td>-0.040150</td>\n",
       "      <td>0.117821</td>\n",
       "      <td>-0.038162</td>\n",
       "      <td>-0.012337</td>\n",
       "      <td>0.026669</td>\n",
       "      <td>0.067418</td>\n",
       "      <td>0.070948</td>\n",
       "      <td>...</td>\n",
       "      <td>0.036065</td>\n",
       "      <td>0.097169</td>\n",
       "      <td>-0.021945</td>\n",
       "      <td>0.045658</td>\n",
       "      <td>-0.014404</td>\n",
       "      <td>-0.042994</td>\n",
       "      <td>0.008824</td>\n",
       "      <td>-0.039121</td>\n",
       "      <td>0.018223</td>\n",
       "      <td>0.078558</td>\n",
       "    </tr>\n",
       "    <tr>\n",
       "      <th>FullBath</th>\n",
       "      <td>0.131608</td>\n",
       "      <td>1.804242e-01</td>\n",
       "      <td>0.126031</td>\n",
       "      <td>0.550600</td>\n",
       "      <td>-0.194149</td>\n",
       "      <td>0.468271</td>\n",
       "      <td>0.439046</td>\n",
       "      <td>0.275730</td>\n",
       "      <td>0.058543</td>\n",
       "      <td>-0.076444</td>\n",
       "      <td>...</td>\n",
       "      <td>-0.093473</td>\n",
       "      <td>-0.006193</td>\n",
       "      <td>0.016794</td>\n",
       "      <td>-0.003225</td>\n",
       "      <td>-0.110040</td>\n",
       "      <td>0.232767</td>\n",
       "      <td>-0.027404</td>\n",
       "      <td>0.175969</td>\n",
       "      <td>-0.167472</td>\n",
       "      <td>-0.075015</td>\n",
       "    </tr>\n",
       "    <tr>\n",
       "      <th>HalfBath</th>\n",
       "      <td>0.177354</td>\n",
       "      <td>4.825836e-02</td>\n",
       "      <td>0.014259</td>\n",
       "      <td>0.273458</td>\n",
       "      <td>-0.060769</td>\n",
       "      <td>0.242656</td>\n",
       "      <td>0.183331</td>\n",
       "      <td>0.200802</td>\n",
       "      <td>0.004262</td>\n",
       "      <td>-0.032148</td>\n",
       "      <td>...</td>\n",
       "      <td>-0.057292</td>\n",
       "      <td>-0.013854</td>\n",
       "      <td>0.006119</td>\n",
       "      <td>-0.042872</td>\n",
       "      <td>0.011766</td>\n",
       "      <td>0.054248</td>\n",
       "      <td>0.051271</td>\n",
       "      <td>0.037273</td>\n",
       "      <td>-0.070859</td>\n",
       "      <td>-0.019091</td>\n",
       "    </tr>\n",
       "    <tr>\n",
       "      <th>BedroomAbvGr</th>\n",
       "      <td>-0.023438</td>\n",
       "      <td>2.370232e-01</td>\n",
       "      <td>0.119690</td>\n",
       "      <td>0.101676</td>\n",
       "      <td>0.012980</td>\n",
       "      <td>-0.070651</td>\n",
       "      <td>-0.040581</td>\n",
       "      <td>0.102417</td>\n",
       "      <td>-0.107355</td>\n",
       "      <td>-0.015728</td>\n",
       "      <td>...</td>\n",
       "      <td>-0.014928</td>\n",
       "      <td>0.040721</td>\n",
       "      <td>0.024212</td>\n",
       "      <td>0.062656</td>\n",
       "      <td>0.021903</td>\n",
       "      <td>-0.057949</td>\n",
       "      <td>0.054935</td>\n",
       "      <td>-0.035506</td>\n",
       "      <td>0.018895</td>\n",
       "      <td>-0.044007</td>\n",
       "    </tr>\n",
       "    <tr>\n",
       "      <th>KitchenAbvGr</th>\n",
       "      <td>0.281721</td>\n",
       "      <td>-5.804607e-03</td>\n",
       "      <td>-0.017784</td>\n",
       "      <td>-0.183882</td>\n",
       "      <td>-0.087001</td>\n",
       "      <td>-0.174800</td>\n",
       "      <td>-0.149598</td>\n",
       "      <td>-0.037364</td>\n",
       "      <td>-0.081007</td>\n",
       "      <td>-0.040751</td>\n",
       "      <td>...</td>\n",
       "      <td>0.015880</td>\n",
       "      <td>-0.011083</td>\n",
       "      <td>0.221842</td>\n",
       "      <td>0.055337</td>\n",
       "      <td>-0.046979</td>\n",
       "      <td>-0.042476</td>\n",
       "      <td>-0.011811</td>\n",
       "      <td>0.039240</td>\n",
       "      <td>-0.033248</td>\n",
       "      <td>-0.018424</td>\n",
       "    </tr>\n",
       "    <tr>\n",
       "      <th>TotRmsAbvGrd</th>\n",
       "      <td>0.040380</td>\n",
       "      <td>3.201464e-01</td>\n",
       "      <td>0.190015</td>\n",
       "      <td>0.427452</td>\n",
       "      <td>-0.057583</td>\n",
       "      <td>0.095589</td>\n",
       "      <td>0.191740</td>\n",
       "      <td>0.280027</td>\n",
       "      <td>0.044316</td>\n",
       "      <td>-0.035227</td>\n",
       "      <td>...</td>\n",
       "      <td>-0.050332</td>\n",
       "      <td>-0.008639</td>\n",
       "      <td>0.059698</td>\n",
       "      <td>0.031347</td>\n",
       "      <td>-0.092644</td>\n",
       "      <td>0.142032</td>\n",
       "      <td>0.060900</td>\n",
       "      <td>0.042510</td>\n",
       "      <td>-0.077964</td>\n",
       "      <td>-0.037516</td>\n",
       "    </tr>\n",
       "    <tr>\n",
       "      <th>Fireplaces</th>\n",
       "      <td>-0.045569</td>\n",
       "      <td>2.357546e-01</td>\n",
       "      <td>0.271364</td>\n",
       "      <td>0.396765</td>\n",
       "      <td>-0.023820</td>\n",
       "      <td>0.147716</td>\n",
       "      <td>0.112581</td>\n",
       "      <td>0.247906</td>\n",
       "      <td>0.260011</td>\n",
       "      <td>0.046921</td>\n",
       "      <td>...</td>\n",
       "      <td>-0.087597</td>\n",
       "      <td>-0.049858</td>\n",
       "      <td>-0.004193</td>\n",
       "      <td>-0.002380</td>\n",
       "      <td>0.018307</td>\n",
       "      <td>0.065993</td>\n",
       "      <td>0.026080</td>\n",
       "      <td>0.029782</td>\n",
       "      <td>-0.038573</td>\n",
       "      <td>-0.046007</td>\n",
       "    </tr>\n",
       "    <tr>\n",
       "      <th>GarageYrBlt</th>\n",
       "      <td>0.045824</td>\n",
       "      <td>9.383239e-02</td>\n",
       "      <td>0.002241</td>\n",
       "      <td>0.576587</td>\n",
       "      <td>-0.284036</td>\n",
       "      <td>0.812355</td>\n",
       "      <td>0.619456</td>\n",
       "      <td>0.275701</td>\n",
       "      <td>0.178379</td>\n",
       "      <td>-0.068074</td>\n",
       "      <td>...</td>\n",
       "      <td>-0.129848</td>\n",
       "      <td>-0.074597</td>\n",
       "      <td>-0.021504</td>\n",
       "      <td>-0.032374</td>\n",
       "      <td>-0.139073</td>\n",
       "      <td>0.342821</td>\n",
       "      <td>-0.054963</td>\n",
       "      <td>0.184543</td>\n",
       "      <td>-0.170014</td>\n",
       "      <td>-0.039076</td>\n",
       "    </tr>\n",
       "    <tr>\n",
       "      <th>GarageCars</th>\n",
       "      <td>-0.040110</td>\n",
       "      <td>2.697289e-01</td>\n",
       "      <td>0.154871</td>\n",
       "      <td>0.600671</td>\n",
       "      <td>-0.185758</td>\n",
       "      <td>0.537850</td>\n",
       "      <td>0.420622</td>\n",
       "      <td>0.363778</td>\n",
       "      <td>0.224054</td>\n",
       "      <td>-0.038264</td>\n",
       "      <td>...</td>\n",
       "      <td>-0.110124</td>\n",
       "      <td>-0.106443</td>\n",
       "      <td>0.028378</td>\n",
       "      <td>-0.010589</td>\n",
       "      <td>-0.121886</td>\n",
       "      <td>0.282164</td>\n",
       "      <td>0.003444</td>\n",
       "      <td>0.142036</td>\n",
       "      <td>-0.155193</td>\n",
       "      <td>-0.047058</td>\n",
       "    </tr>\n",
       "    <tr>\n",
       "      <th>GarageArea</th>\n",
       "      <td>-0.098672</td>\n",
       "      <td>3.236629e-01</td>\n",
       "      <td>0.180403</td>\n",
       "      <td>0.562022</td>\n",
       "      <td>-0.151521</td>\n",
       "      <td>0.478954</td>\n",
       "      <td>0.371600</td>\n",
       "      <td>0.372567</td>\n",
       "      <td>0.296970</td>\n",
       "      <td>-0.018227</td>\n",
       "      <td>...</td>\n",
       "      <td>-0.096837</td>\n",
       "      <td>-0.101277</td>\n",
       "      <td>-0.005458</td>\n",
       "      <td>-0.016173</td>\n",
       "      <td>-0.130874</td>\n",
       "      <td>0.294714</td>\n",
       "      <td>0.000589</td>\n",
       "      <td>0.116176</td>\n",
       "      <td>-0.125260</td>\n",
       "      <td>-0.039423</td>\n",
       "    </tr>\n",
       "    <tr>\n",
       "      <th>WoodDeckSF</th>\n",
       "      <td>-0.012579</td>\n",
       "      <td>7.710622e-02</td>\n",
       "      <td>0.171698</td>\n",
       "      <td>0.238923</td>\n",
       "      <td>-0.003334</td>\n",
       "      <td>0.224880</td>\n",
       "      <td>0.205726</td>\n",
       "      <td>0.159349</td>\n",
       "      <td>0.204306</td>\n",
       "      <td>0.067898</td>\n",
       "      <td>...</td>\n",
       "      <td>-0.049907</td>\n",
       "      <td>-0.039425</td>\n",
       "      <td>-0.001873</td>\n",
       "      <td>-0.012599</td>\n",
       "      <td>0.027467</td>\n",
       "      <td>0.020796</td>\n",
       "      <td>0.070776</td>\n",
       "      <td>-0.044903</td>\n",
       "      <td>0.004969</td>\n",
       "      <td>0.009186</td>\n",
       "    </tr>\n",
       "    <tr>\n",
       "      <th>OpenPorchSF</th>\n",
       "      <td>-0.006100</td>\n",
       "      <td>1.374545e-01</td>\n",
       "      <td>0.084774</td>\n",
       "      <td>0.308819</td>\n",
       "      <td>-0.032589</td>\n",
       "      <td>0.188686</td>\n",
       "      <td>0.226298</td>\n",
       "      <td>0.124965</td>\n",
       "      <td>0.111761</td>\n",
       "      <td>0.003093</td>\n",
       "      <td>...</td>\n",
       "      <td>-0.010135</td>\n",
       "      <td>-0.007051</td>\n",
       "      <td>-0.028855</td>\n",
       "      <td>-0.038808</td>\n",
       "      <td>-0.095616</td>\n",
       "      <td>0.167075</td>\n",
       "      <td>0.016912</td>\n",
       "      <td>0.040778</td>\n",
       "      <td>-0.061410</td>\n",
       "      <td>0.010612</td>\n",
       "    </tr>\n",
       "    <tr>\n",
       "      <th>EnclosedPorch</th>\n",
       "      <td>-0.012037</td>\n",
       "      <td>9.790061e-03</td>\n",
       "      <td>-0.018340</td>\n",
       "      <td>-0.113937</td>\n",
       "      <td>0.070356</td>\n",
       "      <td>-0.387268</td>\n",
       "      <td>-0.193919</td>\n",
       "      <td>-0.109849</td>\n",
       "      <td>-0.102303</td>\n",
       "      <td>0.036543</td>\n",
       "      <td>...</td>\n",
       "      <td>0.082110</td>\n",
       "      <td>-0.018834</td>\n",
       "      <td>-0.007878</td>\n",
       "      <td>0.000860</td>\n",
       "      <td>0.025971</td>\n",
       "      <td>-0.104382</td>\n",
       "      <td>0.042452</td>\n",
       "      <td>-0.061237</td>\n",
       "      <td>0.040500</td>\n",
       "      <td>0.014844</td>\n",
       "    </tr>\n",
       "    <tr>\n",
       "      <th>...</th>\n",
       "      <td>...</td>\n",
       "      <td>...</td>\n",
       "      <td>...</td>\n",
       "      <td>...</td>\n",
       "      <td>...</td>\n",
       "      <td>...</td>\n",
       "      <td>...</td>\n",
       "      <td>...</td>\n",
       "      <td>...</td>\n",
       "      <td>...</td>\n",
       "      <td>...</td>\n",
       "      <td>...</td>\n",
       "      <td>...</td>\n",
       "      <td>...</td>\n",
       "      <td>...</td>\n",
       "      <td>...</td>\n",
       "      <td>...</td>\n",
       "      <td>...</td>\n",
       "      <td>...</td>\n",
       "      <td>...</td>\n",
       "      <td>...</td>\n",
       "    </tr>\n",
       "    <tr>\n",
       "      <th>BuiltIn</th>\n",
       "      <td>0.077454</td>\n",
       "      <td>7.669885e-02</td>\n",
       "      <td>0.037552</td>\n",
       "      <td>0.198299</td>\n",
       "      <td>-0.063721</td>\n",
       "      <td>0.201547</td>\n",
       "      <td>0.184043</td>\n",
       "      <td>0.116666</td>\n",
       "      <td>-0.069965</td>\n",
       "      <td>-0.062664</td>\n",
       "      <td>...</td>\n",
       "      <td>-0.035018</td>\n",
       "      <td>-0.013274</td>\n",
       "      <td>-0.023055</td>\n",
       "      <td>-0.005088</td>\n",
       "      <td>-0.054061</td>\n",
       "      <td>0.117935</td>\n",
       "      <td>-0.037358</td>\n",
       "      <td>0.084840</td>\n",
       "      <td>-0.069331</td>\n",
       "      <td>-0.022066</td>\n",
       "    </tr>\n",
       "    <tr>\n",
       "      <th>CarPort</th>\n",
       "      <td>0.038889</td>\n",
       "      <td>2.130417e-02</td>\n",
       "      <td>0.009136</td>\n",
       "      <td>-0.100601</td>\n",
       "      <td>-0.032867</td>\n",
       "      <td>-0.056346</td>\n",
       "      <td>-0.065208</td>\n",
       "      <td>-0.036367</td>\n",
       "      <td>-0.014908</td>\n",
       "      <td>0.064902</td>\n",
       "      <td>...</td>\n",
       "      <td>0.047499</td>\n",
       "      <td>-0.004128</td>\n",
       "      <td>0.089753</td>\n",
       "      <td>-0.009282</td>\n",
       "      <td>-0.031583</td>\n",
       "      <td>-0.024099</td>\n",
       "      <td>-0.016162</td>\n",
       "      <td>0.033792</td>\n",
       "      <td>-0.027338</td>\n",
       "      <td>-0.006862</td>\n",
       "    </tr>\n",
       "    <tr>\n",
       "      <th>Detchd</th>\n",
       "      <td>0.062966</td>\n",
       "      <td>-2.433133e-01</td>\n",
       "      <td>-0.126094</td>\n",
       "      <td>-0.337227</td>\n",
       "      <td>0.183224</td>\n",
       "      <td>-0.487130</td>\n",
       "      <td>-0.310921</td>\n",
       "      <td>-0.184065</td>\n",
       "      <td>-0.212286</td>\n",
       "      <td>-0.027893</td>\n",
       "      <td>...</td>\n",
       "      <td>0.038087</td>\n",
       "      <td>-0.001789</td>\n",
       "      <td>-0.003108</td>\n",
       "      <td>0.022678</td>\n",
       "      <td>0.082693</td>\n",
       "      <td>-0.156037</td>\n",
       "      <td>0.002845</td>\n",
       "      <td>-0.106334</td>\n",
       "      <td>0.117138</td>\n",
       "      <td>0.019458</td>\n",
       "    </tr>\n",
       "    <tr>\n",
       "      <th>N</th>\n",
       "      <td>0.069317</td>\n",
       "      <td>-8.822358e-02</td>\n",
       "      <td>-0.019325</td>\n",
       "      <td>-0.214103</td>\n",
       "      <td>0.044082</td>\n",
       "      <td>-0.387961</td>\n",
       "      <td>-0.133838</td>\n",
       "      <td>-0.128009</td>\n",
       "      <td>-0.172084</td>\n",
       "      <td>-0.053658</td>\n",
       "      <td>...</td>\n",
       "      <td>0.053577</td>\n",
       "      <td>0.095532</td>\n",
       "      <td>0.008210</td>\n",
       "      <td>-0.030206</td>\n",
       "      <td>0.008540</td>\n",
       "      <td>-0.068250</td>\n",
       "      <td>0.019712</td>\n",
       "      <td>-0.031491</td>\n",
       "      <td>0.021345</td>\n",
       "      <td>0.010602</td>\n",
       "    </tr>\n",
       "    <tr>\n",
       "      <th>P</th>\n",
       "      <td>-0.025338</td>\n",
       "      <td>-1.255426e-02</td>\n",
       "      <td>0.012568</td>\n",
       "      <td>-0.076757</td>\n",
       "      <td>0.068313</td>\n",
       "      <td>-0.180702</td>\n",
       "      <td>-0.135676</td>\n",
       "      <td>-0.073864</td>\n",
       "      <td>-0.079791</td>\n",
       "      <td>-0.041809</td>\n",
       "      <td>...</td>\n",
       "      <td>-0.039486</td>\n",
       "      <td>0.084775</td>\n",
       "      <td>-0.013186</td>\n",
       "      <td>-0.017070</td>\n",
       "      <td>0.055153</td>\n",
       "      <td>-0.044321</td>\n",
       "      <td>-0.029723</td>\n",
       "      <td>-0.017796</td>\n",
       "      <td>0.043232</td>\n",
       "      <td>-0.012620</td>\n",
       "    </tr>\n",
       "    <tr>\n",
       "      <th>Y</th>\n",
       "      <td>-0.047611</td>\n",
       "      <td>8.373890e-02</td>\n",
       "      <td>0.010431</td>\n",
       "      <td>0.227129</td>\n",
       "      <td>-0.073886</td>\n",
       "      <td>0.433060</td>\n",
       "      <td>0.187277</td>\n",
       "      <td>0.150245</td>\n",
       "      <td>0.191902</td>\n",
       "      <td>0.068581</td>\n",
       "      <td>...</td>\n",
       "      <td>-0.026521</td>\n",
       "      <td>-0.127442</td>\n",
       "      <td>-0.000378</td>\n",
       "      <td>0.035267</td>\n",
       "      <td>-0.035966</td>\n",
       "      <td>0.082657</td>\n",
       "      <td>-0.001908</td>\n",
       "      <td>0.036767</td>\n",
       "      <td>-0.041021</td>\n",
       "      <td>-0.002765</td>\n",
       "    </tr>\n",
       "    <tr>\n",
       "      <th>Gar2</th>\n",
       "      <td>-0.001662</td>\n",
       "      <td>7.315988e-18</td>\n",
       "      <td>0.019726</td>\n",
       "      <td>-0.016055</td>\n",
       "      <td>0.030786</td>\n",
       "      <td>-0.003395</td>\n",
       "      <td>0.004727</td>\n",
       "      <td>-0.021172</td>\n",
       "      <td>0.004416</td>\n",
       "      <td>0.013539</td>\n",
       "      <td>...</td>\n",
       "      <td>-0.010097</td>\n",
       "      <td>-0.001941</td>\n",
       "      <td>-0.003372</td>\n",
       "      <td>-0.004365</td>\n",
       "      <td>0.017320</td>\n",
       "      <td>-0.011333</td>\n",
       "      <td>-0.007601</td>\n",
       "      <td>0.015892</td>\n",
       "      <td>-0.012856</td>\n",
       "      <td>-0.003227</td>\n",
       "    </tr>\n",
       "    <tr>\n",
       "      <th>No</th>\n",
       "      <td>0.041835</td>\n",
       "      <td>-7.426309e-03</td>\n",
       "      <td>-0.108671</td>\n",
       "      <td>0.095455</td>\n",
       "      <td>-0.074813</td>\n",
       "      <td>0.078908</td>\n",
       "      <td>0.087352</td>\n",
       "      <td>0.051370</td>\n",
       "      <td>0.009811</td>\n",
       "      <td>0.015026</td>\n",
       "      <td>...</td>\n",
       "      <td>0.010521</td>\n",
       "      <td>0.010272</td>\n",
       "      <td>-0.022356</td>\n",
       "      <td>0.023096</td>\n",
       "      <td>-0.053818</td>\n",
       "      <td>0.059968</td>\n",
       "      <td>-0.051931</td>\n",
       "      <td>0.116220</td>\n",
       "      <td>-0.095983</td>\n",
       "      <td>-0.024894</td>\n",
       "    </tr>\n",
       "    <tr>\n",
       "      <th>Othr</th>\n",
       "      <td>0.050890</td>\n",
       "      <td>-8.495250e-03</td>\n",
       "      <td>-0.006105</td>\n",
       "      <td>-0.042845</td>\n",
       "      <td>0.014139</td>\n",
       "      <td>-0.038969</td>\n",
       "      <td>-0.062569</td>\n",
       "      <td>-0.021274</td>\n",
       "      <td>-0.020807</td>\n",
       "      <td>-0.010691</td>\n",
       "      <td>...</td>\n",
       "      <td>-0.010097</td>\n",
       "      <td>-0.001941</td>\n",
       "      <td>-0.003372</td>\n",
       "      <td>-0.004365</td>\n",
       "      <td>0.017320</td>\n",
       "      <td>-0.011333</td>\n",
       "      <td>-0.007601</td>\n",
       "      <td>0.015892</td>\n",
       "      <td>-0.012856</td>\n",
       "      <td>-0.003227</td>\n",
       "    </tr>\n",
       "    <tr>\n",
       "      <th>Shed</th>\n",
       "      <td>-0.054229</td>\n",
       "      <td>7.808065e-03</td>\n",
       "      <td>0.108728</td>\n",
       "      <td>-0.090410</td>\n",
       "      <td>0.071139</td>\n",
       "      <td>-0.074837</td>\n",
       "      <td>-0.078394</td>\n",
       "      <td>-0.046806</td>\n",
       "      <td>-0.009804</td>\n",
       "      <td>-0.026293</td>\n",
       "      <td>...</td>\n",
       "      <td>-0.005841</td>\n",
       "      <td>-0.009768</td>\n",
       "      <td>0.025158</td>\n",
       "      <td>-0.021962</td>\n",
       "      <td>0.047504</td>\n",
       "      <td>-0.057023</td>\n",
       "      <td>0.058322</td>\n",
       "      <td>-0.119453</td>\n",
       "      <td>0.094906</td>\n",
       "      <td>0.027744</td>\n",
       "    </tr>\n",
       "    <tr>\n",
       "      <th>TenC</th>\n",
       "      <td>0.001921</td>\n",
       "      <td>1.183176e-02</td>\n",
       "      <td>0.016203</td>\n",
       "      <td>0.017056</td>\n",
       "      <td>-0.013540</td>\n",
       "      <td>0.005838</td>\n",
       "      <td>-0.008709</td>\n",
       "      <td>0.011649</td>\n",
       "      <td>0.019888</td>\n",
       "      <td>0.068582</td>\n",
       "      <td>...</td>\n",
       "      <td>-0.007137</td>\n",
       "      <td>-0.001372</td>\n",
       "      <td>-0.002383</td>\n",
       "      <td>-0.003085</td>\n",
       "      <td>0.012243</td>\n",
       "      <td>-0.008011</td>\n",
       "      <td>-0.005373</td>\n",
       "      <td>-0.061016</td>\n",
       "      <td>0.075421</td>\n",
       "      <td>-0.002281</td>\n",
       "    </tr>\n",
       "    <tr>\n",
       "      <th>COD</th>\n",
       "      <td>-0.034162</td>\n",
       "      <td>-1.409465e-02</td>\n",
       "      <td>-0.016019</td>\n",
       "      <td>-0.065259</td>\n",
       "      <td>-0.028186</td>\n",
       "      <td>-0.065414</td>\n",
       "      <td>-0.149424</td>\n",
       "      <td>0.003827</td>\n",
       "      <td>-0.027958</td>\n",
       "      <td>0.056457</td>\n",
       "      <td>...</td>\n",
       "      <td>0.335665</td>\n",
       "      <td>-0.009131</td>\n",
       "      <td>-0.015858</td>\n",
       "      <td>-0.020530</td>\n",
       "      <td>-0.171911</td>\n",
       "      <td>-0.053304</td>\n",
       "      <td>0.025969</td>\n",
       "      <td>-0.048235</td>\n",
       "      <td>0.031072</td>\n",
       "      <td>0.031671</td>\n",
       "    </tr>\n",
       "    <tr>\n",
       "      <th>CWD</th>\n",
       "      <td>0.028636</td>\n",
       "      <td>-6.070641e-03</td>\n",
       "      <td>-0.007818</td>\n",
       "      <td>0.034147</td>\n",
       "      <td>0.031788</td>\n",
       "      <td>-0.028675</td>\n",
       "      <td>-0.009183</td>\n",
       "      <td>-0.017912</td>\n",
       "      <td>0.008951</td>\n",
       "      <td>0.076364</td>\n",
       "      <td>...</td>\n",
       "      <td>0.037349</td>\n",
       "      <td>-0.002747</td>\n",
       "      <td>-0.004772</td>\n",
       "      <td>0.106555</td>\n",
       "      <td>-0.043784</td>\n",
       "      <td>-0.016038</td>\n",
       "      <td>-0.010756</td>\n",
       "      <td>-0.013672</td>\n",
       "      <td>0.024104</td>\n",
       "      <td>-0.004567</td>\n",
       "    </tr>\n",
       "    <tr>\n",
       "      <th>Con</th>\n",
       "      <td>0.028994</td>\n",
       "      <td>-3.036439e-02</td>\n",
       "      <td>-0.002872</td>\n",
       "      <td>0.037524</td>\n",
       "      <td>-0.019156</td>\n",
       "      <td>0.036472</td>\n",
       "      <td>0.028954</td>\n",
       "      <td>-0.021274</td>\n",
       "      <td>0.030694</td>\n",
       "      <td>-0.010691</td>\n",
       "      <td>...</td>\n",
       "      <td>-0.010097</td>\n",
       "      <td>-0.001941</td>\n",
       "      <td>-0.003372</td>\n",
       "      <td>-0.004365</td>\n",
       "      <td>0.017320</td>\n",
       "      <td>-0.011333</td>\n",
       "      <td>-0.007601</td>\n",
       "      <td>0.015892</td>\n",
       "      <td>-0.012856</td>\n",
       "      <td>-0.003227</td>\n",
       "    </tr>\n",
       "    <tr>\n",
       "      <th>ConLD</th>\n",
       "      <td>0.085451</td>\n",
       "      <td>3.322808e-02</td>\n",
       "      <td>-0.006018</td>\n",
       "      <td>-0.037305</td>\n",
       "      <td>-0.064332</td>\n",
       "      <td>-0.043304</td>\n",
       "      <td>-0.017296</td>\n",
       "      <td>0.001301</td>\n",
       "      <td>-0.021376</td>\n",
       "      <td>-0.022733</td>\n",
       "      <td>...</td>\n",
       "      <td>0.047499</td>\n",
       "      <td>-0.004128</td>\n",
       "      <td>-0.007170</td>\n",
       "      <td>-0.009282</td>\n",
       "      <td>-0.031583</td>\n",
       "      <td>0.007176</td>\n",
       "      <td>-0.016162</td>\n",
       "      <td>-0.014506</td>\n",
       "      <td>0.029157</td>\n",
       "      <td>-0.006862</td>\n",
       "    </tr>\n",
       "    <tr>\n",
       "      <th>ConLI</th>\n",
       "      <td>-0.001244</td>\n",
       "      <td>1.267406e-02</td>\n",
       "      <td>0.001076</td>\n",
       "      <td>0.004269</td>\n",
       "      <td>0.001299</td>\n",
       "      <td>0.002975</td>\n",
       "      <td>0.011175</td>\n",
       "      <td>0.015431</td>\n",
       "      <td>0.022726</td>\n",
       "      <td>-0.016921</td>\n",
       "      <td>...</td>\n",
       "      <td>0.030222</td>\n",
       "      <td>-0.003073</td>\n",
       "      <td>-0.005337</td>\n",
       "      <td>-0.006909</td>\n",
       "      <td>-0.003139</td>\n",
       "      <td>-0.017938</td>\n",
       "      <td>0.047508</td>\n",
       "      <td>-0.007202</td>\n",
       "      <td>-0.020348</td>\n",
       "      <td>-0.005108</td>\n",
       "    </tr>\n",
       "    <tr>\n",
       "      <th>ConLw</th>\n",
       "      <td>0.014005</td>\n",
       "      <td>-5.178743e-02</td>\n",
       "      <td>-0.015040</td>\n",
       "      <td>-0.021172</td>\n",
       "      <td>-0.019779</td>\n",
       "      <td>-0.023431</td>\n",
       "      <td>-0.039952</td>\n",
       "      <td>-0.022891</td>\n",
       "      <td>-0.017825</td>\n",
       "      <td>0.035715</td>\n",
       "      <td>...</td>\n",
       "      <td>-0.015981</td>\n",
       "      <td>-0.003073</td>\n",
       "      <td>-0.005337</td>\n",
       "      <td>-0.006909</td>\n",
       "      <td>0.027414</td>\n",
       "      <td>-0.017938</td>\n",
       "      <td>-0.012030</td>\n",
       "      <td>0.025153</td>\n",
       "      <td>-0.020348</td>\n",
       "      <td>-0.005108</td>\n",
       "    </tr>\n",
       "    <tr>\n",
       "      <th>New</th>\n",
       "      <td>-0.045156</td>\n",
       "      <td>1.265800e-01</td>\n",
       "      <td>0.020039</td>\n",
       "      <td>0.327412</td>\n",
       "      <td>-0.156175</td>\n",
       "      <td>0.346954</td>\n",
       "      <td>0.325647</td>\n",
       "      <td>0.169156</td>\n",
       "      <td>0.044883</td>\n",
       "      <td>-0.087162</td>\n",
       "      <td>...</td>\n",
       "      <td>-0.082320</td>\n",
       "      <td>-0.015827</td>\n",
       "      <td>-0.027489</td>\n",
       "      <td>-0.035587</td>\n",
       "      <td>-0.645698</td>\n",
       "      <td>0.986819</td>\n",
       "      <td>-0.061967</td>\n",
       "      <td>0.129564</td>\n",
       "      <td>-0.104816</td>\n",
       "      <td>-0.026310</td>\n",
       "    </tr>\n",
       "    <tr>\n",
       "      <th>Oth</th>\n",
       "      <td>-0.014555</td>\n",
       "      <td>-2.346123e-02</td>\n",
       "      <td>-0.005722</td>\n",
       "      <td>-0.057962</td>\n",
       "      <td>-0.050663</td>\n",
       "      <td>0.012122</td>\n",
       "      <td>-0.011431</td>\n",
       "      <td>-0.026065</td>\n",
       "      <td>0.010652</td>\n",
       "      <td>-0.013098</td>\n",
       "      <td>...</td>\n",
       "      <td>0.166449</td>\n",
       "      <td>-0.002378</td>\n",
       "      <td>-0.004131</td>\n",
       "      <td>-0.005348</td>\n",
       "      <td>-0.097031</td>\n",
       "      <td>-0.013885</td>\n",
       "      <td>-0.009312</td>\n",
       "      <td>-0.022272</td>\n",
       "      <td>0.033074</td>\n",
       "      <td>-0.003954</td>\n",
       "    </tr>\n",
       "    <tr>\n",
       "      <th>WD</th>\n",
       "      <td>0.026359</td>\n",
       "      <td>-8.992767e-02</td>\n",
       "      <td>-0.002292</td>\n",
       "      <td>-0.225013</td>\n",
       "      <td>0.163684</td>\n",
       "      <td>-0.238463</td>\n",
       "      <td>-0.182733</td>\n",
       "      <td>-0.130559</td>\n",
       "      <td>-0.024778</td>\n",
       "      <td>0.036178</td>\n",
       "      <td>...</td>\n",
       "      <td>-0.140646</td>\n",
       "      <td>0.020457</td>\n",
       "      <td>0.035530</td>\n",
       "      <td>0.028599</td>\n",
       "      <td>0.634322</td>\n",
       "      <td>-0.769559</td>\n",
       "      <td>0.039016</td>\n",
       "      <td>-0.078172</td>\n",
       "      <td>0.063672</td>\n",
       "      <td>0.010620</td>\n",
       "    </tr>\n",
       "    <tr>\n",
       "      <th>Abnorml</th>\n",
       "      <td>0.005003</td>\n",
       "      <td>-2.184645e-02</td>\n",
       "      <td>-0.029126</td>\n",
       "      <td>-0.103535</td>\n",
       "      <td>-0.046367</td>\n",
       "      <td>-0.110233</td>\n",
       "      <td>-0.135942</td>\n",
       "      <td>-0.044758</td>\n",
       "      <td>-0.024832</td>\n",
       "      <td>0.048347</td>\n",
       "      <td>...</td>\n",
       "      <td>1.000000</td>\n",
       "      <td>-0.014289</td>\n",
       "      <td>-0.024817</td>\n",
       "      <td>-0.032128</td>\n",
       "      <td>-0.582947</td>\n",
       "      <td>-0.083419</td>\n",
       "      <td>0.012590</td>\n",
       "      <td>-0.061800</td>\n",
       "      <td>0.062201</td>\n",
       "      <td>0.007461</td>\n",
       "    </tr>\n",
       "    <tr>\n",
       "      <th>AdjLand</th>\n",
       "      <td>0.016241</td>\n",
       "      <td>-3.701951e-02</td>\n",
       "      <td>-0.013208</td>\n",
       "      <td>-0.041677</td>\n",
       "      <td>-0.038888</td>\n",
       "      <td>-0.045601</td>\n",
       "      <td>-0.040294</td>\n",
       "      <td>-0.011959</td>\n",
       "      <td>-0.014874</td>\n",
       "      <td>-0.015130</td>\n",
       "      <td>...</td>\n",
       "      <td>-0.014289</td>\n",
       "      <td>1.000000</td>\n",
       "      <td>-0.004772</td>\n",
       "      <td>-0.006177</td>\n",
       "      <td>-0.112080</td>\n",
       "      <td>-0.016038</td>\n",
       "      <td>-0.010756</td>\n",
       "      <td>0.022490</td>\n",
       "      <td>-0.018194</td>\n",
       "      <td>-0.004567</td>\n",
       "    </tr>\n",
       "    <tr>\n",
       "      <th>Alloca</th>\n",
       "      <td>0.030002</td>\n",
       "      <td>-1.808977e-02</td>\n",
       "      <td>0.008966</td>\n",
       "      <td>-0.044950</td>\n",
       "      <td>-0.033444</td>\n",
       "      <td>-0.010104</td>\n",
       "      <td>-0.020727</td>\n",
       "      <td>-0.009689</td>\n",
       "      <td>0.021369</td>\n",
       "      <td>-0.026277</td>\n",
       "      <td>...</td>\n",
       "      <td>-0.024817</td>\n",
       "      <td>-0.004772</td>\n",
       "      <td>1.000000</td>\n",
       "      <td>-0.010729</td>\n",
       "      <td>-0.194663</td>\n",
       "      <td>-0.027856</td>\n",
       "      <td>0.019843</td>\n",
       "      <td>-0.002811</td>\n",
       "      <td>-0.007112</td>\n",
       "      <td>-0.007932</td>\n",
       "    </tr>\n",
       "    <tr>\n",
       "      <th>Family</th>\n",
       "      <td>0.000983</td>\n",
       "      <td>1.581790e-02</td>\n",
       "      <td>-0.010781</td>\n",
       "      <td>-0.025515</td>\n",
       "      <td>-0.023873</td>\n",
       "      <td>-0.035785</td>\n",
       "      <td>-0.048056</td>\n",
       "      <td>-0.009914</td>\n",
       "      <td>0.000765</td>\n",
       "      <td>-0.007929</td>\n",
       "      <td>...</td>\n",
       "      <td>-0.032128</td>\n",
       "      <td>-0.006177</td>\n",
       "      <td>-0.010729</td>\n",
       "      <td>1.000000</td>\n",
       "      <td>-0.252006</td>\n",
       "      <td>-0.036062</td>\n",
       "      <td>0.005739</td>\n",
       "      <td>-0.030741</td>\n",
       "      <td>0.016155</td>\n",
       "      <td>0.057876</td>\n",
       "    </tr>\n",
       "    <tr>\n",
       "      <th>Normal</th>\n",
       "      <td>0.024359</td>\n",
       "      <td>-7.207418e-02</td>\n",
       "      <td>0.005711</td>\n",
       "      <td>-0.143282</td>\n",
       "      <td>0.161642</td>\n",
       "      <td>-0.158427</td>\n",
       "      <td>-0.120577</td>\n",
       "      <td>-0.084241</td>\n",
       "      <td>-0.019560</td>\n",
       "      <td>0.041207</td>\n",
       "      <td>...</td>\n",
       "      <td>-0.582947</td>\n",
       "      <td>-0.112080</td>\n",
       "      <td>-0.194663</td>\n",
       "      <td>-0.252006</td>\n",
       "      <td>1.000000</td>\n",
       "      <td>-0.654323</td>\n",
       "      <td>0.032519</td>\n",
       "      <td>-0.047956</td>\n",
       "      <td>0.035573</td>\n",
       "      <td>-0.000537</td>\n",
       "    </tr>\n",
       "    <tr>\n",
       "      <th>Partial</th>\n",
       "      <td>-0.051068</td>\n",
       "      <td>1.248421e-01</td>\n",
       "      <td>0.022635</td>\n",
       "      <td>0.323295</td>\n",
       "      <td>-0.151659</td>\n",
       "      <td>0.343895</td>\n",
       "      <td>0.322837</td>\n",
       "      <td>0.165606</td>\n",
       "      <td>0.044912</td>\n",
       "      <td>-0.085761</td>\n",
       "      <td>...</td>\n",
       "      <td>-0.083419</td>\n",
       "      <td>-0.016038</td>\n",
       "      <td>-0.027856</td>\n",
       "      <td>-0.036062</td>\n",
       "      <td>-0.654323</td>\n",
       "      <td>1.000000</td>\n",
       "      <td>-0.062794</td>\n",
       "      <td>0.131294</td>\n",
       "      <td>-0.106217</td>\n",
       "      <td>-0.026661</td>\n",
       "    </tr>\n",
       "    <tr>\n",
       "      <th>GdPrv</th>\n",
       "      <td>0.001074</td>\n",
       "      <td>2.758394e-02</td>\n",
       "      <td>0.000071</td>\n",
       "      <td>0.030543</td>\n",
       "      <td>0.093972</td>\n",
       "      <td>-0.068752</td>\n",
       "      <td>-0.006923</td>\n",
       "      <td>-0.017177</td>\n",
       "      <td>-0.006185</td>\n",
       "      <td>0.047442</td>\n",
       "      <td>...</td>\n",
       "      <td>0.012590</td>\n",
       "      <td>-0.010756</td>\n",
       "      <td>0.019843</td>\n",
       "      <td>0.005739</td>\n",
       "      <td>0.032519</td>\n",
       "      <td>-0.062794</td>\n",
       "      <td>1.000000</td>\n",
       "      <td>-0.478273</td>\n",
       "      <td>-0.071234</td>\n",
       "      <td>-0.017880</td>\n",
       "    </tr>\n",
       "    <tr>\n",
       "      <th>GdWo</th>\n",
       "      <td>0.072221</td>\n",
       "      <td>-2.006461e-02</td>\n",
       "      <td>0.041632</td>\n",
       "      <td>0.137465</td>\n",
       "      <td>-0.177389</td>\n",
       "      <td>0.202700</td>\n",
       "      <td>0.119660</td>\n",
       "      <td>0.104648</td>\n",
       "      <td>0.016024</td>\n",
       "      <td>-0.103501</td>\n",
       "      <td>...</td>\n",
       "      <td>-0.061800</td>\n",
       "      <td>0.022490</td>\n",
       "      <td>-0.002811</td>\n",
       "      <td>-0.030741</td>\n",
       "      <td>-0.047956</td>\n",
       "      <td>0.131294</td>\n",
       "      <td>-0.478273</td>\n",
       "      <td>1.000000</td>\n",
       "      <td>-0.808996</td>\n",
       "      <td>-0.203063</td>\n",
       "    </tr>\n",
       "    <tr>\n",
       "      <th>MnPrv</th>\n",
       "      <td>-0.076225</td>\n",
       "      <td>6.588237e-03</td>\n",
       "      <td>-0.045656</td>\n",
       "      <td>-0.164067</td>\n",
       "      <td>0.126547</td>\n",
       "      <td>-0.176190</td>\n",
       "      <td>-0.128867</td>\n",
       "      <td>-0.104046</td>\n",
       "      <td>-0.021130</td>\n",
       "      <td>0.083806</td>\n",
       "      <td>...</td>\n",
       "      <td>0.062201</td>\n",
       "      <td>-0.018194</td>\n",
       "      <td>-0.007112</td>\n",
       "      <td>0.016155</td>\n",
       "      <td>0.035573</td>\n",
       "      <td>-0.106217</td>\n",
       "      <td>-0.071234</td>\n",
       "      <td>-0.808996</td>\n",
       "      <td>1.000000</td>\n",
       "      <td>-0.030244</td>\n",
       "    </tr>\n",
       "    <tr>\n",
       "      <th>MnWw</th>\n",
       "      <td>-0.032006</td>\n",
       "      <td>-2.338337e-03</td>\n",
       "      <td>-0.011054</td>\n",
       "      <td>-0.057822</td>\n",
       "      <td>0.075983</td>\n",
       "      <td>-0.061636</td>\n",
       "      <td>-0.023996</td>\n",
       "      <td>-0.026659</td>\n",
       "      <td>0.022636</td>\n",
       "      <td>0.025441</td>\n",
       "      <td>...</td>\n",
       "      <td>0.007461</td>\n",
       "      <td>-0.004567</td>\n",
       "      <td>-0.007932</td>\n",
       "      <td>0.057876</td>\n",
       "      <td>-0.000537</td>\n",
       "      <td>-0.026661</td>\n",
       "      <td>-0.017880</td>\n",
       "      <td>-0.203063</td>\n",
       "      <td>-0.030244</td>\n",
       "      <td>1.000000</td>\n",
       "    </tr>\n",
       "  </tbody>\n",
       "</table>\n",
       "<p>200 rows × 200 columns</p>\n",
       "</div>"
      ],
      "text/plain": [
       "               MSSubClass   LotFrontage   LotArea  OverallQual  OverallCond  \\\n",
       "MSSubClass       1.000000 -3.570559e-01 -0.139781     0.032628    -0.059316   \n",
       "LotFrontage     -0.357056  1.000000e+00  0.306795     0.234196    -0.052820   \n",
       "LotArea         -0.139781  3.067946e-01  1.000000     0.105806    -0.005636   \n",
       "OverallQual      0.032628  2.341962e-01  0.105806     1.000000    -0.091932   \n",
       "OverallCond     -0.059316 -5.282010e-02 -0.005636    -0.091932     1.000000   \n",
       "YearBuilt        0.027850  1.175980e-01  0.014228     0.572323    -0.375983   \n",
       "YearRemodAdd     0.040581  8.274589e-02  0.013788     0.550684     0.073741   \n",
       "MasVnrArea       0.022895  1.792835e-01  0.103960     0.410238    -0.127788   \n",
       "BsmtFinSF1      -0.069836  2.158284e-01  0.214103     0.239666    -0.046231   \n",
       "BsmtFinSF2      -0.065649  4.333957e-02  0.111170    -0.059119     0.040229   \n",
       "BsmtUnfSF       -0.140759  1.221556e-01 -0.002618     0.308159    -0.136841   \n",
       "TotalBsmtSF     -0.238518  3.633577e-01  0.260833     0.537808    -0.171098   \n",
       "1stFlrSF        -0.251758  4.142664e-01  0.299475     0.476224    -0.144203   \n",
       "2ndFlrSF         0.307886  7.248267e-02  0.050986     0.295493     0.028942   \n",
       "LowQualFinSF     0.046474  3.684872e-02  0.004779    -0.030429     0.025494   \n",
       "GrLivArea        0.074853  3.683920e-01  0.263116     0.593007    -0.079686   \n",
       "BsmtFullBath     0.003491  9.148099e-02  0.158155     0.111098    -0.054942   \n",
       "BsmtHalfBath    -0.002333 -6.419220e-03  0.048046    -0.040150     0.117821   \n",
       "FullBath         0.131608  1.804242e-01  0.126031     0.550600    -0.194149   \n",
       "HalfBath         0.177354  4.825836e-02  0.014259     0.273458    -0.060769   \n",
       "BedroomAbvGr    -0.023438  2.370232e-01  0.119690     0.101676     0.012980   \n",
       "KitchenAbvGr     0.281721 -5.804607e-03 -0.017784    -0.183882    -0.087001   \n",
       "TotRmsAbvGrd     0.040380  3.201464e-01  0.190015     0.427452    -0.057583   \n",
       "Fireplaces      -0.045569  2.357546e-01  0.271364     0.396765    -0.023820   \n",
       "GarageYrBlt      0.045824  9.383239e-02  0.002241     0.576587    -0.284036   \n",
       "GarageCars      -0.040110  2.697289e-01  0.154871     0.600671    -0.185758   \n",
       "GarageArea      -0.098672  3.236629e-01  0.180403     0.562022    -0.151521   \n",
       "WoodDeckSF      -0.012579  7.710622e-02  0.171698     0.238923    -0.003334   \n",
       "OpenPorchSF     -0.006100  1.374545e-01  0.084774     0.308819    -0.032589   \n",
       "EnclosedPorch   -0.012037  9.790061e-03 -0.018340    -0.113937     0.070356   \n",
       "...                   ...           ...       ...          ...          ...   \n",
       "BuiltIn          0.077454  7.669885e-02  0.037552     0.198299    -0.063721   \n",
       "CarPort          0.038889  2.130417e-02  0.009136    -0.100601    -0.032867   \n",
       "Detchd           0.062966 -2.433133e-01 -0.126094    -0.337227     0.183224   \n",
       "N                0.069317 -8.822358e-02 -0.019325    -0.214103     0.044082   \n",
       "P               -0.025338 -1.255426e-02  0.012568    -0.076757     0.068313   \n",
       "Y               -0.047611  8.373890e-02  0.010431     0.227129    -0.073886   \n",
       "Gar2            -0.001662  7.315988e-18  0.019726    -0.016055     0.030786   \n",
       "No               0.041835 -7.426309e-03 -0.108671     0.095455    -0.074813   \n",
       "Othr             0.050890 -8.495250e-03 -0.006105    -0.042845     0.014139   \n",
       "Shed            -0.054229  7.808065e-03  0.108728    -0.090410     0.071139   \n",
       "TenC             0.001921  1.183176e-02  0.016203     0.017056    -0.013540   \n",
       "COD             -0.034162 -1.409465e-02 -0.016019    -0.065259    -0.028186   \n",
       "CWD              0.028636 -6.070641e-03 -0.007818     0.034147     0.031788   \n",
       "Con              0.028994 -3.036439e-02 -0.002872     0.037524    -0.019156   \n",
       "ConLD            0.085451  3.322808e-02 -0.006018    -0.037305    -0.064332   \n",
       "ConLI           -0.001244  1.267406e-02  0.001076     0.004269     0.001299   \n",
       "ConLw            0.014005 -5.178743e-02 -0.015040    -0.021172    -0.019779   \n",
       "New             -0.045156  1.265800e-01  0.020039     0.327412    -0.156175   \n",
       "Oth             -0.014555 -2.346123e-02 -0.005722    -0.057962    -0.050663   \n",
       "WD               0.026359 -8.992767e-02 -0.002292    -0.225013     0.163684   \n",
       "Abnorml          0.005003 -2.184645e-02 -0.029126    -0.103535    -0.046367   \n",
       "AdjLand          0.016241 -3.701951e-02 -0.013208    -0.041677    -0.038888   \n",
       "Alloca           0.030002 -1.808977e-02  0.008966    -0.044950    -0.033444   \n",
       "Family           0.000983  1.581790e-02 -0.010781    -0.025515    -0.023873   \n",
       "Normal           0.024359 -7.207418e-02  0.005711    -0.143282     0.161642   \n",
       "Partial         -0.051068  1.248421e-01  0.022635     0.323295    -0.151659   \n",
       "GdPrv            0.001074  2.758394e-02  0.000071     0.030543     0.093972   \n",
       "GdWo             0.072221 -2.006461e-02  0.041632     0.137465    -0.177389   \n",
       "MnPrv           -0.076225  6.588237e-03 -0.045656    -0.164067     0.126547   \n",
       "MnWw            -0.032006 -2.338337e-03 -0.011054    -0.057822     0.075983   \n",
       "\n",
       "               YearBuilt  YearRemodAdd  MasVnrArea  BsmtFinSF1  BsmtFinSF2  \\\n",
       "MSSubClass      0.027850      0.040581    0.022895   -0.069836   -0.065649   \n",
       "LotFrontage     0.117598      0.082746    0.179283    0.215828    0.043340   \n",
       "LotArea         0.014228      0.013788    0.103960    0.214103    0.111170   \n",
       "OverallQual     0.572323      0.550684    0.410238    0.239666   -0.059119   \n",
       "OverallCond    -0.375983      0.073741   -0.127788   -0.046231    0.040229   \n",
       "YearBuilt       1.000000      0.592855    0.314745    0.249503   -0.049107   \n",
       "YearRemodAdd    0.592855      1.000000    0.179186    0.128451   -0.067759   \n",
       "MasVnrArea      0.314745      0.179186    1.000000    0.263582   -0.072302   \n",
       "BsmtFinSF1      0.249503      0.128451    0.263582    1.000000   -0.050117   \n",
       "BsmtFinSF2     -0.049107     -0.067759   -0.072302   -0.050117    1.000000   \n",
       "BsmtUnfSF       0.149040      0.181133    0.114184   -0.495251   -0.209294   \n",
       "TotalBsmtSF     0.391452      0.291066    0.362452    0.522396    0.104810   \n",
       "1stFlrSF        0.281986      0.240379    0.342160    0.445863    0.097117   \n",
       "2ndFlrSF        0.010308      0.140024    0.174019   -0.137079   -0.099260   \n",
       "LowQualFinSF   -0.183784     -0.062419   -0.069068   -0.064503    0.014807   \n",
       "GrLivArea       0.199010      0.287389    0.389893    0.208171   -0.009640   \n",
       "BsmtFullBath    0.187599      0.119470    0.085055    0.649212    0.158678   \n",
       "BsmtHalfBath   -0.038162     -0.012337    0.026669    0.067418    0.070948   \n",
       "FullBath        0.468271      0.439046    0.275730    0.058543   -0.076444   \n",
       "HalfBath        0.242656      0.183331    0.200802    0.004262   -0.032148   \n",
       "BedroomAbvGr   -0.070651     -0.040581    0.102417   -0.107355   -0.015728   \n",
       "KitchenAbvGr   -0.174800     -0.149598   -0.037364   -0.081007   -0.040751   \n",
       "TotRmsAbvGrd    0.095589      0.191740    0.280027    0.044316   -0.035227   \n",
       "Fireplaces      0.147716      0.112581    0.247906    0.260011    0.046921   \n",
       "GarageYrBlt     0.812355      0.619456    0.275701    0.178379   -0.068074   \n",
       "GarageCars      0.537850      0.420622    0.363778    0.224054   -0.038264   \n",
       "GarageArea      0.478954      0.371600    0.372567    0.296970   -0.018227   \n",
       "WoodDeckSF      0.224880      0.205726    0.159349    0.204306    0.067898   \n",
       "OpenPorchSF     0.188686      0.226298    0.124965    0.111761    0.003093   \n",
       "EnclosedPorch  -0.387268     -0.193919   -0.109849   -0.102303    0.036543   \n",
       "...                  ...           ...         ...         ...         ...   \n",
       "BuiltIn         0.201547      0.184043    0.116666   -0.069965   -0.062664   \n",
       "CarPort        -0.056346     -0.065208   -0.036367   -0.014908    0.064902   \n",
       "Detchd         -0.487130     -0.310921   -0.184065   -0.212286   -0.027893   \n",
       "N              -0.387961     -0.133838   -0.128009   -0.172084   -0.053658   \n",
       "P              -0.180702     -0.135676   -0.073864   -0.079791   -0.041809   \n",
       "Y               0.433060      0.187277    0.150245    0.191902    0.068581   \n",
       "Gar2           -0.003395      0.004727   -0.021172    0.004416    0.013539   \n",
       "No              0.078908      0.087352    0.051370    0.009811    0.015026   \n",
       "Othr           -0.038969     -0.062569   -0.021274   -0.020807   -0.010691   \n",
       "Shed           -0.074837     -0.078394   -0.046806   -0.009804   -0.026293   \n",
       "TenC            0.005838     -0.008709    0.011649    0.019888    0.068582   \n",
       "COD            -0.065414     -0.149424    0.003827   -0.027958    0.056457   \n",
       "CWD            -0.028675     -0.009183   -0.017912    0.008951    0.076364   \n",
       "Con             0.036472      0.028954   -0.021274    0.030694   -0.010691   \n",
       "ConLD          -0.043304     -0.017296    0.001301   -0.021376   -0.022733   \n",
       "ConLI           0.002975      0.011175    0.015431    0.022726   -0.016921   \n",
       "ConLw          -0.023431     -0.039952   -0.022891   -0.017825    0.035715   \n",
       "New             0.346954      0.325647    0.169156    0.044883   -0.087162   \n",
       "Oth             0.012122     -0.011431   -0.026065    0.010652   -0.013098   \n",
       "WD             -0.238463     -0.182733   -0.130559   -0.024778    0.036178   \n",
       "Abnorml        -0.110233     -0.135942   -0.044758   -0.024832    0.048347   \n",
       "AdjLand        -0.045601     -0.040294   -0.011959   -0.014874   -0.015130   \n",
       "Alloca         -0.010104     -0.020727   -0.009689    0.021369   -0.026277   \n",
       "Family         -0.035785     -0.048056   -0.009914    0.000765   -0.007929   \n",
       "Normal         -0.158427     -0.120577   -0.084241   -0.019560    0.041207   \n",
       "Partial         0.343895      0.322837    0.165606    0.044912   -0.085761   \n",
       "GdPrv          -0.068752     -0.006923   -0.017177   -0.006185    0.047442   \n",
       "GdWo            0.202700      0.119660    0.104648    0.016024   -0.103501   \n",
       "MnPrv          -0.176190     -0.128867   -0.104046   -0.021130    0.083806   \n",
       "MnWw           -0.061636     -0.023996   -0.026659    0.022636    0.025441   \n",
       "\n",
       "               ...   Abnorml   AdjLand    Alloca    Family    Normal  \\\n",
       "MSSubClass     ...  0.005003  0.016241  0.030002  0.000983  0.024359   \n",
       "LotFrontage    ... -0.021846 -0.037020 -0.018090  0.015818 -0.072074   \n",
       "LotArea        ... -0.029126 -0.013208  0.008966 -0.010781  0.005711   \n",
       "OverallQual    ... -0.103535 -0.041677 -0.044950 -0.025515 -0.143282   \n",
       "OverallCond    ... -0.046367 -0.038888 -0.033444 -0.023873  0.161642   \n",
       "YearBuilt      ... -0.110233 -0.045601 -0.010104 -0.035785 -0.158427   \n",
       "YearRemodAdd   ... -0.135942 -0.040294 -0.020727 -0.048056 -0.120577   \n",
       "MasVnrArea     ... -0.044758 -0.011959 -0.009689 -0.009914 -0.084241   \n",
       "BsmtFinSF1     ... -0.024832 -0.014874  0.021369  0.000765 -0.019560   \n",
       "BsmtFinSF2     ...  0.048347 -0.015130 -0.026277 -0.007929  0.041207   \n",
       "BsmtUnfSF      ... -0.023821 -0.034618 -0.059130  0.021534 -0.153930   \n",
       "TotalBsmtSF    ... -0.032031 -0.055895 -0.047002  0.019569 -0.160222   \n",
       "1stFlrSF       ... -0.030196 -0.037451  0.068107  0.021949 -0.158772   \n",
       "2ndFlrSF       ... -0.030743 -0.014533 -0.020234 -0.027180  0.031766   \n",
       "LowQualFinSF   ...  0.071119 -0.006302 -0.010946 -0.014171 -0.012476   \n",
       "GrLivArea      ... -0.041173 -0.040208  0.032283 -0.007743 -0.091572   \n",
       "BsmtFullBath   ... -0.020603 -0.017717  0.071600 -0.039836  0.018718   \n",
       "BsmtHalfBath   ...  0.036065  0.097169 -0.021945  0.045658 -0.014404   \n",
       "FullBath       ... -0.093473 -0.006193  0.016794 -0.003225 -0.110040   \n",
       "HalfBath       ... -0.057292 -0.013854  0.006119 -0.042872  0.011766   \n",
       "BedroomAbvGr   ... -0.014928  0.040721  0.024212  0.062656  0.021903   \n",
       "KitchenAbvGr   ...  0.015880 -0.011083  0.221842  0.055337 -0.046979   \n",
       "TotRmsAbvGrd   ... -0.050332 -0.008639  0.059698  0.031347 -0.092644   \n",
       "Fireplaces     ... -0.087597 -0.049858 -0.004193 -0.002380  0.018307   \n",
       "GarageYrBlt    ... -0.129848 -0.074597 -0.021504 -0.032374 -0.139073   \n",
       "GarageCars     ... -0.110124 -0.106443  0.028378 -0.010589 -0.121886   \n",
       "GarageArea     ... -0.096837 -0.101277 -0.005458 -0.016173 -0.130874   \n",
       "WoodDeckSF     ... -0.049907 -0.039425 -0.001873 -0.012599  0.027467   \n",
       "OpenPorchSF    ... -0.010135 -0.007051 -0.028855 -0.038808 -0.095616   \n",
       "EnclosedPorch  ...  0.082110 -0.018834 -0.007878  0.000860  0.025971   \n",
       "...            ...       ...       ...       ...       ...       ...   \n",
       "BuiltIn        ... -0.035018 -0.013274 -0.023055 -0.005088 -0.054061   \n",
       "CarPort        ...  0.047499 -0.004128  0.089753 -0.009282 -0.031583   \n",
       "Detchd         ...  0.038087 -0.001789 -0.003108  0.022678  0.082693   \n",
       "N              ...  0.053577  0.095532  0.008210 -0.030206  0.008540   \n",
       "P              ... -0.039486  0.084775 -0.013186 -0.017070  0.055153   \n",
       "Y              ... -0.026521 -0.127442 -0.000378  0.035267 -0.035966   \n",
       "Gar2           ... -0.010097 -0.001941 -0.003372 -0.004365  0.017320   \n",
       "No             ...  0.010521  0.010272 -0.022356  0.023096 -0.053818   \n",
       "Othr           ... -0.010097 -0.001941 -0.003372 -0.004365  0.017320   \n",
       "Shed           ... -0.005841 -0.009768  0.025158 -0.021962  0.047504   \n",
       "TenC           ... -0.007137 -0.001372 -0.002383 -0.003085  0.012243   \n",
       "COD            ...  0.335665 -0.009131 -0.015858 -0.020530 -0.171911   \n",
       "CWD            ...  0.037349 -0.002747 -0.004772  0.106555 -0.043784   \n",
       "Con            ... -0.010097 -0.001941 -0.003372 -0.004365  0.017320   \n",
       "ConLD          ...  0.047499 -0.004128 -0.007170 -0.009282 -0.031583   \n",
       "ConLI          ...  0.030222 -0.003073 -0.005337 -0.006909 -0.003139   \n",
       "ConLw          ... -0.015981 -0.003073 -0.005337 -0.006909  0.027414   \n",
       "New            ... -0.082320 -0.015827 -0.027489 -0.035587 -0.645698   \n",
       "Oth            ...  0.166449 -0.002378 -0.004131 -0.005348 -0.097031   \n",
       "WD             ... -0.140646  0.020457  0.035530  0.028599  0.634322   \n",
       "Abnorml        ...  1.000000 -0.014289 -0.024817 -0.032128 -0.582947   \n",
       "AdjLand        ... -0.014289  1.000000 -0.004772 -0.006177 -0.112080   \n",
       "Alloca         ... -0.024817 -0.004772  1.000000 -0.010729 -0.194663   \n",
       "Family         ... -0.032128 -0.006177 -0.010729  1.000000 -0.252006   \n",
       "Normal         ... -0.582947 -0.112080 -0.194663 -0.252006  1.000000   \n",
       "Partial        ... -0.083419 -0.016038 -0.027856 -0.036062 -0.654323   \n",
       "GdPrv          ...  0.012590 -0.010756  0.019843  0.005739  0.032519   \n",
       "GdWo           ... -0.061800  0.022490 -0.002811 -0.030741 -0.047956   \n",
       "MnPrv          ...  0.062201 -0.018194 -0.007112  0.016155  0.035573   \n",
       "MnWw           ...  0.007461 -0.004567 -0.007932  0.057876 -0.000537   \n",
       "\n",
       "                Partial     GdPrv      GdWo     MnPrv      MnWw  \n",
       "MSSubClass    -0.051068  0.001074  0.072221 -0.076225 -0.032006  \n",
       "LotFrontage    0.124842  0.027584 -0.020065  0.006588 -0.002338  \n",
       "LotArea        0.022635  0.000071  0.041632 -0.045656 -0.011054  \n",
       "OverallQual    0.323295  0.030543  0.137465 -0.164067 -0.057822  \n",
       "OverallCond   -0.151659  0.093972 -0.177389  0.126547  0.075983  \n",
       "YearBuilt      0.343895 -0.068752  0.202700 -0.176190 -0.061636  \n",
       "YearRemodAdd   0.322837 -0.006923  0.119660 -0.128867 -0.023996  \n",
       "MasVnrArea     0.165606 -0.017177  0.104648 -0.104046 -0.026659  \n",
       "BsmtFinSF1     0.044912 -0.006185  0.016024 -0.021130  0.022636  \n",
       "BsmtFinSF2    -0.085761  0.047442 -0.103501  0.083806  0.025441  \n",
       "BsmtUnfSF      0.249315 -0.049531  0.119726 -0.090195 -0.065786  \n",
       "TotalBsmtSF    0.266268 -0.038873  0.099189 -0.081996 -0.033372  \n",
       "1stFlrSF       0.221037 -0.010512  0.071480 -0.065886 -0.039555  \n",
       "2ndFlrSF       0.004852  0.063856  0.036945 -0.074376 -0.033778  \n",
       "LowQualFinSF  -0.036793  0.044307 -0.063165  0.043186  0.009078  \n",
       "GrLivArea      0.163239  0.049413  0.077433 -0.106262 -0.056320  \n",
       "BsmtFullBath  -0.010230  0.039593 -0.027137  0.013730 -0.025634  \n",
       "BsmtHalfBath  -0.042994  0.008824 -0.039121  0.018223  0.078558  \n",
       "FullBath       0.232767 -0.027404  0.175969 -0.167472 -0.075015  \n",
       "HalfBath       0.054248  0.051271  0.037273 -0.070859 -0.019091  \n",
       "BedroomAbvGr  -0.057949  0.054935 -0.035506  0.018895 -0.044007  \n",
       "KitchenAbvGr  -0.042476 -0.011811  0.039240 -0.033248 -0.018424  \n",
       "TotRmsAbvGrd   0.142032  0.060900  0.042510 -0.077964 -0.037516  \n",
       "Fireplaces     0.065993  0.026080  0.029782 -0.038573 -0.046007  \n",
       "GarageYrBlt    0.342821 -0.054963  0.184543 -0.170014 -0.039076  \n",
       "GarageCars     0.282164  0.003444  0.142036 -0.155193 -0.047058  \n",
       "GarageArea     0.294714  0.000589  0.116176 -0.125260 -0.039423  \n",
       "WoodDeckSF     0.020796  0.070776 -0.044903  0.004969  0.009186  \n",
       "OpenPorchSF    0.167075  0.016912  0.040778 -0.061410  0.010612  \n",
       "EnclosedPorch -0.104382  0.042452 -0.061237  0.040500  0.014844  \n",
       "...                 ...       ...       ...       ...       ...  \n",
       "BuiltIn        0.117935 -0.037358  0.084840 -0.069331 -0.022066  \n",
       "CarPort       -0.024099 -0.016162  0.033792 -0.027338 -0.006862  \n",
       "Detchd        -0.156037  0.002845 -0.106334  0.117138  0.019458  \n",
       "N             -0.068250  0.019712 -0.031491  0.021345  0.010602  \n",
       "P             -0.044321 -0.029723 -0.017796  0.043232 -0.012620  \n",
       "Y              0.082657 -0.001908  0.036767 -0.041021 -0.002765  \n",
       "Gar2          -0.011333 -0.007601  0.015892 -0.012856 -0.003227  \n",
       "No             0.059968 -0.051931  0.116220 -0.095983 -0.024894  \n",
       "Othr          -0.011333 -0.007601  0.015892 -0.012856 -0.003227  \n",
       "Shed          -0.057023  0.058322 -0.119453  0.094906  0.027744  \n",
       "TenC          -0.008011 -0.005373 -0.061016  0.075421 -0.002281  \n",
       "COD           -0.053304  0.025969 -0.048235  0.031072  0.031671  \n",
       "CWD           -0.016038 -0.010756 -0.013672  0.024104 -0.004567  \n",
       "Con           -0.011333 -0.007601  0.015892 -0.012856 -0.003227  \n",
       "ConLD          0.007176 -0.016162 -0.014506  0.029157 -0.006862  \n",
       "ConLI         -0.017938  0.047508 -0.007202 -0.020348 -0.005108  \n",
       "ConLw         -0.017938 -0.012030  0.025153 -0.020348 -0.005108  \n",
       "New            0.986819 -0.061967  0.129564 -0.104816 -0.026310  \n",
       "Oth           -0.013885 -0.009312 -0.022272  0.033074 -0.003954  \n",
       "WD            -0.769559  0.039016 -0.078172  0.063672  0.010620  \n",
       "Abnorml       -0.083419  0.012590 -0.061800  0.062201  0.007461  \n",
       "AdjLand       -0.016038 -0.010756  0.022490 -0.018194 -0.004567  \n",
       "Alloca        -0.027856  0.019843 -0.002811 -0.007112 -0.007932  \n",
       "Family        -0.036062  0.005739 -0.030741  0.016155  0.057876  \n",
       "Normal        -0.654323  0.032519 -0.047956  0.035573 -0.000537  \n",
       "Partial        1.000000 -0.062794  0.131294 -0.106217 -0.026661  \n",
       "GdPrv         -0.062794  1.000000 -0.478273 -0.071234 -0.017880  \n",
       "GdWo           0.131294 -0.478273  1.000000 -0.808996 -0.203063  \n",
       "MnPrv         -0.106217 -0.071234 -0.808996  1.000000 -0.030244  \n",
       "MnWw          -0.026661 -0.017880 -0.203063 -0.030244  1.000000  \n",
       "\n",
       "[200 rows x 200 columns]"
      ]
     },
     "execution_count": 87,
     "metadata": {},
     "output_type": "execute_result"
    }
   ],
   "source": [
    "data.corr()"
   ]
  },
  {
   "cell_type": "code",
   "execution_count": 88,
   "metadata": {},
   "outputs": [
    {
     "data": {
      "image/png": "[encoded data removed]",
      "text/plain": [
       "<Figure size 3600x3240 with 2 Axes>"
      ]
     },
     "metadata": {
      "needs_background": "light"
     },
     "output_type": "display_data"
    }
   ],
   "source": [
    "plt.figure(figsize=(50, 45))\n",
    "ax = sns.heatmap(data.corr(), cmap=sns.color_palette(\"RdBu_r\", 1000), vmin=-1, center=0)"
   ]
  },
  {
   "cell_type": "markdown",
   "metadata": {},
   "source": [
    "## 5 (0.5)"
   ]
  },
  {
   "cell_type": "markdown",
   "metadata": {},
   "source": [
    "Найдите признаки с максимальным и минимальным **абсолютным** значением коэффициента корреляции Пирсона с предсказываемым значением. Изобразите на графиках зависимость найденных признаков от предсказываемого значения.\n",
    "\n",
    "*Не забудьте указать название графика и обозначить, что изображено по каждой из осей.*"
   ]
  },
  {
   "cell_type": "code",
   "execution_count": 89,
   "metadata": {},
   "outputs": [],
   "source": [
    "corr = data.corr()['SalePrice']\n",
    "corr.drop('SalePrice', inplace = True)"
   ]
  },
  {
   "cell_type": "code",
   "execution_count": 90,
   "metadata": {},
   "outputs": [
    {
     "name": "stdout",
     "output_type": "stream",
     "text": [
      "Минимальный коэффициентт корреляции Пирсона:  Metal\n",
      "Максимальный коэффициентт корреляции Пирсона:  OverallQual\n"
     ]
    }
   ],
   "source": [
    "print('Минимальный коэффициентт корреляции Пирсона: ', abs(corr).idxmin())\n",
    "print('Максимальный коэффициентт корреляции Пирсона: ', abs(corr).idxmax())"
   ]
  },
  {
   "cell_type": "code",
   "execution_count": 91,
   "metadata": {},
   "outputs": [
    {
     "data": {
      "image/png": "[encoded data removed]",
      "text/plain": [
       "<Figure size 432x288 with 1 Axes>"
      ]
     },
     "metadata": {
      "needs_background": "light"
     },
     "output_type": "display_data"
    }
   ],
   "source": [
    "plt.plot(data.Metal, data.SalePrice, linestyle='none', marker='o', c = 'r', label = 'Metall')\n",
    "plt.plot(data.OverallQual, data.SalePrice, linestyle='none', marker='v', c = 'b',label = 'OverallQual')\n",
    "plt.title('Corr')\n",
    "plt.legend()\n",
    "plt.show()"
   ]
  },
  {
   "cell_type": "markdown",
   "metadata": {},
   "source": [
    "## 6 (0.5)"
   ]
  },
  {
   "cell_type": "markdown",
   "metadata": {},
   "source": [
    "Постройте гистограмму распределения предсказываемого значения. Для избавления от разницы в масштабах, а также «смещения» распределения переменной в сторону нормального (что бывает полезно при статистическом анализе), можно прологарифмировать ее (это обратимое преобразование, поэтому целевую переменную легко восстановить). В данном случае воспользуйтесь `numpy.log1p`, чтобы сделать преобразование $y \\to \\ln\\left(1 + y\\right)$. Постройте гистограмму распределения от нового предсказываемого значения. Опишите наблюдения.\n",
    "\n",
    "*В дальнейшем используйте в качестве предсказываемого значения вектор, который получился после логарифмирования.*"
   ]
  },
  {
   "cell_type": "code",
   "execution_count": 92,
   "metadata": {},
   "outputs": [
    {
     "data": {
      "text/plain": [
       "(array([  3.,   2.,   0.,   2.,   3.,   7.,   5.,  10.,  39.,  35.,  49.,\n",
       "        100., 138., 186., 146., 156., 142., 102., 100.,  68.,  52.,  44.,\n",
       "         22.,  24.,  12.,   4.,   3.,   3.,   1.,   2.]),\n",
       " array([10.46027076, 10.56274421, 10.66521767, 10.76769112, 10.87016457,\n",
       "        10.97263803, 11.07511148, 11.17758493, 11.28005839, 11.38253184,\n",
       "        11.48500529, 11.58747874, 11.6899522 , 11.79242565, 11.8948991 ,\n",
       "        11.99737256, 12.09984601, 12.20231946, 12.30479292, 12.40726637,\n",
       "        12.50973982, 12.61221328, 12.71468673, 12.81716018, 12.91963363,\n",
       "        13.02210709, 13.12458054, 13.22705399, 13.32952745, 13.4320009 ,\n",
       "        13.53447435]),\n",
       " <a list of 30 Patch objects>)"
      ]
     },
     "execution_count": 92,
     "metadata": {},
     "output_type": "execute_result"
    },
    {
     "data": {
      "image/png": "[encoded data removed]",
      "text/plain": [
       "<Figure size 1440x720 with 2 Axes>"
      ]
     },
     "metadata": {
      "needs_background": "light"
     },
     "output_type": "display_data"
    }
   ],
   "source": [
    "plt.figure(figsize=[20, 10])\n",
    "plt.subplot(1, 2, 1)\n",
    "plt.hist(data.SalePrice, bins=30)\n",
    "\n",
    "plt.subplot(1, 2, 2)\n",
    "plt.hist(np.log1p(data.SalePrice), bins=30)"
   ]
  },
  {
   "cell_type": "markdown",
   "metadata": {},
   "source": [
    "Перейдем непосредственно к построению моделей. Разобьем выборку на обучение и контроль.\n",
    "\n",
    "*Пожалуйста, **не меняйте** значение `random_state` в следующей ячейке.*"
   ]
  },
  {
   "cell_type": "code",
   "execution_count": 93,
   "metadata": {},
   "outputs": [
    {
     "name": "stderr",
     "output_type": "stream",
     "text": [
      "/home/nikstep/anaconda3/lib/python3.7/site-packages/sklearn/model_selection/_split.py:2179: FutureWarning: From version 0.21, test_size will always complement train_size unless both are specified.\n",
      "  FutureWarning)\n"
     ]
    }
   ],
   "source": [
    "X_train, X_val, y_train, y_val = train_test_split(data.drop('SalePrice', axis=1), np.log1p(data.SalePrice), random_state=17032019, train_size=0.9)"
   ]
  },
  {
   "cell_type": "code",
   "execution_count": 94,
   "metadata": {},
   "outputs": [
    {
     "data": {
      "text/plain": [
       "((1314, 211), (146, 211), (1314,), (146,))"
      ]
     },
     "execution_count": 94,
     "metadata": {},
     "output_type": "execute_result"
    }
   ],
   "source": [
    "X_train.shape, X_val.shape, y_train.shape, y_val.shape"
   ]
  },
  {
   "cell_type": "markdown",
   "metadata": {},
   "source": [
    "## 7 (2)"
   ]
  },
  {
   "cell_type": "markdown",
   "metadata": {},
   "source": [
    "Примените к данным следующие алгоритмы:\n",
    "\n",
    "- kNN\n",
    "- линейная регрессия\n",
    "- Lasso\n",
    "- Ridge\n",
    "\n",
    "Для каждого из методов подберите гиперпараметры с помощью кросс-валидации. Обучите алгоритмы с лучшими гиперпараметрами на обучающей выборке и оцените качество по метрике **Root** Mean Squared Error. Какой из методов показывает себя лучше?"
   ]
  },
  {
   "cell_type": "code",
   "execution_count": 95,
   "metadata": {},
   "outputs": [
    {
     "data": {
      "text/plain": [
       "KNeighborsRegressor(algorithm='auto', leaf_size=30, metric='minkowski',\n",
       "          metric_params=None, n_jobs=None, n_neighbors=5, p=2,\n",
       "          weights='uniform')"
      ]
     },
     "execution_count": 95,
     "metadata": {},
     "output_type": "execute_result"
    }
   ],
   "source": [
    "knn = KNeighborsRegressor(n_neighbors=5, p=2)\n",
    "knn.fit(X_train, y_train)"
   ]
  },
  {
   "cell_type": "code",
   "execution_count": 96,
   "metadata": {},
   "outputs": [
    {
     "name": "stdout",
     "output_type": "stream",
     "text": [
      "RMSE Sklearn knn 0.2091452150046794\n"
     ]
    }
   ],
   "source": [
    "print('RMSE Sklearn knn', np.sqrt(MSE(y_val, knn.predict(X_val))))"
   ]
  },
  {
   "cell_type": "code",
   "execution_count": 97,
   "metadata": {},
   "outputs": [
    {
     "name": "stderr",
     "output_type": "stream",
     "text": [
      "/home/nikstep/anaconda3/lib/python3.7/site-packages/sklearn/model_selection/_split.py:2053: FutureWarning: You should specify a value for 'cv' instead of relying on the default value. The default value will change from 3 to 5 in version 0.22.\n",
      "  warnings.warn(CV_WARNING, FutureWarning)\n"
     ]
    },
    {
     "data": {
      "text/plain": [
       "GridSearchCV(cv='warn', error_score='raise-deprecating',\n",
       "       estimator=KNeighborsRegressor(algorithm='auto', leaf_size=30, metric='minkowski',\n",
       "          metric_params=None, n_jobs=None, n_neighbors=5, p=2,\n",
       "          weights='uniform'),\n",
       "       fit_params=None, iid='warn', n_jobs=None,\n",
       "       param_grid={'n_neighbors': array([ 1,  2,  3,  4,  5,  6,  7,  8,  9, 10, 11, 12, 13, 14, 15, 16, 17,\n",
       "       18, 19, 20, 21, 22, 23, 24, 25, 26, 27, 28, 29, 30, 31, 32, 33, 34,\n",
       "       35, 36, 37, 38, 39, 40, 41, 42, 43, 44, 45, 46, 47, 48, 49])},\n",
       "       pre_dispatch='2*n_jobs', refit=True, return_train_score='warn',\n",
       "       scoring=None, verbose=0)"
      ]
     },
     "execution_count": 97,
     "metadata": {},
     "output_type": "execute_result"
    }
   ],
   "source": [
    "best_knn = GridSearchCV(knn, param_grid = {\n",
    "    'n_neighbors': np.arange(1, 50)\n",
    "})\n",
    "best_knn.fit(X_train, y_train)"
   ]
  },
  {
   "cell_type": "code",
   "execution_count": 98,
   "metadata": {},
   "outputs": [
    {
     "name": "stdout",
     "output_type": "stream",
     "text": [
      "RMSE Sklearn best_knn 0.2091452150046794\n"
     ]
    }
   ],
   "source": [
    "print('RMSE Sklearn best_knn', np.sqrt(MSE(y_val, best_knn.predict(X_val))))"
   ]
  },
  {
   "cell_type": "code",
   "execution_count": 99,
   "metadata": {},
   "outputs": [
    {
     "data": {
      "text/plain": [
       "LinearRegression(copy_X=True, fit_intercept=True, n_jobs=None,\n",
       "         normalize=False)"
      ]
     },
     "execution_count": 99,
     "metadata": {},
     "output_type": "execute_result"
    }
   ],
   "source": [
    "LinRegr = LinearRegression()\n",
    "LinRegr.fit(X_train, y_train)"
   ]
  },
  {
   "cell_type": "code",
   "execution_count": 100,
   "metadata": {},
   "outputs": [
    {
     "name": "stdout",
     "output_type": "stream",
     "text": [
      "RMSE Sklearn LinearRegression 0.1257780432153288\n"
     ]
    }
   ],
   "source": [
    "print('RMSE Sklearn LinearRegression', np.sqrt(MSE(y_val, LinRegr.predict(X_val))))"
   ]
  },
  {
   "cell_type": "code",
   "execution_count": 101,
   "metadata": {},
   "outputs": [
    {
     "name": "stderr",
     "output_type": "stream",
     "text": [
      "/home/nikstep/anaconda3/lib/python3.7/site-packages/sklearn/model_selection/_split.py:2053: FutureWarning: You should specify a value for 'cv' instead of relying on the default value. The default value will change from 3 to 5 in version 0.22.\n",
      "  warnings.warn(CV_WARNING, FutureWarning)\n"
     ]
    },
    {
     "data": {
      "text/plain": [
       "GridSearchCV(cv='warn', error_score='raise-deprecating',\n",
       "       estimator=LinearRegression(copy_X=True, fit_intercept=True, n_jobs=None,\n",
       "         normalize=False),\n",
       "       fit_params=None, iid='warn', n_jobs=None,\n",
       "       param_grid={'fit_intercept': [True, False], 'normalize': [True, False], 'copy_X': [True, False]},\n",
       "       pre_dispatch='2*n_jobs', refit=True, return_train_score='warn',\n",
       "       scoring=None, verbose=0)"
      ]
     },
     "execution_count": 101,
     "metadata": {},
     "output_type": "execute_result"
    }
   ],
   "source": [
    "best_LinRegr = GridSearchCV(LinRegr, param_grid = {\n",
    "    'fit_intercept':[True,False], 'normalize':[True,False], 'copy_X':[True, False]\n",
    "})\n",
    "best_LinRegr.fit(X_train, y_train)"
   ]
  },
  {
   "cell_type": "code",
   "execution_count": 102,
   "metadata": {},
   "outputs": [
    {
     "name": "stdout",
     "output_type": "stream",
     "text": [
      "RMSE Sklearn best_LinearRegression 0.1257780432153288\n"
     ]
    }
   ],
   "source": [
    "print('RMSE Sklearn best_LinearRegression', np.sqrt(MSE(y_val, best_LinRegr.predict(X_val))))"
   ]
  },
  {
   "cell_type": "code",
   "execution_count": 103,
   "metadata": {},
   "outputs": [
    {
     "data": {
      "text/plain": [
       "Lasso(alpha=1.0, copy_X=True, fit_intercept=True, max_iter=1000,\n",
       "   normalize=False, positive=False, precompute=False, random_state=None,\n",
       "   selection='cyclic', tol=0.0001, warm_start=False)"
      ]
     },
     "execution_count": 103,
     "metadata": {},
     "output_type": "execute_result"
    }
   ],
   "source": [
    "LassoRegr = Lasso()\n",
    "LassoRegr.fit(X_train, y_train)"
   ]
  },
  {
   "cell_type": "code",
   "execution_count": 104,
   "metadata": {},
   "outputs": [
    {
     "name": "stdout",
     "output_type": "stream",
     "text": [
      "RMSE Sklearn LassoRegression 0.17086426123456916\n"
     ]
    }
   ],
   "source": [
    "print('RMSE Sklearn LassoRegression', np.sqrt(MSE(y_val, LassoRegr.predict(X_val))))"
   ]
  },
  {
   "cell_type": "code",
   "execution_count": 120,
   "metadata": {},
   "outputs": [
    {
     "name": "stderr",
     "output_type": "stream",
     "text": [
      "/home/nikstep/anaconda3/lib/python3.7/site-packages/sklearn/model_selection/_split.py:2053: FutureWarning: You should specify a value for 'cv' instead of relying on the default value. The default value will change from 3 to 5 in version 0.22.\n",
      "  warnings.warn(CV_WARNING, FutureWarning)\n",
      "/home/nikstep/anaconda3/lib/python3.7/site-packages/sklearn/linear_model/coordinate_descent.py:492: ConvergenceWarning: Objective did not converge. You might want to increase the number of iterations. Fitting data with very small alpha may cause precision problems.\n",
      "  ConvergenceWarning)\n",
      "/home/nikstep/anaconda3/lib/python3.7/site-packages/sklearn/linear_model/coordinate_descent.py:492: ConvergenceWarning: Objective did not converge. You might want to increase the number of iterations. Fitting data with very small alpha may cause precision problems.\n",
      "  ConvergenceWarning)\n",
      "/home/nikstep/anaconda3/lib/python3.7/site-packages/sklearn/linear_model/coordinate_descent.py:492: ConvergenceWarning: Objective did not converge. You might want to increase the number of iterations. Fitting data with very small alpha may cause precision problems.\n",
      "  ConvergenceWarning)\n",
      "/home/nikstep/anaconda3/lib/python3.7/site-packages/sklearn/linear_model/coordinate_descent.py:492: ConvergenceWarning: Objective did not converge. You might want to increase the number of iterations. Fitting data with very small alpha may cause precision problems.\n",
      "  ConvergenceWarning)\n",
      "/home/nikstep/anaconda3/lib/python3.7/site-packages/sklearn/linear_model/coordinate_descent.py:492: ConvergenceWarning: Objective did not converge. You might want to increase the number of iterations. Fitting data with very small alpha may cause precision problems.\n",
      "  ConvergenceWarning)\n",
      "/home/nikstep/anaconda3/lib/python3.7/site-packages/sklearn/linear_model/coordinate_descent.py:492: ConvergenceWarning: Objective did not converge. You might want to increase the number of iterations. Fitting data with very small alpha may cause precision problems.\n",
      "  ConvergenceWarning)\n",
      "/home/nikstep/anaconda3/lib/python3.7/site-packages/sklearn/linear_model/coordinate_descent.py:492: ConvergenceWarning: Objective did not converge. You might want to increase the number of iterations. Fitting data with very small alpha may cause precision problems.\n",
      "  ConvergenceWarning)\n",
      "/home/nikstep/anaconda3/lib/python3.7/site-packages/sklearn/linear_model/coordinate_descent.py:492: ConvergenceWarning: Objective did not converge. You might want to increase the number of iterations. Fitting data with very small alpha may cause precision problems.\n",
      "  ConvergenceWarning)\n",
      "/home/nikstep/anaconda3/lib/python3.7/site-packages/sklearn/linear_model/coordinate_descent.py:492: ConvergenceWarning: Objective did not converge. You might want to increase the number of iterations. Fitting data with very small alpha may cause precision problems.\n",
      "  ConvergenceWarning)\n",
      "/home/nikstep/anaconda3/lib/python3.7/site-packages/sklearn/linear_model/coordinate_descent.py:492: ConvergenceWarning: Objective did not converge. You might want to increase the number of iterations. Fitting data with very small alpha may cause precision problems.\n",
      "  ConvergenceWarning)\n",
      "/home/nikstep/anaconda3/lib/python3.7/site-packages/sklearn/linear_model/coordinate_descent.py:492: ConvergenceWarning: Objective did not converge. You might want to increase the number of iterations. Fitting data with very small alpha may cause precision problems.\n",
      "  ConvergenceWarning)\n",
      "/home/nikstep/anaconda3/lib/python3.7/site-packages/sklearn/linear_model/coordinate_descent.py:492: ConvergenceWarning: Objective did not converge. You might want to increase the number of iterations. Fitting data with very small alpha may cause precision problems.\n",
      "  ConvergenceWarning)\n",
      "/home/nikstep/anaconda3/lib/python3.7/site-packages/sklearn/linear_model/coordinate_descent.py:492: ConvergenceWarning: Objective did not converge. You might want to increase the number of iterations. Fitting data with very small alpha may cause precision problems.\n",
      "  ConvergenceWarning)\n",
      "/home/nikstep/anaconda3/lib/python3.7/site-packages/sklearn/linear_model/coordinate_descent.py:492: ConvergenceWarning: Objective did not converge. You might want to increase the number of iterations. Fitting data with very small alpha may cause precision problems.\n",
      "  ConvergenceWarning)\n",
      "/home/nikstep/anaconda3/lib/python3.7/site-packages/sklearn/linear_model/coordinate_descent.py:492: ConvergenceWarning: Objective did not converge. You might want to increase the number of iterations. Fitting data with very small alpha may cause precision problems.\n",
      "  ConvergenceWarning)\n",
      "/home/nikstep/anaconda3/lib/python3.7/site-packages/sklearn/linear_model/coordinate_descent.py:492: ConvergenceWarning: Objective did not converge. You might want to increase the number of iterations. Fitting data with very small alpha may cause precision problems.\n",
      "  ConvergenceWarning)\n",
      "/home/nikstep/anaconda3/lib/python3.7/site-packages/sklearn/linear_model/coordinate_descent.py:492: ConvergenceWarning: Objective did not converge. You might want to increase the number of iterations. Fitting data with very small alpha may cause precision problems.\n",
      "  ConvergenceWarning)\n",
      "/home/nikstep/anaconda3/lib/python3.7/site-packages/sklearn/linear_model/coordinate_descent.py:492: ConvergenceWarning: Objective did not converge. You might want to increase the number of iterations. Fitting data with very small alpha may cause precision problems.\n",
      "  ConvergenceWarning)\n",
      "/home/nikstep/anaconda3/lib/python3.7/site-packages/sklearn/linear_model/coordinate_descent.py:492: ConvergenceWarning: Objective did not converge. You might want to increase the number of iterations. Fitting data with very small alpha may cause precision problems.\n",
      "  ConvergenceWarning)\n",
      "/home/nikstep/anaconda3/lib/python3.7/site-packages/sklearn/linear_model/coordinate_descent.py:492: ConvergenceWarning: Objective did not converge. You might want to increase the number of iterations. Fitting data with very small alpha may cause precision problems.\n",
      "  ConvergenceWarning)\n",
      "/home/nikstep/anaconda3/lib/python3.7/site-packages/sklearn/linear_model/coordinate_descent.py:492: ConvergenceWarning: Objective did not converge. You might want to increase the number of iterations. Fitting data with very small alpha may cause precision problems.\n",
      "  ConvergenceWarning)\n",
      "/home/nikstep/anaconda3/lib/python3.7/site-packages/sklearn/linear_model/coordinate_descent.py:492: ConvergenceWarning: Objective did not converge. You might want to increase the number of iterations. Fitting data with very small alpha may cause precision problems.\n",
      "  ConvergenceWarning)\n",
      "/home/nikstep/anaconda3/lib/python3.7/site-packages/sklearn/linear_model/coordinate_descent.py:492: ConvergenceWarning: Objective did not converge. You might want to increase the number of iterations. Fitting data with very small alpha may cause precision problems.\n",
      "  ConvergenceWarning)\n",
      "/home/nikstep/anaconda3/lib/python3.7/site-packages/sklearn/linear_model/coordinate_descent.py:492: ConvergenceWarning: Objective did not converge. You might want to increase the number of iterations. Fitting data with very small alpha may cause precision problems.\n",
      "  ConvergenceWarning)\n",
      "/home/nikstep/anaconda3/lib/python3.7/site-packages/sklearn/linear_model/coordinate_descent.py:492: ConvergenceWarning: Objective did not converge. You might want to increase the number of iterations. Fitting data with very small alpha may cause precision problems.\n",
      "  ConvergenceWarning)\n",
      "/home/nikstep/anaconda3/lib/python3.7/site-packages/sklearn/linear_model/coordinate_descent.py:492: ConvergenceWarning: Objective did not converge. You might want to increase the number of iterations. Fitting data with very small alpha may cause precision problems.\n",
      "  ConvergenceWarning)\n",
      "/home/nikstep/anaconda3/lib/python3.7/site-packages/sklearn/linear_model/coordinate_descent.py:492: ConvergenceWarning: Objective did not converge. You might want to increase the number of iterations. Fitting data with very small alpha may cause precision problems.\n",
      "  ConvergenceWarning)\n",
      "/home/nikstep/anaconda3/lib/python3.7/site-packages/sklearn/linear_model/coordinate_descent.py:492: ConvergenceWarning: Objective did not converge. You might want to increase the number of iterations. Fitting data with very small alpha may cause precision problems.\n",
      "  ConvergenceWarning)\n"
     ]
    },
    {
     "name": "stderr",
     "output_type": "stream",
     "text": [
      "/home/nikstep/anaconda3/lib/python3.7/site-packages/sklearn/linear_model/coordinate_descent.py:492: ConvergenceWarning: Objective did not converge. You might want to increase the number of iterations. Fitting data with very small alpha may cause precision problems.\n",
      "  ConvergenceWarning)\n",
      "/home/nikstep/anaconda3/lib/python3.7/site-packages/sklearn/linear_model/coordinate_descent.py:492: ConvergenceWarning: Objective did not converge. You might want to increase the number of iterations. Fitting data with very small alpha may cause precision problems.\n",
      "  ConvergenceWarning)\n",
      "/home/nikstep/anaconda3/lib/python3.7/site-packages/sklearn/linear_model/coordinate_descent.py:492: ConvergenceWarning: Objective did not converge. You might want to increase the number of iterations. Fitting data with very small alpha may cause precision problems.\n",
      "  ConvergenceWarning)\n",
      "/home/nikstep/anaconda3/lib/python3.7/site-packages/sklearn/linear_model/coordinate_descent.py:492: ConvergenceWarning: Objective did not converge. You might want to increase the number of iterations. Fitting data with very small alpha may cause precision problems.\n",
      "  ConvergenceWarning)\n",
      "/home/nikstep/anaconda3/lib/python3.7/site-packages/sklearn/linear_model/coordinate_descent.py:492: ConvergenceWarning: Objective did not converge. You might want to increase the number of iterations. Fitting data with very small alpha may cause precision problems.\n",
      "  ConvergenceWarning)\n",
      "/home/nikstep/anaconda3/lib/python3.7/site-packages/sklearn/linear_model/coordinate_descent.py:492: ConvergenceWarning: Objective did not converge. You might want to increase the number of iterations. Fitting data with very small alpha may cause precision problems.\n",
      "  ConvergenceWarning)\n",
      "/home/nikstep/anaconda3/lib/python3.7/site-packages/sklearn/linear_model/coordinate_descent.py:492: ConvergenceWarning: Objective did not converge. You might want to increase the number of iterations. Fitting data with very small alpha may cause precision problems.\n",
      "  ConvergenceWarning)\n",
      "/home/nikstep/anaconda3/lib/python3.7/site-packages/sklearn/linear_model/coordinate_descent.py:492: ConvergenceWarning: Objective did not converge. You might want to increase the number of iterations. Fitting data with very small alpha may cause precision problems.\n",
      "  ConvergenceWarning)\n",
      "/home/nikstep/anaconda3/lib/python3.7/site-packages/sklearn/linear_model/coordinate_descent.py:492: ConvergenceWarning: Objective did not converge. You might want to increase the number of iterations. Fitting data with very small alpha may cause precision problems.\n",
      "  ConvergenceWarning)\n"
     ]
    },
    {
     "data": {
      "text/plain": [
       "GridSearchCV(cv='warn', error_score='raise-deprecating',\n",
       "       estimator=Lasso(alpha=1.0, copy_X=True, fit_intercept=True, max_iter=1000,\n",
       "   normalize=False, positive=False, precompute=False, random_state=None,\n",
       "   selection='cyclic', tol=0.0001, warm_start=False),\n",
       "       fit_params=None, iid='warn', n_jobs=None,\n",
       "       param_grid={'fit_intercept': [True, False], 'normalize': [False, True], 'copy_X': [True, False], 'positive': [False, True], 'precompute': [False, True], 'warm_start': [False, True], 'selection': ['random', 'cyclic']},\n",
       "       pre_dispatch='2*n_jobs', refit=True, return_train_score='warn',\n",
       "       scoring=None, verbose=0)"
      ]
     },
     "execution_count": 120,
     "metadata": {},
     "output_type": "execute_result"
    }
   ],
   "source": [
    "best_LassoRegr = GridSearchCV(LassoRegr, param_grid = {\n",
    "    'fit_intercept':[True,False], 'normalize':[True,False], 'copy_X':[True, False], 'normalize':[False, True],\n",
    "    'positive':[False, True], 'precompute':[False, True], 'warm_start':[False, True], \n",
    "    'selection':['random', 'cyclic']\n",
    "})\n",
    "best_LassoRegr.fit(X_train, y_train)"
   ]
  },
  {
   "cell_type": "code",
   "execution_count": 121,
   "metadata": {},
   "outputs": [
    {
     "name": "stdout",
     "output_type": "stream",
     "text": [
      "RMSE Sklearn best_LassoRegression 0.17367859032361524\n"
     ]
    }
   ],
   "source": [
    "print('RMSE Sklearn best_LassoRegression', np.sqrt(MSE(y_val, best_LassoRegr.predict(X_val))))"
   ]
  },
  {
   "cell_type": "code",
   "execution_count": 110,
   "metadata": {},
   "outputs": [
    {
     "data": {
      "text/plain": [
       "Ridge(alpha=1.0, copy_X=True, fit_intercept=True, max_iter=None,\n",
       "   normalize=False, random_state=None, solver='auto', tol=0.001)"
      ]
     },
     "execution_count": 110,
     "metadata": {},
     "output_type": "execute_result"
    }
   ],
   "source": [
    "RidgeRegr = Ridge()\n",
    "RidgeRegr.fit(X_train, y_train)"
   ]
  },
  {
   "cell_type": "code",
   "execution_count": 111,
   "metadata": {},
   "outputs": [
    {
     "name": "stdout",
     "output_type": "stream",
     "text": [
      "RMSE Sklearn RidgeRegression 0.12046566462711161\n"
     ]
    }
   ],
   "source": [
    "print('RMSE Sklearn RidgeRegression', np.sqrt(MSE(y_val, RidgeRegr.predict(X_val))))"
   ]
  },
  {
   "cell_type": "code",
   "execution_count": 124,
   "metadata": {},
   "outputs": [
    {
     "name": "stderr",
     "output_type": "stream",
     "text": [
      "/home/nikstep/anaconda3/lib/python3.7/site-packages/sklearn/model_selection/_split.py:2053: FutureWarning: You should specify a value for 'cv' instead of relying on the default value. The default value will change from 3 to 5 in version 0.22.\n",
      "  warnings.warn(CV_WARNING, FutureWarning)\n",
      "/home/nikstep/anaconda3/lib/python3.7/site-packages/sklearn/model_selection/_validation.py:528: UserWarning: With alpha=0, this algorithm does not converge well. You are advised to use the LinearRegression estimator\n",
      "  estimator.fit(X_train, y_train, **fit_params)\n",
      "/home/nikstep/anaconda3/lib/python3.7/site-packages/sklearn/linear_model/coordinate_descent.py:478: UserWarning: Coordinate descent with no regularization may lead to unexpected results and is discouraged.\n",
      "  positive)\n",
      "/home/nikstep/anaconda3/lib/python3.7/site-packages/sklearn/linear_model/coordinate_descent.py:492: ConvergenceWarning: Objective did not converge. You might want to increase the number of iterations. Fitting data with very small alpha may cause precision problems.\n",
      "  ConvergenceWarning)\n",
      "/home/nikstep/anaconda3/lib/python3.7/site-packages/sklearn/model_selection/_validation.py:528: UserWarning: With alpha=0, this algorithm does not converge well. You are advised to use the LinearRegression estimator\n",
      "  estimator.fit(X_train, y_train, **fit_params)\n",
      "/home/nikstep/anaconda3/lib/python3.7/site-packages/sklearn/linear_model/coordinate_descent.py:478: UserWarning: Coordinate descent with no regularization may lead to unexpected results and is discouraged.\n",
      "  positive)\n",
      "/home/nikstep/anaconda3/lib/python3.7/site-packages/sklearn/linear_model/coordinate_descent.py:492: ConvergenceWarning: Objective did not converge. You might want to increase the number of iterations. Fitting data with very small alpha may cause precision problems.\n",
      "  ConvergenceWarning)\n",
      "/home/nikstep/anaconda3/lib/python3.7/site-packages/sklearn/model_selection/_validation.py:528: UserWarning: With alpha=0, this algorithm does not converge well. You are advised to use the LinearRegression estimator\n",
      "  estimator.fit(X_train, y_train, **fit_params)\n",
      "/home/nikstep/anaconda3/lib/python3.7/site-packages/sklearn/linear_model/coordinate_descent.py:478: UserWarning: Coordinate descent with no regularization may lead to unexpected results and is discouraged.\n",
      "  positive)\n",
      "/home/nikstep/anaconda3/lib/python3.7/site-packages/sklearn/linear_model/coordinate_descent.py:492: ConvergenceWarning: Objective did not converge. You might want to increase the number of iterations. Fitting data with very small alpha may cause precision problems.\n",
      "  ConvergenceWarning)\n",
      "/home/nikstep/anaconda3/lib/python3.7/site-packages/sklearn/model_selection/_validation.py:528: UserWarning: With alpha=0, this algorithm does not converge well. You are advised to use the LinearRegression estimator\n",
      "  estimator.fit(X_train, y_train, **fit_params)\n",
      "/home/nikstep/anaconda3/lib/python3.7/site-packages/sklearn/linear_model/coordinate_descent.py:478: UserWarning: Coordinate descent with no regularization may lead to unexpected results and is discouraged.\n",
      "  positive)\n",
      "/home/nikstep/anaconda3/lib/python3.7/site-packages/sklearn/linear_model/coordinate_descent.py:492: ConvergenceWarning: Objective did not converge. You might want to increase the number of iterations. Fitting data with very small alpha may cause precision problems.\n",
      "  ConvergenceWarning)\n",
      "/home/nikstep/anaconda3/lib/python3.7/site-packages/sklearn/model_selection/_validation.py:528: UserWarning: With alpha=0, this algorithm does not converge well. You are advised to use the LinearRegression estimator\n",
      "  estimator.fit(X_train, y_train, **fit_params)\n",
      "/home/nikstep/anaconda3/lib/python3.7/site-packages/sklearn/linear_model/coordinate_descent.py:478: UserWarning: Coordinate descent with no regularization may lead to unexpected results and is discouraged.\n",
      "  positive)\n",
      "/home/nikstep/anaconda3/lib/python3.7/site-packages/sklearn/linear_model/coordinate_descent.py:492: ConvergenceWarning: Objective did not converge. You might want to increase the number of iterations. Fitting data with very small alpha may cause precision problems.\n",
      "  ConvergenceWarning)\n",
      "/home/nikstep/anaconda3/lib/python3.7/site-packages/sklearn/model_selection/_validation.py:528: UserWarning: With alpha=0, this algorithm does not converge well. You are advised to use the LinearRegression estimator\n",
      "  estimator.fit(X_train, y_train, **fit_params)\n",
      "/home/nikstep/anaconda3/lib/python3.7/site-packages/sklearn/linear_model/coordinate_descent.py:478: UserWarning: Coordinate descent with no regularization may lead to unexpected results and is discouraged.\n",
      "  positive)\n",
      "/home/nikstep/anaconda3/lib/python3.7/site-packages/sklearn/linear_model/coordinate_descent.py:492: ConvergenceWarning: Objective did not converge. You might want to increase the number of iterations. Fitting data with very small alpha may cause precision problems.\n",
      "  ConvergenceWarning)\n",
      "/home/nikstep/anaconda3/lib/python3.7/site-packages/sklearn/model_selection/_validation.py:528: UserWarning: With alpha=0, this algorithm does not converge well. You are advised to use the LinearRegression estimator\n",
      "  estimator.fit(X_train, y_train, **fit_params)\n",
      "/home/nikstep/anaconda3/lib/python3.7/site-packages/sklearn/linear_model/coordinate_descent.py:478: UserWarning: Coordinate descent with no regularization may lead to unexpected results and is discouraged.\n",
      "  positive)\n",
      "/home/nikstep/anaconda3/lib/python3.7/site-packages/sklearn/model_selection/_validation.py:528: UserWarning: With alpha=0, this algorithm does not converge well. You are advised to use the LinearRegression estimator\n",
      "  estimator.fit(X_train, y_train, **fit_params)\n",
      "/home/nikstep/anaconda3/lib/python3.7/site-packages/sklearn/linear_model/coordinate_descent.py:478: UserWarning: Coordinate descent with no regularization may lead to unexpected results and is discouraged.\n",
      "  positive)\n",
      "/home/nikstep/anaconda3/lib/python3.7/site-packages/sklearn/model_selection/_validation.py:528: UserWarning: With alpha=0, this algorithm does not converge well. You are advised to use the LinearRegression estimator\n",
      "  estimator.fit(X_train, y_train, **fit_params)\n",
      "/home/nikstep/anaconda3/lib/python3.7/site-packages/sklearn/linear_model/coordinate_descent.py:478: UserWarning: Coordinate descent with no regularization may lead to unexpected results and is discouraged.\n",
      "  positive)\n",
      "/home/nikstep/anaconda3/lib/python3.7/site-packages/sklearn/model_selection/_validation.py:528: UserWarning: With alpha=0, this algorithm does not converge well. You are advised to use the LinearRegression estimator\n",
      "  estimator.fit(X_train, y_train, **fit_params)\n",
      "/home/nikstep/anaconda3/lib/python3.7/site-packages/sklearn/linear_model/coordinate_descent.py:478: UserWarning: Coordinate descent with no regularization may lead to unexpected results and is discouraged.\n",
      "  positive)\n",
      "/home/nikstep/anaconda3/lib/python3.7/site-packages/sklearn/model_selection/_validation.py:528: UserWarning: With alpha=0, this algorithm does not converge well. You are advised to use the LinearRegression estimator\n",
      "  estimator.fit(X_train, y_train, **fit_params)\n",
      "/home/nikstep/anaconda3/lib/python3.7/site-packages/sklearn/linear_model/coordinate_descent.py:478: UserWarning: Coordinate descent with no regularization may lead to unexpected results and is discouraged.\n",
      "  positive)\n",
      "/home/nikstep/anaconda3/lib/python3.7/site-packages/sklearn/model_selection/_validation.py:528: UserWarning: With alpha=0, this algorithm does not converge well. You are advised to use the LinearRegression estimator\n",
      "  estimator.fit(X_train, y_train, **fit_params)\n",
      "/home/nikstep/anaconda3/lib/python3.7/site-packages/sklearn/linear_model/coordinate_descent.py:478: UserWarning: Coordinate descent with no regularization may lead to unexpected results and is discouraged.\n",
      "  positive)\n",
      "/home/nikstep/anaconda3/lib/python3.7/site-packages/sklearn/model_selection/_validation.py:528: UserWarning: With alpha=0, this algorithm does not converge well. You are advised to use the LinearRegression estimator\n",
      "  estimator.fit(X_train, y_train, **fit_params)\n",
      "/home/nikstep/anaconda3/lib/python3.7/site-packages/sklearn/linear_model/coordinate_descent.py:478: UserWarning: Coordinate descent with no regularization may lead to unexpected results and is discouraged.\n",
      "  positive)\n"
     ]
    },
    {
     "name": "stderr",
     "output_type": "stream",
     "text": [
      "/home/nikstep/anaconda3/lib/python3.7/site-packages/sklearn/linear_model/coordinate_descent.py:492: ConvergenceWarning: Objective did not converge. You might want to increase the number of iterations. Fitting data with very small alpha may cause precision problems.\n",
      "  ConvergenceWarning)\n",
      "/home/nikstep/anaconda3/lib/python3.7/site-packages/sklearn/model_selection/_validation.py:528: UserWarning: With alpha=0, this algorithm does not converge well. You are advised to use the LinearRegression estimator\n",
      "  estimator.fit(X_train, y_train, **fit_params)\n",
      "/home/nikstep/anaconda3/lib/python3.7/site-packages/sklearn/linear_model/coordinate_descent.py:478: UserWarning: Coordinate descent with no regularization may lead to unexpected results and is discouraged.\n",
      "  positive)\n",
      "/home/nikstep/anaconda3/lib/python3.7/site-packages/sklearn/linear_model/coordinate_descent.py:492: ConvergenceWarning: Objective did not converge. You might want to increase the number of iterations. Fitting data with very small alpha may cause precision problems.\n",
      "  ConvergenceWarning)\n",
      "/home/nikstep/anaconda3/lib/python3.7/site-packages/sklearn/model_selection/_validation.py:528: UserWarning: With alpha=0, this algorithm does not converge well. You are advised to use the LinearRegression estimator\n",
      "  estimator.fit(X_train, y_train, **fit_params)\n",
      "/home/nikstep/anaconda3/lib/python3.7/site-packages/sklearn/linear_model/coordinate_descent.py:478: UserWarning: Coordinate descent with no regularization may lead to unexpected results and is discouraged.\n",
      "  positive)\n",
      "/home/nikstep/anaconda3/lib/python3.7/site-packages/sklearn/linear_model/coordinate_descent.py:492: ConvergenceWarning: Objective did not converge. You might want to increase the number of iterations. Fitting data with very small alpha may cause precision problems.\n",
      "  ConvergenceWarning)\n",
      "/home/nikstep/anaconda3/lib/python3.7/site-packages/sklearn/model_selection/_validation.py:528: UserWarning: With alpha=0, this algorithm does not converge well. You are advised to use the LinearRegression estimator\n",
      "  estimator.fit(X_train, y_train, **fit_params)\n",
      "/home/nikstep/anaconda3/lib/python3.7/site-packages/sklearn/linear_model/coordinate_descent.py:478: UserWarning: Coordinate descent with no regularization may lead to unexpected results and is discouraged.\n",
      "  positive)\n",
      "/home/nikstep/anaconda3/lib/python3.7/site-packages/sklearn/linear_model/coordinate_descent.py:492: ConvergenceWarning: Objective did not converge. You might want to increase the number of iterations. Fitting data with very small alpha may cause precision problems.\n",
      "  ConvergenceWarning)\n",
      "/home/nikstep/anaconda3/lib/python3.7/site-packages/sklearn/model_selection/_validation.py:528: UserWarning: With alpha=0, this algorithm does not converge well. You are advised to use the LinearRegression estimator\n",
      "  estimator.fit(X_train, y_train, **fit_params)\n",
      "/home/nikstep/anaconda3/lib/python3.7/site-packages/sklearn/linear_model/coordinate_descent.py:478: UserWarning: Coordinate descent with no regularization may lead to unexpected results and is discouraged.\n",
      "  positive)\n",
      "/home/nikstep/anaconda3/lib/python3.7/site-packages/sklearn/linear_model/coordinate_descent.py:492: ConvergenceWarning: Objective did not converge. You might want to increase the number of iterations. Fitting data with very small alpha may cause precision problems.\n",
      "  ConvergenceWarning)\n",
      "/home/nikstep/anaconda3/lib/python3.7/site-packages/sklearn/model_selection/_validation.py:528: UserWarning: With alpha=0, this algorithm does not converge well. You are advised to use the LinearRegression estimator\n",
      "  estimator.fit(X_train, y_train, **fit_params)\n",
      "/home/nikstep/anaconda3/lib/python3.7/site-packages/sklearn/linear_model/coordinate_descent.py:478: UserWarning: Coordinate descent with no regularization may lead to unexpected results and is discouraged.\n",
      "  positive)\n",
      "/home/nikstep/anaconda3/lib/python3.7/site-packages/sklearn/linear_model/coordinate_descent.py:492: ConvergenceWarning: Objective did not converge. You might want to increase the number of iterations. Fitting data with very small alpha may cause precision problems.\n",
      "  ConvergenceWarning)\n",
      "/home/nikstep/anaconda3/lib/python3.7/site-packages/sklearn/model_selection/_validation.py:528: UserWarning: With alpha=0, this algorithm does not converge well. You are advised to use the LinearRegression estimator\n",
      "  estimator.fit(X_train, y_train, **fit_params)\n",
      "/home/nikstep/anaconda3/lib/python3.7/site-packages/sklearn/linear_model/coordinate_descent.py:478: UserWarning: Coordinate descent with no regularization may lead to unexpected results and is discouraged.\n",
      "  positive)\n",
      "/home/nikstep/anaconda3/lib/python3.7/site-packages/sklearn/model_selection/_validation.py:528: UserWarning: With alpha=0, this algorithm does not converge well. You are advised to use the LinearRegression estimator\n",
      "  estimator.fit(X_train, y_train, **fit_params)\n",
      "/home/nikstep/anaconda3/lib/python3.7/site-packages/sklearn/linear_model/coordinate_descent.py:478: UserWarning: Coordinate descent with no regularization may lead to unexpected results and is discouraged.\n",
      "  positive)\n",
      "/home/nikstep/anaconda3/lib/python3.7/site-packages/sklearn/model_selection/_validation.py:528: UserWarning: With alpha=0, this algorithm does not converge well. You are advised to use the LinearRegression estimator\n",
      "  estimator.fit(X_train, y_train, **fit_params)\n",
      "/home/nikstep/anaconda3/lib/python3.7/site-packages/sklearn/linear_model/coordinate_descent.py:478: UserWarning: Coordinate descent with no regularization may lead to unexpected results and is discouraged.\n",
      "  positive)\n",
      "/home/nikstep/anaconda3/lib/python3.7/site-packages/sklearn/model_selection/_validation.py:528: UserWarning: With alpha=0, this algorithm does not converge well. You are advised to use the LinearRegression estimator\n",
      "  estimator.fit(X_train, y_train, **fit_params)\n",
      "/home/nikstep/anaconda3/lib/python3.7/site-packages/sklearn/linear_model/coordinate_descent.py:478: UserWarning: Coordinate descent with no regularization may lead to unexpected results and is discouraged.\n",
      "  positive)\n",
      "/home/nikstep/anaconda3/lib/python3.7/site-packages/sklearn/model_selection/_validation.py:528: UserWarning: With alpha=0, this algorithm does not converge well. You are advised to use the LinearRegression estimator\n",
      "  estimator.fit(X_train, y_train, **fit_params)\n",
      "/home/nikstep/anaconda3/lib/python3.7/site-packages/sklearn/linear_model/coordinate_descent.py:478: UserWarning: Coordinate descent with no regularization may lead to unexpected results and is discouraged.\n",
      "  positive)\n",
      "/home/nikstep/anaconda3/lib/python3.7/site-packages/sklearn/model_selection/_validation.py:528: UserWarning: With alpha=0, this algorithm does not converge well. You are advised to use the LinearRegression estimator\n",
      "  estimator.fit(X_train, y_train, **fit_params)\n",
      "/home/nikstep/anaconda3/lib/python3.7/site-packages/sklearn/linear_model/coordinate_descent.py:478: UserWarning: Coordinate descent with no regularization may lead to unexpected results and is discouraged.\n",
      "  positive)\n",
      "/home/nikstep/anaconda3/lib/python3.7/site-packages/sklearn/linear_model/coordinate_descent.py:492: ConvergenceWarning: Objective did not converge. You might want to increase the number of iterations. Fitting data with very small alpha may cause precision problems.\n",
      "  ConvergenceWarning)\n",
      "/home/nikstep/anaconda3/lib/python3.7/site-packages/sklearn/linear_model/coordinate_descent.py:492: ConvergenceWarning: Objective did not converge. You might want to increase the number of iterations. Fitting data with very small alpha may cause precision problems.\n",
      "  ConvergenceWarning)\n",
      "/home/nikstep/anaconda3/lib/python3.7/site-packages/sklearn/linear_model/coordinate_descent.py:492: ConvergenceWarning: Objective did not converge. You might want to increase the number of iterations. Fitting data with very small alpha may cause precision problems.\n",
      "  ConvergenceWarning)\n",
      "/home/nikstep/anaconda3/lib/python3.7/site-packages/sklearn/linear_model/coordinate_descent.py:492: ConvergenceWarning: Objective did not converge. You might want to increase the number of iterations. Fitting data with very small alpha may cause precision problems.\n",
      "  ConvergenceWarning)\n",
      "/home/nikstep/anaconda3/lib/python3.7/site-packages/sklearn/linear_model/coordinate_descent.py:492: ConvergenceWarning: Objective did not converge. You might want to increase the number of iterations. Fitting data with very small alpha may cause precision problems.\n",
      "  ConvergenceWarning)\n",
      "/home/nikstep/anaconda3/lib/python3.7/site-packages/sklearn/linear_model/coordinate_descent.py:492: ConvergenceWarning: Objective did not converge. You might want to increase the number of iterations. Fitting data with very small alpha may cause precision problems.\n",
      "  ConvergenceWarning)\n"
     ]
    },
    {
     "name": "stderr",
     "output_type": "stream",
     "text": [
      "/home/nikstep/anaconda3/lib/python3.7/site-packages/sklearn/linear_model/coordinate_descent.py:492: ConvergenceWarning: Objective did not converge. You might want to increase the number of iterations. Fitting data with very small alpha may cause precision problems.\n",
      "  ConvergenceWarning)\n",
      "/home/nikstep/anaconda3/lib/python3.7/site-packages/sklearn/linear_model/coordinate_descent.py:492: ConvergenceWarning: Objective did not converge. You might want to increase the number of iterations. Fitting data with very small alpha may cause precision problems.\n",
      "  ConvergenceWarning)\n",
      "/home/nikstep/anaconda3/lib/python3.7/site-packages/sklearn/linear_model/coordinate_descent.py:492: ConvergenceWarning: Objective did not converge. You might want to increase the number of iterations. Fitting data with very small alpha may cause precision problems.\n",
      "  ConvergenceWarning)\n",
      "/home/nikstep/anaconda3/lib/python3.7/site-packages/sklearn/linear_model/coordinate_descent.py:492: ConvergenceWarning: Objective did not converge. You might want to increase the number of iterations. Fitting data with very small alpha may cause precision problems.\n",
      "  ConvergenceWarning)\n",
      "/home/nikstep/anaconda3/lib/python3.7/site-packages/sklearn/linear_model/coordinate_descent.py:492: ConvergenceWarning: Objective did not converge. You might want to increase the number of iterations. Fitting data with very small alpha may cause precision problems.\n",
      "  ConvergenceWarning)\n",
      "/home/nikstep/anaconda3/lib/python3.7/site-packages/sklearn/linear_model/coordinate_descent.py:492: ConvergenceWarning: Objective did not converge. You might want to increase the number of iterations. Fitting data with very small alpha may cause precision problems.\n",
      "  ConvergenceWarning)\n",
      "/home/nikstep/anaconda3/lib/python3.7/site-packages/sklearn/linear_model/coordinate_descent.py:492: ConvergenceWarning: Objective did not converge. You might want to increase the number of iterations. Fitting data with very small alpha may cause precision problems.\n",
      "  ConvergenceWarning)\n",
      "/home/nikstep/anaconda3/lib/python3.7/site-packages/sklearn/linear_model/coordinate_descent.py:492: ConvergenceWarning: Objective did not converge. You might want to increase the number of iterations. Fitting data with very small alpha may cause precision problems.\n",
      "  ConvergenceWarning)\n",
      "/home/nikstep/anaconda3/lib/python3.7/site-packages/sklearn/linear_model/coordinate_descent.py:492: ConvergenceWarning: Objective did not converge. You might want to increase the number of iterations. Fitting data with very small alpha may cause precision problems.\n",
      "  ConvergenceWarning)\n",
      "/home/nikstep/anaconda3/lib/python3.7/site-packages/sklearn/linear_model/coordinate_descent.py:492: ConvergenceWarning: Objective did not converge. You might want to increase the number of iterations. Fitting data with very small alpha may cause precision problems.\n",
      "  ConvergenceWarning)\n",
      "/home/nikstep/anaconda3/lib/python3.7/site-packages/sklearn/model_selection/_search.py:740: UserWarning: With alpha=0, this algorithm does not converge well. You are advised to use the LinearRegression estimator\n",
      "  self.best_estimator_.fit(X, y, **fit_params)\n",
      "/home/nikstep/anaconda3/lib/python3.7/site-packages/sklearn/linear_model/coordinate_descent.py:478: UserWarning: Coordinate descent with no regularization may lead to unexpected results and is discouraged.\n",
      "  positive)\n",
      "/home/nikstep/anaconda3/lib/python3.7/site-packages/sklearn/linear_model/coordinate_descent.py:492: ConvergenceWarning: Objective did not converge. You might want to increase the number of iterations. Fitting data with very small alpha may cause precision problems.\n",
      "  ConvergenceWarning)\n"
     ]
    },
    {
     "data": {
      "text/plain": [
       "GridSearchCV(cv='warn', error_score='raise-deprecating',\n",
       "       estimator=Lasso(alpha=1.0, copy_X=True, fit_intercept=True, max_iter=1000,\n",
       "   normalize=False, positive=False, precompute=False, random_state=None,\n",
       "   selection='cyclic', tol=0.0001, warm_start=False),\n",
       "       fit_params=None, iid='warn', n_jobs=None,\n",
       "       param_grid={'fit_intercept': [True, False], 'normalize': [False, True], 'copy_X': [True, False], 'alpha': array([0. , 0.1, 0.2, 0.3, 0.4, 0.5, 0.6, 0.7, 0.8, 0.9])},\n",
       "       pre_dispatch='2*n_jobs', refit=True, return_train_score='warn',\n",
       "       scoring=None, verbose=0)"
      ]
     },
     "execution_count": 124,
     "metadata": {},
     "output_type": "execute_result"
    }
   ],
   "source": [
    "best_RidgeRegr = GridSearchCV(LassoRegr, param_grid = {\n",
    "    'fit_intercept':[True,False], 'normalize':[True,False], 'copy_X':[True, False], \n",
    "    'normalize':[False, True], 'alpha':np.arange(0, 1, 0.1)\n",
    "})\n",
    "best_RidgeRegr.fit(X_train, y_train)"
   ]
  },
  {
   "cell_type": "code",
   "execution_count": 125,
   "metadata": {},
   "outputs": [
    {
     "name": "stdout",
     "output_type": "stream",
     "text": [
      "RMSE Sklearn best_RidgeRegression 0.12577804321923702\n"
     ]
    }
   ],
   "source": [
    "print('RMSE Sklearn best_RidgeRegression', np.sqrt(MSE(y_val, best_RidgeRegr.predict(X_val))))"
   ]
  },
  {
   "cell_type": "markdown",
   "metadata": {},
   "source": [
    "## 8 (1)"
   ]
  },
  {
   "cell_type": "markdown",
   "metadata": {},
   "source": [
    "Постройте гистограммы значений весов для линейной регрессии, Lasso и Ridge. Опишите наблюдения. В чем различия между полученными наборами весов и почему?"
   ]
  },
  {
   "cell_type": "code",
   "execution_count": 115,
   "metadata": {},
   "outputs": [],
   "source": [
    "LinRArr = LinRegr.coef_\n",
    "LassoRArr = LassoRegr.coef_\n",
    "RidgeRArr = RidgeRegr.coef_"
   ]
  },
  {
   "cell_type": "code",
   "execution_count": 117,
   "metadata": {
    "scrolled": true
   },
   "outputs": [
    {
     "data": {
      "image/png": "[encoded data removed]",
      "text/plain": [
       "<Figure size 1440x1080 with 3 Axes>"
      ]
     },
     "metadata": {
      "needs_background": "light"
     },
     "output_type": "display_data"
    }
   ],
   "source": [
    "plt.figure(figsize=[20, 15])\n",
    "plt.subplot(221)\n",
    "plt.hist(LinRArr, bins=30)\n",
    "plt.title('Coef Linear Regr')\n",
    "\n",
    "plt.subplot(222)\n",
    "plt.hist(LassoRArr, bins=30)\n",
    "plt.title('Coef Lasso Regr')\n",
    "\n",
    "plt.subplot(223)\n",
    "plt.hist(RidgeRArr, bins=50)\n",
    "plt.title('Coef Ridge Regr')\n",
    "plt.show()"
   ]
  },
  {
   "cell_type": "markdown",
   "metadata": {},
   "source": [
    "### Как видно из гистограм в Lasso и Ridge регрессорах значения коэффицентов значительно меньше, чем у линейной регресси (за счёт регуляризаторов)."
   ]
  },
  {
   "cell_type": "markdown",
   "metadata": {},
   "source": [
    "## 9 (0.5)"
   ]
  },
  {
   "cell_type": "markdown",
   "metadata": {},
   "source": [
    "Добейтесь того, чтобы в заданиях выше ваш лучший алгоритм давал качество не больше 0.125 на тестовых данных по метрике RMSE (если вы дошли до этого задания, а качество выше уже удовлетворяет этому условию, вы автоматически получите за него полный балл)."
   ]
  },
  {
   "cell_type": "code",
   "execution_count": 118,
   "metadata": {},
   "outputs": [
    {
     "name": "stdout",
     "output_type": "stream",
     "text": [
      "RMSE Sklearn RidgeRegression 0.12046566462711161\n"
     ]
    }
   ],
   "source": [
    "RidgeRegr = Ridge()\n",
    "RidgeRegr.fit(X_train, y_train)\n",
    "print('RMSE Sklearn RidgeRegression', np.sqrt(MSE(y_val, RidgeRegr.predict(X_val))))"
   ]
  },
  {
   "cell_type": "markdown",
   "metadata": {},
   "source": [
    "## 10* (0.5)"
   ]
  },
  {
   "cell_type": "markdown",
   "metadata": {},
   "source": [
    "Добейтесь того, чтобы в заданиях выше ваш лучший алгоритм давал качество не больше 0.121 на тестовых данных по метрике RMSE. Для этого вы можете использовать самые разные методы, какие захотите - отбор признаков, генерация новых, разные способы предобработки данных. Единственное ограничение - не использовать никакие алгоритмы регрессии, кроме kNN, линейной регрессии, Lasso и Ridge."
   ]
  },
  {
   "cell_type": "code",
   "execution_count": 119,
   "metadata": {},
   "outputs": [
    {
     "name": "stdout",
     "output_type": "stream",
     "text": [
      "RMSE Sklearn RidgeRegression 0.12046566462711161\n"
     ]
    }
   ],
   "source": [
    "print('RMSE Sklearn RidgeRegression', np.sqrt(MSE(y_val, RidgeRegr.predict(X_val))))"
   ]
  },
  {
   "cell_type": "markdown",
   "metadata": {},
   "source": [
    "# Теория"
   ]
  },
  {
   "cell_type": "markdown",
   "metadata": {},
   "source": [
    "За данную часть можно получить бонусные баллы. Решения необходимо оформить в этом же файле в ячейках типа Markdown, пользуясь $\\LaTeX$ для записи математических формул."
   ]
  },
  {
   "cell_type": "markdown",
   "metadata": {},
   "source": [
    "## 1* (0.5)"
   ]
  },
  {
   "cell_type": "markdown",
   "metadata": {},
   "source": [
    "Найдите константу $C$, решающую следующую задачу ($0 < \\tau < 1$ фиксировано):\n",
    "\n",
    "$$\n",
    "\\sum\\limits_{i=1}^\\ell\\rho_\\tau\\left(y_i - C\\right) \\to \\min_C,\n",
    "$$\n",
    "\n",
    "где\n",
    "\n",
    "$$\n",
    "\\rho_\\tau(z) =\n",
    "\\begin{cases}\n",
    "\\tau z, & z > 0\\\\\n",
    "(\\tau - 1)z, & z \\leq 0\n",
    "\\end{cases}\n",
    "$$"
   ]
  },
  {
   "cell_type": "markdown",
   "metadata": {},
   "source": [
    "$$\n",
    "\\sum\\limits_{i=1}^\\ell\\rho_\\tau\\left(y_i - C\\right) = \\rho_\\tau*y_1 + \\rho_\\tau*y_2 + ... +  \\rho_\\tau*y_l - l*C\\rho_\\tau = \\rho_\\tau[\\sum\\limits_{i=1}^\\ell y_i - Cl] \n",
    "$$\n",
    "Таким образом, минимизируем разность после множителя $$\\rho_\\tau$$\n",
    "$$\n",
    "Очевидно,\\ что \\ при \\ C = \\frac{\\sum\\limits_{i=1}^\\ell y_i}{l} \n",
    "$$\n",
    "Данная разность будет стремиться к минимуму. Таким образом C - мат. ожидание"
   ]
  }
 ],
 "metadata": {
  "kernelspec": {
   "display_name": "Python 3",
   "language": "python",
   "name": "python3"
  },
  "language_info": {
   "codemirror_mode": {
    "name": "ipython",
    "version": 3
   },
   "file_extension": ".py",
   "mimetype": "text/x-python",
   "name": "python",
   "nbconvert_exporter": "python",
   "pygments_lexer": "ipython3",
   "version": "3.7.3"
  }
 },
 "nbformat": 4,
 "nbformat_minor": 2
}
