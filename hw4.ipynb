{
  "nbformat": 4,
  "nbformat_minor": 0,
  "metadata": {
    "kernelspec": {
      "display_name": "Python 3",
      "language": "python",
      "name": "python3"
    },
    "language_info": {
      "codemirror_mode": {
        "name": "ipython",
        "version": 3
      },
      "file_extension": ".py",
      "mimetype": "text/x-python",
      "name": "python",
      "nbconvert_exporter": "python",
      "pygments_lexer": "ipython3",
      "version": "3.7.6"
    },
    "colab": {
      "name": "hw4.ipynb",
      "provenance": [],
      "collapsed_sections": []
    }
  },
  "cells": [
    {
      "cell_type": "markdown",
      "metadata": {
        "id": "SuzuhqKSB6km",
        "colab_type": "text"
      },
      "source": [
        "## Домашнее задание № 4"
      ]
    },
    {
      "cell_type": "markdown",
      "metadata": {
        "id": "otlJMnxuB6kn",
        "colab_type": "text"
      },
      "source": [
        "###### Выполнил: Степанов Николай\n",
        "###### Группа: ИАД 3\n",
        "###### Дедлайн: 3.06 в 00:30"
      ]
    },
    {
      "cell_type": "markdown",
      "metadata": {
        "id": "16RELVKFB6ko",
        "colab_type": "text"
      },
      "source": [
        "### Ансамблевые методы "
      ]
    },
    {
      "cell_type": "markdown",
      "metadata": {
        "id": "w9R2F3s6B6kp",
        "colab_type": "text"
      },
      "source": [
        "Сопровождайте код изображениями и комментариями. Не игнорируйте вопросы, ваши выводы тоже оцениваются. Чем больше информации вы сможете извлечь, аргументированных выводов сформулировать, тем лучше. Не забывайте подписывать графики и будет вам счастье!\n",
        "\n",
        "**Максимальный балл: 10**"
      ]
    },
    {
      "cell_type": "code",
      "metadata": {
        "ExecuteTime": {
          "end_time": "2020-05-17T00:15:19.512036Z",
          "start_time": "2020-05-17T00:15:14.993278Z"
        },
        "trusted": true,
        "id": "HYNenuTiB6kq",
        "colab_type": "code",
        "colab": {}
      },
      "source": [
        "import pandas as pd\n",
        "import numpy as np\n",
        "import matplotlib.pyplot as plt\n",
        "import os\n",
        "\n",
        "%matplotlib inline"
      ],
      "execution_count": 0,
      "outputs": []
    },
    {
      "cell_type": "markdown",
      "metadata": {
        "id": "Q_BIe8emB6kt",
        "colab_type": "text"
      },
      "source": [
        "**0. (0 баллов) ** Загрузите [датасет](https://www.kaggle.com/uciml/pima-indians-diabetes-database/data), в нем вы найдете данные опрошенных женщин из индейского племени Пима. Будем решать задачу бинарной классификации: в колонке Outcome лежит метка наличия или отсутствия диабета - это наша целевая переменная. Есть ли пропущенные значения?"
      ]
    },
    {
      "cell_type": "code",
      "metadata": {
        "ExecuteTime": {
          "end_time": "2020-05-17T10:01:14.609345Z",
          "start_time": "2020-05-17T10:01:14.469580Z"
        },
        "trusted": true,
        "id": "SaKg94peB6ku",
        "colab_type": "code",
        "colab": {}
      },
      "source": [
        "data = pd.read_csv('./diabetes.csv')"
      ],
      "execution_count": 0,
      "outputs": []
    },
    {
      "cell_type": "code",
      "metadata": {
        "trusted": true,
        "id": "hZK5vjBtB6kx",
        "colab_type": "code",
        "outputId": "790cf68a-16ba-45a9-a5e4-eb79c66ef8d4",
        "colab": {
          "base_uri": "https://localhost:8080/",
          "height": 297
        }
      },
      "source": [
        "data.describe()"
      ],
      "execution_count": 9,
      "outputs": [
        {
          "output_type": "execute_result",
          "data": {
            "text/html": [
              "<div>\n",
              "<style scoped>\n",
              "    .dataframe tbody tr th:only-of-type {\n",
              "        vertical-align: middle;\n",
              "    }\n",
              "\n",
              "    .dataframe tbody tr th {\n",
              "        vertical-align: top;\n",
              "    }\n",
              "\n",
              "    .dataframe thead th {\n",
              "        text-align: right;\n",
              "    }\n",
              "</style>\n",
              "<table border=\"1\" class=\"dataframe\">\n",
              "  <thead>\n",
              "    <tr style=\"text-align: right;\">\n",
              "      <th></th>\n",
              "      <th>Pregnancies</th>\n",
              "      <th>Glucose</th>\n",
              "      <th>BloodPressure</th>\n",
              "      <th>SkinThickness</th>\n",
              "      <th>Insulin</th>\n",
              "      <th>BMI</th>\n",
              "      <th>DiabetesPedigreeFunction</th>\n",
              "      <th>Age</th>\n",
              "      <th>Outcome</th>\n",
              "    </tr>\n",
              "  </thead>\n",
              "  <tbody>\n",
              "    <tr>\n",
              "      <th>count</th>\n",
              "      <td>768.000000</td>\n",
              "      <td>768.000000</td>\n",
              "      <td>768.000000</td>\n",
              "      <td>768.000000</td>\n",
              "      <td>768.000000</td>\n",
              "      <td>768.000000</td>\n",
              "      <td>768.000000</td>\n",
              "      <td>768.000000</td>\n",
              "      <td>768.000000</td>\n",
              "    </tr>\n",
              "    <tr>\n",
              "      <th>mean</th>\n",
              "      <td>3.845052</td>\n",
              "      <td>120.894531</td>\n",
              "      <td>69.105469</td>\n",
              "      <td>20.536458</td>\n",
              "      <td>79.799479</td>\n",
              "      <td>31.992578</td>\n",
              "      <td>0.471876</td>\n",
              "      <td>33.240885</td>\n",
              "      <td>0.348958</td>\n",
              "    </tr>\n",
              "    <tr>\n",
              "      <th>std</th>\n",
              "      <td>3.369578</td>\n",
              "      <td>31.972618</td>\n",
              "      <td>19.355807</td>\n",
              "      <td>15.952218</td>\n",
              "      <td>115.244002</td>\n",
              "      <td>7.884160</td>\n",
              "      <td>0.331329</td>\n",
              "      <td>11.760232</td>\n",
              "      <td>0.476951</td>\n",
              "    </tr>\n",
              "    <tr>\n",
              "      <th>min</th>\n",
              "      <td>0.000000</td>\n",
              "      <td>0.000000</td>\n",
              "      <td>0.000000</td>\n",
              "      <td>0.000000</td>\n",
              "      <td>0.000000</td>\n",
              "      <td>0.000000</td>\n",
              "      <td>0.078000</td>\n",
              "      <td>21.000000</td>\n",
              "      <td>0.000000</td>\n",
              "    </tr>\n",
              "    <tr>\n",
              "      <th>25%</th>\n",
              "      <td>1.000000</td>\n",
              "      <td>99.000000</td>\n",
              "      <td>62.000000</td>\n",
              "      <td>0.000000</td>\n",
              "      <td>0.000000</td>\n",
              "      <td>27.300000</td>\n",
              "      <td>0.243750</td>\n",
              "      <td>24.000000</td>\n",
              "      <td>0.000000</td>\n",
              "    </tr>\n",
              "    <tr>\n",
              "      <th>50%</th>\n",
              "      <td>3.000000</td>\n",
              "      <td>117.000000</td>\n",
              "      <td>72.000000</td>\n",
              "      <td>23.000000</td>\n",
              "      <td>30.500000</td>\n",
              "      <td>32.000000</td>\n",
              "      <td>0.372500</td>\n",
              "      <td>29.000000</td>\n",
              "      <td>0.000000</td>\n",
              "    </tr>\n",
              "    <tr>\n",
              "      <th>75%</th>\n",
              "      <td>6.000000</td>\n",
              "      <td>140.250000</td>\n",
              "      <td>80.000000</td>\n",
              "      <td>32.000000</td>\n",
              "      <td>127.250000</td>\n",
              "      <td>36.600000</td>\n",
              "      <td>0.626250</td>\n",
              "      <td>41.000000</td>\n",
              "      <td>1.000000</td>\n",
              "    </tr>\n",
              "    <tr>\n",
              "      <th>max</th>\n",
              "      <td>17.000000</td>\n",
              "      <td>199.000000</td>\n",
              "      <td>122.000000</td>\n",
              "      <td>99.000000</td>\n",
              "      <td>846.000000</td>\n",
              "      <td>67.100000</td>\n",
              "      <td>2.420000</td>\n",
              "      <td>81.000000</td>\n",
              "      <td>1.000000</td>\n",
              "    </tr>\n",
              "  </tbody>\n",
              "</table>\n",
              "</div>"
            ],
            "text/plain": [
              "       Pregnancies     Glucose  ...         Age     Outcome\n",
              "count   768.000000  768.000000  ...  768.000000  768.000000\n",
              "mean      3.845052  120.894531  ...   33.240885    0.348958\n",
              "std       3.369578   31.972618  ...   11.760232    0.476951\n",
              "min       0.000000    0.000000  ...   21.000000    0.000000\n",
              "25%       1.000000   99.000000  ...   24.000000    0.000000\n",
              "50%       3.000000  117.000000  ...   29.000000    0.000000\n",
              "75%       6.000000  140.250000  ...   41.000000    1.000000\n",
              "max      17.000000  199.000000  ...   81.000000    1.000000\n",
              "\n",
              "[8 rows x 9 columns]"
            ]
          },
          "metadata": {
            "tags": []
          },
          "execution_count": 9
        }
      ]
    },
    {
      "cell_type": "code",
      "metadata": {
        "trusted": true,
        "id": "x0efEUy0B6k1",
        "colab_type": "code",
        "outputId": "888acea3-7533-4e53-af50-a28b375a3656",
        "colab": {
          "base_uri": "https://localhost:8080/",
          "height": 289
        }
      },
      "source": [
        "data.info()"
      ],
      "execution_count": 10,
      "outputs": [
        {
          "output_type": "stream",
          "text": [
            "<class 'pandas.core.frame.DataFrame'>\n",
            "RangeIndex: 768 entries, 0 to 767\n",
            "Data columns (total 9 columns):\n",
            " #   Column                    Non-Null Count  Dtype  \n",
            "---  ------                    --------------  -----  \n",
            " 0   Pregnancies               768 non-null    int64  \n",
            " 1   Glucose                   768 non-null    int64  \n",
            " 2   BloodPressure             768 non-null    int64  \n",
            " 3   SkinThickness             768 non-null    int64  \n",
            " 4   Insulin                   768 non-null    int64  \n",
            " 5   BMI                       768 non-null    float64\n",
            " 6   DiabetesPedigreeFunction  768 non-null    float64\n",
            " 7   Age                       768 non-null    int64  \n",
            " 8   Outcome                   768 non-null    int64  \n",
            "dtypes: float64(2), int64(7)\n",
            "memory usage: 54.1 KB\n"
          ],
          "name": "stdout"
        }
      ]
    },
    {
      "cell_type": "markdown",
      "metadata": {
        "id": "iqTknBRyB6k5",
        "colab_type": "text"
      },
      "source": [
        "##### Пропусков нет!"
      ]
    },
    {
      "cell_type": "code",
      "metadata": {
        "trusted": true,
        "id": "eF8q_yuXB6k5",
        "colab_type": "code",
        "outputId": "81e40e74-1b4f-4b3c-fe98-27085bbdbc89",
        "colab": {
          "base_uri": "https://localhost:8080/",
          "height": 34
        }
      },
      "source": [
        "data.shape[0]"
      ],
      "execution_count": 11,
      "outputs": [
        {
          "output_type": "execute_result",
          "data": {
            "text/plain": [
              "768"
            ]
          },
          "metadata": {
            "tags": []
          },
          "execution_count": 11
        }
      ]
    },
    {
      "cell_type": "markdown",
      "metadata": {
        "id": "5kNobbxBfNkb",
        "colab_type": "text"
      },
      "source": [
        "##### Данных не так уж и много (совсем мало)"
      ]
    },
    {
      "cell_type": "markdown",
      "metadata": {
        "id": "Sj5vEDsHB6k9",
        "colab_type": "text"
      },
      "source": [
        "**1. (0.5 балла)** Как вы думаете, является ли наличие нулей в некоторых колонках фактом того, что эти признаки имеют пропущенные значения? Замените нули на среднее значение признака там, где считаете это целесообразным."
      ]
    },
    {
      "cell_type": "code",
      "metadata": {
        "trusted": true,
        "id": "zb4HH3ESB6k9",
        "colab_type": "code",
        "outputId": "a46c6e95-aeeb-43b6-84d0-0bba9cf79290",
        "colab": {
          "base_uri": "https://localhost:8080/",
          "height": 612
        }
      },
      "source": [
        "for idx in np.array(data.columns):\n",
        "    if data.loc[data[idx] == 0].shape[0] != 0:\n",
        "        print('Нулей в фиче ' + idx + ' :', data[idx][data[idx] == 0].shape[0])\n",
        "        print(data[idx][data[idx] == 0][:3])"
      ],
      "execution_count": 12,
      "outputs": [
        {
          "output_type": "stream",
          "text": [
            "Нулей в фиче Pregnancies : 111\n",
            "4     0\n",
            "16    0\n",
            "45    0\n",
            "Name: Pregnancies, dtype: int64\n",
            "Нулей в фиче Glucose : 5\n",
            "75     0\n",
            "182    0\n",
            "342    0\n",
            "Name: Glucose, dtype: int64\n",
            "Нулей в фиче BloodPressure : 35\n",
            "7     0\n",
            "15    0\n",
            "49    0\n",
            "Name: BloodPressure, dtype: int64\n",
            "Нулей в фиче SkinThickness : 227\n",
            "2    0\n",
            "5    0\n",
            "7    0\n",
            "Name: SkinThickness, dtype: int64\n",
            "Нулей в фиче Insulin : 374\n",
            "0    0\n",
            "1    0\n",
            "2    0\n",
            "Name: Insulin, dtype: int64\n",
            "Нулей в фиче BMI : 11\n",
            "9     0.0\n",
            "49    0.0\n",
            "60    0.0\n",
            "Name: BMI, dtype: float64\n",
            "Нулей в фиче Outcome : 500\n",
            "1    0\n",
            "3    0\n",
            "5    0\n",
            "Name: Outcome, dtype: int64\n"
          ],
          "name": "stdout"
        }
      ]
    },
    {
      "cell_type": "markdown",
      "metadata": {
        "id": "oW81jVyMB6lB",
        "colab_type": "text"
      },
      "source": [
        "##### Pregnancies - нормально, что у девушке не могло быть беремености\n",
        "##### Glucose - грустно, когда у тебя глюкоза 0. Меняем!\n",
        "##### BloodPressure - интресно как им живется с давление 0? Меняем!\n",
        "##### SkinThickness - толщина кожной складки трицепса...Погуглив и зайдя на сайт ВОЗ, там говорят, что 0 она не равна, поэтому меняем!\n",
        "##### Insulin - без инсулина и без диабета это сильно. Меняем!\n",
        "##### BMI - ну тут очевидно. Меняем!"
      ]
    },
    {
      "cell_type": "code",
      "metadata": {
        "trusted": true,
        "id": "RssaCSm8B6lC",
        "colab_type": "code",
        "colab": {}
      },
      "source": [
        "data['Glucose'].replace(0, data['Glucose'].mean(), inplace = True);\n",
        "data['BloodPressure'].replace(0, data['BloodPressure'].mean(), inplace = True);\n",
        "data['SkinThickness'].replace(0, data['SkinThickness'].mean(), inplace = True);\n",
        "data['Insulin'].replace(0, data['Insulin'].mean(), inplace = True);\n",
        "data['BMI'].replace(0, data['BMI'].mean(), inplace = True);"
      ],
      "execution_count": 0,
      "outputs": []
    },
    {
      "cell_type": "markdown",
      "metadata": {
        "id": "NEieydAYB6lG",
        "colab_type": "text"
      },
      "source": [
        "**2. (1 балл)** Визуализируйте распределение признаков по отдельности для больных диабетом и здоровых. Ваши графики должны быть примерно такими:\n",
        "\n",
        "![Image](https://d.radikal.ru/d03/2005/f8/0ffb9443cbcf.png)"
      ]
    },
    {
      "cell_type": "code",
      "metadata": {
        "trusted": true,
        "id": "Zyxz4qkhB6lG",
        "colab_type": "code",
        "outputId": "92725de8-e0c8-4150-e7d1-b8de80dfdd52",
        "colab": {
          "base_uri": "https://localhost:8080/",
          "height": 1000
        }
      },
      "source": [
        "idx = data.columns\n",
        "\n",
        "counter = 0\n",
        "fig, ax = plt.subplots(3, 3)\n",
        "\n",
        "fig.set_figwidth(20)\n",
        "fig.set_figheight(18)\n",
        "\n",
        "for i in range(3):\n",
        "    for j in range(3):\n",
        "        ax[i, j].hist(data[idx[counter]][data['Outcome'] == 0], color = '#66ff66', histtype='stepfilled', bins = 40, alpha=0.8, label = 'Без диабета')\n",
        "        ax[i, j].hist(data[idx[counter]][data['Outcome'] == 1], color = '#ff471a', histtype='stepfilled', bins = 40, alpha=0.8, label = 'С диабетом')\n",
        "        ax[i, j].tick_params(axis='both', which='major', labelsize=20)\n",
        "        ax[i, j].set_xlabel(idx[counter], fontsize = 20)\n",
        "        ax[i, j].legend(fontsize = 20)\n",
        "        ax[i, j].grid()\n",
        "        \n",
        "        counter += 1"
      ],
      "execution_count": 14,
      "outputs": [
        {
          "output_type": "display_data",
          "data": {
            "image/png": "[encoded data removed]",
            "text/plain": [
              "<Figure size 1440x1296 with 9 Axes>"
            ]
          },
          "metadata": {
            "tags": [],
            "needs_background": "light"
          }
        }
      ]
    },
    {
      "cell_type": "markdown",
      "metadata": {
        "id": "FoeBrMoIB6lK",
        "colab_type": "text"
      },
      "source": [
        "#### Небольшое review\n",
        "##### После 6 беременностей показатели женщин с диабетом увеличиваются, что логично\n",
        "##### Уровень глюкозы больше 150, скорее всего, подвержает диабет у девушки\n",
        "##### Кровенное давление особо не является внушительным признаком для константирования диабета\n",
        "##### Значение жировой прослойки трицепса в районе от 35 до 45 (примерно) показывает больший шанс иметь диабет\n",
        "##### Значение инсулина в крови меньше 100 скорее говорит о том, что девушка здорова\n",
        "##### Чем больше показатель BMI - тем выше шанс быть больным диабетом"
      ]
    },
    {
      "cell_type": "markdown",
      "metadata": {
        "id": "6_abWvS4B6lL",
        "colab_type": "text"
      },
      "source": [
        "**3. (2 балла)** Разбейте данные на обучающую и тестовую часть в соотношении 70:30. Обучите *BaggingClassifier* на деревьях (поставьте параметр *base_estimator = DecisionTreeClassifier()*) и *RandomForest*. Возьмите количество базовых алгоритмов, равное 10. Посчитайте accuracy, recall и precision. Есть ли какая-то разница между моделями и их результатами? Как вы думаете, почему получились такие результаты?\n",
        "\n",
        "*tip: создайте отдельную функцию для вывода метрик качества;*"
      ]
    },
    {
      "cell_type": "code",
      "metadata": {
        "ExecuteTime": {
          "end_time": "2020-05-17T14:10:20.171445Z",
          "start_time": "2020-05-17T14:10:20.156474Z"
        },
        "trusted": true,
        "id": "HaouJrF-B6lL",
        "colab_type": "code",
        "colab": {}
      },
      "source": [
        "from sklearn.model_selection import train_test_split\n",
        "from sklearn.metrics import accuracy_score, precision_score, recall_score, roc_auc_score\n",
        "from sklearn.ensemble import BaggingClassifier, RandomForestClassifier\n",
        "from sklearn.tree import DecisionTreeClassifier"
      ],
      "execution_count": 0,
      "outputs": []
    },
    {
      "cell_type": "code",
      "metadata": {
        "id": "9nm5S35HB6lP",
        "colab_type": "code",
        "colab": {}
      },
      "source": [
        "X_train, X_test, y_train, y_test = train_test_split(data.drop(columns=['Outcome']), data['Outcome'], test_size = 0.7 , random_state=42)"
      ],
      "execution_count": 0,
      "outputs": []
    },
    {
      "cell_type": "code",
      "metadata": {
        "id": "gLMNyy5_DnJe",
        "colab_type": "code",
        "colab": {}
      },
      "source": [
        "bagging = BaggingClassifier(base_estimator=DecisionTreeClassifier(), n_estimators=10)\n",
        "random_forest = RandomForestClassifier(n_estimators=10)"
      ],
      "execution_count": 0,
      "outputs": []
    },
    {
      "cell_type": "code",
      "metadata": {
        "id": "nTE6CbRGGuBu",
        "colab_type": "code",
        "colab": {}
      },
      "source": [
        "def metric(y_test, y_predict):\n",
        "  print('Доля верных ответов: ', accuracy_score(y_test, y_predict))\n",
        "  print('Точность: ', precision_score(y_test, y_predict))\n",
        "  print('Полнота: ', recall_score(y_test, y_predict))"
      ],
      "execution_count": 0,
      "outputs": []
    },
    {
      "cell_type": "code",
      "metadata": {
        "id": "53c5DlGuHjl2",
        "colab_type": "code",
        "colab": {}
      },
      "source": [
        "bagging.fit(X_train, y_train);\n",
        "random_forest.fit(X_train, y_train);"
      ],
      "execution_count": 0,
      "outputs": []
    },
    {
      "cell_type": "markdown",
      "metadata": {
        "id": "bdiURebQISk0",
        "colab_type": "text"
      },
      "source": [
        "Bagging (DecisionTreeClassifier) result:"
      ]
    },
    {
      "cell_type": "code",
      "metadata": {
        "id": "l2GuBKNdIIvi",
        "colab_type": "code",
        "outputId": "03454c33-787b-4964-b958-e3dc6c43f22f",
        "colab": {
          "base_uri": "https://localhost:8080/",
          "height": 68
        }
      },
      "source": [
        "metric(y_test, bagging.predict(X_test))"
      ],
      "execution_count": 21,
      "outputs": [
        {
          "output_type": "stream",
          "text": [
            "Доля верных ответов:  0.7211895910780669\n",
            "Точность:  0.6196319018404908\n",
            "Полнота:  0.5343915343915344\n"
          ],
          "name": "stdout"
        }
      ]
    },
    {
      "cell_type": "markdown",
      "metadata": {
        "id": "6Fj3qkZyIo0z",
        "colab_type": "text"
      },
      "source": [
        "RandomForestClassifier result:"
      ]
    },
    {
      "cell_type": "code",
      "metadata": {
        "id": "4-NApQVGIr7p",
        "colab_type": "code",
        "outputId": "e2be31b4-4cd9-4027-a870-56b2cd5f259c",
        "colab": {
          "base_uri": "https://localhost:8080/",
          "height": 68
        }
      },
      "source": [
        "metric(y_test, random_forest.predict(X_test))"
      ],
      "execution_count": 22,
      "outputs": [
        {
          "output_type": "stream",
          "text": [
            "Доля верных ответов:  0.7527881040892194\n",
            "Точность:  0.6842105263157895\n",
            "Полнота:  0.5502645502645502\n"
          ],
          "name": "stdout"
        }
      ]
    },
    {
      "cell_type": "markdown",
      "metadata": {
        "id": "cxYgBUOkIw0N",
        "colab_type": "text"
      },
      "source": [
        "##### Видно, что случайный лес отработал лучше. Возмонжо, это связано с тем, что случайный лес рандомизирует выборку по двум \"направлениям\": выбирает случайной подмножество обектов и смотрит лучше разибение не на всех признаках, а, опять же, на случайном их подмножестве, что позволяет уменьшить переобученность модели."
      ]
    },
    {
      "cell_type": "markdown",
      "metadata": {
        "id": "lk8tEh17B6lS",
        "colab_type": "text"
      },
      "source": [
        "**4. (2 балл)** Для случайного леса проанализируйте значение ROC-AUC на этих же данных в зависимости от изменения параметров:\n",
        "* *n_estimators* (можно перебрать около 10 значений из отрезка от 10 до 1500)\n",
        "* *min_samples_leaf* (сетку значений можете выбрать на ваше усмотрение)\n",
        "\n",
        "Постройте соответствующие графики зависимости ROC-AUC от этих параметров. Какие выводы можете сделать?"
      ]
    },
    {
      "cell_type": "code",
      "metadata": {
        "jupyter": {
          "outputs_hidden": true
        },
        "trusted": true,
        "id": "yBrUmm0MB6lT",
        "colab_type": "code",
        "colab": {}
      },
      "source": [
        "n_est = np.arange(10, 1600, 150)\n",
        "auc_roc_n_est = []\n",
        "\n",
        "min_samples_leaf = np.arange(1, 12)\n",
        "auc_roc_min_samples_leaf = []"
      ],
      "execution_count": 0,
      "outputs": []
    },
    {
      "cell_type": "code",
      "metadata": {
        "id": "0WwD4JD_Ptj4",
        "colab_type": "code",
        "outputId": "5080b3b7-194c-46f7-88f7-8676b2e76937",
        "colab": {
          "base_uri": "https://localhost:8080/",
          "height": 391
        }
      },
      "source": [
        "for number in n_est:\n",
        "  print('n_estimators: ', number)\n",
        "  random_forest = RandomForestClassifier(n_estimators=number)\n",
        "  random_forest.fit(X_train, y_train)\n",
        "  auc_roc_n_est.append(roc_auc_score(y_test, random_forest.predict_proba(X_test)[:, 1]))\n",
        "\n",
        "for number in min_samples_leaf:\n",
        "  print('Min_samples_leaf: ', number)\n",
        "  random_forest = RandomForestClassifier(min_samples_leaf=number)\n",
        "  random_forest.fit(X_train, y_train)\n",
        "  auc_roc_min_samples_leaf.append(roc_auc_score(y_test, random_forest.predict_proba(X_test)[:, 1]))"
      ],
      "execution_count": 67,
      "outputs": [
        {
          "output_type": "stream",
          "text": [
            "n_estimators:  10\n",
            "n_estimators:  160\n",
            "n_estimators:  310\n",
            "n_estimators:  460\n",
            "n_estimators:  610\n",
            "n_estimators:  760\n",
            "n_estimators:  910\n",
            "n_estimators:  1060\n",
            "n_estimators:  1210\n",
            "n_estimators:  1360\n",
            "n_estimators:  1510\n",
            "Min_samples_leaf:  1\n",
            "Min_samples_leaf:  2\n",
            "Min_samples_leaf:  3\n",
            "Min_samples_leaf:  4\n",
            "Min_samples_leaf:  5\n",
            "Min_samples_leaf:  6\n",
            "Min_samples_leaf:  7\n",
            "Min_samples_leaf:  8\n",
            "Min_samples_leaf:  9\n",
            "Min_samples_leaf:  10\n",
            "Min_samples_leaf:  11\n"
          ],
          "name": "stdout"
        }
      ]
    },
    {
      "cell_type": "code",
      "metadata": {
        "id": "YsS5DqBDSAqM",
        "colab_type": "code",
        "outputId": "20039ee0-7e84-4ba4-8392-07384d810daa",
        "colab": {
          "base_uri": "https://localhost:8080/",
          "height": 367
        }
      },
      "source": [
        "fig, ax = plt.subplots(1, 2)\n",
        "\n",
        "fig.set_figwidth(20)\n",
        "fig.set_figheight(5)\n",
        "\n",
        "ax[0].plot(n_est, auc_roc_n_est, color = '#66ff66')\n",
        "ax[0].set_title('AUC-ROC в зависимости от числа базовых алгоритмов для RandomForest')\n",
        "ax[0].set_xlabel('Число базовых алгоритмов')\n",
        "ax[0].set_ylabel('AUC-ROC')\n",
        "ax[1].plot(min_samples_leaf, auc_roc_min_samples_leaf, color = '#ff471a')\n",
        "ax[1].set_title('AUC-ROC в зависимости от числа выборок в листьях для RandomForest')\n",
        "ax[1].set_xlabel('Число выборок в листьях')\n",
        "ax[1].set_ylabel('AUC-ROC')"
      ],
      "execution_count": 68,
      "outputs": [
        {
          "output_type": "execute_result",
          "data": {
            "text/plain": [
              "Text(0, 0.5, 'AUC-ROC')"
            ]
          },
          "metadata": {
            "tags": []
          },
          "execution_count": 68
        },
        {
          "output_type": "display_data",
          "data": {
            "image/png": "[encoded data removed]",
            "text/plain": [
              "<Figure size 1440x360 with 2 Axes>"
            ]
          },
          "metadata": {
            "tags": [],
            "needs_background": "light"
          }
        }
      ]
    },
    {
      "cell_type": "markdown",
      "metadata": {
        "id": "m3dS4KUy3Y8P",
        "colab_type": "text"
      },
      "source": [
        "#### Видно, что Random Forest с ростом числа базовых алгоритмов не переобучается и показывает наилучший резульаты при числе деревьев 610. Оптимальное минимальное число выборок в листьях 5.\n"
      ]
    },
    {
      "cell_type": "code",
      "metadata": {
        "id": "zdiGcZU4DAtz",
        "colab_type": "code",
        "outputId": "aaaa4584-ebfc-4692-d541-27ec918cf141",
        "colab": {
          "base_uri": "https://localhost:8080/",
          "height": 34
        }
      },
      "source": [
        "random_forest = RandomForestClassifier(min_samples_leaf=5, n_estimators=610)\n",
        "random_forest.fit(X_train, y_train)\n",
        "print('AUC-ROC: ', roc_auc_score(y_test, random_forest.predict_proba(X_test)[:, 1]))"
      ],
      "execution_count": 69,
      "outputs": [
        {
          "output_type": "stream",
          "text": [
            "AUC-ROC:  0.829869165112718\n"
          ],
          "name": "stdout"
        }
      ]
    },
    {
      "cell_type": "markdown",
      "metadata": {
        "id": "0cyQTvQ7B6lW",
        "colab_type": "text"
      },
      "source": [
        "**5. (1 балл)**. Посмотрите, оказались ли какие-то признаки более важными, чем остальные? Воспользуйтесь соответствующим аттрибутом случайного леса в библиотеке sklearn, чтобы построить barplot."
      ]
    },
    {
      "cell_type": "markdown",
      "metadata": {
        "id": "blF1wF9FBQL1",
        "colab_type": "text"
      },
      "source": [
        "##### Наиболее важными признаками показалаись - уровень глюкозы, значение жировой прослойки трицепса и показатель BMI (исходя из распрделения признаков, которые были построены раньше)"
      ]
    },
    {
      "cell_type": "code",
      "metadata": {
        "jupyter": {
          "outputs_hidden": true
        },
        "trusted": true,
        "id": "PlzRmwD5B6lW",
        "colab_type": "code",
        "outputId": "6f7deaa5-dd24-43a4-ce1f-d5875534c8b5",
        "colab": {
          "base_uri": "https://localhost:8080/",
          "height": 350
        }
      },
      "source": [
        "importance = random_forest.feature_importances_\n",
        "\n",
        "fig, ax = plt.subplots()\n",
        "\n",
        "ax.bar(data.drop(columns=['Outcome']).columns, importance, color = '#ff471a')\n",
        "ax.set_title('Оценка важность фичи при помощи случайного леса')\n",
        "ax.set_xlabel('Название фичи')\n",
        "ax.set_ylabel('Важность фичи')\n",
        "fig.set_figwidth(12)\n",
        "fig.set_figheight(5)"
      ],
      "execution_count": 28,
      "outputs": [
        {
          "output_type": "display_data",
          "data": {
            "image/png": "[encoded data removed]",
            "text/plain": [
              "<Figure size 864x360 with 1 Axes>"
            ]
          },
          "metadata": {
            "tags": [],
            "needs_background": "light"
          }
        }
      ]
    },
    {
      "cell_type": "markdown",
      "metadata": {
        "id": "0IxBm2quHdQU",
        "colab_type": "text"
      },
      "source": [
        "##### Видно, что предположение про уровень глюкозы в крови и показатель BMI были сделаны верно, а вместо значения жировой прослойки трицепса алгоритм в качестве важного признака выделил возраст, что тоже, в принципе, логично."
      ]
    },
    {
      "cell_type": "markdown",
      "metadata": {
        "ExecuteTime": {
          "end_time": "2020-05-17T13:29:37.720316Z",
          "start_time": "2020-05-17T13:29:37.711698Z"
        },
        "id": "SNodkZr1B6la",
        "colab_type": "text"
      },
      "source": [
        "**6. (2 балла)** Обучите HistGradientBoostingClassifier и GradientBoostingClassifier из sklearn. Опишите подробно, в чем заключается разница этих моделей. Подберите подходящее количество деревьев и проанализируйте метрики, с которыми мы работали выше."
      ]
    },
    {
      "cell_type": "code",
      "metadata": {
        "jupyter": {
          "outputs_hidden": true
        },
        "trusted": true,
        "id": "Vq0EnD8iB6la",
        "colab_type": "code",
        "colab": {}
      },
      "source": [
        "from sklearn.experimental import enable_hist_gradient_boosting\n",
        "from sklearn.ensemble import HistGradientBoostingClassifier\n",
        "from sklearn.ensemble import GradientBoostingClassifier\n",
        "from sklearn.model_selection import GridSearchCV"
      ],
      "execution_count": 0,
      "outputs": []
    },
    {
      "cell_type": "code",
      "metadata": {
        "id": "H6ucKkAuOKcE",
        "colab_type": "code",
        "colab": {}
      },
      "source": [
        "histBoosting = HistGradientBoostingClassifier()\n",
        "Boosting = GradientBoostingClassifier()"
      ],
      "execution_count": 0,
      "outputs": []
    },
    {
      "cell_type": "code",
      "metadata": {
        "id": "6oi91PB1P4T8",
        "colab_type": "code",
        "colab": {}
      },
      "source": [
        "histBoosting.fit(X_train, y_train);\n",
        "Boosting.fit(X_train, y_train);"
      ],
      "execution_count": 0,
      "outputs": []
    },
    {
      "cell_type": "code",
      "metadata": {
        "id": "kLm6jge3QxE3",
        "colab_type": "code",
        "colab": {
          "base_uri": "https://localhost:8080/",
          "height": 221
        },
        "outputId": "6f475db2-6296-481d-e252-d6f881293863"
      },
      "source": [
        "print('RandomForest', metric(y_test, random_forest.predict(X_test)))\n",
        "print('HistGradientBoostingClassifier', metric(y_test, histBoosting.predict(X_test)))\n",
        "print('GradientBoostingClassifier', metric(y_test, Boosting.predict(X_test)))"
      ],
      "execution_count": 39,
      "outputs": [
        {
          "output_type": "stream",
          "text": [
            "Доля верных ответов:  0.7602230483271375\n",
            "Точность:  0.6829268292682927\n",
            "Полнота:  0.5925925925925926\n",
            "RandomForest None\n",
            "Доля верных ответов:  0.7211895910780669\n",
            "Точность:  0.6077348066298343\n",
            "Полнота:  0.582010582010582\n",
            "HistGradientBoostingClassifier None\n",
            "Доля верных ответов:  0.7304832713754646\n",
            "Точность:  0.6208791208791209\n",
            "Полнота:  0.5978835978835979\n",
            "GradientBoostingClassifier None\n"
          ],
          "name": "stdout"
        }
      ]
    },
    {
      "cell_type": "markdown",
      "metadata": {
        "id": "V0GI0BfJRT1i",
        "colab_type": "text"
      },
      "source": [
        "##### Без подбора параметров - случайные лес показывает лучшую точность при равное полноте с другими алгоритмами"
      ]
    },
    {
      "cell_type": "code",
      "metadata": {
        "id": "MBKE2vufRlsU",
        "colab_type": "code",
        "colab": {}
      },
      "source": [
        "Boosting = GradientBoostingClassifier()"
      ],
      "execution_count": 0,
      "outputs": []
    },
    {
      "cell_type": "code",
      "metadata": {
        "id": "VBvEgtHbQUmp",
        "colab_type": "code",
        "colab": {}
      },
      "source": [
        "params = {\n",
        "'n_estimators':[60, 100, 140, 180, 220, 300, 400, 500, 600]\n",
        "}"
      ],
      "execution_count": 0,
      "outputs": []
    },
    {
      "cell_type": "code",
      "metadata": {
        "id": "XGuTGvVdQhxe",
        "colab_type": "code",
        "colab": {}
      },
      "source": [
        "grid_Boosting = GridSearchCV(Boosting, params)"
      ],
      "execution_count": 0,
      "outputs": []
    },
    {
      "cell_type": "code",
      "metadata": {
        "id": "_1bD7ScMRq6f",
        "colab_type": "code",
        "colab": {}
      },
      "source": [
        "grid_Boosting.fit(X_train, y_train);"
      ],
      "execution_count": 0,
      "outputs": []
    },
    {
      "cell_type": "code",
      "metadata": {
        "id": "Ksv-pm1iSZI6",
        "colab_type": "code",
        "colab": {
          "base_uri": "https://localhost:8080/",
          "height": 85
        },
        "outputId": "28fee6d2-4e8f-4745-9ada-d731937927ea"
      },
      "source": [
        "print('Grid GradientBoostingClassifier', metric(y_test, grid_Boosting.predict(X_test)))"
      ],
      "execution_count": 76,
      "outputs": [
        {
          "output_type": "stream",
          "text": [
            "Доля верных ответов:  0.7174721189591078\n",
            "Точность:  0.6045197740112994\n",
            "Полнота:  0.5661375661375662\n",
            "Grid GradientBoostingClassifier None\n"
          ],
          "name": "stdout"
        }
      ]
    },
    {
      "cell_type": "code",
      "metadata": {
        "id": "rkFCxOr3Smvs",
        "colab_type": "code",
        "colab": {
          "base_uri": "https://localhost:8080/",
          "height": 34
        },
        "outputId": "a35362a2-f689-46d2-f898-1563ec9cac92"
      },
      "source": [
        "grid_Boosting.best_params_"
      ],
      "execution_count": 77,
      "outputs": [
        {
          "output_type": "execute_result",
          "data": {
            "text/plain": [
              "{'n_estimators': 180}"
            ]
          },
          "metadata": {
            "tags": []
          },
          "execution_count": 77
        }
      ]
    },
    {
      "cell_type": "code",
      "metadata": {
        "id": "KQ9NX_zYTOB8",
        "colab_type": "code",
        "colab": {
          "base_uri": "https://localhost:8080/",
          "height": 34
        },
        "outputId": "05314a69-74a4-4eea-f668-bdf60343e400"
      },
      "source": [
        "print('AUC-ROC: ', roc_auc_score(y_test, grid_Boosting.predict_proba(X_test)[:, 1]))"
      ],
      "execution_count": 78,
      "outputs": [
        {
          "output_type": "stream",
          "text": [
            "AUC-ROC:  0.8079622807416504\n"
          ],
          "name": "stdout"
        }
      ]
    },
    {
      "cell_type": "code",
      "metadata": {
        "id": "d4s9PAEeTs_Y",
        "colab_type": "code",
        "colab": {}
      },
      "source": [
        "n_est = [60, 100, 140, 180, 220, 300, 400, 500, 600]\n",
        "auc_roc_n_est = []"
      ],
      "execution_count": 0,
      "outputs": []
    },
    {
      "cell_type": "code",
      "metadata": {
        "id": "Dji1nlCMTrQ-",
        "colab_type": "code",
        "colab": {
          "base_uri": "https://localhost:8080/",
          "height": 170
        },
        "outputId": "7c9f8d2b-89d2-45b8-83f1-6f113b6e2cd1"
      },
      "source": [
        "for number in n_est:\n",
        "  print('n_estimators: ', number)\n",
        "  boosting = GradientBoostingClassifier(n_estimators=number)\n",
        "  boosting.fit(X_train, y_train)\n",
        "  auc_roc_n_est.append(roc_auc_score(y_test, boosting.predict_proba(X_test)[:, 1]))"
      ],
      "execution_count": 80,
      "outputs": [
        {
          "output_type": "stream",
          "text": [
            "n_estimators:  60\n",
            "n_estimators:  100\n",
            "n_estimators:  140\n",
            "n_estimators:  180\n",
            "n_estimators:  220\n",
            "n_estimators:  300\n",
            "n_estimators:  400\n",
            "n_estimators:  500\n",
            "n_estimators:  600\n"
          ],
          "name": "stdout"
        }
      ]
    },
    {
      "cell_type": "code",
      "metadata": {
        "id": "ylKU1ebcTldk",
        "colab_type": "code",
        "colab": {
          "base_uri": "https://localhost:8080/",
          "height": 367
        },
        "outputId": "3848e474-7087-49fe-cca2-43709807310e"
      },
      "source": [
        "fig, ax = plt.subplots()\n",
        "\n",
        "fig.set_figwidth(10)\n",
        "fig.set_figheight(5)\n",
        "\n",
        "ax.plot(n_est, auc_roc_n_est, color = '#66ff66')\n",
        "ax.set_title('AUC-ROC в зависимости от числа базовых алгоритмов для GradientBoosting')\n",
        "ax.set_xlabel('Число базовых алгоритмов')\n",
        "ax.set_ylabel('AUC-ROC')"
      ],
      "execution_count": 81,
      "outputs": [
        {
          "output_type": "execute_result",
          "data": {
            "text/plain": [
              "Text(0, 0.5, 'AUC-ROC')"
            ]
          },
          "metadata": {
            "tags": []
          },
          "execution_count": 81
        },
        {
          "output_type": "display_data",
          "data": {
            "image/png": "[encoded data removed]",
            "text/plain": [
              "<Figure size 720x360 with 1 Axes>"
            ]
          },
          "metadata": {
            "tags": [],
            "needs_background": "light"
          }
        }
      ]
    },
    {
      "cell_type": "markdown",
      "metadata": {
        "id": "gE5R-s8jZZvC",
        "colab_type": "text"
      },
      "source": [
        "##### Отличие histGradientBoosting от GradientBoosting заключается в том, что в первой модели изначальные данные предварительно скомпонованы в целочисленные бины, что значительно сокращает количество расщепление точек, чтобы рассмотреть, и позволяет алгоритму использовать целочисленные структуры данных. Тем самым это увеличивает скорость работы алгоритма для выборок с больше 10 000 объектов. Для меньших же выборок - это может быть минусом, так как мы теряем информацию при биниризации, когда у нас ее и так не много. \n",
        "\n",
        "##### Также отличие заключается в том, что \"'та оценка имеет встроенную поддержку для пропущенных значений (NaN). Во время обучения производитель дерева в каждой точке разделения узнает, должны ли образцы с пропущенными значениями идти к левому или правому потомку, основываясь на потенциальном выигрыше. При прогнозировании выборки с пропущенными значениями соответственно назначаются левому или правому дочернему элементу. Если во время обучения не было найдено пропущенных значений для данного объекта, тогда выборки с пропущенными значениями сопоставляются с тем, какой из них имеет больше выборок.\" - цитата из документации к алгоритму histGradientBoosting\n"
      ]
    },
    {
      "cell_type": "markdown",
      "metadata": {
        "id": "Wo7sL580Tc75",
        "colab_type": "text"
      },
      "source": [
        "##### Даже при подборе числа деревьев Boosting не показал результат лучше, чем Random Forest"
      ]
    },
    {
      "cell_type": "markdown",
      "metadata": {
        "id": "7yttNCwEB6le",
        "colab_type": "text"
      },
      "source": [
        "**7. (1.5 балла)** Вспомните, что представляет собой [стэкинг моделей](https://scikit-learn.org/stable/modules/generated/sklearn.ensemble.StackingClassifier.html#sklearn.ensemble.StackingClassifier). Возьмите в качестве базовых моделей любой ансамблевый метод из тех, которые были использованы выше, и простой классфикатор из уже вами изученных на курсе. Как final_estimator используйте лог-регресссию. Посчитайте метрики для мета-классификатора. Улучшилось ли качество?"
      ]
    },
    {
      "cell_type": "code",
      "metadata": {
        "ExecuteTime": {
          "end_time": "2020-05-17T13:53:07.245421Z",
          "start_time": "2020-05-17T13:53:07.238527Z"
        },
        "jupyter": {
          "outputs_hidden": true
        },
        "trusted": true,
        "id": "2yVo4toNB6lf",
        "colab_type": "code",
        "colab": {}
      },
      "source": [
        "from sklearn.linear_model import LogisticRegression\n",
        "from sklearn.ensemble import StackingClassifier\n",
        "from sklearn.svm import SVC\n",
        "from sklearn.pipeline import make_pipeline\n",
        "from sklearn.preprocessing import StandardScaler"
      ],
      "execution_count": 0,
      "outputs": []
    },
    {
      "cell_type": "markdown",
      "metadata": {
        "ExecuteTime": {
          "end_time": "2020-05-17T14:00:45.438403Z",
          "start_time": "2020-05-17T14:00:45.426725Z"
        },
        "id": "3qNxwjBPB6lj",
        "colab_type": "text"
      },
      "source": [
        "*tip: не забудьте завести список базовых алгоритмов*\n",
        "<code>\n",
        "base_learners = [\n",
        "                 ('name1', model1(),\n",
        "                 ('name2', model2())             \n",
        "                ]\n",
        "\n",
        "</code>"
      ]
    },
    {
      "cell_type": "code",
      "metadata": {
        "id": "5-AtdYf-Xx93",
        "colab_type": "code",
        "colab": {}
      },
      "source": [
        "estimators = [\n",
        "    ('random_forest', RandomForestClassifier(n_estimators=610, min_samples_leaf=5)),\n",
        "    ('support_vector_machine', make_pipeline(StandardScaler(),\n",
        "                          SVC(random_state=42)))\n",
        "]"
      ],
      "execution_count": 0,
      "outputs": []
    },
    {
      "cell_type": "code",
      "metadata": {
        "id": "CsfJDLwTYcC-",
        "colab_type": "code",
        "colab": {}
      },
      "source": [
        "stacking_classifier = StackingClassifier(\n",
        "    estimators=estimators, final_estimator=LogisticRegression()\n",
        ")"
      ],
      "execution_count": 0,
      "outputs": []
    },
    {
      "cell_type": "code",
      "metadata": {
        "id": "Lb0dG3CvZAkg",
        "colab_type": "code",
        "colab": {
          "base_uri": "https://localhost:8080/",
          "height": 578
        },
        "outputId": "73b6f6d8-915f-48d5-bb2c-32007ff1109e"
      },
      "source": [
        "stacking_classifier.fit(X_train, y_train)"
      ],
      "execution_count": 86,
      "outputs": [
        {
          "output_type": "execute_result",
          "data": {
            "text/plain": [
              "StackingClassifier(cv=None,\n",
              "                   estimators=[('random_forest',\n",
              "                                RandomForestClassifier(bootstrap=True,\n",
              "                                                       ccp_alpha=0.0,\n",
              "                                                       class_weight=None,\n",
              "                                                       criterion='gini',\n",
              "                                                       max_depth=None,\n",
              "                                                       max_features='auto',\n",
              "                                                       max_leaf_nodes=None,\n",
              "                                                       max_samples=None,\n",
              "                                                       min_impurity_decrease=0.0,\n",
              "                                                       min_impurity_split=None,\n",
              "                                                       min_samples_leaf=5,\n",
              "                                                       min_samples_split=2,\n",
              "                                                       min_weight_fraction_leaf=0.0,\n",
              "                                                       n_estimators=610,...\n",
              "                                                     shrinking=True, tol=0.001,\n",
              "                                                     verbose=False))],\n",
              "                                         verbose=False))],\n",
              "                   final_estimator=LogisticRegression(C=1.0, class_weight=None,\n",
              "                                                      dual=False,\n",
              "                                                      fit_intercept=True,\n",
              "                                                      intercept_scaling=1,\n",
              "                                                      l1_ratio=None,\n",
              "                                                      max_iter=100,\n",
              "                                                      multi_class='auto',\n",
              "                                                      n_jobs=None, penalty='l2',\n",
              "                                                      random_state=None,\n",
              "                                                      solver='lbfgs',\n",
              "                                                      tol=0.0001, verbose=0,\n",
              "                                                      warm_start=False),\n",
              "                   n_jobs=None, passthrough=False, stack_method='auto',\n",
              "                   verbose=0)"
            ]
          },
          "metadata": {
            "tags": []
          },
          "execution_count": 86
        }
      ]
    },
    {
      "cell_type": "code",
      "metadata": {
        "id": "mJDQJntwZKSr",
        "colab_type": "code",
        "colab": {
          "base_uri": "https://localhost:8080/",
          "height": 68
        },
        "outputId": "ccc32d0d-3db7-4053-b813-6c79bb426ba0"
      },
      "source": [
        "metric(y_test, stacking_classifier.predict(X_test))"
      ],
      "execution_count": 87,
      "outputs": [
        {
          "output_type": "stream",
          "text": [
            "Доля верных ответов:  0.7509293680297398\n",
            "Точность:  0.6666666666666666\n",
            "Полнота:  0.582010582010582\n"
          ],
          "name": "stdout"
        }
      ]
    },
    {
      "cell_type": "code",
      "metadata": {
        "id": "n6pvotD9ZRiE",
        "colab_type": "code",
        "colab": {
          "base_uri": "https://localhost:8080/",
          "height": 34
        },
        "outputId": "95882a0f-e84f-4ff5-c97f-695568a40642"
      },
      "source": [
        "print('AUC-ROC: ', roc_auc_score(y_test, stacking_classifier.predict_proba(X_test)[:, 1]))"
      ],
      "execution_count": 88,
      "outputs": [
        {
          "output_type": "stream",
          "text": [
            "AUC-ROC:  0.8229863100923274\n"
          ],
          "name": "stdout"
        }
      ]
    },
    {
      "cell_type": "markdown",
      "metadata": {
        "id": "ecNB1yK3Zkt6",
        "colab_type": "text"
      },
      "source": [
        "##### Видно, что заметно качество не улучшилось и случайный лес попрежнему показывает самый лучший результат. Это может говорить о том, что случайный лес уменьшает вариативность одного случайного дерева и лучше приспосабливается к новым данным."
      ]
    }
  ]
}