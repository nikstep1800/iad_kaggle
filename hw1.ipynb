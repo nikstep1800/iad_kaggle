{
 "cells": [
  {
   "cell_type": "markdown",
   "metadata": {},
   "source": [
    "## Введение в анализ данных, ИАД-3\n",
    "\n",
    "## НИУ ВШЭ, 2019-20 учебный год"
   ]
  },
  {
   "cell_type": "markdown",
   "metadata": {},
   "source": [
    "### Домашнее задание №1"
   ]
  },
  {
   "cell_type": "markdown",
   "metadata": {},
   "source": [
    "Задание выполнил(а): Степанов Николай"
   ]
  },
  {
   "cell_type": "markdown",
   "metadata": {},
   "source": [
    "### Общая информация"
   ]
  },
  {
   "cell_type": "markdown",
   "metadata": {},
   "source": [
    "__Дата выдачи:__ 05.02.2020\n",
    "\n",
    "__Дедлайн:__ 15.02.2020 23:59"
   ]
  },
  {
   "cell_type": "markdown",
   "metadata": {},
   "source": [
    "### О задании"
   ]
  },
  {
   "cell_type": "markdown",
   "metadata": {},
   "source": [
    "В этом домашнем задании вы попрактикуетесь в работе с библиотеками numpy, pandas и matplotlib, а в качестве бонусного задания сможете реализовать алгоритм KNN."
   ]
  },
  {
   "cell_type": "markdown",
   "metadata": {},
   "source": [
    "### Оценивание и штрафы\n",
    "\n",
    "Каждая задача оценивается в 1 балл, за бонусную часть можно получить 1 балл.\n",
    "\n",
    "Оценка за ДЗ вычисляется по следующей формуле:\n",
    "\n",
    "$$\n",
    "\\left(\\min(9, s_{\\text{numpy}}) + \\min(12, s_{\\text{pandas}})\\right) \\times 10 / 21,\n",
    "$$\n",
    "\n",
    "где $s_{\\text{numpy}}$ и $s_{\\text{pandas}}$ — количество баллов, которое вы набрали за соответствующую часть. Задач больше, чем необходимо сделать для получения полного балла за ДЗ — вы можете сделать те, которые вам больше нравятся, или сделать все, чтобы дополнительно потренироваться. Все баллы сверх обязательных (9 в первой части и 12 во второй) идут в бонус. Таким образом, за это домашнее задание можно получить 4 бонусных балла.\n",
    "\n",
    "За сдачу задания позже срока на итоговую оценку за задание накладывается штраф в размере 1 балл в день, но получить отрицательную оценку нельзя."
   ]
  },
  {
   "cell_type": "markdown",
   "metadata": {},
   "source": [
    "__Внимание!__ Домашнее задание выполняется самостоятельно. «Похожие» решения считаются плагиатом и все задействованные студенты (в том числе те, у кого списали) не могут получить за него больше 0 баллов."
   ]
  },
  {
   "cell_type": "markdown",
   "metadata": {},
   "source": [
    "### Формат сдачи"
   ]
  },
  {
   "cell_type": "markdown",
   "metadata": {},
   "source": [
    "Загрузка файлов с решениями происходит в системе [Anytask](https://anytask.org/)."
   ]
  },
  {
   "cell_type": "markdown",
   "metadata": {},
   "source": [
    "## Часть 1. Numpy\n",
    "\n",
    "Для успешного выполнения этой части вам необходимо пройти все `assert`'ы."
   ]
  },
  {
   "cell_type": "code",
   "execution_count": 1,
   "metadata": {},
   "outputs": [],
   "source": [
    "import numpy as np"
   ]
  },
  {
   "cell_type": "markdown",
   "metadata": {},
   "source": [
    "Во всех задачах необходимо написать код решения внутри функции и проверить его работу, вызвав функцию для данных из условия.\n",
    "\n",
    "При решении задач запрещается использовать циклы (`for`, `while`) и оператор `if`.\n",
    "\n",
    "Везде, где встречаются массивы или матрицы, подразумевается, что это `numpy.array`. "
   ]
  },
  {
   "cell_type": "markdown",
   "metadata": {},
   "source": [
    "### 1"
   ]
  },
  {
   "cell_type": "markdown",
   "metadata": {},
   "source": [
    "Напишите функцию, возвращающую округленную взвешенную сумму оценок по данным оценкам и весам. Можете посчитать свою оценку за курс :) В нашем случае вес экзамена равен 0.3, вес домашек - 0.42, вес контрольной - 0.14, вес самостоятельных - 0.14. Например, если за экзамен у вас 7, за домашки 10, за контрольную 8, а за самостоятельные 6, то вы получите отличную оценку 8!"
   ]
  },
  {
   "cell_type": "code",
   "execution_count": 18,
   "metadata": {},
   "outputs": [],
   "source": [
    "def result_mark(weights: np.array, marks: np.array) -> int:\n",
    "    return int(sum(weights*marks))"
   ]
  },
  {
   "cell_type": "code",
   "execution_count": 19,
   "metadata": {},
   "outputs": [],
   "source": [
    "weights = np.array([0.3, 0.42, 0.14, 0.14])\n",
    "marks = np.array([7, 10, 8, 6])\n",
    "\n",
    "assert result_mark(weights, marks) == 8"
   ]
  },
  {
   "cell_type": "code",
   "execution_count": 20,
   "metadata": {},
   "outputs": [],
   "source": [
    "weights = np.array([0.3, 0.42, 0.14, 0.14])\n",
    "marks = np.array([7, 0, 8, 6])\n",
    "\n",
    "assert result_mark(weights, marks) == 4"
   ]
  },
  {
   "cell_type": "markdown",
   "metadata": {},
   "source": [
    "### 2"
   ]
  },
  {
   "cell_type": "markdown",
   "metadata": {},
   "source": [
    "Напишите функцию, меняющую каждое третье (начиная с 0) значение массива целых чисел на заданное число. Например, если на вход поступает массив `array([3, 5, 1, 0, -3, 22, 213436])` и число `-111`, то на выходе должен получиться массив `array([-111, 5, 1, -111, -3, 22, -111])`."
   ]
  },
  {
   "cell_type": "code",
   "execution_count": 21,
   "metadata": {},
   "outputs": [],
   "source": [
    "def change_array(array: np.array, number: int) -> np.array:\n",
    "    array[::3] = number\n",
    "    return array"
   ]
  },
  {
   "cell_type": "code",
   "execution_count": 22,
   "metadata": {},
   "outputs": [],
   "source": [
    "array = np.array([3, 5, 1, 0, -3, 22, 213436])\n",
    "number = -111\n",
    "assert np.allclose(change_array(array, number), np.array([-111, 5, 1, -111, -3, 22, -111]))"
   ]
  },
  {
   "cell_type": "code",
   "execution_count": 23,
   "metadata": {},
   "outputs": [],
   "source": [
    "array = np.array([3, 14, 15, 92, 6])\n",
    "number = 8\n",
    "\n",
    "assert np.allclose(change_array(array, number), np.array([8, 14, 15, 8, 6]))"
   ]
  },
  {
   "cell_type": "markdown",
   "metadata": {},
   "source": [
    "### 3"
   ]
  },
  {
   "cell_type": "markdown",
   "metadata": {},
   "source": [
    "Напишите функцию, выдающую индексы «близких» элементов заданных массивов, а именно тех пар элементов, чей модуль разницы не превосходит заданного значения. Например, если на вход поступают массив `array([1.5, 0.5, 2, -4.1, -3, 6, -1])`, массив `array([1.2, 0.5, 1, -4, 3, 0, -1.2])` и число `0.5`, то на выходе должен получиться массив `array([0, 1, 3, 6])` (_**важно: не `tuple`, а одномерный массив типа `numpy.ndarray` (то есть `.ndim` от него равно 1)!**_)."
   ]
  },
  {
   "cell_type": "code",
   "execution_count": 24,
   "metadata": {},
   "outputs": [],
   "source": [
    "def find_close(array1: np.array, array2: np.array,\n",
    "               precision: float) -> np.array:\n",
    "    return np.where(np.absolute(array1-array2) < precision)[0]"
   ]
  },
  {
   "cell_type": "code",
   "execution_count": 25,
   "metadata": {},
   "outputs": [],
   "source": [
    "array1 = np.array([1.5, 0.5, 2, -4.1, -3, 6, -1])\n",
    "array2 = np.array([1.2, 0.5, 1, -4.0,  3, 0, -1.2])\n",
    "precision = 0.5\n",
    "res = find_close(array1, array2, precision)\n",
    "assert res.ndim == 1\n",
    "assert np.allclose(res, np.array([0, 1, 3, 6]))"
   ]
  },
  {
   "cell_type": "code",
   "execution_count": 26,
   "metadata": {},
   "outputs": [],
   "source": [
    "array1 = np.array([3.1415, 2.7182, 1.6180, 6.6261])\n",
    "array2 = np.array([6.6730, 1.3807, -1,     6.0222])\n",
    "precision = 1.7\n",
    "res = find_close(array1, array2, precision)\n",
    "\n",
    "assert res.ndim == 1\n",
    "assert np.allclose(res, np.array([1, 3]))"
   ]
  },
  {
   "cell_type": "markdown",
   "metadata": {},
   "source": [
    "### 4"
   ]
  },
  {
   "cell_type": "markdown",
   "metadata": {},
   "source": [
    "Напишите функцию, которая составляет блочную матрицу из четырех блоков, где каждый блок - это заданная матрица. Например, если на вход поступает матрица\n",
    "$$\n",
    "\\begin{pmatrix}\n",
    "0 & 1 & 2\\\\\n",
    "3 & 4 & 5\\\\\n",
    "\\end{pmatrix},\n",
    "$$\n",
    "то ответом будет матрица\n",
    "$$\n",
    "\\begin{pmatrix}\n",
    "0 & 1 & 2 & 0 & 1 & 2\\\\\n",
    "3 & 4 & 5 & 3 & 4 & 5\\\\\n",
    "0 & 1 & 2 & 0 & 1 & 2\\\\\n",
    "3 & 4 & 5 & 3 & 4 & 5\\\\\n",
    "\\end{pmatrix}\n",
    "$$"
   ]
  },
  {
   "cell_type": "code",
   "execution_count": 27,
   "metadata": {},
   "outputs": [],
   "source": [
    "def block_matrix(block: np.array) -> np.array:\n",
    "    return np.block([ [block, block], [block, block] ])"
   ]
  },
  {
   "cell_type": "code",
   "execution_count": 28,
   "metadata": {},
   "outputs": [
    {
     "name": "stdout",
     "output_type": "stream",
     "text": [
      "[[1 3 3 1 3 3]\n",
      " [7 0 0 7 0 0]\n",
      " [1 3 3 1 3 3]\n",
      " [7 0 0 7 0 0]]\n"
     ]
    }
   ],
   "source": [
    "block = np.array([[1, 3, 3], [7, 0, 0]])\n",
    "print(block_matrix(block))\n",
    "assert np.allclose(\n",
    "    block_matrix(block),\n",
    "    np.array([[1, 3, 3, 1, 3, 3],\n",
    "              [7, 0, 0, 7, 0, 0],\n",
    "              [1, 3, 3, 1, 3, 3],\n",
    "              [7, 0, 0, 7, 0, 0]])\n",
    ")"
   ]
  },
  {
   "cell_type": "markdown",
   "metadata": {},
   "source": [
    "### 5"
   ]
  },
  {
   "cell_type": "markdown",
   "metadata": {},
   "source": [
    "Напишите функцию, вычисляющую произведение всех ненулевых диагональных элементов на диагонали данной квадратной матрицы. Например, если на вход поступает матрица\n",
    "$$\n",
    "\\begin{pmatrix}\n",
    "0 & 1 & 2\\\\\n",
    "3 & 4 & 5\\\\\n",
    "6 & 7 & 8\\\\\n",
    "\\end{pmatrix},\n",
    "$$\n",
    "то ответом будет 32.\n",
    "\n",
    "Элементы матрицы считать целочисленными."
   ]
  },
  {
   "cell_type": "code",
   "execution_count": 29,
   "metadata": {},
   "outputs": [],
   "source": [
    "def diag_prod(matrix: np.array) -> int:\n",
    "    return np.prod(np.delete(np.diag(matrix), 0))"
   ]
  },
  {
   "cell_type": "code",
   "execution_count": 30,
   "metadata": {},
   "outputs": [],
   "source": [
    "matrix = np.array([[0, 1, 2, 3],\n",
    "                   [4, 5, 6, 7],\n",
    "                   [8, 9, 10, 11],\n",
    "                   [12, 13, 14, 15]])\n",
    "\n",
    "assert diag_prod(matrix) == 750"
   ]
  },
  {
   "cell_type": "markdown",
   "metadata": {},
   "source": [
    "### 6"
   ]
  },
  {
   "cell_type": "markdown",
   "metadata": {},
   "source": [
    "Для улучшения качества работы некоторых алгоритмов машинного обучения может быть полезно использовать [нормализацию данных](https://vk.cc/8xmfQk), чтобы привести признаки в выборке к одному масштабу — а именно, из каждого столбца вычесть среднее его значений и поделить на их стандартное отклонение. Напишите функцию, нормализующую входящую матрицу (по столбцам). Например, если на вход подается матрица \n",
    "$$\n",
    "\\begin{pmatrix}\n",
    "1 & 4 & 4200\\\\\n",
    "0 & 10 & 5000\\\\\n",
    "1 & 2 & 1000\\\\\n",
    "\\end{pmatrix},\n",
    "$$\n",
    "то результатом с точностью до сотых будет матрица\n",
    "$$\n",
    "\\begin{pmatrix}\n",
    "0.71 & -0.39 & 0.46\\\\\n",
    "-1.41 & 1.37 & 0.93\\\\\n",
    "0.71 & -0.98 & -1.39\\\\\n",
    "\\end{pmatrix}\n",
    "$$\n",
    "Учтите, что в вашей матрице не должно получаться никаких nan. Подумайте, в каком случае они могут возникнуть и как обойти эту проблему.\n",
    "\n",
    "_Подсказка. Казалось бы, при чем тут деление на ноль._"
   ]
  },
  {
   "cell_type": "code",
   "execution_count": 31,
   "metadata": {},
   "outputs": [],
   "source": [
    "def normalize(matrix: np.array) -> np.array:\n",
    "    return (matrix - np.mean(matrix, axis=0))/np.std(matrix, axis = 0)"
   ]
  },
  {
   "cell_type": "code",
   "execution_count": 32,
   "metadata": {},
   "outputs": [
    {
     "name": "stdout",
     "output_type": "stream",
     "text": [
      "[[ 0.70710678 -0.39223227  0.46291005]\n",
      " [-1.41421356  1.37281295  0.9258201 ]\n",
      " [ 0.70710678 -0.98058068 -1.38873015]]\n"
     ]
    }
   ],
   "source": [
    "matrix = np.array([[1, 4, 4200], [0, 10, 5000], [1, 2, 1000]])\n",
    "print(normalize(matrix))\n",
    "assert np.allclose(\n",
    "    normalize(matrix),\n",
    "    np.array([[ 0.7071, -0.39223,  0.46291],\n",
    "              [-1.4142,  1.37281,  0.92582],\n",
    "              [ 0.7071, -0.98058, -1.38873]])\n",
    ")"
   ]
  },
  {
   "cell_type": "code",
   "execution_count": 33,
   "metadata": {},
   "outputs": [],
   "source": [
    "matrix = np.array([[-7, 2, 42], [2, 10, 50], [5, 4, 10]])\n",
    "\n",
    "assert np.allclose(\n",
    "    normalize(matrix),\n",
    "    np.array([[-1.37281, -0.98058,  0.46291],\n",
    "              [ 0.39223,  1.37281,  0.92582],\n",
    "              [ 0.98058, -0.39223, -1.38873]])\n",
    ")"
   ]
  },
  {
   "cell_type": "markdown",
   "metadata": {},
   "source": [
    "### 7"
   ]
  },
  {
   "cell_type": "markdown",
   "metadata": {},
   "source": [
    "Напишите функцию, вычисляющую какую-нибудь первообразную данного полинома (в качестве константы возьмите $0$). Например, если на вход поступает массив коэффициентов `array([4, 6, 0, 1])`, что соответствует полиному $4x^3 + 6x^2 + 1$, на выходе получается массив коэффициентов `array([1, 2, 0, 1, -2])`, соответствующий полиному $x^4 + 2x^3 + x - 2$."
   ]
  },
  {
   "cell_type": "code",
   "execution_count": 34,
   "metadata": {},
   "outputs": [],
   "source": [
    "def antiderivative(coefs: np.array) -> np.array:\n",
    "    return np.polyint(np.poly1d(coefs)).coef"
   ]
  },
  {
   "cell_type": "code",
   "execution_count": 35,
   "metadata": {},
   "outputs": [
    {
     "name": "stdout",
     "output_type": "stream",
     "text": [
      "[1. 2. 0. 1. 0.]\n"
     ]
    }
   ],
   "source": [
    "coefs = np.array([4, 6, 0, 1])\n",
    "print(antiderivative(coefs))\n",
    "assert np.allclose(\n",
    "    antiderivative(coefs),\n",
    "    np.array([1., 2., 0., 1., 0.])\n",
    ")"
   ]
  },
  {
   "cell_type": "code",
   "execution_count": 36,
   "metadata": {},
   "outputs": [],
   "source": [
    "coefs = np.array([1, 7, -12, 21, -6])\n",
    "\n",
    "assert np.allclose(\n",
    "    antiderivative(coefs),\n",
    "    np.array([ 0.2, 1.75, -4., 10.5, -6., 0.])\n",
    ")"
   ]
  },
  {
   "cell_type": "markdown",
   "metadata": {},
   "source": [
    "### 8"
   ]
  },
  {
   "cell_type": "markdown",
   "metadata": {},
   "source": [
    "Напишите функцию, делающую данную [треугольную матрицу](https://ru.wikipedia.org/wiki/%D0%A2%D1%80%D0%B5%D1%83%D0%B3%D0%BE%D0%BB%D1%8C%D0%BD%D0%B0%D1%8F_%D0%BC%D0%B0%D1%82%D1%80%D0%B8%D1%86%D0%B0) симметричной. Например, если на вход поступает матрица\n",
    "$$\n",
    "\\begin{pmatrix}\n",
    "1 & 2 & 3 & 4\\\\\n",
    "0 & 5 & 6 & 7\\\\\n",
    "0 & 0 & 8 & 9\\\\\n",
    "0 & 0 & 0 & 10\\\\\n",
    "\\end{pmatrix},\n",
    "$$\n",
    "то на выходе должна быть матрица\n",
    "$$\n",
    "\\begin{pmatrix}\n",
    "1 & 2 & 3 & 4\\\\\n",
    "2 & 5 & 6 & 7\\\\\n",
    "3 & 6 & 8 & 9\\\\\n",
    "4 & 7 & 9 & 10\\\\\n",
    "\\end{pmatrix}.\n",
    "$$"
   ]
  },
  {
   "cell_type": "code",
   "execution_count": 37,
   "metadata": {},
   "outputs": [],
   "source": [
    "def make_symmetric(matrix: np.array) -> np.array:\n",
    "    return matrix.T + matrix - np.diag(matrix.diagonal())"
   ]
  },
  {
   "cell_type": "code",
   "execution_count": 38,
   "metadata": {},
   "outputs": [
    {
     "name": "stdout",
     "output_type": "stream",
     "text": [
      "[[ 1  2  3  4]\n",
      " [ 2  5  6  7]\n",
      " [ 3  6  8  9]\n",
      " [ 4  7  9 10]]\n"
     ]
    }
   ],
   "source": [
    "matrix = np.array([[1, 2, 3, 4], [0, 5, 6, 7], [0, 0, 8, 9], [0, 0, 0, 10]])\n",
    "print(make_symmetric(matrix))"
   ]
  },
  {
   "cell_type": "code",
   "execution_count": 39,
   "metadata": {},
   "outputs": [],
   "source": [
    "matrix = np.array([[1, 2, 3, 4], [0, 5, 6, 7], [0, 0, 8, 9], [0, 0, 0, 10]])\n",
    "\n",
    "assert np.allclose(\n",
    "    make_symmetric(matrix),\n",
    "    np.array([[ 1,  2,  3,  4],\n",
    "              [ 2,  5,  6,  7],\n",
    "              [ 3,  6,  8,  9],\n",
    "              [ 4,  7,  9, 10]])\n",
    ")"
   ]
  },
  {
   "cell_type": "code",
   "execution_count": 40,
   "metadata": {},
   "outputs": [],
   "source": [
    "matrix = np.array([[10, 21, 32, 49], [0, 53, 62, 78], [0, 0, 82, 92], [0, 0, 0, 10]])\n",
    "\n",
    "assert np.allclose(\n",
    "    make_symmetric(matrix),\n",
    "    np.array([[10, 21, 32, 49],\n",
    "              [21, 53, 62, 78],\n",
    "              [32, 62, 82, 92],\n",
    "              [49, 78, 92, 10]])\n",
    ")"
   ]
  },
  {
   "cell_type": "markdown",
   "metadata": {},
   "source": [
    "### 9"
   ]
  },
  {
   "cell_type": "markdown",
   "metadata": {},
   "source": [
    "Напишите функцию, создающую прямоугольную матрицу из m одинаковых строк, заполненных последовательными натуральными числами от a до b включительно в возрастающем порядке. Например, если m = 5, a = 3, b = 10, то на выходе будет матрица\n",
    "$$\n",
    "\\begin{pmatrix}\n",
    "3 & 4 & 5 & 6 & 7 & 8 & 9 & 10\\\\\n",
    "3 & 4 & 5 & 6 & 7 & 8 & 9 & 10\\\\\n",
    "3 & 4 & 5 & 6 & 7 & 8 & 9 & 10\\\\\n",
    "3 & 4 & 5 & 6 & 7 & 8 & 9 & 10\\\\\n",
    "3 & 4 & 5 & 6 & 7 & 8 & 9 & 10\\\\\n",
    "\\end{pmatrix}\n",
    "$$"
   ]
  },
  {
   "cell_type": "code",
   "execution_count": 41,
   "metadata": {},
   "outputs": [],
   "source": [
    "def construct_matrix(m: int, a: int, b: int) -> np.array:\n",
    "    return np.zeros((m, b-a+1)) + np.arange(a, b+1)"
   ]
  },
  {
   "cell_type": "code",
   "execution_count": 42,
   "metadata": {},
   "outputs": [
    {
     "data": {
      "text/plain": [
       "array([[ 3.,  4.,  5.,  6.,  7.,  8.,  9., 10.],\n",
       "       [ 3.,  4.,  5.,  6.,  7.,  8.,  9., 10.],\n",
       "       [ 3.,  4.,  5.,  6.,  7.,  8.,  9., 10.],\n",
       "       [ 3.,  4.,  5.,  6.,  7.,  8.,  9., 10.],\n",
       "       [ 3.,  4.,  5.,  6.,  7.,  8.,  9., 10.]])"
      ]
     },
     "execution_count": 42,
     "metadata": {},
     "output_type": "execute_result"
    }
   ],
   "source": [
    "m = 5\n",
    "a = 3\n",
    "b = 10\n",
    "\n",
    "construct_matrix(m, a, b)"
   ]
  },
  {
   "cell_type": "code",
   "execution_count": 43,
   "metadata": {},
   "outputs": [],
   "source": [
    "m = 5\n",
    "a = 3\n",
    "b = 10\n",
    "\n",
    "assert np.allclose(\n",
    "    construct_matrix(m, a, b),\n",
    "    np.array([[ 3,  4,  5,  6,  7,  8,  9, 10],\n",
    "              [ 3,  4,  5,  6,  7,  8,  9, 10],\n",
    "              [ 3,  4,  5,  6,  7,  8,  9, 10],\n",
    "              [ 3,  4,  5,  6,  7,  8,  9, 10],\n",
    "              [ 3,  4,  5,  6,  7,  8,  9, 10]])\n",
    ")"
   ]
  },
  {
   "cell_type": "code",
   "execution_count": 44,
   "metadata": {},
   "outputs": [],
   "source": [
    "m = 3\n",
    "a = 2\n",
    "b = 6\n",
    "\n",
    "assert np.allclose(\n",
    "    construct_matrix(m, a, b),\n",
    "    np.array([[2, 3, 4, 5, 6],\n",
    "              [2, 3, 4, 5, 6],\n",
    "              [2, 3, 4, 5, 6]])\n",
    ")"
   ]
  },
  {
   "cell_type": "markdown",
   "metadata": {},
   "source": [
    "### 10"
   ]
  },
  {
   "cell_type": "markdown",
   "metadata": {},
   "source": [
    "Напишите функцию, вычисляющую [косинусную близость](https://en.wikipedia.org/wiki/Cosine_similarity) двух векторов. Например, если на вход поступают вектора `array([-2, 1, 0, -5, 4, 3, -3])` и `array([0, 2, -2, 10, 6, 0, 0])`, ответом будет -0.25."
   ]
  },
  {
   "cell_type": "code",
   "execution_count": 45,
   "metadata": {},
   "outputs": [],
   "source": [
    "def cosine_similarity(vec1: np.array, vec2: np.array) -> float:\n",
    "    return sum(vec1*vec2)/(np.linalg.norm(vec1)*np.linalg.norm(vec2))\n"
   ]
  },
  {
   "cell_type": "code",
   "execution_count": 46,
   "metadata": {},
   "outputs": [],
   "source": [
    "vec1 = np.array([-2, 1,  0, -5, 4, 3, -3])\n",
    "vec2 = np.array([ 0, 2, -2, 10, 6, 0,  0])\n",
    "\n",
    "assert np.allclose(cosine_similarity(vec1, vec2), -0.25)"
   ]
  },
  {
   "cell_type": "code",
   "execution_count": 47,
   "metadata": {},
   "outputs": [],
   "source": [
    "vec1 = np.array([-4, 2,  9, -8, 9, 0, -2])\n",
    "vec2 = np.array([ 3, 2, -4, -1, 3, 2,  2])\n",
    "\n",
    "assert np.allclose(cosine_similarity(vec1, vec2), -0.119929)"
   ]
  },
  {
   "cell_type": "markdown",
   "metadata": {},
   "source": [
    "## Часть 2. Pandas и Matplotlib"
   ]
  },
  {
   "cell_type": "code",
   "execution_count": 2,
   "metadata": {},
   "outputs": [],
   "source": [
    "import matplotlib.pyplot as plt\n",
    "import pandas as pd\n",
    "\n",
    "%matplotlib inline"
   ]
  },
  {
   "cell_type": "markdown",
   "metadata": {},
   "source": [
    "В этой части домашнего задания вы поработаете с данными о пассажирах с затонувшего «Титаника». Описание данных:\n",
    "\n",
    "https://www.kaggle.com/c/titanic/data\n",
    "\n",
    "Каждый построенный график необходимо красиво оформить - для этого требуется как минимум указать его название, а также отметить, что изображено по каждой из осей.\n",
    "\n",
    "*Функции, которые могут пригодиться при оформлении графиков: `.show()`, `.title()`, `.xlabel()`, `.ylabel()`*"
   ]
  },
  {
   "cell_type": "markdown",
   "metadata": {},
   "source": [
    "Интересный DashBoard: \n",
    "https://www.thinglink.com/scene/906464908143493121?buttonSource=viewLimits"
   ]
  },
  {
   "cell_type": "markdown",
   "metadata": {},
   "source": [
    "### 11"
   ]
  },
  {
   "cell_type": "markdown",
   "metadata": {},
   "source": [
    "Откройте в ноутбуке файл с данными (\"train.csv\"). Какой размер имеет таблица? Выведите первые 5 и последние 5 строк."
   ]
  },
  {
   "cell_type": "code",
   "execution_count": 3,
   "metadata": {},
   "outputs": [],
   "source": [
    "data = pd.read_csv('train1.csv')"
   ]
  },
  {
   "cell_type": "code",
   "execution_count": 4,
   "metadata": {},
   "outputs": [
    {
     "name": "stdout",
     "output_type": "stream",
     "text": [
      "Размер таблицы: 891 x 12\n",
      "Первые пять строк:\n"
     ]
    },
    {
     "data": {
      "text/html": [
       "<div>\n",
       "<style scoped>\n",
       "    .dataframe tbody tr th:only-of-type {\n",
       "        vertical-align: middle;\n",
       "    }\n",
       "\n",
       "    .dataframe tbody tr th {\n",
       "        vertical-align: top;\n",
       "    }\n",
       "\n",
       "    .dataframe thead th {\n",
       "        text-align: right;\n",
       "    }\n",
       "</style>\n",
       "<table border=\"1\" class=\"dataframe\">\n",
       "  <thead>\n",
       "    <tr style=\"text-align: right;\">\n",
       "      <th></th>\n",
       "      <th>PassengerId</th>\n",
       "      <th>Survived</th>\n",
       "      <th>Pclass</th>\n",
       "      <th>Name</th>\n",
       "      <th>Sex</th>\n",
       "      <th>Age</th>\n",
       "      <th>SibSp</th>\n",
       "      <th>Parch</th>\n",
       "      <th>Ticket</th>\n",
       "      <th>Fare</th>\n",
       "      <th>Cabin</th>\n",
       "      <th>Embarked</th>\n",
       "    </tr>\n",
       "  </thead>\n",
       "  <tbody>\n",
       "    <tr>\n",
       "      <th>0</th>\n",
       "      <td>1</td>\n",
       "      <td>0</td>\n",
       "      <td>3</td>\n",
       "      <td>Braund, Mr. Owen Harris</td>\n",
       "      <td>male</td>\n",
       "      <td>22.0</td>\n",
       "      <td>1</td>\n",
       "      <td>0</td>\n",
       "      <td>A/5 21171</td>\n",
       "      <td>7.2500</td>\n",
       "      <td>NaN</td>\n",
       "      <td>S</td>\n",
       "    </tr>\n",
       "    <tr>\n",
       "      <th>1</th>\n",
       "      <td>2</td>\n",
       "      <td>1</td>\n",
       "      <td>1</td>\n",
       "      <td>Cumings, Mrs. John Bradley (Florence Briggs Th...</td>\n",
       "      <td>female</td>\n",
       "      <td>38.0</td>\n",
       "      <td>1</td>\n",
       "      <td>0</td>\n",
       "      <td>PC 17599</td>\n",
       "      <td>71.2833</td>\n",
       "      <td>C85</td>\n",
       "      <td>C</td>\n",
       "    </tr>\n",
       "    <tr>\n",
       "      <th>2</th>\n",
       "      <td>3</td>\n",
       "      <td>1</td>\n",
       "      <td>3</td>\n",
       "      <td>Heikkinen, Miss. Laina</td>\n",
       "      <td>female</td>\n",
       "      <td>26.0</td>\n",
       "      <td>0</td>\n",
       "      <td>0</td>\n",
       "      <td>STON/O2. 3101282</td>\n",
       "      <td>7.9250</td>\n",
       "      <td>NaN</td>\n",
       "      <td>S</td>\n",
       "    </tr>\n",
       "    <tr>\n",
       "      <th>3</th>\n",
       "      <td>4</td>\n",
       "      <td>1</td>\n",
       "      <td>1</td>\n",
       "      <td>Futrelle, Mrs. Jacques Heath (Lily May Peel)</td>\n",
       "      <td>female</td>\n",
       "      <td>35.0</td>\n",
       "      <td>1</td>\n",
       "      <td>0</td>\n",
       "      <td>113803</td>\n",
       "      <td>53.1000</td>\n",
       "      <td>C123</td>\n",
       "      <td>S</td>\n",
       "    </tr>\n",
       "    <tr>\n",
       "      <th>4</th>\n",
       "      <td>5</td>\n",
       "      <td>0</td>\n",
       "      <td>3</td>\n",
       "      <td>Allen, Mr. William Henry</td>\n",
       "      <td>male</td>\n",
       "      <td>35.0</td>\n",
       "      <td>0</td>\n",
       "      <td>0</td>\n",
       "      <td>373450</td>\n",
       "      <td>8.0500</td>\n",
       "      <td>NaN</td>\n",
       "      <td>S</td>\n",
       "    </tr>\n",
       "  </tbody>\n",
       "</table>\n",
       "</div>"
      ],
      "text/plain": [
       "   PassengerId  Survived  Pclass  \\\n",
       "0            1         0       3   \n",
       "1            2         1       1   \n",
       "2            3         1       3   \n",
       "3            4         1       1   \n",
       "4            5         0       3   \n",
       "\n",
       "                                                Name     Sex   Age  SibSp  \\\n",
       "0                            Braund, Mr. Owen Harris    male  22.0      1   \n",
       "1  Cumings, Mrs. John Bradley (Florence Briggs Th...  female  38.0      1   \n",
       "2                             Heikkinen, Miss. Laina  female  26.0      0   \n",
       "3       Futrelle, Mrs. Jacques Heath (Lily May Peel)  female  35.0      1   \n",
       "4                           Allen, Mr. William Henry    male  35.0      0   \n",
       "\n",
       "   Parch            Ticket     Fare Cabin Embarked  \n",
       "0      0         A/5 21171   7.2500   NaN        S  \n",
       "1      0          PC 17599  71.2833   C85        C  \n",
       "2      0  STON/O2. 3101282   7.9250   NaN        S  \n",
       "3      0            113803  53.1000  C123        S  \n",
       "4      0            373450   8.0500   NaN        S  "
      ]
     },
     "execution_count": 4,
     "metadata": {},
     "output_type": "execute_result"
    }
   ],
   "source": [
    "print('Размер таблицы: {} x {}'.format(data.shape[0], data.shape[1]))\n",
    "print('Первые пять строк:')\n",
    "data.head(5)"
   ]
  },
  {
   "cell_type": "code",
   "execution_count": 5,
   "metadata": {},
   "outputs": [
    {
     "name": "stdout",
     "output_type": "stream",
     "text": [
      "Последние пять строк:\n"
     ]
    },
    {
     "data": {
      "text/html": [
       "<div>\n",
       "<style scoped>\n",
       "    .dataframe tbody tr th:only-of-type {\n",
       "        vertical-align: middle;\n",
       "    }\n",
       "\n",
       "    .dataframe tbody tr th {\n",
       "        vertical-align: top;\n",
       "    }\n",
       "\n",
       "    .dataframe thead th {\n",
       "        text-align: right;\n",
       "    }\n",
       "</style>\n",
       "<table border=\"1\" class=\"dataframe\">\n",
       "  <thead>\n",
       "    <tr style=\"text-align: right;\">\n",
       "      <th></th>\n",
       "      <th>PassengerId</th>\n",
       "      <th>Survived</th>\n",
       "      <th>Pclass</th>\n",
       "      <th>Name</th>\n",
       "      <th>Sex</th>\n",
       "      <th>Age</th>\n",
       "      <th>SibSp</th>\n",
       "      <th>Parch</th>\n",
       "      <th>Ticket</th>\n",
       "      <th>Fare</th>\n",
       "      <th>Cabin</th>\n",
       "      <th>Embarked</th>\n",
       "    </tr>\n",
       "  </thead>\n",
       "  <tbody>\n",
       "    <tr>\n",
       "      <th>886</th>\n",
       "      <td>887</td>\n",
       "      <td>0</td>\n",
       "      <td>2</td>\n",
       "      <td>Montvila, Rev. Juozas</td>\n",
       "      <td>male</td>\n",
       "      <td>27.0</td>\n",
       "      <td>0</td>\n",
       "      <td>0</td>\n",
       "      <td>211536</td>\n",
       "      <td>13.00</td>\n",
       "      <td>NaN</td>\n",
       "      <td>S</td>\n",
       "    </tr>\n",
       "    <tr>\n",
       "      <th>887</th>\n",
       "      <td>888</td>\n",
       "      <td>1</td>\n",
       "      <td>1</td>\n",
       "      <td>Graham, Miss. Margaret Edith</td>\n",
       "      <td>female</td>\n",
       "      <td>19.0</td>\n",
       "      <td>0</td>\n",
       "      <td>0</td>\n",
       "      <td>112053</td>\n",
       "      <td>30.00</td>\n",
       "      <td>B42</td>\n",
       "      <td>S</td>\n",
       "    </tr>\n",
       "    <tr>\n",
       "      <th>888</th>\n",
       "      <td>889</td>\n",
       "      <td>0</td>\n",
       "      <td>3</td>\n",
       "      <td>Johnston, Miss. Catherine Helen \"Carrie\"</td>\n",
       "      <td>female</td>\n",
       "      <td>NaN</td>\n",
       "      <td>1</td>\n",
       "      <td>2</td>\n",
       "      <td>W./C. 6607</td>\n",
       "      <td>23.45</td>\n",
       "      <td>NaN</td>\n",
       "      <td>S</td>\n",
       "    </tr>\n",
       "    <tr>\n",
       "      <th>889</th>\n",
       "      <td>890</td>\n",
       "      <td>1</td>\n",
       "      <td>1</td>\n",
       "      <td>Behr, Mr. Karl Howell</td>\n",
       "      <td>male</td>\n",
       "      <td>26.0</td>\n",
       "      <td>0</td>\n",
       "      <td>0</td>\n",
       "      <td>111369</td>\n",
       "      <td>30.00</td>\n",
       "      <td>C148</td>\n",
       "      <td>C</td>\n",
       "    </tr>\n",
       "    <tr>\n",
       "      <th>890</th>\n",
       "      <td>891</td>\n",
       "      <td>0</td>\n",
       "      <td>3</td>\n",
       "      <td>Dooley, Mr. Patrick</td>\n",
       "      <td>male</td>\n",
       "      <td>32.0</td>\n",
       "      <td>0</td>\n",
       "      <td>0</td>\n",
       "      <td>370376</td>\n",
       "      <td>7.75</td>\n",
       "      <td>NaN</td>\n",
       "      <td>Q</td>\n",
       "    </tr>\n",
       "  </tbody>\n",
       "</table>\n",
       "</div>"
      ],
      "text/plain": [
       "     PassengerId  Survived  Pclass                                      Name  \\\n",
       "886          887         0       2                     Montvila, Rev. Juozas   \n",
       "887          888         1       1              Graham, Miss. Margaret Edith   \n",
       "888          889         0       3  Johnston, Miss. Catherine Helen \"Carrie\"   \n",
       "889          890         1       1                     Behr, Mr. Karl Howell   \n",
       "890          891         0       3                       Dooley, Mr. Patrick   \n",
       "\n",
       "        Sex   Age  SibSp  Parch      Ticket   Fare Cabin Embarked  \n",
       "886    male  27.0      0      0      211536  13.00   NaN        S  \n",
       "887  female  19.0      0      0      112053  30.00   B42        S  \n",
       "888  female   NaN      1      2  W./C. 6607  23.45   NaN        S  \n",
       "889    male  26.0      0      0      111369  30.00  C148        C  \n",
       "890    male  32.0      0      0      370376   7.75   NaN        Q  "
      ]
     },
     "execution_count": 5,
     "metadata": {},
     "output_type": "execute_result"
    }
   ],
   "source": [
    "print('Последние пять строк:')\n",
    "data.tail(5)"
   ]
  },
  {
   "cell_type": "markdown",
   "metadata": {},
   "source": [
    "### 12"
   ]
  },
  {
   "cell_type": "markdown",
   "metadata": {},
   "source": [
    "Для каждого из признаков укажите его тип (вещественный, категориальный, порядковый, другое). Придумайте три задачи, которые можно было бы решать для данного датасета — задачу регрессии, задачу классификации и задачу кластеризации."
   ]
  },
  {
   "cell_type": "markdown",
   "metadata": {},
   "source": [
    "PassengerId - вещественный,\n",
    "Survived - бинарный,\n",
    "Pclass - категориальный,\n",
    "Name - номинальный,\n",
    "Sex - категориальный,\n",
    "Age - вещественный,\n",
    "SibSp - вещественный,\n",
    "Parch - вещественный,\n",
    "Ticket - вещественный,\n",
    "Fare - вещественный,\n",
    "Cabin - категориальный (если сравнивать по буквам),\n",
    "Embarked - категориальный"
   ]
  },
  {
   "cell_type": "markdown",
   "metadata": {},
   "source": [
    "Задача регрессии - построить зависимость возраста, количества родственников и детей на борту от цены за билет\n",
    "Задача классификации - по входным данным предсказать выживет пассажир или нет\n",
    "Задача кластеризации - кластеризовать людей по Pclass в зависимости от age"
   ]
  },
  {
   "cell_type": "code",
   "execution_count": 6,
   "metadata": {},
   "outputs": [
    {
     "name": "stdout",
     "output_type": "stream",
     "text": [
      "Типы данных: \n",
      "PassengerId      int64\n",
      "Survived         int64\n",
      "Pclass           int64\n",
      "Name            object\n",
      "Sex             object\n",
      "Age            float64\n",
      "SibSp            int64\n",
      "Parch            int64\n",
      "Ticket          object\n",
      "Fare           float64\n",
      "Cabin           object\n",
      "Embarked        object\n",
      "dtype: object\n"
     ]
    },
    {
     "data": {
      "text/html": [
       "<div>\n",
       "<style scoped>\n",
       "    .dataframe tbody tr th:only-of-type {\n",
       "        vertical-align: middle;\n",
       "    }\n",
       "\n",
       "    .dataframe tbody tr th {\n",
       "        vertical-align: top;\n",
       "    }\n",
       "\n",
       "    .dataframe thead th {\n",
       "        text-align: right;\n",
       "    }\n",
       "</style>\n",
       "<table border=\"1\" class=\"dataframe\">\n",
       "  <thead>\n",
       "    <tr style=\"text-align: right;\">\n",
       "      <th></th>\n",
       "      <th>PassengerId</th>\n",
       "      <th>Survived</th>\n",
       "      <th>Pclass</th>\n",
       "      <th>Age</th>\n",
       "      <th>SibSp</th>\n",
       "      <th>Parch</th>\n",
       "      <th>Fare</th>\n",
       "    </tr>\n",
       "  </thead>\n",
       "  <tbody>\n",
       "    <tr>\n",
       "      <th>count</th>\n",
       "      <td>891.000000</td>\n",
       "      <td>891.000000</td>\n",
       "      <td>891.000000</td>\n",
       "      <td>714.000000</td>\n",
       "      <td>891.000000</td>\n",
       "      <td>891.000000</td>\n",
       "      <td>891.000000</td>\n",
       "    </tr>\n",
       "    <tr>\n",
       "      <th>mean</th>\n",
       "      <td>446.000000</td>\n",
       "      <td>0.383838</td>\n",
       "      <td>2.308642</td>\n",
       "      <td>29.699118</td>\n",
       "      <td>0.523008</td>\n",
       "      <td>0.381594</td>\n",
       "      <td>32.204208</td>\n",
       "    </tr>\n",
       "    <tr>\n",
       "      <th>std</th>\n",
       "      <td>257.353842</td>\n",
       "      <td>0.486592</td>\n",
       "      <td>0.836071</td>\n",
       "      <td>14.526497</td>\n",
       "      <td>1.102743</td>\n",
       "      <td>0.806057</td>\n",
       "      <td>49.693429</td>\n",
       "    </tr>\n",
       "    <tr>\n",
       "      <th>min</th>\n",
       "      <td>1.000000</td>\n",
       "      <td>0.000000</td>\n",
       "      <td>1.000000</td>\n",
       "      <td>0.420000</td>\n",
       "      <td>0.000000</td>\n",
       "      <td>0.000000</td>\n",
       "      <td>0.000000</td>\n",
       "    </tr>\n",
       "    <tr>\n",
       "      <th>25%</th>\n",
       "      <td>223.500000</td>\n",
       "      <td>0.000000</td>\n",
       "      <td>2.000000</td>\n",
       "      <td>20.125000</td>\n",
       "      <td>0.000000</td>\n",
       "      <td>0.000000</td>\n",
       "      <td>7.910400</td>\n",
       "    </tr>\n",
       "    <tr>\n",
       "      <th>50%</th>\n",
       "      <td>446.000000</td>\n",
       "      <td>0.000000</td>\n",
       "      <td>3.000000</td>\n",
       "      <td>28.000000</td>\n",
       "      <td>0.000000</td>\n",
       "      <td>0.000000</td>\n",
       "      <td>14.454200</td>\n",
       "    </tr>\n",
       "    <tr>\n",
       "      <th>75%</th>\n",
       "      <td>668.500000</td>\n",
       "      <td>1.000000</td>\n",
       "      <td>3.000000</td>\n",
       "      <td>38.000000</td>\n",
       "      <td>1.000000</td>\n",
       "      <td>0.000000</td>\n",
       "      <td>31.000000</td>\n",
       "    </tr>\n",
       "    <tr>\n",
       "      <th>max</th>\n",
       "      <td>891.000000</td>\n",
       "      <td>1.000000</td>\n",
       "      <td>3.000000</td>\n",
       "      <td>80.000000</td>\n",
       "      <td>8.000000</td>\n",
       "      <td>6.000000</td>\n",
       "      <td>512.329200</td>\n",
       "    </tr>\n",
       "  </tbody>\n",
       "</table>\n",
       "</div>"
      ],
      "text/plain": [
       "       PassengerId    Survived      Pclass         Age       SibSp  \\\n",
       "count   891.000000  891.000000  891.000000  714.000000  891.000000   \n",
       "mean    446.000000    0.383838    2.308642   29.699118    0.523008   \n",
       "std     257.353842    0.486592    0.836071   14.526497    1.102743   \n",
       "min       1.000000    0.000000    1.000000    0.420000    0.000000   \n",
       "25%     223.500000    0.000000    2.000000   20.125000    0.000000   \n",
       "50%     446.000000    0.000000    3.000000   28.000000    0.000000   \n",
       "75%     668.500000    1.000000    3.000000   38.000000    1.000000   \n",
       "max     891.000000    1.000000    3.000000   80.000000    8.000000   \n",
       "\n",
       "            Parch        Fare  \n",
       "count  891.000000  891.000000  \n",
       "mean     0.381594   32.204208  \n",
       "std      0.806057   49.693429  \n",
       "min      0.000000    0.000000  \n",
       "25%      0.000000    7.910400  \n",
       "50%      0.000000   14.454200  \n",
       "75%      0.000000   31.000000  \n",
       "max      6.000000  512.329200  "
      ]
     },
     "execution_count": 6,
     "metadata": {},
     "output_type": "execute_result"
    }
   ],
   "source": [
    "print('Типы данных: \\n{}'.format(data.dtypes))\n",
    "data.describe()"
   ]
  },
  {
   "cell_type": "markdown",
   "metadata": {},
   "source": [
    "### 13"
   ]
  },
  {
   "cell_type": "markdown",
   "metadata": {},
   "source": [
    "Какова доля выживших после крушения пассажиров? Какова доля мужчин и женщин среди выживших?"
   ]
  },
  {
   "cell_type": "code",
   "execution_count": 7,
   "metadata": {},
   "outputs": [
    {
     "name": "stdout",
     "output_type": "stream",
     "text": [
      "Доля выживших: 0.384\n",
      "Доля выживших мужчин 0.122\n",
      "Доля выживших женщин 0.262\n"
     ]
    }
   ],
   "source": [
    "print('Доля выживших: {:.3}'.format(data['Survived'].mean()))\n",
    "print('Доля выживших мужчин {:.3}'.format(data[(data['Sex'] == 'male') & (data['Survived'] == 1)].shape[0]/data.shape[0]))\n",
    "print('Доля выживших женщин {:.3}'.format(data[(data['Sex'] == 'female') & (data['Survived'] == 1)].shape[0]/data.shape[0]))"
   ]
  },
  {
   "cell_type": "markdown",
   "metadata": {},
   "source": [
    "### 14"
   ]
  },
  {
   "cell_type": "markdown",
   "metadata": {},
   "source": [
    "Сколько пассажиров ехало в каждом классе? Кого было больше в самом многолюдном классе — мужчин или женщин?"
   ]
  },
  {
   "cell_type": "code",
   "execution_count": 8,
   "metadata": {},
   "outputs": [
    {
     "name": "stdout",
     "output_type": "stream",
     "text": [
      "Типы классов: [3 1 2]\n",
      "Количество людей в 3 классе: 491\n",
      "Количество людей в 1 классе: 216\n",
      "Количество людей во 2 классе: 184\n"
     ]
    }
   ],
   "source": [
    "print('Типы классов: {}'.format(data['Pclass'].unique()))\n",
    "print('Количество людей в 3 классе: {}'.format(data[data['Pclass'] == 3].shape[0]))\n",
    "print('Количество людей в 1 классе: {}'.format(data[data['Pclass'] == 1].shape[0]))\n",
    "print('Количество людей во 2 классе: {}'.format(data[data['Pclass'] == 2].shape[0]))"
   ]
  },
  {
   "cell_type": "code",
   "execution_count": 9,
   "metadata": {},
   "outputs": [
    {
     "name": "stdout",
     "output_type": "stream",
     "text": [
      "Мужчин в 3 классе: 347 \n",
      "Женщин в 3 классе: 144\n"
     ]
    }
   ],
   "source": [
    "print('Мужчин в 3 классе: {} \\nЖенщин в 3 классе: {}'.format((data[ (data['Pclass'] == 3) & (data['Sex'] == 'male') ].shape[0]),\n",
    "                                                             (data[ (data['Pclass'] == 3) & (data['Sex'] == 'female') ].shape[0])))"
   ]
  },
  {
   "cell_type": "markdown",
   "metadata": {},
   "source": [
    "### 15"
   ]
  },
  {
   "cell_type": "markdown",
   "metadata": {},
   "source": [
    "Выведите минимальную, среднюю и максимальную сумму, которую заплатили пассажиры за проезд. Проделайте то же самое только для тех пассажиров, которые сели на корабль в Саутгемптоне. Выведите гистограммы, показывающие распределения стоимостей билетов в зависимости от места посадки."
   ]
  },
  {
   "cell_type": "code",
   "execution_count": 10,
   "metadata": {},
   "outputs": [
    {
     "name": "stdout",
     "output_type": "stream",
     "text": [
      "Минимальная сумма проезда: 0.0\n",
      "Максимальная сумма проезда: 512.3\n",
      "Средняя стоимость проезда: 32.2\n"
     ]
    }
   ],
   "source": [
    "print('Минимальная сумма проезда: {:.4}'.format(data['Fare'].min()))\n",
    "print('Максимальная сумма проезда: {:.4}'.format(data['Fare'].max()))\n",
    "print('Средняя стоимость проезда: {:.4}'.format(data['Fare'].mean()))"
   ]
  },
  {
   "cell_type": "code",
   "execution_count": 11,
   "metadata": {},
   "outputs": [
    {
     "name": "stdout",
     "output_type": "stream",
     "text": [
      "Для пассажиров, севших в Саутгемптоне:\n",
      "Минимальная сумма проезда: 0.0\n",
      "Максимальная сумма проезда: 263.0\n",
      "Средняя стоимость проезда: 27.08\n"
     ]
    }
   ],
   "source": [
    "print('Для пассажиров, севших в Саутгемптоне:')\n",
    "print('Минимальная сумма проезда: {:.4}'.format(data[data['Embarked'] == 'S']['Fare'].min()))\n",
    "print('Максимальная сумма проезда: {:.4}'.format(data[data['Embarked'] == 'S']['Fare'].max()))\n",
    "print('Средняя стоимость проезда: {:.4}'.format(data[data['Embarked'] == 'S']['Fare'].mean()))"
   ]
  },
  {
   "cell_type": "code",
   "execution_count": 12,
   "metadata": {},
   "outputs": [
    {
     "name": "stdout",
     "output_type": "stream",
     "text": [
      "Порты посадки: ['S' 'C' 'Q' nan]\n"
     ]
    }
   ],
   "source": [
    "print('Порты посадки: {}'.format(data['Embarked'].unique()))"
   ]
  },
  {
   "cell_type": "code",
   "execution_count": 13,
   "metadata": {},
   "outputs": [
    {
     "data": {
      "text/plain": [
       "Text(0.5, 1.0, 'Distr. of ticket prices depending on the fare')"
      ]
     },
     "execution_count": 13,
     "metadata": {},
     "output_type": "execute_result"
    },
    {
     "data": {
      "image/png": "[encoded data removed]",
      "text/plain": [
       "<Figure size 864x504 with 3 Axes>"
      ]
     },
     "metadata": {
      "needs_background": "light"
     },
     "output_type": "display_data"
    }
   ],
   "source": [
    "plt.figure(figsize=(12,7))\n",
    "plt.subplot(221)\n",
    "plt.hist(data[data['Embarked'] == 'S']['Fare'], bins = 10, color = 'r', label = 'Southampton')\n",
    "plt.legend()\n",
    "plt.ylabel('Number of people')\n",
    "plt.xlabel('Fare')\n",
    "plt.title('Distr. of ticket prices depending on the fare')\n",
    "\n",
    "plt.subplot(222)\n",
    "plt.hist(data[data['Embarked'] == 'C']['Fare'], bins = 10, color = 'g', label = 'Cherbourg')\n",
    "plt.legend()\n",
    "plt.ylabel('Number of people')\n",
    "plt.xlabel('Fare')\n",
    "plt.title('Distr. of ticket prices depending on the fare')\n",
    "\n",
    "plt.subplot(223)\n",
    "plt.hist(data[data['Embarked'] == 'Q']['Fare'], bins = 10, color = 'b', label = 'Queenstown')\n",
    "plt.legend()\n",
    "plt.ylabel('Number of people')\n",
    "plt.xlabel('Fare')\n",
    "plt.title('Distr. of ticket prices depending on the fare')"
   ]
  },
  {
   "cell_type": "markdown",
   "metadata": {},
   "source": [
    "### 16"
   ]
  },
  {
   "cell_type": "markdown",
   "metadata": {},
   "source": [
    "Все ли признаки несут в себе полезную информацию? Почему? Избавьтесь от ненужных столбцов."
   ]
  },
  {
   "cell_type": "markdown",
   "metadata": {},
   "source": [
    "#####  Никакой информации не несут такие признаки как: PassengerId, Name, Ticket. Потому что эти данные описывают объекты, но не показывают разницу между ними, т.е. Id, имя, порт из которого отправился пассажир и номер билета - не повлияет на то, выживет человек или нет при катастрофе\n",
    "##### Признак Name оставил для следующих заданий"
   ]
  },
  {
   "cell_type": "code",
   "execution_count": 14,
   "metadata": {},
   "outputs": [],
   "source": [
    "data = data.drop(columns=['PassengerId', 'Ticket'])"
   ]
  },
  {
   "cell_type": "markdown",
   "metadata": {},
   "source": [
    "### 17"
   ]
  },
  {
   "cell_type": "markdown",
   "metadata": {},
   "source": [
    "Есть ли в данных пропуски? Если да, то в каких столбцах? Сколько пропусков в каждом из них?"
   ]
  },
  {
   "cell_type": "code",
   "execution_count": 15,
   "metadata": {},
   "outputs": [
    {
     "name": "stdout",
     "output_type": "stream",
     "text": [
      "В данных пропуски есть? True\n",
      "\n",
      "Пропуски по столбцам:\n",
      "Survived    False\n",
      "Pclass      False\n",
      "Name        False\n",
      "Sex         False\n",
      "Age          True\n",
      "SibSp       False\n",
      "Parch       False\n",
      "Fare        False\n",
      "Cabin        True\n",
      "Embarked     True\n",
      "dtype: bool\n"
     ]
    }
   ],
   "source": [
    "print('В данных пропуски есть?', data.isnull().any().any())\n",
    "print('\\nПропуски по столбцам:')\n",
    "print(data.isnull().any())"
   ]
  },
  {
   "cell_type": "code",
   "execution_count": 16,
   "metadata": {},
   "outputs": [
    {
     "name": "stdout",
     "output_type": "stream",
     "text": [
      "Пропусков в Age: 177\n",
      "Пропусков в Cabin: 687\n",
      "Пропусков в Embarked: 2\n"
     ]
    }
   ],
   "source": [
    "print('Пропусков в Age: {}'.format(data['Age'].isnull().sum()))\n",
    "print('Пропусков в Cabin: {}'.format(data['Cabin'].isnull().sum()))\n",
    "print('Пропусков в Embarked: {}'.format(data['Embarked'].isnull().sum()))"
   ]
  },
  {
   "cell_type": "markdown",
   "metadata": {},
   "source": [
    "### 18"
   ]
  },
  {
   "cell_type": "markdown",
   "metadata": {},
   "source": [
    "Подумайте, как стоит заполнить пропуски в каждом столбце в зависимости от его типа, и сделайте это. Проверьте, что пропусков нигде не осталось."
   ]
  },
  {
   "cell_type": "code",
   "execution_count": 17,
   "metadata": {},
   "outputs": [],
   "source": [
    "# Пропуски в Age заполняем медианым значнием возраста\n",
    "data['Age'].fillna(data['Age'].median(), inplace=True)\n",
    "\n",
    "# Два пропуска в Embarked заполним предыдущим значением\n",
    "data[data['Embarked']==\"\"] = np.NaN\n",
    "data['Embarked'].fillna(method='ffill', inplace=True)\n",
    "\n",
    "# Пропуски в Cabin заполняем исходя из класса и цены за билет: для первого класса делаем примерно равное распределение по Cabin\n",
    "# Для второго класса стоимость билетов больше 20 отдается за билет типа E..., меньше 20 за билет типа G...\n",
    "# Для третьего класса стоимость билетов больше 10 отдается за билет типа G..., меньше 10 за билет типа F...\n",
    "data.loc[(data['Pclass'] == 1) & (pd.isnull(data['Cabin']))  & (data['Fare'] <= 50), 'Cabin'] = 'A'\n",
    "data.loc[(data['Pclass'] == 1) & (pd.isnull(data['Cabin']))  & (data['Fare'] > 50) & (data['Fare'] <= 150), 'Cabin'] = 'B'\n",
    "data.loc[(data['Pclass'] == 1) & (pd.isnull(data['Cabin']))  & (data['Fare'] > 150), 'Cabin'] = 'C'\n",
    "data.loc[(data['Pclass'] == 2) & (pd.isnull(data['Cabin'])) & (data['Fare'] > 20), 'Cabin'] = 'E'\n",
    "data.loc[(data['Pclass'] == 2) & (pd.isnull(data['Cabin'])) & (data['Fare'] > 15) & (data['Fare'] <= 20), 'Cabin'] = 'D'\n",
    "data.loc[(data['Pclass'] == 2) & (pd.isnull(data['Cabin'])) & (data['Fare'] <= 15), 'Cabin'] = 'F'\n",
    "data.loc[(data['Pclass'] == 3) & (pd.isnull(data['Cabin'])) & (data['Fare'] > 10), 'Cabin'] = 'G'\n",
    "data.loc[(data['Pclass'] == 3) & (pd.isnull(data['Cabin'])) & (data['Fare'] <= 10), 'Cabin'] = 'F'"
   ]
  },
  {
   "cell_type": "code",
   "execution_count": 18,
   "metadata": {},
   "outputs": [
    {
     "name": "stdout",
     "output_type": "stream",
     "text": [
      "В данных пропуски есть? False\n",
      "\n",
      "Пропуски по столбцам:\n",
      "Survived    False\n",
      "Pclass      False\n",
      "Name        False\n",
      "Sex         False\n",
      "Age         False\n",
      "SibSp       False\n",
      "Parch       False\n",
      "Fare        False\n",
      "Cabin       False\n",
      "Embarked    False\n",
      "dtype: bool\n"
     ]
    }
   ],
   "source": [
    "print('В данных пропуски есть?', data.isnull().any().any())\n",
    "print('\\nПропуски по столбцам:')\n",
    "print(data.isnull().any())"
   ]
  },
  {
   "cell_type": "markdown",
   "metadata": {},
   "source": [
    "### 19"
   ]
  },
  {
   "cell_type": "markdown",
   "metadata": {},
   "source": [
    "Посчитайте, насколько сильно коррелируют друг с другом цена за билет и возраст пассажиров. Также проверьте наличие этой зависимости визуально (в этом вам поможет построение [диаграммы рассеяния](https://ru.wikipedia.org/wiki/%D0%94%D0%B8%D0%B0%D0%B3%D1%80%D0%B0%D0%BC%D0%BC%D0%B0_%D1%80%D0%B0%D1%81%D1%81%D0%B5%D1%8F%D0%BD%D0%B8%D1%8F))."
   ]
  },
  {
   "cell_type": "code",
   "execution_count": 19,
   "metadata": {},
   "outputs": [
    {
     "data": {
      "text/html": [
       "<div>\n",
       "<style scoped>\n",
       "    .dataframe tbody tr th:only-of-type {\n",
       "        vertical-align: middle;\n",
       "    }\n",
       "\n",
       "    .dataframe tbody tr th {\n",
       "        vertical-align: top;\n",
       "    }\n",
       "\n",
       "    .dataframe thead th {\n",
       "        text-align: right;\n",
       "    }\n",
       "</style>\n",
       "<table border=\"1\" class=\"dataframe\">\n",
       "  <thead>\n",
       "    <tr style=\"text-align: right;\">\n",
       "      <th></th>\n",
       "      <th>Survived</th>\n",
       "      <th>Pclass</th>\n",
       "      <th>Age</th>\n",
       "      <th>SibSp</th>\n",
       "      <th>Parch</th>\n",
       "      <th>Fare</th>\n",
       "    </tr>\n",
       "  </thead>\n",
       "  <tbody>\n",
       "    <tr>\n",
       "      <th>Survived</th>\n",
       "      <td>1.000000</td>\n",
       "      <td>-0.338481</td>\n",
       "      <td>-0.064910</td>\n",
       "      <td>-0.035322</td>\n",
       "      <td>0.081629</td>\n",
       "      <td>0.257307</td>\n",
       "    </tr>\n",
       "    <tr>\n",
       "      <th>Pclass</th>\n",
       "      <td>-0.338481</td>\n",
       "      <td>1.000000</td>\n",
       "      <td>-0.339898</td>\n",
       "      <td>0.083081</td>\n",
       "      <td>0.018443</td>\n",
       "      <td>-0.549500</td>\n",
       "    </tr>\n",
       "    <tr>\n",
       "      <th>Age</th>\n",
       "      <td>-0.064910</td>\n",
       "      <td>-0.339898</td>\n",
       "      <td>1.000000</td>\n",
       "      <td>-0.233296</td>\n",
       "      <td>-0.172482</td>\n",
       "      <td>0.096688</td>\n",
       "    </tr>\n",
       "    <tr>\n",
       "      <th>SibSp</th>\n",
       "      <td>-0.035322</td>\n",
       "      <td>0.083081</td>\n",
       "      <td>-0.233296</td>\n",
       "      <td>1.000000</td>\n",
       "      <td>0.414838</td>\n",
       "      <td>0.159651</td>\n",
       "    </tr>\n",
       "    <tr>\n",
       "      <th>Parch</th>\n",
       "      <td>0.081629</td>\n",
       "      <td>0.018443</td>\n",
       "      <td>-0.172482</td>\n",
       "      <td>0.414838</td>\n",
       "      <td>1.000000</td>\n",
       "      <td>0.216225</td>\n",
       "    </tr>\n",
       "    <tr>\n",
       "      <th>Fare</th>\n",
       "      <td>0.257307</td>\n",
       "      <td>-0.549500</td>\n",
       "      <td>0.096688</td>\n",
       "      <td>0.159651</td>\n",
       "      <td>0.216225</td>\n",
       "      <td>1.000000</td>\n",
       "    </tr>\n",
       "  </tbody>\n",
       "</table>\n",
       "</div>"
      ],
      "text/plain": [
       "          Survived    Pclass       Age     SibSp     Parch      Fare\n",
       "Survived  1.000000 -0.338481 -0.064910 -0.035322  0.081629  0.257307\n",
       "Pclass   -0.338481  1.000000 -0.339898  0.083081  0.018443 -0.549500\n",
       "Age      -0.064910 -0.339898  1.000000 -0.233296 -0.172482  0.096688\n",
       "SibSp    -0.035322  0.083081 -0.233296  1.000000  0.414838  0.159651\n",
       "Parch     0.081629  0.018443 -0.172482  0.414838  1.000000  0.216225\n",
       "Fare      0.257307 -0.549500  0.096688  0.159651  0.216225  1.000000"
      ]
     },
     "execution_count": 19,
     "metadata": {},
     "output_type": "execute_result"
    }
   ],
   "source": [
    "data.corr()"
   ]
  },
  {
   "cell_type": "code",
   "execution_count": 20,
   "metadata": {},
   "outputs": [
    {
     "name": "stdout",
     "output_type": "stream",
     "text": [
      "Корреляция между ценой за билет и возрастом пассажиров: 0.096688\n"
     ]
    }
   ],
   "source": [
    "print('Корреляция между ценой за билет и возрастом пассажиров: 0.096688')"
   ]
  },
  {
   "cell_type": "code",
   "execution_count": 21,
   "metadata": {},
   "outputs": [
    {
     "data": {
      "image/png": "[encoded data removed]",
      "text/plain": [
       "<Figure size 864x504 with 1 Axes>"
      ]
     },
     "metadata": {
      "needs_background": "light"
     },
     "output_type": "display_data"
    }
   ],
   "source": [
    "plt.figure(figsize=(12,7))\n",
    "plt.plot(data['Fare'], data['Age'], linestyle='none', marker='o')\n",
    "plt.xlabel('Fare')\n",
    "plt.ylabel('Age')\n",
    "\n",
    "plt.show()"
   ]
  },
  {
   "cell_type": "markdown",
   "metadata": {},
   "source": [
    "### 20"
   ]
  },
  {
   "cell_type": "markdown",
   "metadata": {},
   "source": [
    "Правда ли, что чаще выживали пассажиры с более дорогими билетами? А есть ли зависимость выживаемости от класса?"
   ]
  },
  {
   "cell_type": "code",
   "execution_count": 22,
   "metadata": {},
   "outputs": [
    {
     "name": "stdout",
     "output_type": "stream",
     "text": [
      "Средняя стоимость билета: 32.2\n",
      "Доля выживших, стоимость билета которы выше срденей: 0.368\n",
      "Доля выживших, стоимость билета которы ниже срденей: 0.632\n"
     ]
    }
   ],
   "source": [
    "print('Средняя стоимость билета: {:.3}'.format(data['Fare'].mean()))\n",
    "\n",
    "print('Доля выживших, стоимость билета которы выше срденей: {:.3}'.format(data[ (data['Survived'] == 1) &\n",
    "                                                                              (data['Fare'] >= data['Fare'].mean())].shape[0]/data[data['Survived'] == 1].shape[0]))\n",
    "print('Доля выживших, стоимость билета которы ниже срденей: {:.3}'.format(data[ (data['Survived'] == 1) &\n",
    "                                                                              (data['Fare'] < data['Fare'].mean())].shape[0]/data[data['Survived'] == 1].shape[0]))"
   ]
  },
  {
   "cell_type": "code",
   "execution_count": 23,
   "metadata": {},
   "outputs": [
    {
     "name": "stdout",
     "output_type": "stream",
     "text": [
      "Доля выживших, находящихся в 1 классе: 0.398\n",
      "Доля выживших, находящихся во 2 классе: 0.254\n",
      "Доля выживших, находящихся в 3 классе: 0.348\n"
     ]
    }
   ],
   "source": [
    "print('Доля выживших, находящихся в 1 классе: {:.3}'.format(data[ (data['Pclass'] == 1) & (data['Survived'] == 1)].shape[0]/\n",
    "                                                           data[data['Survived'] == 1].shape[0]))\n",
    "print('Доля выживших, находящихся во 2 классе: {:.3}'.format(data[ (data['Pclass'] == 2) & (data['Survived'] == 1)].shape[0]/\n",
    "                                                           data[data['Survived'] == 1].shape[0]))\n",
    "print('Доля выживших, находящихся в 3 классе: {:.3}'.format(data[ (data['Pclass'] == 3) & (data['Survived'] == 1)].shape[0]/\n",
    "                                                           data[data['Survived'] == 1].shape[0]))"
   ]
  },
  {
   "cell_type": "markdown",
   "metadata": {},
   "source": [
    "Таким образом, выживших людей, стоимость билетов которых ниже средней - больше. Что касается зависимости класса от выживаемости, то как таковой зависимости нет - примерно одинаковый процент выживших из первого и третьего классов."
   ]
  },
  {
   "cell_type": "markdown",
   "metadata": {},
   "source": [
    "### 21"
   ]
  },
  {
   "cell_type": "markdown",
   "metadata": {},
   "source": [
    "Создание новых признаков (feature engineering) является одним из основных средств улучшения качества работы алгоритмов машинного обучения на этапе обработки данных. Добавьте в таблицу столбец, который будет показывать, сколько родных плыло вместе с пассажиром на корабле, включая его самого. Затем придумайте свой признак, который может быть полезен для алгоритма (несет в себе какую-то информацию), и добавьте его в таблицу."
   ]
  },
  {
   "cell_type": "code",
   "execution_count": 24,
   "metadata": {},
   "outputs": [],
   "source": [
    "data['RelChMe'] = data['SibSp'] + data['Parch'] + 1\n",
    "# RealFare говорит об истинной стоимости билета человека, т.к. некоторые пассажиры имеют билет на не кольких человек\n",
    "data['RealFare'] = data['Fare']/data['RelChMe']\n",
    "# CabinLocation показывает добротность расположения каюты. Умножается на 3.9 т.к.\n",
    "# по статистике выше - выжило больше людей из первого класса, а имеенно 39%. Также \n",
    "# добавляем нормированную настоящую стоимость билета (RealFare), т.к. \n",
    "# чем выше стоимость билета в классе - тем лучше места (более приспособлены к эвакуации).\n",
    "# Все это нормируем по количеству классов\n",
    "data['CabinLocation'] = (3.9*(4-data['Pclass']) + data['RealFare']/10)/3"
   ]
  },
  {
   "cell_type": "markdown",
   "metadata": {},
   "source": [
    "### 22"
   ]
  },
  {
   "cell_type": "markdown",
   "metadata": {},
   "source": [
    "Придумайте какое-нибудь интересное задание на анализ предлагаемых данных и решите его. Например, какая фамилия была самой популярной на корабле?"
   ]
  },
  {
   "cell_type": "markdown",
   "metadata": {},
   "source": [
    "##### Задание: пассажир у которго было максимальное количество детей, родственников на борту. А также, остались ли они в живых?"
   ]
  },
  {
   "cell_type": "code",
   "execution_count": 25,
   "metadata": {},
   "outputs": [
    {
     "data": {
      "text/html": [
       "<div>\n",
       "<style scoped>\n",
       "    .dataframe tbody tr th:only-of-type {\n",
       "        vertical-align: middle;\n",
       "    }\n",
       "\n",
       "    .dataframe tbody tr th {\n",
       "        vertical-align: top;\n",
       "    }\n",
       "\n",
       "    .dataframe thead th {\n",
       "        text-align: right;\n",
       "    }\n",
       "</style>\n",
       "<table border=\"1\" class=\"dataframe\">\n",
       "  <thead>\n",
       "    <tr style=\"text-align: right;\">\n",
       "      <th></th>\n",
       "      <th>Survived</th>\n",
       "      <th>Pclass</th>\n",
       "      <th>Name</th>\n",
       "      <th>Sex</th>\n",
       "      <th>Age</th>\n",
       "      <th>SibSp</th>\n",
       "      <th>Parch</th>\n",
       "      <th>Fare</th>\n",
       "      <th>Cabin</th>\n",
       "      <th>Embarked</th>\n",
       "      <th>RelChMe</th>\n",
       "      <th>RealFare</th>\n",
       "      <th>CabinLocation</th>\n",
       "    </tr>\n",
       "  </thead>\n",
       "  <tbody>\n",
       "    <tr>\n",
       "      <th>678</th>\n",
       "      <td>0.0</td>\n",
       "      <td>3.0</td>\n",
       "      <td>Goodwin, Mrs. Frederick (Augusta Tyler)</td>\n",
       "      <td>female</td>\n",
       "      <td>43.0</td>\n",
       "      <td>1.0</td>\n",
       "      <td>6.0</td>\n",
       "      <td>46.9</td>\n",
       "      <td>G</td>\n",
       "      <td>S</td>\n",
       "      <td>8.0</td>\n",
       "      <td>5.8625</td>\n",
       "      <td>1.495417</td>\n",
       "    </tr>\n",
       "  </tbody>\n",
       "</table>\n",
       "</div>"
      ],
      "text/plain": [
       "     Survived  Pclass                                     Name     Sex   Age  \\\n",
       "678       0.0     3.0  Goodwin, Mrs. Frederick (Augusta Tyler)  female  43.0   \n",
       "\n",
       "     SibSp  Parch  Fare Cabin Embarked  RelChMe  RealFare  CabinLocation  \n",
       "678    1.0    6.0  46.9     G        S      8.0    5.8625       1.495417  "
      ]
     },
     "execution_count": 25,
     "metadata": {},
     "output_type": "execute_result"
    }
   ],
   "source": [
    "data[data['Parch'] == data['Parch'].max()]"
   ]
  },
  {
   "cell_type": "code",
   "execution_count": 26,
   "metadata": {},
   "outputs": [
    {
     "data": {
      "text/html": [
       "<div>\n",
       "<style scoped>\n",
       "    .dataframe tbody tr th:only-of-type {\n",
       "        vertical-align: middle;\n",
       "    }\n",
       "\n",
       "    .dataframe tbody tr th {\n",
       "        vertical-align: top;\n",
       "    }\n",
       "\n",
       "    .dataframe thead th {\n",
       "        text-align: right;\n",
       "    }\n",
       "</style>\n",
       "<table border=\"1\" class=\"dataframe\">\n",
       "  <thead>\n",
       "    <tr style=\"text-align: right;\">\n",
       "      <th></th>\n",
       "      <th>Survived</th>\n",
       "      <th>Pclass</th>\n",
       "      <th>Name</th>\n",
       "      <th>Sex</th>\n",
       "      <th>Age</th>\n",
       "      <th>SibSp</th>\n",
       "      <th>Parch</th>\n",
       "      <th>Fare</th>\n",
       "      <th>Cabin</th>\n",
       "      <th>Embarked</th>\n",
       "      <th>RelChMe</th>\n",
       "      <th>RealFare</th>\n",
       "      <th>CabinLocation</th>\n",
       "    </tr>\n",
       "  </thead>\n",
       "  <tbody>\n",
       "    <tr>\n",
       "      <th>159</th>\n",
       "      <td>0.0</td>\n",
       "      <td>3.0</td>\n",
       "      <td>Sage, Master. Thomas Henry</td>\n",
       "      <td>male</td>\n",
       "      <td>28.0</td>\n",
       "      <td>8.0</td>\n",
       "      <td>2.0</td>\n",
       "      <td>69.55</td>\n",
       "      <td>G</td>\n",
       "      <td>S</td>\n",
       "      <td>11.0</td>\n",
       "      <td>6.322727</td>\n",
       "      <td>1.510758</td>\n",
       "    </tr>\n",
       "    <tr>\n",
       "      <th>180</th>\n",
       "      <td>0.0</td>\n",
       "      <td>3.0</td>\n",
       "      <td>Sage, Miss. Constance Gladys</td>\n",
       "      <td>female</td>\n",
       "      <td>28.0</td>\n",
       "      <td>8.0</td>\n",
       "      <td>2.0</td>\n",
       "      <td>69.55</td>\n",
       "      <td>G</td>\n",
       "      <td>S</td>\n",
       "      <td>11.0</td>\n",
       "      <td>6.322727</td>\n",
       "      <td>1.510758</td>\n",
       "    </tr>\n",
       "    <tr>\n",
       "      <th>201</th>\n",
       "      <td>0.0</td>\n",
       "      <td>3.0</td>\n",
       "      <td>Sage, Mr. Frederick</td>\n",
       "      <td>male</td>\n",
       "      <td>28.0</td>\n",
       "      <td>8.0</td>\n",
       "      <td>2.0</td>\n",
       "      <td>69.55</td>\n",
       "      <td>G</td>\n",
       "      <td>S</td>\n",
       "      <td>11.0</td>\n",
       "      <td>6.322727</td>\n",
       "      <td>1.510758</td>\n",
       "    </tr>\n",
       "    <tr>\n",
       "      <th>324</th>\n",
       "      <td>0.0</td>\n",
       "      <td>3.0</td>\n",
       "      <td>Sage, Mr. George John Jr</td>\n",
       "      <td>male</td>\n",
       "      <td>28.0</td>\n",
       "      <td>8.0</td>\n",
       "      <td>2.0</td>\n",
       "      <td>69.55</td>\n",
       "      <td>G</td>\n",
       "      <td>S</td>\n",
       "      <td>11.0</td>\n",
       "      <td>6.322727</td>\n",
       "      <td>1.510758</td>\n",
       "    </tr>\n",
       "    <tr>\n",
       "      <th>792</th>\n",
       "      <td>0.0</td>\n",
       "      <td>3.0</td>\n",
       "      <td>Sage, Miss. Stella Anna</td>\n",
       "      <td>female</td>\n",
       "      <td>28.0</td>\n",
       "      <td>8.0</td>\n",
       "      <td>2.0</td>\n",
       "      <td>69.55</td>\n",
       "      <td>G</td>\n",
       "      <td>S</td>\n",
       "      <td>11.0</td>\n",
       "      <td>6.322727</td>\n",
       "      <td>1.510758</td>\n",
       "    </tr>\n",
       "    <tr>\n",
       "      <th>846</th>\n",
       "      <td>0.0</td>\n",
       "      <td>3.0</td>\n",
       "      <td>Sage, Mr. Douglas Bullen</td>\n",
       "      <td>male</td>\n",
       "      <td>28.0</td>\n",
       "      <td>8.0</td>\n",
       "      <td>2.0</td>\n",
       "      <td>69.55</td>\n",
       "      <td>G</td>\n",
       "      <td>S</td>\n",
       "      <td>11.0</td>\n",
       "      <td>6.322727</td>\n",
       "      <td>1.510758</td>\n",
       "    </tr>\n",
       "    <tr>\n",
       "      <th>863</th>\n",
       "      <td>0.0</td>\n",
       "      <td>3.0</td>\n",
       "      <td>Sage, Miss. Dorothy Edith \"Dolly\"</td>\n",
       "      <td>female</td>\n",
       "      <td>28.0</td>\n",
       "      <td>8.0</td>\n",
       "      <td>2.0</td>\n",
       "      <td>69.55</td>\n",
       "      <td>G</td>\n",
       "      <td>S</td>\n",
       "      <td>11.0</td>\n",
       "      <td>6.322727</td>\n",
       "      <td>1.510758</td>\n",
       "    </tr>\n",
       "  </tbody>\n",
       "</table>\n",
       "</div>"
      ],
      "text/plain": [
       "     Survived  Pclass                               Name     Sex   Age  SibSp  \\\n",
       "159       0.0     3.0         Sage, Master. Thomas Henry    male  28.0    8.0   \n",
       "180       0.0     3.0       Sage, Miss. Constance Gladys  female  28.0    8.0   \n",
       "201       0.0     3.0                Sage, Mr. Frederick    male  28.0    8.0   \n",
       "324       0.0     3.0           Sage, Mr. George John Jr    male  28.0    8.0   \n",
       "792       0.0     3.0            Sage, Miss. Stella Anna  female  28.0    8.0   \n",
       "846       0.0     3.0           Sage, Mr. Douglas Bullen    male  28.0    8.0   \n",
       "863       0.0     3.0  Sage, Miss. Dorothy Edith \"Dolly\"  female  28.0    8.0   \n",
       "\n",
       "     Parch   Fare Cabin Embarked  RelChMe  RealFare  CabinLocation  \n",
       "159    2.0  69.55     G        S     11.0  6.322727       1.510758  \n",
       "180    2.0  69.55     G        S     11.0  6.322727       1.510758  \n",
       "201    2.0  69.55     G        S     11.0  6.322727       1.510758  \n",
       "324    2.0  69.55     G        S     11.0  6.322727       1.510758  \n",
       "792    2.0  69.55     G        S     11.0  6.322727       1.510758  \n",
       "846    2.0  69.55     G        S     11.0  6.322727       1.510758  \n",
       "863    2.0  69.55     G        S     11.0  6.322727       1.510758  "
      ]
     },
     "execution_count": 26,
     "metadata": {},
     "output_type": "execute_result"
    }
   ],
   "source": [
    "data[data['SibSp'] == data['SibSp'].max()]"
   ]
  },
  {
   "cell_type": "code",
   "execution_count": 27,
   "metadata": {},
   "outputs": [],
   "source": [
    "data = data.drop(columns=['Name', 'SibSp', 'Parch'])"
   ]
  },
  {
   "cell_type": "markdown",
   "metadata": {},
   "source": [
    "Любопытно, что все они одного возраста"
   ]
  },
  {
   "cell_type": "markdown",
   "metadata": {},
   "source": [
    "### 23"
   ]
  },
  {
   "cell_type": "markdown",
   "metadata": {},
   "source": [
    "Постройте гистограммы распределения вещественных признаков. Есть ли в них разница? Чем это может быть плохо с точки зрения машинного обучения? Отнормируйте вещественные признаки и посмотрите, как изменилась ситуация."
   ]
  },
  {
   "cell_type": "code",
   "execution_count": 28,
   "metadata": {},
   "outputs": [
    {
     "data": {
      "text/plain": [
       "Text(0.5, 1.0, 'Distr. of age')"
      ]
     },
     "execution_count": 28,
     "metadata": {},
     "output_type": "execute_result"
    },
    {
     "data": {
      "image/png": "[encoded data removed]",
      "text/plain": [
       "<Figure size 432x288 with 1 Axes>"
      ]
     },
     "metadata": {
      "needs_background": "light"
     },
     "output_type": "display_data"
    }
   ],
   "source": [
    "plt.hist(data['Age'], bins = 10)\n",
    "plt.ylabel('Number of people')\n",
    "plt.xlabel('Age')\n",
    "plt.title('Distr. of age')"
   ]
  },
  {
   "cell_type": "code",
   "execution_count": 29,
   "metadata": {},
   "outputs": [
    {
     "data": {
      "text/plain": [
       "Text(0.5, 1.0, 'Distr. of RelChMe')"
      ]
     },
     "execution_count": 29,
     "metadata": {},
     "output_type": "execute_result"
    },
    {
     "data": {
      "image/png": "[encoded data removed]",
      "text/plain": [
       "<Figure size 432x288 with 1 Axes>"
      ]
     },
     "metadata": {
      "needs_background": "light"
     },
     "output_type": "display_data"
    }
   ],
   "source": [
    "plt.hist(data['RelChMe'], bins = 10)\n",
    "plt.ylabel('Number of people')\n",
    "plt.xlabel('RelChMe')\n",
    "plt.title('Distr. of RelChMe')"
   ]
  },
  {
   "cell_type": "code",
   "execution_count": 30,
   "metadata": {},
   "outputs": [
    {
     "data": {
      "text/plain": [
       "Text(0.5, 1.0, 'Distr. of RealFare')"
      ]
     },
     "execution_count": 30,
     "metadata": {},
     "output_type": "execute_result"
    },
    {
     "data": {
      "image/png": "[encoded data removed]",
      "text/plain": [
       "<Figure size 432x288 with 1 Axes>"
      ]
     },
     "metadata": {
      "needs_background": "light"
     },
     "output_type": "display_data"
    }
   ],
   "source": [
    "plt.hist(data['RealFare'], bins = 5)\n",
    "plt.ylabel('Number of people')\n",
    "plt.xlabel('RealFare')\n",
    "plt.title('Distr. of RealFare')"
   ]
  },
  {
   "cell_type": "markdown",
   "metadata": {},
   "source": [
    "Данные не отнормированы, что повлияет, например, на настройку коэффициентов в регрессионной модели, поэтому отнормируем их."
   ]
  },
  {
   "cell_type": "code",
   "execution_count": 31,
   "metadata": {},
   "outputs": [],
   "source": [
    "data['Age'] = (data['Age'] - data['Age'].mean())/data['Age'].std()\n",
    "data['Fare'] = (data['Fare'] - data['Fare'].mean())/data['Fare'].std()"
   ]
  },
  {
   "cell_type": "code",
   "execution_count": 32,
   "metadata": {},
   "outputs": [
    {
     "data": {
      "text/plain": [
       "Text(0.5, 1.0, 'Distr. of age')"
      ]
     },
     "execution_count": 32,
     "metadata": {},
     "output_type": "execute_result"
    },
    {
     "data": {
      "image/png": "[encoded data removed]",
      "text/plain": [
       "<Figure size 432x288 with 1 Axes>"
      ]
     },
     "metadata": {
      "needs_background": "light"
     },
     "output_type": "display_data"
    }
   ],
   "source": [
    "plt.hist(data['Age'], bins = 10)\n",
    "plt.ylabel('Number of people')\n",
    "plt.xlabel('Age')\n",
    "plt.title('Distr. of age')"
   ]
  },
  {
   "cell_type": "code",
   "execution_count": 33,
   "metadata": {},
   "outputs": [
    {
     "data": {
      "text/plain": [
       "Text(0.5, 1.0, 'Distr. of RealFare')"
      ]
     },
     "execution_count": 33,
     "metadata": {},
     "output_type": "execute_result"
    },
    {
     "data": {
      "image/png": "[encoded data removed]",
      "text/plain": [
       "<Figure size 432x288 with 1 Axes>"
      ]
     },
     "metadata": {
      "needs_background": "light"
     },
     "output_type": "display_data"
    }
   ],
   "source": [
    "plt.hist(data['RealFare'], bins = 5)\n",
    "plt.ylabel('Number of people')\n",
    "plt.xlabel('RealFare')\n",
    "plt.title('Distr. of RealFare')"
   ]
  },
  {
   "cell_type": "markdown",
   "metadata": {},
   "source": [
    "### 24"
   ]
  },
  {
   "cell_type": "markdown",
   "metadata": {},
   "source": [
    "Есть ли в данных категориальные признаки, которые принимают значения строк, а не чисел? Если да, то для многих алгоритмов машинного обучения это может стать серьезным препятствием, поэтому закодируйте категориальные признаки так, чтобы к данным можно было применить любые алгоритмы машинного обучения."
   ]
  },
  {
   "cell_type": "code",
   "execution_count": 34,
   "metadata": {},
   "outputs": [],
   "source": [
    "data = data.join(pd.get_dummies(data['Sex']))\n",
    "data = data.drop(columns=['Sex'])"
   ]
  },
  {
   "cell_type": "code",
   "execution_count": 35,
   "metadata": {},
   "outputs": [],
   "source": [
    "data.loc[((data['Cabin']).str.startswith('A') == True), 'Cabin'] = 'class_A'\n",
    "data.loc[((data['Cabin']).str.startswith('B') == True), 'Cabin'] = 'class_B'\n",
    "data.loc[((data['Cabin']).str.startswith('C') == True), 'Cabin'] = 'class_C'\n",
    "data.loc[((data['Cabin']).str.startswith('D') == True), 'Cabin'] = 'class_D'\n",
    "data.loc[((data['Cabin']).str.startswith('E') == True), 'Cabin'] = 'class_E'\n",
    "data.loc[((data['Cabin']).str.startswith('F') == True), 'Cabin'] = 'class_F'\n",
    "data.loc[((data['Cabin']).str.startswith('G') == True), 'Cabin'] = 'class_G'\n",
    "data.loc[((data['Cabin']).str.startswith('T') == True), 'Cabin'] = 'class_T'"
   ]
  },
  {
   "cell_type": "code",
   "execution_count": 36,
   "metadata": {},
   "outputs": [],
   "source": [
    "data = data.join(pd.get_dummies(data['Cabin']))\n",
    "data = data.drop(columns=['Cabin'])"
   ]
  },
  {
   "cell_type": "code",
   "execution_count": 37,
   "metadata": {},
   "outputs": [],
   "source": [
    "data = data.join(pd.get_dummies(data['Embarked']))\n",
    "data = data.drop(columns=['Embarked'])"
   ]
  },
  {
   "cell_type": "markdown",
   "metadata": {},
   "source": [
    "#### C помощью One Hot Encoding преобразовал категориальные признаки в вещественные"
   ]
  },
  {
   "cell_type": "markdown",
   "metadata": {},
   "source": [
    "### Итоговый датасет"
   ]
  },
  {
   "cell_type": "code",
   "execution_count": 38,
   "metadata": {},
   "outputs": [],
   "source": [
    "data = data.drop(columns=['Pclass', 'Fare', 'RealFare'])"
   ]
  },
  {
   "cell_type": "code",
   "execution_count": 39,
   "metadata": {},
   "outputs": [
    {
     "data": {
      "text/html": [
       "<div>\n",
       "<style scoped>\n",
       "    .dataframe tbody tr th:only-of-type {\n",
       "        vertical-align: middle;\n",
       "    }\n",
       "\n",
       "    .dataframe tbody tr th {\n",
       "        vertical-align: top;\n",
       "    }\n",
       "\n",
       "    .dataframe thead th {\n",
       "        text-align: right;\n",
       "    }\n",
       "</style>\n",
       "<table border=\"1\" class=\"dataframe\">\n",
       "  <thead>\n",
       "    <tr style=\"text-align: right;\">\n",
       "      <th></th>\n",
       "      <th>Survived</th>\n",
       "      <th>Age</th>\n",
       "      <th>RelChMe</th>\n",
       "      <th>CabinLocation</th>\n",
       "      <th>female</th>\n",
       "      <th>male</th>\n",
       "      <th>class_A</th>\n",
       "      <th>class_B</th>\n",
       "      <th>class_C</th>\n",
       "      <th>class_D</th>\n",
       "      <th>class_E</th>\n",
       "      <th>class_F</th>\n",
       "      <th>class_G</th>\n",
       "      <th>class_T</th>\n",
       "      <th>C</th>\n",
       "      <th>Q</th>\n",
       "      <th>S</th>\n",
       "    </tr>\n",
       "  </thead>\n",
       "  <tbody>\n",
       "    <tr>\n",
       "      <th>Survived</th>\n",
       "      <td>1.000000</td>\n",
       "      <td>-0.064910</td>\n",
       "      <td>0.016639</td>\n",
       "      <td>0.321654</td>\n",
       "      <td>0.543351</td>\n",
       "      <td>-0.543351</td>\n",
       "      <td>-0.013905</td>\n",
       "      <td>0.193105</td>\n",
       "      <td>0.129013</td>\n",
       "      <td>0.172909</td>\n",
       "      <td>0.169886</td>\n",
       "      <td>-0.276052</td>\n",
       "      <td>-0.083071</td>\n",
       "      <td>-0.026456</td>\n",
       "      <td>0.171485</td>\n",
       "      <td>0.008660</td>\n",
       "      <td>-0.155660</td>\n",
       "    </tr>\n",
       "    <tr>\n",
       "      <th>Age</th>\n",
       "      <td>-0.064910</td>\n",
       "      <td>1.000000</td>\n",
       "      <td>-0.245619</td>\n",
       "      <td>0.275505</td>\n",
       "      <td>-0.081163</td>\n",
       "      <td>0.081163</td>\n",
       "      <td>0.163256</td>\n",
       "      <td>0.109205</td>\n",
       "      <td>0.119346</td>\n",
       "      <td>0.106075</td>\n",
       "      <td>0.049124</td>\n",
       "      <td>-0.051748</td>\n",
       "      <td>-0.270259</td>\n",
       "      <td>0.040285</td>\n",
       "      <td>0.032079</td>\n",
       "      <td>-0.021272</td>\n",
       "      <td>-0.014665</td>\n",
       "    </tr>\n",
       "    <tr>\n",
       "      <th>RelChMe</th>\n",
       "      <td>0.016639</td>\n",
       "      <td>-0.245619</td>\n",
       "      <td>1.000000</td>\n",
       "      <td>-0.096711</td>\n",
       "      <td>0.200988</td>\n",
       "      <td>-0.200988</td>\n",
       "      <td>-0.102811</td>\n",
       "      <td>-0.003544</td>\n",
       "      <td>0.027240</td>\n",
       "      <td>-0.009830</td>\n",
       "      <td>0.071101</td>\n",
       "      <td>-0.438487</td>\n",
       "      <td>0.548927</td>\n",
       "      <td>-0.018804</td>\n",
       "      <td>-0.047716</td>\n",
       "      <td>-0.060479</td>\n",
       "      <td>0.079977</td>\n",
       "    </tr>\n",
       "    <tr>\n",
       "      <th>CabinLocation</th>\n",
       "      <td>0.321654</td>\n",
       "      <td>0.275505</td>\n",
       "      <td>-0.096711</td>\n",
       "      <td>1.000000</td>\n",
       "      <td>0.142830</td>\n",
       "      <td>-0.142830</td>\n",
       "      <td>0.216139</td>\n",
       "      <td>0.451472</td>\n",
       "      <td>0.460656</td>\n",
       "      <td>0.182448</td>\n",
       "      <td>0.122662</td>\n",
       "      <td>-0.477317</td>\n",
       "      <td>-0.301602</td>\n",
       "      <td>0.037868</td>\n",
       "      <td>0.303904</td>\n",
       "      <td>-0.171935</td>\n",
       "      <td>-0.157610</td>\n",
       "    </tr>\n",
       "    <tr>\n",
       "      <th>female</th>\n",
       "      <td>0.543351</td>\n",
       "      <td>-0.081163</td>\n",
       "      <td>0.200988</td>\n",
       "      <td>0.142830</td>\n",
       "      <td>1.000000</td>\n",
       "      <td>-1.000000</td>\n",
       "      <td>-0.129998</td>\n",
       "      <td>0.129886</td>\n",
       "      <td>0.076844</td>\n",
       "      <td>0.090884</td>\n",
       "      <td>0.124973</td>\n",
       "      <td>-0.266549</td>\n",
       "      <td>0.122484</td>\n",
       "      <td>-0.024728</td>\n",
       "      <td>0.086546</td>\n",
       "      <td>0.079067</td>\n",
       "      <td>-0.125722</td>\n",
       "    </tr>\n",
       "    <tr>\n",
       "      <th>male</th>\n",
       "      <td>-0.543351</td>\n",
       "      <td>0.081163</td>\n",
       "      <td>-0.200988</td>\n",
       "      <td>-0.142830</td>\n",
       "      <td>-1.000000</td>\n",
       "      <td>1.000000</td>\n",
       "      <td>0.129998</td>\n",
       "      <td>-0.129886</td>\n",
       "      <td>-0.076844</td>\n",
       "      <td>-0.090884</td>\n",
       "      <td>-0.124973</td>\n",
       "      <td>0.266549</td>\n",
       "      <td>-0.122484</td>\n",
       "      <td>0.024728</td>\n",
       "      <td>-0.086546</td>\n",
       "      <td>-0.079067</td>\n",
       "      <td>0.125722</td>\n",
       "    </tr>\n",
       "    <tr>\n",
       "      <th>class_A</th>\n",
       "      <td>-0.013905</td>\n",
       "      <td>0.163256</td>\n",
       "      <td>-0.102811</td>\n",
       "      <td>0.216139</td>\n",
       "      <td>-0.129998</td>\n",
       "      <td>0.129998</td>\n",
       "      <td>1.000000</td>\n",
       "      <td>-0.055930</td>\n",
       "      <td>-0.057904</td>\n",
       "      <td>-0.046296</td>\n",
       "      <td>-0.076896</td>\n",
       "      <td>-0.194792</td>\n",
       "      <td>-0.098861</td>\n",
       "      <td>-0.006977</td>\n",
       "      <td>0.114538</td>\n",
       "      <td>-0.064472</td>\n",
       "      <td>-0.059609</td>\n",
       "    </tr>\n",
       "    <tr>\n",
       "      <th>class_B</th>\n",
       "      <td>0.193105</td>\n",
       "      <td>0.109205</td>\n",
       "      <td>-0.003544</td>\n",
       "      <td>0.451472</td>\n",
       "      <td>0.129886</td>\n",
       "      <td>-0.129886</td>\n",
       "      <td>-0.055930</td>\n",
       "      <td>1.000000</td>\n",
       "      <td>-0.074750</td>\n",
       "      <td>-0.059765</td>\n",
       "      <td>-0.099268</td>\n",
       "      <td>-0.251464</td>\n",
       "      <td>-0.127623</td>\n",
       "      <td>-0.009007</td>\n",
       "      <td>0.224119</td>\n",
       "      <td>-0.067384</td>\n",
       "      <td>-0.153744</td>\n",
       "    </tr>\n",
       "    <tr>\n",
       "      <th>class_C</th>\n",
       "      <td>0.129013</td>\n",
       "      <td>0.119346</td>\n",
       "      <td>0.027240</td>\n",
       "      <td>0.460656</td>\n",
       "      <td>0.076844</td>\n",
       "      <td>-0.076844</td>\n",
       "      <td>-0.057904</td>\n",
       "      <td>-0.074750</td>\n",
       "      <td>1.000000</td>\n",
       "      <td>-0.061874</td>\n",
       "      <td>-0.102771</td>\n",
       "      <td>-0.260338</td>\n",
       "      <td>-0.132127</td>\n",
       "      <td>-0.009325</td>\n",
       "      <td>0.131504</td>\n",
       "      <td>-0.055408</td>\n",
       "      <td>-0.080191</td>\n",
       "    </tr>\n",
       "    <tr>\n",
       "      <th>class_D</th>\n",
       "      <td>0.172909</td>\n",
       "      <td>0.106075</td>\n",
       "      <td>-0.009830</td>\n",
       "      <td>0.182448</td>\n",
       "      <td>0.090884</td>\n",
       "      <td>-0.090884</td>\n",
       "      <td>-0.046296</td>\n",
       "      <td>-0.059765</td>\n",
       "      <td>-0.061874</td>\n",
       "      <td>1.000000</td>\n",
       "      <td>-0.082168</td>\n",
       "      <td>-0.208147</td>\n",
       "      <td>-0.105639</td>\n",
       "      <td>-0.007455</td>\n",
       "      <td>0.095010</td>\n",
       "      <td>-0.068893</td>\n",
       "      <td>-0.039714</td>\n",
       "    </tr>\n",
       "    <tr>\n",
       "      <th>class_E</th>\n",
       "      <td>0.169886</td>\n",
       "      <td>0.049124</td>\n",
       "      <td>0.071101</td>\n",
       "      <td>0.122662</td>\n",
       "      <td>0.124973</td>\n",
       "      <td>-0.124973</td>\n",
       "      <td>-0.076896</td>\n",
       "      <td>-0.099268</td>\n",
       "      <td>-0.102771</td>\n",
       "      <td>-0.082168</td>\n",
       "      <td>1.000000</td>\n",
       "      <td>-0.345727</td>\n",
       "      <td>-0.175464</td>\n",
       "      <td>-0.012383</td>\n",
       "      <td>-0.046633</td>\n",
       "      <td>-0.102213</td>\n",
       "      <td>0.105380</td>\n",
       "    </tr>\n",
       "    <tr>\n",
       "      <th>class_F</th>\n",
       "      <td>-0.276052</td>\n",
       "      <td>-0.051748</td>\n",
       "      <td>-0.438487</td>\n",
       "      <td>-0.477317</td>\n",
       "      <td>-0.266549</td>\n",
       "      <td>0.266549</td>\n",
       "      <td>-0.194792</td>\n",
       "      <td>-0.251464</td>\n",
       "      <td>-0.260338</td>\n",
       "      <td>-0.208147</td>\n",
       "      <td>-0.345727</td>\n",
       "      <td>1.000000</td>\n",
       "      <td>-0.444482</td>\n",
       "      <td>-0.031369</td>\n",
       "      <td>-0.217502</td>\n",
       "      <td>0.155869</td>\n",
       "      <td>0.092081</td>\n",
       "    </tr>\n",
       "    <tr>\n",
       "      <th>class_G</th>\n",
       "      <td>-0.083071</td>\n",
       "      <td>-0.270259</td>\n",
       "      <td>0.548927</td>\n",
       "      <td>-0.301602</td>\n",
       "      <td>0.122484</td>\n",
       "      <td>-0.122484</td>\n",
       "      <td>-0.098861</td>\n",
       "      <td>-0.127623</td>\n",
       "      <td>-0.132127</td>\n",
       "      <td>-0.105639</td>\n",
       "      <td>-0.175464</td>\n",
       "      <td>-0.444482</td>\n",
       "      <td>1.000000</td>\n",
       "      <td>-0.015921</td>\n",
       "      <td>-0.022949</td>\n",
       "      <td>0.037331</td>\n",
       "      <td>-0.003471</td>\n",
       "    </tr>\n",
       "    <tr>\n",
       "      <th>class_T</th>\n",
       "      <td>-0.026456</td>\n",
       "      <td>0.040285</td>\n",
       "      <td>-0.018804</td>\n",
       "      <td>0.037868</td>\n",
       "      <td>-0.024728</td>\n",
       "      <td>0.024728</td>\n",
       "      <td>-0.006977</td>\n",
       "      <td>-0.009007</td>\n",
       "      <td>-0.009325</td>\n",
       "      <td>-0.007455</td>\n",
       "      <td>-0.012383</td>\n",
       "      <td>-0.031369</td>\n",
       "      <td>-0.015921</td>\n",
       "      <td>1.000000</td>\n",
       "      <td>-0.016217</td>\n",
       "      <td>-0.010383</td>\n",
       "      <td>0.020759</td>\n",
       "    </tr>\n",
       "    <tr>\n",
       "      <th>C</th>\n",
       "      <td>0.171485</td>\n",
       "      <td>0.032079</td>\n",
       "      <td>-0.047716</td>\n",
       "      <td>0.303904</td>\n",
       "      <td>0.086546</td>\n",
       "      <td>-0.086546</td>\n",
       "      <td>0.114538</td>\n",
       "      <td>0.224119</td>\n",
       "      <td>0.131504</td>\n",
       "      <td>0.095010</td>\n",
       "      <td>-0.046633</td>\n",
       "      <td>-0.217502</td>\n",
       "      <td>-0.022949</td>\n",
       "      <td>-0.016217</td>\n",
       "      <td>1.000000</td>\n",
       "      <td>-0.149857</td>\n",
       "      <td>-0.781213</td>\n",
       "    </tr>\n",
       "    <tr>\n",
       "      <th>Q</th>\n",
       "      <td>0.008660</td>\n",
       "      <td>-0.021272</td>\n",
       "      <td>-0.060479</td>\n",
       "      <td>-0.171935</td>\n",
       "      <td>0.079067</td>\n",
       "      <td>-0.079067</td>\n",
       "      <td>-0.064472</td>\n",
       "      <td>-0.067384</td>\n",
       "      <td>-0.055408</td>\n",
       "      <td>-0.068893</td>\n",
       "      <td>-0.102213</td>\n",
       "      <td>0.155869</td>\n",
       "      <td>0.037331</td>\n",
       "      <td>-0.010383</td>\n",
       "      <td>-0.149857</td>\n",
       "      <td>1.000000</td>\n",
       "      <td>-0.500146</td>\n",
       "    </tr>\n",
       "    <tr>\n",
       "      <th>S</th>\n",
       "      <td>-0.155660</td>\n",
       "      <td>-0.014665</td>\n",
       "      <td>0.079977</td>\n",
       "      <td>-0.157610</td>\n",
       "      <td>-0.125722</td>\n",
       "      <td>0.125722</td>\n",
       "      <td>-0.059609</td>\n",
       "      <td>-0.153744</td>\n",
       "      <td>-0.080191</td>\n",
       "      <td>-0.039714</td>\n",
       "      <td>0.105380</td>\n",
       "      <td>0.092081</td>\n",
       "      <td>-0.003471</td>\n",
       "      <td>0.020759</td>\n",
       "      <td>-0.781213</td>\n",
       "      <td>-0.500146</td>\n",
       "      <td>1.000000</td>\n",
       "    </tr>\n",
       "  </tbody>\n",
       "</table>\n",
       "</div>"
      ],
      "text/plain": [
       "               Survived       Age   RelChMe  CabinLocation    female  \\\n",
       "Survived       1.000000 -0.064910  0.016639       0.321654  0.543351   \n",
       "Age           -0.064910  1.000000 -0.245619       0.275505 -0.081163   \n",
       "RelChMe        0.016639 -0.245619  1.000000      -0.096711  0.200988   \n",
       "CabinLocation  0.321654  0.275505 -0.096711       1.000000  0.142830   \n",
       "female         0.543351 -0.081163  0.200988       0.142830  1.000000   \n",
       "male          -0.543351  0.081163 -0.200988      -0.142830 -1.000000   \n",
       "class_A       -0.013905  0.163256 -0.102811       0.216139 -0.129998   \n",
       "class_B        0.193105  0.109205 -0.003544       0.451472  0.129886   \n",
       "class_C        0.129013  0.119346  0.027240       0.460656  0.076844   \n",
       "class_D        0.172909  0.106075 -0.009830       0.182448  0.090884   \n",
       "class_E        0.169886  0.049124  0.071101       0.122662  0.124973   \n",
       "class_F       -0.276052 -0.051748 -0.438487      -0.477317 -0.266549   \n",
       "class_G       -0.083071 -0.270259  0.548927      -0.301602  0.122484   \n",
       "class_T       -0.026456  0.040285 -0.018804       0.037868 -0.024728   \n",
       "C              0.171485  0.032079 -0.047716       0.303904  0.086546   \n",
       "Q              0.008660 -0.021272 -0.060479      -0.171935  0.079067   \n",
       "S             -0.155660 -0.014665  0.079977      -0.157610 -0.125722   \n",
       "\n",
       "                   male   class_A   class_B   class_C   class_D   class_E  \\\n",
       "Survived      -0.543351 -0.013905  0.193105  0.129013  0.172909  0.169886   \n",
       "Age            0.081163  0.163256  0.109205  0.119346  0.106075  0.049124   \n",
       "RelChMe       -0.200988 -0.102811 -0.003544  0.027240 -0.009830  0.071101   \n",
       "CabinLocation -0.142830  0.216139  0.451472  0.460656  0.182448  0.122662   \n",
       "female        -1.000000 -0.129998  0.129886  0.076844  0.090884  0.124973   \n",
       "male           1.000000  0.129998 -0.129886 -0.076844 -0.090884 -0.124973   \n",
       "class_A        0.129998  1.000000 -0.055930 -0.057904 -0.046296 -0.076896   \n",
       "class_B       -0.129886 -0.055930  1.000000 -0.074750 -0.059765 -0.099268   \n",
       "class_C       -0.076844 -0.057904 -0.074750  1.000000 -0.061874 -0.102771   \n",
       "class_D       -0.090884 -0.046296 -0.059765 -0.061874  1.000000 -0.082168   \n",
       "class_E       -0.124973 -0.076896 -0.099268 -0.102771 -0.082168  1.000000   \n",
       "class_F        0.266549 -0.194792 -0.251464 -0.260338 -0.208147 -0.345727   \n",
       "class_G       -0.122484 -0.098861 -0.127623 -0.132127 -0.105639 -0.175464   \n",
       "class_T        0.024728 -0.006977 -0.009007 -0.009325 -0.007455 -0.012383   \n",
       "C             -0.086546  0.114538  0.224119  0.131504  0.095010 -0.046633   \n",
       "Q             -0.079067 -0.064472 -0.067384 -0.055408 -0.068893 -0.102213   \n",
       "S              0.125722 -0.059609 -0.153744 -0.080191 -0.039714  0.105380   \n",
       "\n",
       "                class_F   class_G   class_T         C         Q         S  \n",
       "Survived      -0.276052 -0.083071 -0.026456  0.171485  0.008660 -0.155660  \n",
       "Age           -0.051748 -0.270259  0.040285  0.032079 -0.021272 -0.014665  \n",
       "RelChMe       -0.438487  0.548927 -0.018804 -0.047716 -0.060479  0.079977  \n",
       "CabinLocation -0.477317 -0.301602  0.037868  0.303904 -0.171935 -0.157610  \n",
       "female        -0.266549  0.122484 -0.024728  0.086546  0.079067 -0.125722  \n",
       "male           0.266549 -0.122484  0.024728 -0.086546 -0.079067  0.125722  \n",
       "class_A       -0.194792 -0.098861 -0.006977  0.114538 -0.064472 -0.059609  \n",
       "class_B       -0.251464 -0.127623 -0.009007  0.224119 -0.067384 -0.153744  \n",
       "class_C       -0.260338 -0.132127 -0.009325  0.131504 -0.055408 -0.080191  \n",
       "class_D       -0.208147 -0.105639 -0.007455  0.095010 -0.068893 -0.039714  \n",
       "class_E       -0.345727 -0.175464 -0.012383 -0.046633 -0.102213  0.105380  \n",
       "class_F        1.000000 -0.444482 -0.031369 -0.217502  0.155869  0.092081  \n",
       "class_G       -0.444482  1.000000 -0.015921 -0.022949  0.037331 -0.003471  \n",
       "class_T       -0.031369 -0.015921  1.000000 -0.016217 -0.010383  0.020759  \n",
       "C             -0.217502 -0.022949 -0.016217  1.000000 -0.149857 -0.781213  \n",
       "Q              0.155869  0.037331 -0.010383 -0.149857  1.000000 -0.500146  \n",
       "S              0.092081 -0.003471  0.020759 -0.781213 -0.500146  1.000000  "
      ]
     },
     "execution_count": 39,
     "metadata": {},
     "output_type": "execute_result"
    }
   ],
   "source": [
    "data.corr()"
   ]
  },
  {
   "cell_type": "code",
   "execution_count": 40,
   "metadata": {},
   "outputs": [
    {
     "data": {
      "text/html": [
       "<div>\n",
       "<style scoped>\n",
       "    .dataframe tbody tr th:only-of-type {\n",
       "        vertical-align: middle;\n",
       "    }\n",
       "\n",
       "    .dataframe tbody tr th {\n",
       "        vertical-align: top;\n",
       "    }\n",
       "\n",
       "    .dataframe thead th {\n",
       "        text-align: right;\n",
       "    }\n",
       "</style>\n",
       "<table border=\"1\" class=\"dataframe\">\n",
       "  <thead>\n",
       "    <tr style=\"text-align: right;\">\n",
       "      <th></th>\n",
       "      <th>Survived</th>\n",
       "      <th>Age</th>\n",
       "      <th>RelChMe</th>\n",
       "      <th>CabinLocation</th>\n",
       "      <th>female</th>\n",
       "      <th>male</th>\n",
       "      <th>class_A</th>\n",
       "      <th>class_B</th>\n",
       "      <th>class_C</th>\n",
       "      <th>class_D</th>\n",
       "      <th>class_E</th>\n",
       "      <th>class_F</th>\n",
       "      <th>class_G</th>\n",
       "      <th>class_T</th>\n",
       "      <th>C</th>\n",
       "      <th>Q</th>\n",
       "      <th>S</th>\n",
       "    </tr>\n",
       "  </thead>\n",
       "  <tbody>\n",
       "    <tr>\n",
       "      <th>0</th>\n",
       "      <td>0.0</td>\n",
       "      <td>-0.565419</td>\n",
       "      <td>2.0</td>\n",
       "      <td>1.420833</td>\n",
       "      <td>0</td>\n",
       "      <td>1</td>\n",
       "      <td>0</td>\n",
       "      <td>0</td>\n",
       "      <td>0</td>\n",
       "      <td>0</td>\n",
       "      <td>0</td>\n",
       "      <td>1</td>\n",
       "      <td>0</td>\n",
       "      <td>0</td>\n",
       "      <td>0</td>\n",
       "      <td>0</td>\n",
       "      <td>1</td>\n",
       "    </tr>\n",
       "    <tr>\n",
       "      <th>1</th>\n",
       "      <td>1.0</td>\n",
       "      <td>0.663488</td>\n",
       "      <td>2.0</td>\n",
       "      <td>5.088055</td>\n",
       "      <td>1</td>\n",
       "      <td>0</td>\n",
       "      <td>0</td>\n",
       "      <td>0</td>\n",
       "      <td>1</td>\n",
       "      <td>0</td>\n",
       "      <td>0</td>\n",
       "      <td>0</td>\n",
       "      <td>0</td>\n",
       "      <td>0</td>\n",
       "      <td>1</td>\n",
       "      <td>0</td>\n",
       "      <td>0</td>\n",
       "    </tr>\n",
       "    <tr>\n",
       "      <th>2</th>\n",
       "      <td>1.0</td>\n",
       "      <td>-0.258192</td>\n",
       "      <td>1.0</td>\n",
       "      <td>1.564167</td>\n",
       "      <td>1</td>\n",
       "      <td>0</td>\n",
       "      <td>0</td>\n",
       "      <td>0</td>\n",
       "      <td>0</td>\n",
       "      <td>0</td>\n",
       "      <td>0</td>\n",
       "      <td>1</td>\n",
       "      <td>0</td>\n",
       "      <td>0</td>\n",
       "      <td>0</td>\n",
       "      <td>0</td>\n",
       "      <td>1</td>\n",
       "    </tr>\n",
       "    <tr>\n",
       "      <th>3</th>\n",
       "      <td>1.0</td>\n",
       "      <td>0.433068</td>\n",
       "      <td>2.0</td>\n",
       "      <td>4.785000</td>\n",
       "      <td>1</td>\n",
       "      <td>0</td>\n",
       "      <td>0</td>\n",
       "      <td>0</td>\n",
       "      <td>1</td>\n",
       "      <td>0</td>\n",
       "      <td>0</td>\n",
       "      <td>0</td>\n",
       "      <td>0</td>\n",
       "      <td>0</td>\n",
       "      <td>0</td>\n",
       "      <td>0</td>\n",
       "      <td>1</td>\n",
       "    </tr>\n",
       "    <tr>\n",
       "      <th>4</th>\n",
       "      <td>0.0</td>\n",
       "      <td>0.433068</td>\n",
       "      <td>1.0</td>\n",
       "      <td>1.568333</td>\n",
       "      <td>0</td>\n",
       "      <td>1</td>\n",
       "      <td>0</td>\n",
       "      <td>0</td>\n",
       "      <td>0</td>\n",
       "      <td>0</td>\n",
       "      <td>0</td>\n",
       "      <td>1</td>\n",
       "      <td>0</td>\n",
       "      <td>0</td>\n",
       "      <td>0</td>\n",
       "      <td>0</td>\n",
       "      <td>1</td>\n",
       "    </tr>\n",
       "  </tbody>\n",
       "</table>\n",
       "</div>"
      ],
      "text/plain": [
       "   Survived       Age  RelChMe  CabinLocation  female  male  class_A  class_B  \\\n",
       "0       0.0 -0.565419      2.0       1.420833       0     1        0        0   \n",
       "1       1.0  0.663488      2.0       5.088055       1     0        0        0   \n",
       "2       1.0 -0.258192      1.0       1.564167       1     0        0        0   \n",
       "3       1.0  0.433068      2.0       4.785000       1     0        0        0   \n",
       "4       0.0  0.433068      1.0       1.568333       0     1        0        0   \n",
       "\n",
       "   class_C  class_D  class_E  class_F  class_G  class_T  C  Q  S  \n",
       "0        0        0        0        1        0        0  0  0  1  \n",
       "1        1        0        0        0        0        0  1  0  0  \n",
       "2        0        0        0        1        0        0  0  0  1  \n",
       "3        1        0        0        0        0        0  0  0  1  \n",
       "4        0        0        0        1        0        0  0  0  1  "
      ]
     },
     "execution_count": 40,
     "metadata": {},
     "output_type": "execute_result"
    }
   ],
   "source": [
    "data.head()"
   ]
  },
  {
   "cell_type": "markdown",
   "metadata": {},
   "source": [
    "# 3 KNN своими руками (Бонусное задание: 4 балла)"
   ]
  },
  {
   "cell_type": "markdown",
   "metadata": {},
   "source": [
    "### 25\n",
    "В этом задании вам предстоить реализовать метод KNN для задачи классификации. Перед вами интерфейс класса, который вам предстоить реализовать. От вас требуется реализовать методы:\n",
    "* `__init__(self, n_neighbors)`\n",
    "* `fit(self, X, y)`\n",
    "* `predict(self, X)`\n",
    "* `predict_proba(self, X)`\n",
    "\n",
    "Все ближайшие соседи должны иметь одинаковые веса при построении предсказания. В качестве метрики используйте евклидово расстояние.\n",
    "\n",
    "Для поиска ближайших соседей можно воспользоваться готовыми структурами данных из подмодуля `sklearn.neighors`, например `KDTree`. Структуры данных из этого подмодуля принимают на вход массив точек, а потом позволяют делать запросы и быстро находить ближайших соседей.\n",
    "\n",
    "Для проверки работы вашей реализации примените алгоритм ближайших соседей на датасете из пункта 24.\n",
    "Какие метрики качества у вас получаются? Сравните свои результаты с результатами KNN из библиотеки sklearn."
   ]
  },
  {
   "cell_type": "code",
   "execution_count": 41,
   "metadata": {},
   "outputs": [],
   "source": [
    "from sklearn.model_selection import train_test_split\n",
    "from sklearn.neighbors import KNeighborsClassifier\n",
    "from sklearn.model_selection import GridSearchCV\n",
    "from sklearn.metrics import accuracy_score"
   ]
  },
  {
   "cell_type": "code",
   "execution_count": 254,
   "metadata": {},
   "outputs": [],
   "source": [
    "from sklearn.neighbors import KDTree\n",
    "from sklearn.base import BaseEstimator\n",
    "\n",
    "class MyNeighborsClassifier(BaseEstimator):\n",
    "    def __init__(self, \n",
    "                 n_neighbors = 5, \n",
    "                 leaf_size = 30,\n",
    "                 metric='minkowski',\n",
    "                 p=2):\n",
    "        super().__init__()\n",
    "        self.n_neighbors = n_neighbors\n",
    "        self.leaf_size = leaf_size\n",
    "        self.metric = metric\n",
    "        self.p = p\n",
    "\n",
    "    def fit(self, X, y):\n",
    "        self.X_train = X\n",
    "        self.y_train = y\n",
    "        \n",
    "    def predict(self, X):\n",
    "        y_pred = [self.predict_proba(x.reshape(1, -1)) for x in X]\n",
    "        return np.array(y_pred)\n",
    "\n",
    "    def predict_proba(self, X):\n",
    "        tree = KDTree(self.X_train, leaf_size=self.leaf_size, metric=self.metric)\n",
    "        dist, ind = tree.query(X.tolist(), k=self.n_neighbors)\n",
    "        target_value = [self.y_train[i] for i in ind[0]]\n",
    "        return max(set(target_value), key = target_value.count)"
   ]
  },
  {
   "cell_type": "code",
   "execution_count": 255,
   "metadata": {},
   "outputs": [],
   "source": [
    "X = np.array(data.drop(columns=['Survived']))\n",
    "y = np.array(data['Survived'])\n",
    "X_train, X_test, y_train, y_test = train_test_split(X, y, test_size =0.3)"
   ]
  },
  {
   "cell_type": "code",
   "execution_count": 256,
   "metadata": {},
   "outputs": [],
   "source": [
    "MyKnn=MyNeighborsClassifier(n_neighbors=3)\n",
    "MyKnn.fit(X_train, y_train)"
   ]
  },
  {
   "cell_type": "code",
   "execution_count": 257,
   "metadata": {},
   "outputs": [
    {
     "data": {
      "text/plain": [
       "KNeighborsClassifier(algorithm='auto', leaf_size=30, metric='minkowski',\n",
       "           metric_params=None, n_jobs=None, n_neighbors=3, p=2,\n",
       "           weights='uniform')"
      ]
     },
     "execution_count": 257,
     "metadata": {},
     "output_type": "execute_result"
    }
   ],
   "source": [
    "knn = KNeighborsClassifier(n_neighbors=3)\n",
    "knn.fit(X_train, y_train)"
   ]
  },
  {
   "cell_type": "code",
   "execution_count": 263,
   "metadata": {},
   "outputs": [
    {
     "name": "stdout",
     "output_type": "stream",
     "text": [
      "Sklearn knn. Точность на обучении:  0.6934189406099518\n",
      "Sklearn knn. Точность на тесте:  0.7126865671641791\n",
      "MyKnn. Точность на обучении:  0.8764044943820225\n",
      "MyKnn. Точность на тесте:  0.7835820895522388\n"
     ]
    }
   ],
   "source": [
    "print('Sklearn knn. Точность на обучении: ',accuracy_score(y_train, knn.predict(X_train)))\n",
    "print('Sklearn knn. Точность на тесте: ', accuracy_score(y_test, knn.predict(X_test)))\n",
    "print('MyKnn. Точность на обучении: ',accuracy_score(y_train, MyKnn.predict(X_train)))\n",
    "print('MyKnn. Точность на тесте: ', accuracy_score(y_test, MyKnn.predict(X_test)))"
   ]
  },
  {
   "cell_type": "code",
   "execution_count": 265,
   "metadata": {},
   "outputs": [],
   "source": [
    "sklearn_knn_train_accuracy = []\n",
    "sklearn_knn_test_accuracy = []\n",
    "for i in range(1, 301):\n",
    "    knn = KNeighborsClassifier(n_neighbors=i)\n",
    "    knn.fit(X_train, y_train)\n",
    "    sklearn_knn_train_accuracy.append(accuracy_score(y_train, knn.predict(X_train)))\n",
    "    sklearn_knn_test_accuracy.append(accuracy_score(y_test, knn.predict(X_test)))"
   ]
  },
  {
   "cell_type": "code",
   "execution_count": 266,
   "metadata": {},
   "outputs": [],
   "source": [
    "my_knn_train_accuracy = []\n",
    "my_knn_test_accuracy = []\n",
    "for i in range(1, 301):\n",
    "    knn = KNeighborsClassifier(n_neighbors=i)\n",
    "    knn.fit(X_train, y_train)\n",
    "    my_knn_train_accuracy.append(accuracy_score(y_train, MyKnn.predict(X_train)))\n",
    "    my_knn_test_accuracy.append(accuracy_score(y_test, MyKnn.predict(X_test)))"
   ]
  },
  {
   "cell_type": "code",
   "execution_count": 267,
   "metadata": {},
   "outputs": [
    {
     "data": {
      "text/plain": [
       "<matplotlib.legend.Legend at 0x7fc1c772a198>"
      ]
     },
     "execution_count": 267,
     "metadata": {},
     "output_type": "execute_result"
    },
    {
     "data": {
      "image/png": "[encoded data removed]",
      "text/plain": [
       "<Figure size 720x504 with 2 Axes>"
      ]
     },
     "metadata": {
      "needs_background": "light"
     },
     "output_type": "display_data"
    }
   ],
   "source": [
    "plt.figure(figsize=(10,7))\n",
    "\n",
    "plt.subplot(221)\n",
    "plt.plot(range(1, 301), sklearn_knn_train_accuracy, label = 'train')\n",
    "plt.plot(range(1, 301), sklearn_knn_test_accuracy, label = 'test')\n",
    "plt.title('Accuracy on sklearn knn')\n",
    "plt.legend()\n",
    "\n",
    "plt.subplot(222)\n",
    "plt.plot(range(1, 301), my_knn_train_accuracy, label = 'train')\n",
    "plt.plot(range(1, 301), my_knn_test_accuracy, label = 'test')\n",
    "plt.title('Accuracy on my knn')\n",
    "plt.legend()"
   ]
  },
  {
   "cell_type": "markdown",
   "metadata": {},
   "source": [
    "##### Подбор числа соседей"
   ]
  },
  {
   "cell_type": "code",
   "execution_count": 270,
   "metadata": {},
   "outputs": [],
   "source": [
    "sklearn_knn_gcv = GridSearchCV(knn, param_grid = {\n",
    "    'n_neighbors': np.arange(1, 50)\n",
    "})"
   ]
  },
  {
   "cell_type": "code",
   "execution_count": 271,
   "metadata": {},
   "outputs": [
    {
     "name": "stderr",
     "output_type": "stream",
     "text": [
      "/home/nikstep/anaconda3/lib/python3.7/site-packages/sklearn/model_selection/_split.py:2053: FutureWarning: You should specify a value for 'cv' instead of relying on the default value. The default value will change from 3 to 5 in version 0.22.\n",
      "  warnings.warn(CV_WARNING, FutureWarning)\n"
     ]
    },
    {
     "data": {
      "text/plain": [
       "{'n_neighbors': 5}"
      ]
     },
     "execution_count": 271,
     "metadata": {},
     "output_type": "execute_result"
    }
   ],
   "source": [
    "sklearn_knn_gcv.fit(X_train, y_train)\n",
    "sklearn_knn_gcv.best_params_"
   ]
  },
  {
   "cell_type": "code",
   "execution_count": 273,
   "metadata": {},
   "outputs": [
    {
     "data": {
      "text/plain": [
       "KNeighborsClassifier(algorithm='auto', leaf_size=30, metric='minkowski',\n",
       "           metric_params=None, n_jobs=None, n_neighbors=5, p=2,\n",
       "           weights='uniform')"
      ]
     },
     "execution_count": 273,
     "metadata": {},
     "output_type": "execute_result"
    }
   ],
   "source": [
    "knn = KNeighborsClassifier(n_neighbors=5)\n",
    "knn.fit(X_train, y_train)"
   ]
  },
  {
   "cell_type": "code",
   "execution_count": 274,
   "metadata": {},
   "outputs": [
    {
     "name": "stdout",
     "output_type": "stream",
     "text": [
      "Точность на обучении при лучшем параметре соседей: 0.86\n",
      "Точность на тесте при лучшем параметре соседей: 0.795\n"
     ]
    }
   ],
   "source": [
    "print('Точность на обучении при лучшем параметре соседей: {:.3}'.format(accuracy_score(y_train, knn.predict(X_train))))\n",
    "print('Точность на тесте при лучшем параметре соседей: {:.3}'.format(accuracy_score(y_test, knn.predict(X_test))))"
   ]
  }
 ],
 "metadata": {
  "kernelspec": {
   "display_name": "Python 3",
   "language": "python",
   "name": "python3"
  },
  "language_info": {
   "codemirror_mode": {
    "name": "ipython",
    "version": 3
   },
   "file_extension": ".py",
   "mimetype": "text/x-python",
   "name": "python",
   "nbconvert_exporter": "python",
   "pygments_lexer": "ipython3",
   "version": "3.7.3"
  }
 },
 "nbformat": 4,
 "nbformat_minor": 2
}
